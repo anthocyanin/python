{
 "cells": [
  {
   "cell_type": "markdown",
   "metadata": {},
   "source": [
    "### 多进程  os.fork()\n",
    "- Unix/Linux操作系统提供了一个os.fork()系统调用\n",
    "- 调用os.fork()函数一次，则自动复制一份进程作为子进程。然后os.fork()分别在两个进程里返回。\n",
    "- 注意：虽然子进程是父进程的副本。但父进程的pid和子进程的pid是不同的。\n",
    "- os.fork()的返回值在父进程里是子进程pid。在子进程里是0。"
   ]
  },
  {
   "cell_type": "code",
   "execution_count": 3,
   "metadata": {},
   "outputs": [],
   "source": [
    "# import os\n",
    "\n",
    "# pid = os.fork()\n",
    "\n",
    "# if pid == 0:\n",
    "#     print('I am child process(%s) and my parent process is %s' % (os.getpid(), os.getppid()))\n",
    "# else:\n",
    "#     print('I am parent process(%s) and i created subprocess %s' % (os.getpid(), pid))\n"
   ]
  },
  {
   "cell_type": "markdown",
   "metadata": {},
   "source": [
    "### 多进程 multiprocessing\n",
    "- os.fork()只能用在Linux和Unix系统\n",
    "- multiprocessing模块则是Linux和Unix和Windows系统都可以用\n",
    "- multiprocessing模块提供一个类代表进程对象。\n",
    "- 如果要启动大量进程，可以用进程池的方式创建大量进程"
   ]
  },
  {
   "cell_type": "code",
   "execution_count": 4,
   "metadata": {},
   "outputs": [
    {
     "name": "stdout",
     "output_type": "stream",
     "text": [
      "begin....\n",
      "run process ttt with pid=758\n",
      "end...\n"
     ]
    }
   ],
   "source": [
    "from multiprocessing import Process\n",
    "import os\n",
    "def run_pro(name):\n",
    "    print('run process %s with pid=%s' % (name, os.getpid()))\n",
    "    \n",
    "if __name__ == '__main__':\n",
    "    print('begin....')\n",
    "    p = Process(target=run_pro, args=('ttt',))\n",
    "    p.start()\n",
    "    p.join()\n",
    "    print('end...')"
   ]
  },
  {
   "cell_type": "code",
   "execution_count": 5,
   "metadata": {},
   "outputs": [
    {
     "name": "stdout",
     "output_type": "stream",
     "text": [
      "Parent process 655\n",
      "Run task 2 (958)...\n",
      "Run task 1 (957)...\n",
      "Run task 0 (956)...\n",
      "Run task 3 (959)...\n",
      "Waiting for all subprocesses done...\n",
      "Task 0 run 1.01 seconds\n",
      "Run task 4 (956)...\n",
      "Task 1 run 1.54 seconds\n",
      "Task 2 run 2.47 seconds\n",
      "Task 3 run 2.84 seconds\n",
      "Task 4 run 2.89 seconds\n",
      "All process done\n"
     ]
    }
   ],
   "source": [
    "from multiprocessing import Pool\n",
    "import time, os, random\n",
    "\n",
    "def long_time_task(name):\n",
    "    print('Run task %s (%s)...' % (name, os.getpid()))\n",
    "    start_time = time.time()\n",
    "    time.sleep(random.random() * 3)\n",
    "    end_time = time.time()\n",
    "    print('Task %s run %0.2f seconds' % (name, (end_time - start_time)))\n",
    "    \n",
    "if __name__ == \"__main__\":\n",
    "    print('Parent process %s' % os.getpid())\n",
    "    p = Pool(4)\n",
    "    for i in range(5):\n",
    "        p.apply_async(long_time_task, args=(i,))\n",
    "    print('Waiting for all subprocesses done...')\n",
    "    p.close()\n",
    "    p.join()\n",
    "    print('All process done')"
   ]
  },
  {
   "cell_type": "markdown",
   "metadata": {},
   "source": [
    "### subprocess模块可以让我们非常方便地启动一个子进程，然后控制其输入和输出。"
   ]
  },
  {
   "cell_type": "code",
   "execution_count": 6,
   "metadata": {},
   "outputs": [
    {
     "name": "stdout",
     "output_type": "stream",
     "text": [
      "$ nslookup www.python.org\n",
      "Exit code: 0\n"
     ]
    }
   ],
   "source": [
    "import subprocess\n",
    "print('$ nslookup www.python.org')\n",
    "r = subprocess.call(['nslookup', 'www.python.org'])\n",
    "print('Exit code:', r)"
   ]
  },
  {
   "cell_type": "markdown",
   "metadata": {},
   "source": [
    "### 进程间通信\n",
    "- Python的multiprocessing模块包装了底层的机制，提供了Queue、Pipes等多种方式来交换数据。"
   ]
  },
  {
   "cell_type": "code",
   "execution_count": 10,
   "metadata": {},
   "outputs": [
    {
     "name": "stdout",
     "output_type": "stream",
     "text": [
      "Process to write: 1247\n",
      "Put a into queue\n",
      "Process to read: 1248\n",
      "Get a from queue\n",
      "Put b into queue\n",
      "Get b from queue\n",
      "Put c into queue\n",
      "Get c from queue\n",
      "Put d into queue\n",
      "Get d from queue\n"
     ]
    }
   ],
   "source": [
    "from multiprocessing import Process, Queue\n",
    "import os, time, random\n",
    "\n",
    "def write(q):\n",
    "    print('Process to write: %s' % os.getpid())\n",
    "    for value in ['a', 'b', 'c', 'd']:\n",
    "        print('Put %s into queue' % value)\n",
    "        q.put(value)\n",
    "        time.sleep(random.random())\n",
    "\n",
    "def read(q):\n",
    "    print('Process to read: %s' % os.getpid())\n",
    "    while True:\n",
    "        value = q.get(True)\n",
    "        print('Get %s from queue' % value)\n",
    "#         time.sleep(random.random()) 这里还不能加呢，可能会在他休息时结束了。\n",
    "\n",
    "if __name__ == '__main__':\n",
    "    # 父进程创建Queue，并传给各个子进程：\n",
    "    q = Queue()\n",
    "    pw = Process(target=write, args=(q,))\n",
    "    pr = Process(target=read, args=(q,))\n",
    "    \n",
    "    pw.start()\n",
    "    pr.start()\n",
    "    \n",
    "    pw.join()\n",
    "    pr.terminate() # pr进程里是死循环，无法等待其结束，只能强行终止:\n"
   ]
  },
  {
   "cell_type": "markdown",
   "metadata": {},
   "source": [
    "### 多线程\n",
    "- 多任务可以由多进程完成，也可以由一个进程内的多线程完成。\n",
    "- 进程是由若干线程组成的，一个进程至少有一个线程。\n",
    "- Python的标准库提供了两个模块。\n",
    "- _thread:低级模块\n",
    "- threading:高级模块，使用它就好了。"
   ]
  },
  {
   "cell_type": "code",
   "execution_count": 11,
   "metadata": {},
   "outputs": [
    {
     "name": "stdout",
     "output_type": "stream",
     "text": [
      "thread MainThread is running\n",
      "thread LoopThread is running\n",
      "thread LoopThread ----> 0\n",
      "thread LoopThread ----> 1\n",
      "thread LoopThread ----> 2\n",
      "thread LoopThread ----> 3\n",
      "thread LoopThread ----> 4\n",
      "thread LoopThread is ended\n",
      "thread MainThread is ended\n"
     ]
    }
   ],
   "source": [
    "import threading\n",
    "import time\n",
    "\n",
    "def loop():\n",
    "    print('thread %s is running' % threading.current_thread().name)\n",
    "    for i in range(5):\n",
    "        print('thread %s ----> %s' % (threading.current_thread().name, i))\n",
    "        time.sleep(1)\n",
    "    print('thread %s is ended' % threading.current_thread().name)\n",
    "\n",
    "if __name__ == '__main__':\n",
    "    print('thread %s is running' % threading.current_thread().name)\n",
    "    t = threading.Thread(target=loop, name='LoopThread')\n",
    "    t.start()\n",
    "    t.join()\n",
    "    print('thread %s is ended' % threading.current_thread().name)\n"
   ]
  },
  {
   "cell_type": "code",
   "execution_count": 13,
   "metadata": {},
   "outputs": [
    {
     "name": "stdout",
     "output_type": "stream",
     "text": [
      "0\n"
     ]
    }
   ],
   "source": [
    "# 来看看多个线程同时操作一个变量怎么把内容给改乱了：\n",
    "# 只要循环次数足够多，balance的结果就不一定是0了。\n",
    "import threading\n",
    "import time\n",
    "\n",
    "balance = 0\n",
    "\n",
    "def change_it(n): # 函数change_it改变balance值\n",
    "    global balance\n",
    "    balance = balance + n\n",
    "    balance = balance - n\n",
    "    \n",
    "def run_thread(n): # 函数run_thread多次执行change_it函数\n",
    "    for i in range(5000):\n",
    "        change_it(n)\n",
    "\n",
    "# 两个线程执行run_thread函数\n",
    "t1 = threading.Thread(target=run_thread, args=(20, ))\n",
    "t2 = threading.Thread(target=run_thread, args=(30, ))\n",
    "\n",
    "t1.start()\n",
    "t2.start()\n",
    "\n",
    "t1.join()\n",
    "t2.join()\n",
    "\n",
    "print(balance)"
   ]
  },
  {
   "cell_type": "code",
   "execution_count": 14,
   "metadata": {},
   "outputs": [
    {
     "name": "stdout",
     "output_type": "stream",
     "text": [
      "0\n"
     ]
    }
   ],
   "source": [
    "# 正确写法如下： \n",
    "import threading\n",
    "import time\n",
    "\n",
    "balance = 0\n",
    "\n",
    "lock = threading.Lock() # 要在主线程创建一把锁\n",
    "\n",
    "def change_it(n): # 函数change_it改变balance值\n",
    "    global balance\n",
    "    balance = balance + n\n",
    "    balance = balance - n\n",
    "        \n",
    "    \n",
    "def run_thread(n): # 函数run_thread多次执行change_it函数\n",
    "    for i in range(5000):\n",
    "        lock.acquire() # 每次更改前，先拿到锁\n",
    "        try:\n",
    "            change_it(n)\n",
    "        finally:\n",
    "            lock.release() # 更改完释放锁。否则那些苦苦等待锁的线程将永远等待下去，成为死线程\n",
    "# 两个线程执行run_thread函数\n",
    "t1 = threading.Thread(target=run_thread, args=(20, ))\n",
    "t2 = threading.Thread(target=run_thread, args=(30, ))\n",
    "\n",
    "t1.start()\n",
    "t2.start()\n",
    "\n",
    "t1.join()\n",
    "t2.join()\n",
    "\n",
    "print(balance)"
   ]
  },
  {
   "cell_type": "markdown",
   "metadata": {},
   "source": [
    "### python的全局解释器锁(GIL)\n",
    "- 首先他不是python的特性， 而是Cpython解释器的特性。像Jpython等解释器就没有。\n",
    "- 由于Cpython解释器的GIL的存在，导致同一时刻只能有一个线程使用CPU。\n",
    "- 所以python只能使用一核CPU。也就是无法充分使用物理多核\n",
    "- 因此多线程的并发在Python中就是一个美丽的梦。"
   ]
  },
  {
   "cell_type": "markdown",
   "metadata": {},
   "source": [
    "### ThreadLocal模块\n",
    "- \n"
   ]
  },
  {
   "cell_type": "code",
   "execution_count": 15,
   "metadata": {},
   "outputs": [
    {
     "name": "stdout",
     "output_type": "stream",
     "text": [
      "Hello, Alice (in thread_1)\n",
      "Hello, Bob (in thread_2)\n"
     ]
    }
   ],
   "source": [
    "import threading\n",
    "\n",
    "# 创建全局ThreadLocal对象:\n",
    "local_school = threading.local()\n",
    "\n",
    "def process_student():\n",
    "    std = local_school.student\n",
    "    print('Hello, %s (in %s)' % (std, threading.current_thread().name))\n",
    "\n",
    "def process_thread(name):\n",
    "    # 绑定ThreadLocal的student:\n",
    "    local_school.student = name\n",
    "    process_student()\n",
    "\n",
    "t1 = threading.Thread(target=process_thread, args=('Alice', ), name='thread_1')\n",
    "t2 = threading.Thread(target=process_thread, args=('Bob', ), name='thread_2')\n",
    "\n",
    "t1.start()\n",
    "t2.start()\n",
    "\n",
    "t1.join()\n",
    "t2.join()\n"
   ]
  },
  {
   "cell_type": "markdown",
   "metadata": {},
   "source": [
    "### 字符串\n",
    "- 访问字符串中的值：str[index1:index2]\n",
    "- 字符串更新/拼接：str + str\n",
    "- 转义：\\\n",
    "- 字符串运算符: + -- * -- [] -- in -- not in -- r/R -- %\n",
    "- 字符串格式化: 最基本的用法是将一个值插入到一个有字符串格式符 %s 的字符串中。还有format()函数\n",
    "- python三引号允许一个字符串跨多行，字符串中可以包含换行符、制表符以及其他特殊字符\n",
    "- 40个str函数"
   ]
  },
  {
   "cell_type": "code",
   "execution_count": 26,
   "metadata": {},
   "outputs": [
    {
     "name": "stdout",
     "output_type": "stream",
     "text": [
      "asddf\n",
      "klosp\n"
     ]
    }
   ],
   "source": [
    "print('asddf\\nklosp')"
   ]
  },
  {
   "cell_type": "markdown",
   "metadata": {},
   "source": [
    "### 正则表达式 re模块\n",
    "- re.match: 尝试从字符串的起始位置匹配一个模式，如果不是起始位置匹配成功的话，match()就返回none\n",
    "- re.split: 用正则表达式切分字符串比用固定的字符更灵活，请看正常的切分代码：\n",
    "- m.group: 如果正则表达式中定义了组，就可以在Match对象上用group()方法提取出子串来。\n",
    "- m.start: 子串第一个字符的索引\n",
    "- m.end: 子串最后一个字符的索引+1\n",
    "- m.span: 方法返回 (start(group), end(group))。\n",
    "- re.compile: 用编译后的正则表达式去匹配字符串。\n",
    "- re.search 扫描整个字符串并返回第一个成功的匹配。\n",
    "- re.sub: 用于替换字符串中的匹配项。\n",
    "- re.findall: 在字符串中找到正则表达式所匹配的所有子串，并返回一个列表，如果没有找到匹配的，则返回空列表。\n",
    "- re.finditer: 和 findall 类似，在字符串中找到正则表达式所匹配的所有子串，并把它们作为一个迭代器返回。\n",
    "\n",
    "- \n",
    "- 一些区别\n",
    "- re.match只匹配字符串的开始，如果字符串开始不符合正则表达式，则匹配失败，函数返回None；\n",
    "- 而re.search匹配整个字符串，直到找到一个匹配。\n",
    "- 注意： match 和 search 是匹配一次 findall 匹配所有。"
   ]
  },
  {
   "cell_type": "code",
   "execution_count": 39,
   "metadata": {},
   "outputs": [
    {
     "name": "stdout",
     "output_type": "stream",
     "text": [
      "010-12345678\n",
      "010\n",
      "12345678\n",
      "('010', '12345678')\n"
     ]
    }
   ],
   "source": [
    "import re\n",
    "m = re.match(r'^(\\d{3})\\-(\\d{3,8})$', '010-12345678')\n",
    "print(m.group(0)) # 整串\n",
    "print(m.group(1)) # 子串\n",
    "print(m.group(2)) # 子串\n",
    "print(m.groups()) # 子串元组"
   ]
  },
  {
   "cell_type": "code",
   "execution_count": 29,
   "metadata": {},
   "outputs": [],
   "source": [
    "re.match(r'^\\d{3}-\\d{3,8}$', '010 12345678')"
   ]
  },
  {
   "cell_type": "code",
   "execution_count": 30,
   "metadata": {},
   "outputs": [
    {
     "data": {
      "text/plain": [
       "['a', 'b', '', '', 'c', '']"
      ]
     },
     "execution_count": 30,
     "metadata": {},
     "output_type": "execute_result"
    }
   ],
   "source": [
    "# 正常切分\n",
    "# 无法识别连续的空格\n",
    "'a b   c '.split(' ') "
   ]
  },
  {
   "cell_type": "code",
   "execution_count": 31,
   "metadata": {},
   "outputs": [
    {
     "data": {
      "text/plain": [
       "['a', 'b', 'c', 'd']"
      ]
     },
     "execution_count": 31,
     "metadata": {},
     "output_type": "execute_result"
    }
   ],
   "source": [
    "# 正则表达式切分\n",
    "re.split(r'\\s+', 'a b   c  d')\n",
    "# 无论多少个空格都可以正常分割。加入,试试：\n",
    "\n"
   ]
  },
  {
   "cell_type": "code",
   "execution_count": 37,
   "metadata": {},
   "outputs": [
    {
     "data": {
      "text/plain": [
       "['a', 'b', 'c', 'd']"
      ]
     },
     "execution_count": 37,
     "metadata": {},
     "output_type": "execute_result"
    }
   ],
   "source": [
    "re.split(',\\s+', 'a, b,   c,     d')"
   ]
  },
  {
   "cell_type": "code",
   "execution_count": 44,
   "metadata": {},
   "outputs": [
    {
     "name": "stdout",
     "output_type": "stream",
     "text": [
      "()\n"
     ]
    }
   ],
   "source": [
    "m = re.match(r'[a-z]', 'ds')\n",
    "print(m.groups())"
   ]
  },
  {
   "cell_type": "code",
   "execution_count": 48,
   "metadata": {},
   "outputs": [
    {
     "name": "stdout",
     "output_type": "stream",
     "text": [
      "Cats are smarter than dogs\n",
      "Cats are smarter than dogs\n",
      "Cats\n",
      "smarter\n",
      "than dogs\n",
      "('Cats', 'smarter', 'than dogs')\n",
      "0\n",
      "4\n",
      "(0, 4)\n"
     ]
    }
   ],
   "source": [
    "line = \"Cats are smarter than dogs\"\n",
    "m = re.match(r'(.*) are (.*?) (.*)', line, re.M|re.I)\n",
    "print(m.group())\n",
    "print(m.group(0))\n",
    "print(m.group(1))\n",
    "print(m.group(2))\n",
    "print(m.group(3))\n",
    "print(m.groups())\n",
    "print(m.start(1))\n",
    "print(m.end(1))\n",
    "print(m.span(1))"
   ]
  },
  {
   "cell_type": "code",
   "execution_count": 51,
   "metadata": {},
   "outputs": [
    {
     "name": "stdout",
     "output_type": "stream",
     "text": [
      "www\n",
      "(0, 3)\n"
     ]
    }
   ],
   "source": [
    "m = re.match(r'www', 'www baidu com and www goole com')\n",
    "print(m.group())\n",
    "print(m.span())\n",
    "# match()起始位置匹配，则成功返回"
   ]
  },
  {
   "cell_type": "code",
   "execution_count": 54,
   "metadata": {},
   "outputs": [],
   "source": [
    "# m = re.match(r'www', 'was baidu com and www goole com')\n",
    "# print(m.group())\n",
    "# print(m.span())\n",
    "# 起始位置不匹配，则返回None"
   ]
  },
  {
   "cell_type": "code",
   "execution_count": 52,
   "metadata": {},
   "outputs": [
    {
     "name": "stdout",
     "output_type": "stream",
     "text": [
      "www\n",
      "(18, 21)\n"
     ]
    }
   ],
   "source": [
    "m = re.search(r'www', 'was baidu com and www goole com')\n",
    "print(m.group())\n",
    "print(m.span())\n",
    "# 搜索匹配，找到第一个即停止"
   ]
  },
  {
   "cell_type": "code",
   "execution_count": 56,
   "metadata": {},
   "outputs": [
    {
     "name": "stdout",
     "output_type": "stream",
     "text": [
      "['www', 'www']\n"
     ]
    }
   ],
   "source": [
    "m = re.findall(r'www', 'was baidu com and www goole www')\n",
    "print(m)\n",
    "# 搜索匹配，找到全部即停止，返回结果是列表"
   ]
  },
  {
   "cell_type": "code",
   "execution_count": 59,
   "metadata": {},
   "outputs": [
    {
     "name": "stdout",
     "output_type": "stream",
     "text": [
      "<callable_iterator object at 0x103d87748>\n",
      "www\n",
      "www\n"
     ]
    }
   ],
   "source": [
    "m = re.finditer(r'www', 'was baidu com and www goole www')\n",
    "print(m)\n",
    "# 搜索匹配，找到全部即停止，返回结果是迭代器，但元素是匹配对象，不是直接值\n",
    "for i in m:\n",
    "    print(i.group())"
   ]
  },
  {
   "cell_type": "code",
   "execution_count": null,
   "metadata": {},
   "outputs": [],
   "source": []
  },
  {
   "cell_type": "code",
   "execution_count": null,
   "metadata": {},
   "outputs": [],
   "source": []
  },
  {
   "cell_type": "code",
   "execution_count": null,
   "metadata": {},
   "outputs": [],
   "source": []
  },
  {
   "cell_type": "code",
   "execution_count": null,
   "metadata": {},
   "outputs": [],
   "source": []
  },
  {
   "cell_type": "code",
   "execution_count": null,
   "metadata": {},
   "outputs": [],
   "source": []
  }
 ],
 "metadata": {
  "kernelspec": {
   "display_name": "Python 3",
   "language": "python",
   "name": "python3"
  },
  "language_info": {
   "codemirror_mode": {
    "name": "ipython",
    "version": 3
   },
   "file_extension": ".py",
   "mimetype": "text/x-python",
   "name": "python",
   "nbconvert_exporter": "python",
   "pygments_lexer": "ipython3",
   "version": "3.6.8"
  }
 },
 "nbformat": 4,
 "nbformat_minor": 2
}
