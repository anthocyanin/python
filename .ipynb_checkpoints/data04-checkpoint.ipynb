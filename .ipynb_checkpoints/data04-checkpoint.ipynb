{
 "cells": [
  {
   "cell_type": "code",
   "execution_count": 1,
   "metadata": {},
   "outputs": [
    {
     "name": "stdout",
     "output_type": "stream",
     "text": [
      "[1 2 3]\n"
     ]
    }
   ],
   "source": [
    "# 一维数组\n",
    "import numpy as np\n",
    "a = np.array([1,2,3])\n",
    "print(a)"
   ]
  },
  {
   "cell_type": "code",
   "execution_count": 3,
   "metadata": {},
   "outputs": [
    {
     "name": "stdout",
     "output_type": "stream",
     "text": [
      "[[1 2 3]\n",
      " [6 6 3]]\n"
     ]
    }
   ],
   "source": [
    "# 二维数组\n",
    "import numpy as np\n",
    "a = np.array([[1,2,3],[6,6,3]])\n",
    "print(a)"
   ]
  },
  {
   "cell_type": "code",
   "execution_count": 4,
   "metadata": {},
   "outputs": [
    {
     "name": "stdout",
     "output_type": "stream",
     "text": [
      "[1.+0.j 2.+0.j 3.+0.j]\n"
     ]
    }
   ],
   "source": [
    "# 复数\n",
    "import numpy as np \n",
    "a = np.array([1,  2,  3], dtype = complex)  \n",
    "print (a)"
   ]
  },
  {
   "cell_type": "code",
   "execution_count": 5,
   "metadata": {},
   "outputs": [
    {
     "name": "stdout",
     "output_type": "stream",
     "text": [
      "int32\n"
     ]
    }
   ],
   "source": [
    "# 使用标量类型\n",
    "import numpy as np\n",
    "dt = np.dtype(np.int32)\n",
    "print(dt)"
   ]
  },
  {
   "cell_type": "code",
   "execution_count": 6,
   "metadata": {},
   "outputs": [
    {
     "name": "stdout",
     "output_type": "stream",
     "text": [
      "int32\n"
     ]
    }
   ],
   "source": [
    "# int8, int16, int32, int64 四种数据类型可以使用字符串 'i1', 'i2','i4','i8' 代替\n",
    "import numpy as np\n",
    "dt = np.dtype('i4')\n",
    "print(dt)"
   ]
  },
  {
   "cell_type": "code",
   "execution_count": 7,
   "metadata": {},
   "outputs": [
    {
     "name": "stdout",
     "output_type": "stream",
     "text": [
      "int32\n"
     ]
    }
   ],
   "source": [
    "# 字节顺序标注\n",
    "import numpy as np\n",
    "dt = np.dtype('<i4')\n",
    "print(dt)"
   ]
  },
  {
   "cell_type": "code",
   "execution_count": 8,
   "metadata": {},
   "outputs": [
    {
     "name": "stdout",
     "output_type": "stream",
     "text": [
      "[('age', 'i1')]\n"
     ]
    }
   ],
   "source": [
    "# 首先创建结构化数据类型\n",
    "import numpy as np\n",
    "dt = np.dtype([('age',np.int8)])\n",
    "print(dt)"
   ]
  },
  {
   "cell_type": "code",
   "execution_count": 9,
   "metadata": {},
   "outputs": [
    {
     "name": "stdout",
     "output_type": "stream",
     "text": [
      "[(10,) (20,) (30,)]\n"
     ]
    }
   ],
   "source": [
    "# 将数据类型应用于 ndarray 对象\n",
    "import numpy as np\n",
    "dt = np.dtype([('age',np.int8)])\n",
    "a = np.array([(10,),(20,),(30,)],dtype=dt)\n",
    "print(a)"
   ]
  },
  {
   "cell_type": "code",
   "execution_count": 10,
   "metadata": {},
   "outputs": [
    {
     "name": "stdout",
     "output_type": "stream",
     "text": [
      "[10 20 30]\n"
     ]
    }
   ],
   "source": [
    "# 类型字段名可以用于存取实际的 age 列\n",
    "import numpy as np\n",
    "dt = np.dtype([('age',np.int8)]) \n",
    "a = np.array([(10,),(20,),(30,)], dtype = dt) \n",
    "print(a['age'])"
   ]
  },
  {
   "cell_type": "code",
   "execution_count": 1,
   "metadata": {},
   "outputs": [
    {
     "name": "stdout",
     "output_type": "stream",
     "text": [
      "[('name', 'S20'), ('age', 'i1'), ('marks', '<f4')]\n"
     ]
    }
   ],
   "source": [
    "import numpy as np\n",
    "student = np.dtype([('name','S20'),('age','i1'),('marks','f4')])\n",
    "print(student)"
   ]
  },
  {
   "cell_type": "code",
   "execution_count": 2,
   "metadata": {},
   "outputs": [
    {
     "name": "stdout",
     "output_type": "stream",
     "text": [
      "[(b'abc', 21, 45. ) (b'cvf', 34, 56.9)]\n"
     ]
    }
   ],
   "source": [
    "import numpy as np\n",
    "student = np.dtype([('name','S20'),('age','i1'),('marks','f4')]) # 定义student这种数据类型\n",
    "a = np.array([('abc',21,45),('cvf',34,56.9)],dtype=student) # 类型设置为student\n",
    "print(a)"
   ]
  },
  {
   "cell_type": "code",
   "execution_count": 6,
   "metadata": {},
   "outputs": [
    {
     "name": "stdout",
     "output_type": "stream",
     "text": [
      "[[[ 0  1  2]\n",
      "  [ 3  4  5]\n",
      "  [ 6  7  8]\n",
      "  [ 9 10 11]]\n",
      "\n",
      " [[12 13 14]\n",
      "  [15 16 17]\n",
      "  [18 19 20]\n",
      "  [21 22 23]]]\n",
      "1\n",
      "3\n"
     ]
    }
   ],
   "source": [
    "import numpy as np\n",
    "a = np.arange(24)\n",
    "b = a.reshape(2,4,3) # 两个四行三列是数组\n",
    "print(b)\n",
    "print(a.ndim)\n",
    "print(b.ndim)"
   ]
  },
  {
   "cell_type": "code",
   "execution_count": 8,
   "metadata": {},
   "outputs": [
    {
     "name": "stdout",
     "output_type": "stream",
     "text": [
      "(2, 3)\n"
     ]
    }
   ],
   "source": [
    "import numpy as np\n",
    "a = np.array([[1,2,3],[4,5,6]])\n",
    "print(a.shape)"
   ]
  },
  {
   "cell_type": "code",
   "execution_count": 9,
   "metadata": {},
   "outputs": [
    {
     "name": "stdout",
     "output_type": "stream",
     "text": [
      "[[1 2]\n",
      " [3 4]\n",
      " [5 6]]\n"
     ]
    }
   ],
   "source": [
    "import numpy as np\n",
    "a = np.array([[1,2,3],[4,5,6]])\n",
    "a.shape = (3,2) # 给shape赋值\n",
    "print(a)"
   ]
  },
  {
   "cell_type": "code",
   "execution_count": 12,
   "metadata": {},
   "outputs": [
    {
     "name": "stdout",
     "output_type": "stream",
     "text": [
      "[[1 2]\n",
      " [3 4]\n",
      " [5 6]]\n"
     ]
    }
   ],
   "source": [
    "import numpy as np\n",
    "a = np.array([[1,2,3],[4,5,6]])\n",
    "b = a.reshape(3,2) # 使用reshape函数\n",
    "print(b)"
   ]
  },
  {
   "cell_type": "code",
   "execution_count": 16,
   "metadata": {},
   "outputs": [
    {
     "name": "stdout",
     "output_type": "stream",
     "text": [
      "8\n",
      "1\n",
      "  C_CONTIGUOUS : True\n",
      "  F_CONTIGUOUS : True\n",
      "  OWNDATA : True\n",
      "  WRITEABLE : True\n",
      "  ALIGNED : True\n",
      "  WRITEBACKIFCOPY : False\n",
      "  UPDATEIFCOPY : False\n"
     ]
    }
   ],
   "source": [
    "import numpy as np\n",
    "a = np.array([1,2,3],dtype=np.float64)\n",
    "b = np.array([100,200,300],dtype=np.int8)\n",
    "\n",
    "print(a.itemsize)\n",
    "print(b.itemsize)\n",
    "print(a.flags)\n",
    "# print(b.flags)"
   ]
  },
  {
   "cell_type": "code",
   "execution_count": 22,
   "metadata": {},
   "outputs": [
    {
     "name": "stdout",
     "output_type": "stream",
     "text": [
      "[[  5   0]\n",
      " [ 71   0]\n",
      " [100  77]]\n",
      "==========\n",
      "[[1 2]\n",
      " [3 4]\n",
      " [5 6]]\n"
     ]
    }
   ],
   "source": [
    "import numpy as np\n",
    "a = np.empty([3,2],dtype=np.int8)\n",
    "\n",
    "b = np.empty([3,2],dtype=int)\n",
    "\n",
    "print(a)\n",
    "print(10*'=')\n",
    "print(b)"
   ]
  },
  {
   "cell_type": "code",
   "execution_count": 27,
   "metadata": {},
   "outputs": [
    {
     "name": "stdout",
     "output_type": "stream",
     "text": [
      "[0. 0. 0. 0. 0.]\n",
      "[0 0 0 0 0]\n",
      "[[0 0]\n",
      " [0 0]\n",
      " [0 0]\n",
      " [0 0]\n",
      " [0 0]]\n",
      "[[(0, 0) (0, 0)]\n",
      " [(0, 0) (0, 0)]]\n"
     ]
    }
   ],
   "source": [
    "import numpy as np\n",
    "x = np.zeros(5) # 默认是浮点型\n",
    "print(x)\n",
    "y1 = np.zeros((5,),dtype=np.int) # 打印一行5列\n",
    "print(y1)\n",
    "y2 = np.zeros((5,2),dtype=np.int) # 打印五行2列\n",
    "print(y2)\n",
    "\n",
    "z = np.zeros((2,2), dtype = [('x', 'i4'), ('y', 'i4')])  # 打印两行两列，每个元素的是(a,b)类型的\n",
    "print(z)"
   ]
  },
  {
   "cell_type": "code",
   "execution_count": 32,
   "metadata": {},
   "outputs": [
    {
     "name": "stdout",
     "output_type": "stream",
     "text": [
      "[1. 1. 1. 1. 1.]\n",
      "====================\n",
      "[[1 1]\n",
      " [1 1]]\n",
      "====================\n",
      "[[1 1]\n",
      " [1 1]]\n"
     ]
    }
   ],
   "source": [
    "import numpy as np\n",
    "x = np.ones(5)\n",
    "print(x)\n",
    "print(10*'==')\n",
    "y = np.ones([2,2],dtype=np.int) # 形状用[]来表示\n",
    "print(y)\n",
    "print(10*'==')\n",
    "\n",
    "z = np.ones((2,2),dtype=np.int) # 形状用()来表示\n",
    "print(z)"
   ]
  },
  {
   "cell_type": "code",
   "execution_count": 35,
   "metadata": {},
   "outputs": [
    {
     "name": "stdout",
     "output_type": "stream",
     "text": [
      "[1 2 3]\n",
      "[1. 2. 3.]\n",
      "[1 2 3]\n"
     ]
    }
   ],
   "source": [
    "# NumPy 从已有的数组创建数组 numpy.asarray，numpy.frombuffer,\n",
    "\n",
    "import numpy as np\n",
    "x = [1,2,3] # 列表\n",
    "a1 = np.asarray(x)\n",
    "a2 = np.asarray(x,dtype=float)\n",
    "print(a1)\n",
    "print(a2)\n",
    "\n",
    "y = (1,2,3) # 元组\n",
    "b = np.asarray(y)\n",
    "print(b)"
   ]
  },
  {
   "cell_type": "code",
   "execution_count": 36,
   "metadata": {},
   "outputs": [
    {
     "name": "stdout",
     "output_type": "stream",
     "text": [
      "[b'h' b'e' b'l' b'l' b'o' b' ' b'w' b'o' b'r' b'l' b'd']\n"
     ]
    }
   ],
   "source": [
    "# numpy.frombuffer 接受 buffer 输入参数，以流的形式读入转化成 ndarray 对象。\n",
    "import numpy as np\n",
    "s = b'hello world'\n",
    "a = np.frombuffer(s, dtype='S1')\n",
    "print(a)"
   ]
  },
  {
   "cell_type": "code",
   "execution_count": 38,
   "metadata": {},
   "outputs": [
    {
     "name": "stdout",
     "output_type": "stream",
     "text": [
      "[0. 1. 2. 3. 4.]\n"
     ]
    }
   ],
   "source": [
    "# numpy.fromiter 方法从可迭代对象中建立 ndarray 对象，返回一维数组。\n",
    "import numpy as np\n",
    "list = range(5)\n",
    "it = iter(list)\n",
    "a = np.fromiter(it, dtype=float)\n",
    "print(a)"
   ]
  },
  {
   "cell_type": "markdown",
   "metadata": {},
   "source": [
    "## NumPy 从数值范围创建数组\n",
    "- numpy 包中的使用 arange 函数创建数值范围并返回 ndarray 对象，函数格式如下：\n",
    "    - numpy.arange(start, stop, step, dtype)\n",
    "- numpy.linspace 函数用于创建一个一维数组，数组是一个等差数列构成的，格式如下：\n",
    "    - np.linspace(start, stop, num=50, endpoint=True, retstep=False, dtype=None)\n",
    "- numpy.logspace 函数用于创建一个于等比数列。格式如下：\n",
    "    - np.logspace(start, stop, num=50, endpoint=True, base=10.0, dtype=None)"
   ]
  },
  {
   "cell_type": "code",
   "execution_count": 41,
   "metadata": {},
   "outputs": [
    {
     "name": "stdout",
     "output_type": "stream",
     "text": [
      "[0 1 2 3 4 5 6 7 8 9]\n",
      "====================\n",
      "[0. 1. 2. 3. 4. 5. 6. 7. 8. 9.]\n",
      "====================\n",
      "[10 12 14 16 18]\n"
     ]
    }
   ],
   "source": [
    "import numpy as np\n",
    "a = np.arange(10)\n",
    "print(a)\n",
    "print(10*'==')\n",
    "b = np.arange(10,dtype=float)\n",
    "print(b)\n",
    "print(10*'==')\n",
    "c = np.arange(10,20,2)\n",
    "print(c)"
   ]
  },
  {
   "cell_type": "code",
   "execution_count": 49,
   "metadata": {},
   "outputs": [
    {
     "name": "stdout",
     "output_type": "stream",
     "text": [
      "[ 1.  2.  3.  4.  5.  6.  7.  8.  9. 10.]\n",
      "==============================\n",
      "[10.  12.5 15.  17.5 20. ]\n",
      "[10. 12. 14. 16. 18.]\n"
     ]
    }
   ],
   "source": [
    "import numpy as np\n",
    "a = np.linspace(1,10,10) # 设置起始点为 1 ，终止点为 10，数列个数为 10。\n",
    "print(a)\n",
    "print(10*'===')\n",
    "\n",
    "b = np.linspace(10,20,5)\n",
    "c = np.linspace(10,20,5,endpoint=False)\n",
    "print(b)\n",
    "print(c)"
   ]
  },
  {
   "cell_type": "code",
   "execution_count": 53,
   "metadata": {},
   "outputs": [
    {
     "name": "stdout",
     "output_type": "stream",
     "text": [
      "[ 10.          12.91549665  16.68100537  21.5443469   27.82559402\n",
      "  35.93813664  46.41588834  59.94842503  77.42636827 100.        ]\n"
     ]
    }
   ],
   "source": [
    "import numpy as np\n",
    "a = np.logspace(1,2,10) \n",
    "# 目的生成一组元素，包含10个。默认以10为底，得到的第一个元素对数值为1，最后一个元素的对数值为2，元素之间自动等比\n",
    "print(a)\n"
   ]
  },
  {
   "cell_type": "code",
   "execution_count": 52,
   "metadata": {},
   "outputs": [
    {
     "name": "stdout",
     "output_type": "stream",
     "text": [
      "[  1.   2.   4.   8.  16.  32.  64. 128. 256. 512.]\n"
     ]
    }
   ],
   "source": [
    "import numpy as np\n",
    "a = a = np.logspace(0,9,10,base=2)\n",
    "# 目的生成一组元素，包含10个。设置以2为底，得到的第一个元素对数值为0，最后一个元素的对数值为9，元素之间自动等比\n",
    "print (a)"
   ]
  },
  {
   "cell_type": "code",
   "execution_count": 61,
   "metadata": {},
   "outputs": [
    {
     "name": "stdout",
     "output_type": "stream",
     "text": [
      "[2 4 6]\n",
      "==============================\n",
      "[2 4 6]\n",
      "==============================\n",
      "[2 4 6]\n"
     ]
    }
   ],
   "source": [
    "# 切片和索引\n",
    "import numpy as np\n",
    "a = np.arange(10)\n",
    "s = slice(2,7,2) # 从索引 2 开始到索引 7 停止，间隔为2\n",
    "print(a[s])\n",
    "print(10*'===')\n",
    "print(a[2:7:2]) # 类似于列表的索引\n",
    "print(10*'===')\n",
    "\n",
    "b = a[2:7:2] # 相当于索引出来赋值给b\n",
    "print(b)"
   ]
  },
  {
   "cell_type": "code",
   "execution_count": 68,
   "metadata": {},
   "outputs": [
    {
     "name": "stdout",
     "output_type": "stream",
     "text": [
      "5\n",
      "==============================\n",
      "5\n",
      "==============================\n",
      "[5 6 7 8 9]\n",
      "==============================\n",
      "[0 1 2 3 4]\n",
      "[0 1 2 3 4 5 6 7 8 9]\n"
     ]
    }
   ],
   "source": [
    "# 切片和索引\n",
    "import numpy as np\n",
    "a = np.arange(10)\n",
    "print(a[5])\n",
    "print(10*'===')\n",
    "print(a[5,])\n",
    "print(10*'===')\n",
    "print(a[5:])\n",
    "print(10*'===')\n",
    "print(a[:5])\n",
    "print(a[:])"
   ]
  },
  {
   "cell_type": "code",
   "execution_count": 72,
   "metadata": {},
   "outputs": [
    {
     "name": "stdout",
     "output_type": "stream",
     "text": [
      "[[1 2 3]\n",
      " [4 5 6]\n",
      " [7 8 9]]\n",
      "==============================\n",
      "[[4 5 6]\n",
      " [7 8 9]]\n"
     ]
    }
   ],
   "source": [
    "import numpy as np \n",
    "a = np.array([[1,2,3],[4,5,6],[7,8,9]]) # 3维数组\n",
    "print(a)\n",
    "print(10*'===')\n",
    "print(a[1:])"
   ]
  },
  {
   "cell_type": "code",
   "execution_count": 75,
   "metadata": {},
   "outputs": [
    {
     "name": "stdout",
     "output_type": "stream",
     "text": [
      "[2 5 8]\n",
      "==============================\n",
      "[4 5 6]\n",
      "==============================\n",
      "[5 6]\n"
     ]
    }
   ],
   "source": [
    "import numpy as np \n",
    "a = np.array([[1,2,3],[4,5,6],[7,8,9]])\n",
    "print(a[...,1]) # 打印第2列元素\n",
    "print(10*'===')\n",
    "print(a[1,...]) # 打印第2行元素\n",
    "print(10*'===')\n",
    "print(a[1,1:]) # 打印第2行，第2列以后第所有元素"
   ]
  },
  {
   "cell_type": "markdown",
   "metadata": {},
   "source": [
    "## 数组高级索引\n",
    "- NumPy 比一般的 Python 序列提供更多的索引方式。除了之前看到的用整数和切片的索引外，数组可以由整数数组索引、布尔索引及花式索引。\n",
    "- 整数数组索引\n",
    "- 布尔索引\n",
    "- 花式索引"
   ]
  },
  {
   "cell_type": "code",
   "execution_count": 76,
   "metadata": {},
   "outputs": [
    {
     "name": "stdout",
     "output_type": "stream",
     "text": [
      "[1 4 6]\n"
     ]
    }
   ],
   "source": [
    "import numpy as np\n",
    "x = np.array([[1,2],[3,4],[5,6]])\n",
    "y = x[[0,1,2],[0,1,1]] # 通过数组索引元素\n",
    "print(y)"
   ]
  },
  {
   "cell_type": "code",
   "execution_count": 77,
   "metadata": {},
   "outputs": [
    {
     "name": "stdout",
     "output_type": "stream",
     "text": [
      "[[ 1  3]\n",
      " [10 12]]\n"
     ]
    }
   ],
   "source": [
    "import numpy as np\n",
    "x = np.array([[1,2,3],[4,5,6],[7,8,9],[10,11,12]])\n",
    "rows = np.array([[0,0],[3,3]]) # 构造一个两行两列数组，第一行是x数组的第一行，第二行是x数组的最后一行\n",
    "colo = np.array([[0,2],[0,2]]) # 构造一个两行两列数组，每一行第一个元素是x数组的第一列，每一行第二个元素是x数组的最后一列\n",
    "y = x[rows,colo]\n",
    "print(y)"
   ]
  },
  {
   "cell_type": "code",
   "execution_count": 79,
   "metadata": {},
   "outputs": [
    {
     "name": "stdout",
     "output_type": "stream",
     "text": [
      "[[ 1  2  3]\n",
      " [ 4  5  6]\n",
      " [ 7  8  9]\n",
      " [10 11 12]]\n",
      "\n",
      "\n",
      "[[5 6]\n",
      " [8 9]]\n",
      "\n",
      "\n",
      "[[5 6]\n",
      " [8 9]]\n",
      "\n",
      "\n",
      "[[ 2  3]\n",
      " [ 5  6]\n",
      " [ 8  9]\n",
      " [11 12]]\n"
     ]
    }
   ],
   "source": [
    "# 可以借助切片 : 或 … 与索引数组组合。如下面例子：\n",
    "import numpy as np\n",
    "a = np.array([[1,2,3],[4,5,6],[7,8,9],[10,11,12]])\n",
    "b = a[1:3,1:3]\n",
    "c = a[1:3,(1,2)]\n",
    "d = a[...,1:]\n",
    "print(a)\n",
    "print('\\n')\n",
    "print(b)\n",
    "print('\\n')\n",
    "print(c)\n",
    "print('\\n')\n",
    "print(d)"
   ]
  },
  {
   "cell_type": "code",
   "execution_count": 80,
   "metadata": {},
   "outputs": [
    {
     "name": "stdout",
     "output_type": "stream",
     "text": [
      "[ 6  7  8  9 10 11 12]\n"
     ]
    }
   ],
   "source": [
    "# 布尔索引通过布尔运算（如：比较运算符）来获取符合指定条件的元素的数组。\n",
    "import numpy as np\n",
    "a = np.array([[1,2,3],[4,5,6],[7,8,9],[10,11,12]])\n",
    "print(a[a>5])"
   ]
  },
  {
   "cell_type": "code",
   "execution_count": 86,
   "metadata": {},
   "outputs": [
    {
     "name": "stdout",
     "output_type": "stream",
     "text": [
      "[nan 12.  2.  3. nan 34. 65.]\n",
      "\n",
      "\n",
      "[nan nan]\n",
      "[12.  2.  3. 34. 65.]\n"
     ]
    }
   ],
   "source": [
    "import numpy as np\n",
    "a = np.array([np.nan,12,2,3,np.nan,34,65])\n",
    "print(a)\n",
    "print('\\n')\n",
    "print(a[np.isnan(a)]) # 得到数组中第nan元素\n",
    "print(a[~np.isnan(a)]) # 过滤掉数组中给nan元素"
   ]
  },
  {
   "cell_type": "code",
   "execution_count": 87,
   "metadata": {},
   "outputs": [
    {
     "name": "stdout",
     "output_type": "stream",
     "text": [
      "[2. +6.j 3.5+5.j]\n",
      "[1.+0.j 5.+0.j]\n"
     ]
    }
   ],
   "source": [
    "# 以下实例演示如何从数组中得到和过滤复数元素。\n",
    "import numpy as np\n",
    "a = np.array([1,  2+6j,  5,  3.5+5j])\n",
    "\n",
    "print(a[np.iscomplex(a)]) # 得到复数元素\n",
    "print(a[~np.iscomplex(a)]) # 过滤掉复数元素"
   ]
  },
  {
   "cell_type": "code",
   "execution_count": 90,
   "metadata": {},
   "outputs": [
    {
     "name": "stdout",
     "output_type": "stream",
     "text": [
      "[[ 0  1  2  3]\n",
      " [ 4  5  6  7]\n",
      " [ 8  9 10 11]\n",
      " [12 13 14 15]\n",
      " [16 17 18 19]\n",
      " [20 21 22 23]\n",
      " [24 25 26 27]\n",
      " [28 29 30 31]]\n",
      "====================\n",
      "[[16 17 18 19]\n",
      " [20 21 22 23]\n",
      " [24 25 26 27]\n",
      " [ 8  9 10 11]]\n",
      "====================\n",
      "[[16 17 18 19]\n",
      " [24 25 26 27]\n",
      " [28 29 30 31]\n",
      " [ 4  5  6  7]]\n"
     ]
    }
   ],
   "source": [
    "import numpy as np\n",
    "a = np.arange(32).reshape(8,4)\n",
    "print(a)\n",
    "print(10*'==')\n",
    "b = a[[4,5,6,2]] # 目标数组是2维数组，则a[[4,5,6,2]]索引到的是4，5，6，2行的整行元素.传入的是正序\n",
    "print(b)\n",
    "print(10*'==')\n",
    "\n",
    "print (a[[-4,-2,-1,-7]]) # 传入的是倒序"
   ]
  },
  {
   "cell_type": "code",
   "execution_count": 92,
   "metadata": {},
   "outputs": [
    {
     "name": "stdout",
     "output_type": "stream",
     "text": [
      "[[ 0  1  2  3]\n",
      " [ 4  5  6  7]\n",
      " [ 8  9 10 11]\n",
      " [12 13 14 15]\n",
      " [16 17 18 19]\n",
      " [20 21 22 23]\n",
      " [24 25 26 27]\n",
      " [28 29 30 31]]\n",
      "====================\n",
      "[[ 6  7]\n",
      " [10 11]\n",
      " [14 15]]\n"
     ]
    }
   ],
   "source": [
    "# 3、传入多个索引数组（要使用np.ix_）\n",
    "import numpy as np\n",
    "x = np.arange(32).reshape(8,4)\n",
    "print(x)\n",
    "print(10*'==')\n",
    "print(x[np.ix_([1,2,3],[2,3])]) # 这种写法很好用啊"
   ]
  },
  {
   "cell_type": "code",
   "execution_count": null,
   "metadata": {},
   "outputs": [],
   "source": []
  },
  {
   "cell_type": "code",
   "execution_count": null,
   "metadata": {},
   "outputs": [],
   "source": []
  },
  {
   "cell_type": "code",
   "execution_count": null,
   "metadata": {},
   "outputs": [],
   "source": []
  },
  {
   "cell_type": "code",
   "execution_count": null,
   "metadata": {},
   "outputs": [],
   "source": []
  },
  {
   "cell_type": "code",
   "execution_count": null,
   "metadata": {},
   "outputs": [],
   "source": []
  }
 ],
 "metadata": {
  "kernelspec": {
   "display_name": "Python 3",
   "language": "python",
   "name": "python3"
  },
  "language_info": {
   "codemirror_mode": {
    "name": "ipython",
    "version": 3
   },
   "file_extension": ".py",
   "mimetype": "text/x-python",
   "name": "python",
   "nbconvert_exporter": "python",
   "pygments_lexer": "ipython3",
   "version": "3.7.0"
  }
 },
 "nbformat": 4,
 "nbformat_minor": 2
}
