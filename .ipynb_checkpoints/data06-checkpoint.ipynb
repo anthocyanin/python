{
 "cells": [
  {
   "cell_type": "markdown",
   "metadata": {},
   "source": [
    "## Numpy 数组操作\n",
    "- Numpy 中包含了一些函数用于处理数组，大概可分为以下几类：\n",
    "- 修改数组形状\n",
    "    - reshape\t不改变数据的条件下修改形状\n",
    "    - flat\t    数组元素迭代器\n",
    "    - flatten\t返回一份数组拷贝，对拷贝所做的修改不会影响原始数组\n",
    "    - ravel\t    返回展开数组\n",
    "- 翻转数组\n",
    "    - transpose\t对换数组的维度\n",
    "    - ndarray.T\t和 self.transpose() 相同\n",
    "    - rollaxis\t向后滚动指定的轴\n",
    "    - swapaxes\t对换数组的两个轴\n",
    "- 修改数组维度\n",
    "    - broadcast\t    产生模仿广播的对象\n",
    "    - broadcast_to\t将数组广播到新形状\n",
    "    - expand_dims\t扩展数组的形状\n",
    "    - squeeze\t    从数组的形状中删除一维条目\n",
    "- 连接数组\n",
    "    - concatenate   连接沿现有轴的数组序列\n",
    "    - stack\t        沿着新的轴加入一系列数组。\n",
    "    - hstack\t    水平堆叠序列中的数组（列方向）\n",
    "    - vstack\t    竖直堆叠序列中的数组（行方向）\n",
    "- 分割数组\n",
    "    - split\t    将一个数组分割为多个子数组\n",
    "    - hsplit\t将一个数组水平分割为多个子数组（按列）\n",
    "    - vsplit\t将一个数组垂直分割为多个子数组（按行）\n",
    "- 数组元素的添加与删除\n",
    "    - resize\t返回指定形状的新数组\n",
    "    - append\t将值添加到数组末尾\n",
    "    - insert\t沿指定轴将值插入到指定下标之前\n",
    "    - delete\t删掉某个轴的子数组，并返回删除后的新数组\n",
    "    - unique\t查找数组内的唯一元素"
   ]
  },
  {
   "cell_type": "code",
   "execution_count": 1,
   "metadata": {},
   "outputs": [
    {
     "name": "stdout",
     "output_type": "stream",
     "text": [
      "原始数组：\n",
      "[0 1 2 3 4 5 6 7]\n",
      "\n",
      "\n",
      "修改后的数组：\n",
      "[[0 1]\n",
      " [2 3]\n",
      " [4 5]\n",
      " [6 7]]\n"
     ]
    }
   ],
   "source": [
    "import numpy as np\n",
    " \n",
    "a = np.arange(8)\n",
    "print ('原始数组：')\n",
    "print (a)\n",
    "print ('\\n')\n",
    " \n",
    "b = a.reshape(4,2)\n",
    "print ('修改后的数组：')\n",
    "print (b)"
   ]
  },
  {
   "cell_type": "code",
   "execution_count": 5,
   "metadata": {},
   "outputs": [
    {
     "name": "stdout",
     "output_type": "stream",
     "text": [
      "原始数组：\n",
      "[0 1 2 3 4 5 6 7]\n",
      "\n",
      "\n",
      "修改后的数组：\n",
      "[[0 1]\n",
      " [2 3]\n",
      " [4 5]\n",
      " [6 7]]\n",
      "\n",
      "\n",
      "修改后的数组：\n",
      "[[0 1]\n",
      " [2 3]\n",
      " [4 5]\n",
      " [6 7]]\n"
     ]
    }
   ],
   "source": [
    "import numpy as np\n",
    " \n",
    "a = np.arange(8)\n",
    "print ('原始数组：')\n",
    "print (a)\n",
    "print ('\\n')\n",
    " \n",
    "b = np.reshape(a,(4,2))\n",
    "print ('修改后的数组：')\n",
    "print (b)\n",
    "print('\\n')\n",
    "b = np.reshape(a,(4,2),order='C')\n",
    "print ('修改后的数组：')\n",
    "print (b)"
   ]
  },
  {
   "cell_type": "code",
   "execution_count": 8,
   "metadata": {},
   "outputs": [
    {
     "name": "stdout",
     "output_type": "stream",
     "text": [
      "[[0 1]\n",
      " [2 3]\n",
      " [4 5]\n",
      " [6 7]]\n",
      "\n",
      "\n",
      "[[0 1]\n",
      " [2 3]\n",
      " [4 5]\n",
      " [6 7]]\n",
      "\n",
      "\n",
      "[[0 4]\n",
      " [1 5]\n",
      " [2 6]\n",
      " [3 7]]\n",
      "\n",
      "\n",
      "[[0 1]\n",
      " [2 3]\n",
      " [4 5]\n",
      " [6 7]]\n"
     ]
    }
   ],
   "source": [
    "import numpy as np\n",
    "b = np.reshape(a,(4,2))\n",
    "print (b)\n",
    "print('\\n')\n",
    "b = np.reshape(a,(4,2),order='C')\n",
    "print (b)\n",
    "print('\\n')\n",
    "b = np.reshape(a,(4,2),order='F')\n",
    "print(b)\n",
    "print('\\n')\n",
    "b = np.reshape(a,(4,2),order='A')\n",
    "print(b)"
   ]
  },
  {
   "cell_type": "code",
   "execution_count": 10,
   "metadata": {},
   "outputs": [
    {
     "name": "stdout",
     "output_type": "stream",
     "text": [
      "[0 1 2]\n",
      "[3 4 5]\n",
      "[6 7 8]\n",
      "\n",
      "\n",
      "0\n",
      "1\n",
      "2\n",
      "3\n",
      "4\n",
      "5\n",
      "6\n",
      "7\n",
      "8\n"
     ]
    }
   ],
   "source": [
    "# numpy.ndarray.flat 是一个数组元素迭代器，实例如下:\n",
    "import numpy as np\n",
    "a = np.arange(9).reshape(3,3)\n",
    "for row in a:\n",
    "    print(row)\n",
    "print('\\n')\n",
    "#对数组中每个元素都进行处理，可以使用flat属性，该属性是一个数组元素迭代器：\n",
    "for elem in a.flat:\n",
    "    print(elem)"
   ]
  },
  {
   "cell_type": "code",
   "execution_count": 12,
   "metadata": {},
   "outputs": [
    {
     "name": "stdout",
     "output_type": "stream",
     "text": [
      "[[0 1]\n",
      " [2 3]\n",
      " [4 5]\n",
      " [6 7]]\n",
      "\n",
      "\n",
      "[0 1 2 3 4 5 6 7]\n",
      "\n",
      "\n",
      "[0 2 4 6 1 3 5 7]\n"
     ]
    }
   ],
   "source": [
    "# numpy.ndarray.flatten 返回一份数组拷贝，对拷贝所做的修改不会影响原始数组，格式如下：\n",
    "import numpy as np\n",
    "a = np.arange(8).reshape(4,2)\n",
    "print(a)\n",
    "print('\\n')\n",
    "print(a.flatten(order='C'))\n",
    "print('\\n')\n",
    "print(a.flatten(order='F'))"
   ]
  },
  {
   "cell_type": "code",
   "execution_count": 13,
   "metadata": {},
   "outputs": [
    {
     "name": "stdout",
     "output_type": "stream",
     "text": [
      "[[0 1]\n",
      " [2 3]\n",
      " [4 5]\n",
      " [6 7]]\n",
      "\n",
      "\n",
      "[0 1 2 3 4 5 6 7]\n",
      "\n",
      "\n",
      "[0 2 4 6 1 3 5 7]\n",
      "\n",
      "\n",
      "[[0 1]\n",
      " [2 3]\n",
      " [4 5]\n",
      " [6 7]]\n"
     ]
    }
   ],
   "source": [
    "# numpy.ravel() 展平的数组元素，顺序通常是\"C风格\"，返回的是数组视图（view，有点类似 C/C++引用reference的意味），修改会影响原始数组。\n",
    "import numpy as np\n",
    "a = np.arange(8).reshape(4,2)\n",
    "print(a)\n",
    "print('\\n')\n",
    "print(a.ravel(order='C'))\n",
    "print('\\n')\n",
    "print(a.ravel(order='F'))\n",
    "print('\\n')\n",
    "print(a)"
   ]
  },
  {
   "cell_type": "code",
   "execution_count": 3,
   "metadata": {},
   "outputs": [
    {
     "name": "stdout",
     "output_type": "stream",
     "text": [
      "[[ 0  1  2  3]\n",
      " [ 4  5  6  7]\n",
      " [ 8  9 10 11]]\n",
      "\n",
      "\n",
      "[[ 0  4  8]\n",
      " [ 1  5  9]\n",
      " [ 2  6 10]\n",
      " [ 3  7 11]]\n",
      "====================\n",
      "[[ 0  4  8]\n",
      " [ 1  5  9]\n",
      " [ 2  6 10]\n",
      " [ 3  7 11]]\n"
     ]
    }
   ],
   "source": [
    "import numpy as np\n",
    "a = np.arange(12).reshape(3,4)\n",
    "print(a)\n",
    "print('\\n')\n",
    "print(np.transpose(a))\n",
    "print(10*'==')\n",
    "print(a.T)"
   ]
  },
  {
   "cell_type": "code",
   "execution_count": 7,
   "metadata": {},
   "outputs": [
    {
     "name": "stdout",
     "output_type": "stream",
     "text": [
      "[[[0 1]\n",
      "  [2 3]]\n",
      "\n",
      " [[4 5]\n",
      "  [6 7]]]\n",
      "====================\n",
      "[[[0 2]\n",
      "  [4 6]]\n",
      "\n",
      " [[1 3]\n",
      "  [5 7]]]\n",
      "====================\n",
      "[[[0 2]\n",
      "  [1 3]]\n",
      "\n",
      " [[4 6]\n",
      "  [5 7]]]\n"
     ]
    }
   ],
   "source": [
    "# numpy.rollaxis 函数向后滚动特定的轴到一个特定位置，格式如下：\n",
    "import numpy as np\n",
    "a = np.arange(8).reshape(2,2,2)\n",
    "print(a)\n",
    "print(10*'==')\n",
    "print(np.rollaxis(a,2,0)) # 可理解为2轴及2轴前面的元素位置保持不变，但是2轴上的元素移动到0轴前面。\n",
    "print(10*'==')\n",
    "print(np.rollaxis(a,2,1)) # 可理解为下表2列的和1列的元素调换一下。"
   ]
  },
  {
   "cell_type": "code",
   "execution_count": 13,
   "metadata": {},
   "outputs": [
    {
     "name": "stdout",
     "output_type": "stream",
     "text": [
      "[[[ 1  2  3]\n",
      "  [ 4  5  6]\n",
      "  [ 7  8  9]]\n",
      "\n",
      " [[10 11 12]\n",
      "  [13 14 15]\n",
      "  [16 17 18]]\n",
      "\n",
      " [[19 20 21]\n",
      "  [22 23 24]\n",
      "  [25 26 27]]]\n",
      "====================\n",
      "[[[ 1  4  7]\n",
      "  [10 13 16]\n",
      "  [19 22 25]]\n",
      "\n",
      " [[ 2  5  8]\n",
      "  [11 14 17]\n",
      "  [20 23 26]]\n",
      "\n",
      " [[ 3  6  9]\n",
      "  [12 15 18]\n",
      "  [21 24 27]]]\n",
      "====================\n",
      "[[[ 1  4  7]\n",
      "  [ 2  5  8]\n",
      "  [ 3  6  9]]\n",
      "\n",
      " [[10 13 16]\n",
      "  [11 14 17]\n",
      "  [12 15 18]]\n",
      "\n",
      " [[19 22 25]\n",
      "  [20 23 26]\n",
      "  [21 24 27]]]\n",
      "====================\n",
      "[[[ 1  2  3]\n",
      "  [10 11 12]\n",
      "  [19 20 21]]\n",
      "\n",
      " [[ 4  5  6]\n",
      "  [13 14 15]\n",
      "  [22 23 24]]\n",
      "\n",
      " [[ 7  8  9]\n",
      "  [16 17 18]\n",
      "  [25 26 27]]]\n"
     ]
    }
   ],
   "source": [
    "# numpy.rollaxis(arr,axis,start) 函数向后滚动特定的轴到一个特定位置，格式如下：\n",
    "# arr：数组\n",
    "# axis：要向后滚动的轴，其它轴的相对位置不会改变\n",
    "# start：默认为零，表示完整的滚动。会滚动到特定位置。\n",
    "import numpy as np\n",
    "a = np.arange(1,28,1).reshape(3,3,3)\n",
    "print(a)\n",
    "print(10*'==')\n",
    "print(np.rollaxis(a,2,0)) # 可理解为\n",
    "print(10*'==')\n",
    "print(np.rollaxis(a,2,1)) # 可理解为下表2列的和1列的元素调换一下。\n",
    "print(10*'==')\n",
    "print(np.rollaxis(a,1,0))"
   ]
  },
  {
   "cell_type": "code",
   "execution_count": 14,
   "metadata": {},
   "outputs": [
    {
     "name": "stdout",
     "output_type": "stream",
     "text": [
      "[[[[ 1  2]\n",
      "   [ 3  4]]\n",
      "\n",
      "  [[ 5  6]\n",
      "   [ 7  8]]]\n",
      "\n",
      "\n",
      " [[[ 9 10]\n",
      "   [11 12]]\n",
      "\n",
      "  [[13 14]\n",
      "   [15 16]]]]\n",
      "====================\n",
      "[[[[ 1  2]\n",
      "   [ 5  6]]\n",
      "\n",
      "  [[ 9 10]\n",
      "   [13 14]]]\n",
      "\n",
      "\n",
      " [[[ 3  4]\n",
      "   [ 7  8]]\n",
      "\n",
      "  [[11 12]\n",
      "   [15 16]]]]\n",
      "====================\n",
      "[[[[ 1  2]\n",
      "   [ 5  6]]\n",
      "\n",
      "  [[ 3  4]\n",
      "   [ 7  8]]]\n",
      "\n",
      "\n",
      " [[[ 9 10]\n",
      "   [13 14]]\n",
      "\n",
      "  [[11 12]\n",
      "   [15 16]]]]\n",
      "====================\n",
      "[[[[ 1  2]\n",
      "   [ 3  4]]\n",
      "\n",
      "  [[ 9 10]\n",
      "   [11 12]]]\n",
      "\n",
      "\n",
      " [[[ 5  6]\n",
      "   [ 7  8]]\n",
      "\n",
      "  [[13 14]\n",
      "   [15 16]]]]\n"
     ]
    }
   ],
   "source": [
    "# numpy.rollaxis(arr,axis,start) 函数向后滚动特定的轴到一个特定位置，格式如下：\n",
    "# arr：数组\n",
    "# axis：要向后滚动的轴，其它轴的相对位置不会改变\n",
    "# start：默认为零，表示完整的滚动。会滚动到特定位置。\n",
    "import numpy as np\n",
    "a = np.arange(1,17,1).reshape(2,2,2,2)\n",
    "print(a)\n",
    "print(10*'==')\n",
    "print(np.rollaxis(a,2,0)) #可理解为2轴及2轴前面的元素位置保持不变，但是2轴上的元素移动到0轴前面。2轴后面的元素会保持不动，不用管\n",
    "print(10*'==')\n",
    "print(np.rollaxis(a,2,1)) #可理解为下表2列的和1列的元素调换一下。\n",
    "print(10*'==')\n",
    "print(np.rollaxis(a,1,0))"
   ]
  },
  {
   "cell_type": "code",
   "execution_count": 9,
   "metadata": {},
   "outputs": [
    {
     "name": "stdout",
     "output_type": "stream",
     "text": [
      "[[[0 1]\n",
      "  [2 3]]\n",
      "\n",
      " [[4 5]\n",
      "  [6 7]]]\n",
      "====================\n",
      "[[[0 4]\n",
      "  [2 6]]\n",
      "\n",
      " [[1 5]\n",
      "  [3 7]]]\n"
     ]
    }
   ],
   "source": [
    "# numpy.swapaxes 函数用于交换数组的两个轴，格式如下：\n",
    "import numpy as np\n",
    "a = np.arange(8).reshape(2,2,2)\n",
    "print(a)\n",
    "print(10*'==')\n",
    "print(np.swapaxes(a,2,0)) # 现在交换轴 0到轴 2"
   ]
  },
  {
   "cell_type": "code",
   "execution_count": 24,
   "metadata": {},
   "outputs": [
    {
     "name": "stdout",
     "output_type": "stream",
     "text": [
      "对 y 广播 x：\n",
      "1 4\n",
      "1 5\n",
      "(3, 3)\n",
      "手动使用 broadcast 将 x 与 y 相加：\n",
      "(3, 3)\n",
      "\n",
      "\n",
      "调用 flat 函数：\n",
      "[[5. 6. 7.]\n",
      " [6. 7. 8.]\n",
      " [7. 8. 9.]]\n",
      "\n",
      "\n",
      "x 与 y 的和：\n",
      "[[5 6 7]\n",
      " [6 7 8]\n",
      " [7 8 9]]\n"
     ]
    }
   ],
   "source": [
    "# numpy.broadcast 用于模仿广播的对象，它返回一个对象，该对象封装了将一个数组广播到另一个数组的结果。\n",
    "import numpy as np\n",
    "x = np.array([[1],[2],[3]])\n",
    "y = np.array([4,5,6])\n",
    "# 对 y 广播 x\n",
    "b = np.broadcast(x,y)\n",
    "# 它拥有 iterator 属性，基于自身组件的迭代器元组\n",
    "print ('对 y 广播 x：')\n",
    "r,c = b.iters\n",
    "print(next(r),next(c))\n",
    "print(next(r),next(c))\n",
    "# shape 属性返回广播对象的形状\n",
    "print(b.shape)\n",
    "# 手动使用 broadcast 将 x 与 y 相加\n",
    "b = np.broadcast(x,y)\n",
    "c = np.empty(b.shape)\n",
    "print ('手动使用 broadcast 将 x 与 y 相加：')\n",
    "print (c.shape)\n",
    "print ('\\n')\n",
    "c.flat = [u + v for (u,v) in b]\n",
    "print ('调用 flat 函数：')\n",
    "print (c)\n",
    "print ('\\n')\n",
    "# 获得了和 NumPy 内建的广播支持相同的结果\n",
    " \n",
    "print ('x 与 y 的和：')\n",
    "print (x + y)"
   ]
  },
  {
   "cell_type": "code",
   "execution_count": 29,
   "metadata": {},
   "outputs": [
    {
     "name": "stdout",
     "output_type": "stream",
     "text": [
      "[[0 1 2 3]]\n",
      "(1, 4)\n",
      "\n",
      "\n",
      "[[0 1 2 3]\n",
      " [0 1 2 3]\n",
      " [0 1 2 3]\n",
      " [0 1 2 3]]\n"
     ]
    }
   ],
   "source": [
    "# numpy.broadcast_to 函数将数组广播到新形状。它在原始数组上返回只读视图。 \n",
    "# 它通常不连续。 如果新形状不符合 NumPy 的广播规则，该函数可能会抛出ValueError。\n",
    "import numpy as np\n",
    "a = np.arange(4).reshape(1,4)\n",
    "print(a)\n",
    "print(a.shape)\n",
    "print('\\n')\n",
    "print(np.broadcast_to(a,(4,4)))"
   ]
  },
  {
   "cell_type": "code",
   "execution_count": 40,
   "metadata": {},
   "outputs": [
    {
     "name": "stdout",
     "output_type": "stream",
     "text": [
      "[[1 2]\n",
      " [3 4]]\n",
      "\n",
      "\n",
      "[[[1 2]\n",
      "  [3 4]]]\n",
      "====================\n",
      "(2, 2) (2, 1, 2)\n",
      "====================\n",
      "[[[1 2]]\n",
      "\n",
      " [[3 4]]]\n",
      "====================\n",
      "(2, 2) (2, 1, 2)\n",
      "====================\n",
      "(2, 2) (2, 1, 2)\n"
     ]
    }
   ],
   "source": [
    "# numpy.expand_dims 函数通过在指定位置插入新的轴来扩展数组形状，函数格式如下:\n",
    "import numpy as np \n",
    "x = np.array(([1,2],[3,4]))\n",
    "print(x)\n",
    "print('\\n')\n",
    "print(np.expand_dims(x,axis=0))\n",
    "print(10*'==')\n",
    "print(x.shape,y.shape)\n",
    "print(10*'==')\n",
    "# 在位置 1 插入轴\n",
    "y=np.expand_dims(x,axis=1)\n",
    "print(y)\n",
    "print(10*'==')\n",
    "print(x.shape,y.shape)\n",
    "print(10*'==')\n",
    "print (x.shape, y.shape)"
   ]
  },
  {
   "cell_type": "code",
   "execution_count": 42,
   "metadata": {},
   "outputs": [
    {
     "name": "stdout",
     "output_type": "stream",
     "text": [
      "[[[0 1 2]\n",
      "  [3 4 5]\n",
      "  [6 7 8]]]\n",
      "\n",
      "\n",
      "[[0 1 2]\n",
      " [3 4 5]\n",
      " [6 7 8]]\n"
     ]
    }
   ],
   "source": [
    "# numpy.squeeze 函数从给定数组的形状中删除一维的条目，函数格式如下：\n",
    "import numpy as np\n",
    "a = np.arange(9).reshape(1,3,3)\n",
    "print(a)\n",
    "print('\\n')\n",
    "b = np.squeeze(a) # 三维变二维\n",
    "print(b)"
   ]
  },
  {
   "cell_type": "code",
   "execution_count": 46,
   "metadata": {},
   "outputs": [
    {
     "name": "stdout",
     "output_type": "stream",
     "text": [
      "[[0 1]\n",
      " [2 3]]\n",
      "====================\n",
      "[[5 6]\n",
      " [7 8]]\n",
      "====================\n",
      "[[0 1]\n",
      " [2 3]\n",
      " [5 6]\n",
      " [7 8]]\n",
      "====================\n",
      "[[0 1 5 6]\n",
      " [2 3 7 8]]\n"
     ]
    }
   ],
   "source": [
    "# numpy.concatenate 函数用于沿指定轴连接相同形状的两个或多个数组，格式如下：\n",
    "import numpy as np\n",
    "a = np.arange(4).reshape(2,2)\n",
    "b = np.arange(5,9,1).reshape(2,2)\n",
    "print(a)\n",
    "print(10*'==')\n",
    "print(b)\n",
    "print(10*'==')\n",
    "print(np.concatenate((a,b),axis=0))\n",
    "print(10*'==')\n",
    "print(np.concatenate((a,b),axis=1))"
   ]
  },
  {
   "cell_type": "code",
   "execution_count": 48,
   "metadata": {},
   "outputs": [
    {
     "name": "stdout",
     "output_type": "stream",
     "text": [
      "第一个数组：\n",
      "[[1 2]\n",
      " [3 4]]\n",
      "\n",
      "\n",
      "第二个数组：\n",
      "[[5 6]\n",
      " [7 8]]\n",
      "\n",
      "\n",
      "沿轴 0 堆叠两个数组：\n",
      "[[[1 2]\n",
      "  [3 4]]\n",
      "\n",
      " [[5 6]\n",
      "  [7 8]]]\n",
      "\n",
      "\n",
      "沿轴 1 堆叠两个数组：\n",
      "[[[1 2]\n",
      "  [5 6]]\n",
      "\n",
      " [[3 4]\n",
      "  [7 8]]]\n"
     ]
    }
   ],
   "source": [
    "# numpy.stack 函数用于沿新轴连接数组序列，格式如下：\n",
    "import numpy as np\n",
    " \n",
    "a = np.array([[1,2],[3,4]])\n",
    " \n",
    "print ('第一个数组：')\n",
    "print (a)\n",
    "print ('\\n')\n",
    "b = np.array([[5,6],[7,8]])\n",
    " \n",
    "print ('第二个数组：')\n",
    "print (b)\n",
    "print ('\\n')\n",
    "print ('沿轴 0 堆叠两个数组：')\n",
    "print (np.stack((a,b),0))\n",
    "print ('\\n')\n",
    " \n",
    "print ('沿轴 1 堆叠两个数组：')\n",
    "print (np.stack((a,b),1))"
   ]
  },
  {
   "cell_type": "code",
   "execution_count": 49,
   "metadata": {},
   "outputs": [
    {
     "name": "stdout",
     "output_type": "stream",
     "text": [
      "第一个数组：\n",
      "[[1 2]\n",
      " [3 4]]\n",
      "\n",
      "\n",
      "第二个数组：\n",
      "[[5 6]\n",
      " [7 8]]\n",
      "\n",
      "\n",
      "水平堆叠：\n",
      "[[1 2 5 6]\n",
      " [3 4 7 8]]\n",
      "\n",
      "\n"
     ]
    }
   ],
   "source": [
    "# numpy.hstack 是 numpy.stack 函数的变体，它通过水平堆叠来生成数组。\n",
    "import numpy as np\n",
    "a = np.array([[1,2],[3,4]])\n",
    " \n",
    "print ('第一个数组：')\n",
    "print (a)\n",
    "print ('\\n')\n",
    "b = np.array([[5,6],[7,8]])\n",
    " \n",
    "print ('第二个数组：')\n",
    "print (b)\n",
    "print ('\\n')\n",
    " \n",
    "print ('水平堆叠：')\n",
    "c = np.hstack((a,b))\n",
    "print (c)\n",
    "print ('\\n')"
   ]
  },
  {
   "cell_type": "code",
   "execution_count": 50,
   "metadata": {},
   "outputs": [
    {
     "name": "stdout",
     "output_type": "stream",
     "text": [
      "第一个数组：\n",
      "[[1 2]\n",
      " [3 4]]\n",
      "\n",
      "\n",
      "第二个数组：\n",
      "[[5 6]\n",
      " [7 8]]\n",
      "\n",
      "\n",
      "竖直堆叠：\n",
      "[[1 2]\n",
      " [3 4]\n",
      " [5 6]\n",
      " [7 8]]\n"
     ]
    }
   ],
   "source": [
    "# numpy.vstack 是 numpy.stack 函数的变体，它通过垂直堆叠来生成数组。\n",
    "import numpy as np\n",
    "a = np.array([[1,2],[3,4]])\n",
    "print ('第一个数组：')\n",
    "print (a)\n",
    "print ('\\n')\n",
    "b = np.array([[5,6],[7,8]])\n",
    "print ('第二个数组：')\n",
    "print (b)\n",
    "print ('\\n')\n",
    "print ('竖直堆叠：')\n",
    "c = np.vstack((a,b))\n",
    "print (c)"
   ]
  },
  {
   "cell_type": "code",
   "execution_count": 54,
   "metadata": {},
   "outputs": [
    {
     "name": "stdout",
     "output_type": "stream",
     "text": [
      "[0 1 2 3 4 5 6 7 8]\n",
      "\n",
      "\n",
      "[array([0, 1, 2]), array([3, 4, 5]), array([6, 7, 8])]\n",
      "\n",
      "\n",
      "[array([0, 1]), array([2, 3, 4]), array([5, 6, 7, 8])]\n"
     ]
    }
   ],
   "source": [
    "# numpy.split 函数沿特定的轴将数组分割为子数组，格式如下：\n",
    "import numpy as np\n",
    "a = np.arange(9)\n",
    "print(a)\n",
    "print('\\n')\n",
    "print(np.split(a,3))\n",
    "print('\\n')\n",
    "print(np.split(a,[2,5])) # 2之前的元素，2-5但不含5的所有元素，5之后的所有元素，分成三份。"
   ]
  },
  {
   "cell_type": "code",
   "execution_count": 57,
   "metadata": {},
   "outputs": [
    {
     "name": "stdout",
     "output_type": "stream",
     "text": [
      "[[5. 9. 9. 7. 3. 2.]\n",
      " [1. 4. 6. 1. 5. 5.]]\n",
      "\n",
      "\n",
      "[array([[5., 9.],\n",
      "       [1., 4.]]), array([[9., 7.],\n",
      "       [6., 1.]]), array([[3., 2.],\n",
      "       [5., 5.]])]\n"
     ]
    }
   ],
   "source": [
    "# numpy.hsplit 函数用于水平分割数组，通过指定要返回的相同形状的数组数量来拆分原数组。\n",
    "import numpy as np\n",
    "harr = np.floor(10 * np.random.random((2, 6)))\n",
    "print(harr)\n",
    "print('\\n')\n",
    "print(np.hsplit(harr,3))"
   ]
  },
  {
   "cell_type": "code",
   "execution_count": 64,
   "metadata": {},
   "outputs": [
    {
     "name": "stdout",
     "output_type": "stream",
     "text": [
      "第一个数组：\n",
      "[[ 0  1  2  3]\n",
      " [ 4  5  6  7]\n",
      " [ 8  9 10 11]\n",
      " [12 13 14 15]]\n",
      "\n",
      "\n",
      "竖直分割：\n",
      "[array([[0, 1, 2, 3]]), array([[4, 5, 6, 7]]), array([[ 8,  9, 10, 11]]), array([[12, 13, 14, 15]])]\n"
     ]
    }
   ],
   "source": [
    "# numpy.vsplit 沿着垂直轴分割，其分割方式与hsplit用法相同。\n",
    "import numpy as np\n",
    " \n",
    "a = np.arange(16).reshape(4,4)\n",
    " \n",
    "print ('第一个数组：')\n",
    "print (a)\n",
    "print ('\\n')\n",
    " \n",
    "print ('竖直分割：')\n",
    "b = np.vsplit(a,4)\n",
    "print (b)"
   ]
  },
  {
   "cell_type": "code",
   "execution_count": 62,
   "metadata": {},
   "outputs": [
    {
     "name": "stdout",
     "output_type": "stream",
     "text": [
      "[[0.76557353 0.78594692 0.92638258 0.22700413 0.36966304 0.31243824]\n",
      " [0.95974186 0.01481274 0.1666028  0.16567823 0.16217796 0.10011018]]\n"
     ]
    }
   ],
   "source": [
    "import numpy as np\n",
    "a = np.random.random((2, 6))\n",
    "print(a)"
   ]
  },
  {
   "cell_type": "code",
   "execution_count": 65,
   "metadata": {},
   "outputs": [
    {
     "name": "stdout",
     "output_type": "stream",
     "text": [
      "第一个数组：\n",
      "[[1 2 3]\n",
      " [4 5 6]]\n",
      "\n",
      "\n",
      "第一个数组的形状：\n",
      "(2, 3)\n",
      "\n",
      "\n",
      "第二个数组：\n",
      "[[1 2]\n",
      " [3 4]\n",
      " [5 6]]\n",
      "\n",
      "\n",
      "第二个数组的形状：\n",
      "(3, 2)\n",
      "\n",
      "\n",
      "修改第二个数组的大小：\n",
      "[[1 2 3]\n",
      " [4 5 6]\n",
      " [1 2 3]]\n"
     ]
    }
   ],
   "source": [
    "# numpy.resize 函数返回指定大小的新数组。\n",
    "# 如果新数组大小大于原始大小，则包含原始数组中的元素的副本。\n",
    "import numpy as np\n",
    " \n",
    "a = np.array([[1,2,3],[4,5,6]])\n",
    " \n",
    "print ('第一个数组：')\n",
    "print (a)\n",
    "print ('\\n')\n",
    " \n",
    "print ('第一个数组的形状：')\n",
    "print (a.shape)\n",
    "print ('\\n')\n",
    "b = np.resize(a, (3,2))\n",
    " \n",
    "print ('第二个数组：')\n",
    "print (b)\n",
    "print ('\\n')\n",
    " \n",
    "print ('第二个数组的形状：')\n",
    "print (b.shape)\n",
    "print ('\\n')\n",
    "# 要注意 a 的第一行在 b 中重复出现，因为尺寸变大了\n",
    " \n",
    "print ('修改第二个数组的大小：')\n",
    "b = np.resize(a,(3,3))\n",
    "print (b)"
   ]
  },
  {
   "cell_type": "code",
   "execution_count": 72,
   "metadata": {},
   "outputs": [
    {
     "name": "stdout",
     "output_type": "stream",
     "text": [
      "[[1 2 3]\n",
      " [4 5 6]]\n",
      "向数组添加元素：\n",
      "[1 2 3 4 5 6 7 8 9]\n",
      "\n",
      "\n",
      "沿轴 0 添加元素：\n",
      "[[1 2 3]\n",
      " [4 5 6]\n",
      " [7 8 9]]\n",
      "沿轴 1 添加元素：\n",
      "[[1 2 3 5 5 5]\n",
      " [4 5 6 6 6 6]]\n"
     ]
    }
   ],
   "source": [
    "# numpy.append 函数在数组的末尾添加值。 追加操作会分配整个数组，并把原来的数组复制到新数组中。 \n",
    "# 此外，输入数组的维度必须匹配否则将生成ValueError。\n",
    "# append 函数返回的始终是一个一维数组。\n",
    "import numpy as np\n",
    "a = np.array([[1,2,3],[4,5,6]])\n",
    "print(a)\n",
    "print ('向数组添加元素：')\n",
    "print (np.append(a, [7,8,9]))\n",
    "print ('\\n')\n",
    "print ('沿轴 0 添加元素：')\n",
    "print(np.append(a,[[7,8,9]],axis=0))\n",
    "\n",
    "# print(np.append(a,[[7,8,9]],axis=0))\n",
    "print ('沿轴 1 添加元素：')\n",
    "# print(np.append(a,[[5,5,5],[7,8,9]],axis=1))\n",
    "\n",
    "print(np.append(a,[[5,5,5],[6,6,6]],axis=1))"
   ]
  },
  {
   "cell_type": "code",
   "execution_count": 77,
   "metadata": {},
   "outputs": [
    {
     "name": "stdout",
     "output_type": "stream",
     "text": [
      "第一个数组：\n",
      "[[1 2]\n",
      " [3 4]\n",
      " [5 6]]\n",
      "\n",
      "\n",
      "未传递 Axis 参数。 在插入之前输入数组会被展开。\n",
      "[ 1  2  3 11 12  4  5  6]\n",
      "\n",
      "\n",
      "传递了 Axis 参数。 会广播值数组来配输入数组。\n",
      "沿轴 0 广播：\n",
      "[[ 1  2]\n",
      " [22 33]\n",
      " [ 3  4]\n",
      " [ 5  6]]\n",
      "沿轴 1 广播：\n",
      "[[ 1 11  2]\n",
      " [ 3 11  4]\n",
      " [ 5 11  6]]\n"
     ]
    }
   ],
   "source": [
    "# numpy.insert 函数在给定索引之前，沿给定轴在输入数组中插入值。\n",
    "# 如果值的类型转换为要插入，则它与输入数组不同。 插入没有原地的，函数会返回一个新数组。 此外，如果未提供轴，则输入数组会被展开。\n",
    "import numpy as np\n",
    "a = np.array([[1,2],[3,4],[5,6]])\n",
    "print ('第一个数组：')\n",
    "print (a)\n",
    "print ('\\n')\n",
    "print ('未传递 Axis 参数。 在插入之前输入数组会被展开。')\n",
    "print(np.insert(a,3,[11,12]))\n",
    "print ('\\n')\n",
    "print ('传递了 Axis 参数。 会广播值数组来配输入数组。')\n",
    "print ('沿轴 0 广播：')\n",
    "print(np.insert(a,1,[22,33],axis=0))\n",
    "print ('沿轴 1 广播：')\n",
    "print (np.insert(a,1,11,axis = 1))"
   ]
  },
  {
   "cell_type": "code",
   "execution_count": 81,
   "metadata": {},
   "outputs": [
    {
     "name": "stdout",
     "output_type": "stream",
     "text": [
      "第一个数组：\n",
      "[[ 0  1  2  3]\n",
      " [ 4  5  6  7]\n",
      " [ 8  9 10 11]]\n",
      "\n",
      "\n",
      "未传递 Axis 参数。 在插入之前输入数组会被展开。\n",
      "[ 0  1  2  3  4  6  7  8  9 10 11]\n",
      "\n",
      "\n",
      "删除第二列：\n",
      "[[ 0  2  3]\n",
      " [ 4  6  7]\n",
      " [ 8 10 11]]\n",
      "\n",
      "\n",
      "删除第二行：\n",
      "[[ 0  1  2  3]\n",
      " [ 8  9 10 11]]\n",
      "\n",
      "\n",
      "包含从数组中删除的替代值的切片：\n",
      "[ 2  4  6  8 10]\n"
     ]
    }
   ],
   "source": [
    "# numpy.delete 函数返回从输入数组中删除指定子数组的新数组。 与 insert() 函数的情况一样，如果未提供轴参数，则输入数组将展开。\n",
    "import numpy as np\n",
    " \n",
    "a = np.arange(12).reshape(3,4)\n",
    " \n",
    "print ('第一个数组：')\n",
    "print (a)\n",
    "print ('\\n')\n",
    " \n",
    "print ('未传递 Axis 参数。 在插入之前输入数组会被展开。')\n",
    "print (np.delete(a,5))\n",
    "print ('\\n')\n",
    "print ('删除第二列：')\n",
    "print(np.delete(a,1,axis=1))\n",
    "print ('\\n')\n",
    "print ('删除第二行：')\n",
    "print(np.delete(a,1,axis=0))\n",
    "print ('\\n')\n",
    "\n",
    "print ('包含从数组中删除的替代值的切片：')\n",
    "a = np.array([1,2,3,4,5,6,7,8,9,10])\n",
    "print (np.delete(a, np.s_[::2])) #：：代表从头到尾，间隔为2"
   ]
  },
  {
   "cell_type": "code",
   "execution_count": 82,
   "metadata": {},
   "outputs": [
    {
     "name": "stdout",
     "output_type": "stream",
     "text": [
      "第一个数组：\n",
      "[5 2 6 2 7 5 6 8 2 9]\n",
      "\n",
      "\n",
      "第一个数组的去重值：\n",
      "[2 5 6 7 8 9]\n",
      "\n",
      "\n",
      "去重数组的索引数组：\n",
      "[1 0 2 4 7 9]\n",
      "\n",
      "\n",
      "我们可以看到每个和原数组下标对应的数值：\n",
      "[5 2 6 2 7 5 6 8 2 9]\n",
      "\n",
      "\n",
      "去重数组的下标：\n",
      "[2 5 6 7 8 9]\n",
      "\n",
      "\n",
      "下标为：\n",
      "[1 0 2 0 3 1 2 4 0 5]\n",
      "\n",
      "\n",
      "使用下标重构原数组：\n",
      "[5 2 6 2 7 5 6 8 2 9]\n",
      "\n",
      "\n",
      "返回去重元素的重复数量：\n",
      "[2 5 6 7 8 9]\n",
      "[3 2 2 1 1 1]\n"
     ]
    }
   ],
   "source": [
    "# numpy.unique 函数用于去除数组中的重复元素。\n",
    "import numpy as np\n",
    " \n",
    "a = np.array([5,2,6,2,7,5,6,8,2,9])\n",
    " \n",
    "print ('第一个数组：')\n",
    "print (a)\n",
    "print ('\\n')\n",
    " \n",
    "print ('第一个数组的去重值：')\n",
    "u = np.unique(a)\n",
    "print (u)\n",
    "print ('\\n')\n",
    " \n",
    "print ('去重数组的索引数组：')\n",
    "u,indices = np.unique(a, return_index = True)\n",
    "print (indices)\n",
    "print ('\\n')\n",
    " \n",
    "print ('我们可以看到每个和原数组下标对应的数值：')\n",
    "print (a)\n",
    "print ('\\n')\n",
    " \n",
    "print ('去重数组的下标：')\n",
    "u,indices = np.unique(a,return_inverse = True)\n",
    "print (u)\n",
    "print ('\\n')\n",
    " \n",
    "print ('下标为：')\n",
    "print (indices)\n",
    "print ('\\n')\n",
    " \n",
    "print ('使用下标重构原数组：')\n",
    "print (u[indices])\n",
    "print ('\\n')\n",
    " \n",
    "print ('返回去重元素的重复数量：')\n",
    "u,indices = np.unique(a,return_counts = True)\n",
    "print (u)\n",
    "print (indices)"
   ]
  },
  {
   "cell_type": "code",
   "execution_count": null,
   "metadata": {},
   "outputs": [],
   "source": []
  },
  {
   "cell_type": "code",
   "execution_count": null,
   "metadata": {},
   "outputs": [],
   "source": []
  },
  {
   "cell_type": "code",
   "execution_count": null,
   "metadata": {},
   "outputs": [],
   "source": []
  },
  {
   "cell_type": "code",
   "execution_count": null,
   "metadata": {},
   "outputs": [],
   "source": []
  },
  {
   "cell_type": "code",
   "execution_count": null,
   "metadata": {},
   "outputs": [],
   "source": []
  },
  {
   "cell_type": "code",
   "execution_count": null,
   "metadata": {},
   "outputs": [],
   "source": []
  },
  {
   "cell_type": "code",
   "execution_count": null,
   "metadata": {},
   "outputs": [],
   "source": []
  },
  {
   "cell_type": "code",
   "execution_count": null,
   "metadata": {},
   "outputs": [],
   "source": []
  },
  {
   "cell_type": "code",
   "execution_count": null,
   "metadata": {},
   "outputs": [],
   "source": []
  },
  {
   "cell_type": "code",
   "execution_count": null,
   "metadata": {},
   "outputs": [],
   "source": []
  },
  {
   "cell_type": "code",
   "execution_count": null,
   "metadata": {},
   "outputs": [],
   "source": []
  },
  {
   "cell_type": "code",
   "execution_count": null,
   "metadata": {},
   "outputs": [],
   "source": []
  }
 ],
 "metadata": {
  "kernelspec": {
   "display_name": "Python 3",
   "language": "python",
   "name": "python3"
  },
  "language_info": {
   "codemirror_mode": {
    "name": "ipython",
    "version": 3
   },
   "file_extension": ".py",
   "mimetype": "text/x-python",
   "name": "python",
   "nbconvert_exporter": "python",
   "pygments_lexer": "ipython3",
   "version": "3.7.0"
  }
 },
 "nbformat": 4,
 "nbformat_minor": 2
}
