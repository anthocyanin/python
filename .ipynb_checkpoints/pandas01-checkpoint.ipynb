{
 "cells": [
  {
   "cell_type": "code",
   "execution_count": 6,
   "metadata": {},
   "outputs": [
    {
     "name": "stdout",
     "output_type": "stream",
     "text": [
      "mm    22\n",
      "kk    23\n",
      "pp    34\n",
      "yy    25\n",
      "dtype: int64\n",
      "\n",
      "\n",
      "0    22\n",
      "1    23\n",
      "2    34\n",
      "3    25\n",
      "dtype: int64\n",
      "22\n",
      "\n",
      "\n"
     ]
    }
   ],
   "source": [
    "# creating Series from python list\n",
    "import pandas as pd\n",
    "name=['mm','kk','pp','yy']\n",
    "age=[22,23,34,25]\n",
    "a = pd.Series(age,name)\n",
    "b = pd.Series(age)\n",
    "\n",
    "print(a)\n",
    "print('\\n')\n",
    "print(b)\n",
    "print(a['mm']) # 访问 Series 里的数据的方式，和 Python 字典基本一样：\n",
    "print('\\n')"
   ]
  },
  {
   "cell_type": "code",
   "execution_count": 9,
   "metadata": {},
   "outputs": [
    {
     "name": "stdout",
     "output_type": "stream",
     "text": [
      "0    b'mm'\n",
      "1    b'kk'\n",
      "2    b'pp'\n",
      "3    b'yy'\n",
      "dtype: bytes16\n",
      "\n",
      "\n",
      "0    22\n",
      "1    23\n",
      "2    34\n",
      "3    25\n",
      "dtype: int64\n"
     ]
    }
   ],
   "source": [
    "# creating Series from Numpy array\n",
    "import numpy as np\n",
    "import pandas as pd\n",
    "name=np.array(['mm','kk','pp','yy'],dtype=np.string_)\n",
    "\n",
    "age=np.array([22,23,34,25])\n",
    "\n",
    "a = pd.Series(name)\n",
    "b = pd.Series(age)\n",
    "\n",
    "print(a)\n",
    "print('\\n')\n",
    "print(b)"
   ]
  },
  {
   "cell_type": "code",
   "execution_count": 10,
   "metadata": {},
   "outputs": [
    {
     "name": "stdout",
     "output_type": "stream",
     "text": [
      "a    10\n",
      "b    20\n",
      "c    30\n",
      "d    40\n",
      "dtype: int64\n"
     ]
    }
   ],
   "source": [
    "# creating Series from python dict\n",
    "dict_one = {'a':10,'b':20,'c':30,'d':40} # Pandas 会自动把字典的键值设置成 Series 的 index\n",
    "a = pd.Series(dict_one)\n",
    "print(a)"
   ]
  },
  {
   "cell_type": "code",
   "execution_count": 57,
   "metadata": {},
   "outputs": [
    {
     "name": "stdout",
     "output_type": "stream",
     "text": [
      "DatetimeIndex(['2013-01-01', '2013-01-02', '2013-01-03', '2013-01-04',\n",
      "               '2013-01-05', '2013-01-06'],\n",
      "              dtype='datetime64[ns]', freq='D')\n",
      "\n",
      "\n",
      "                   A         B         C         D\n",
      "2013-01-01 -0.349451 -1.321061 -0.424132  0.559748\n",
      "2013-01-02 -0.487236 -0.714997 -0.552206 -1.080954\n",
      "2013-01-03  0.326626 -1.065438 -0.723318  1.843437\n",
      "2013-01-04 -1.069562  0.221770 -0.127092 -1.290570\n",
      "2013-01-05 -1.133427 -1.381886  2.673911  1.373106\n",
      "2013-01-06 -0.525649  0.106843  1.518344  0.644479\n",
      "========================================\n",
      "                   A         B         C         D\n",
      "2013-01-01 -0.349451 -1.321061 -0.424132  0.559748\n",
      "2013-01-02 -0.487236 -0.714997 -0.552206 -1.080954\n",
      "2013-01-03  0.326626 -1.065438 -0.723318  1.843437\n",
      "2013-01-04 -1.069562  0.221770 -0.127092 -1.290570\n",
      "2013-01-05 -1.133427 -1.381886  2.673911  1.373106\n",
      "========================================\n",
      "                   A         B         C         D\n",
      "2013-01-02 -0.487236 -0.714997 -0.552206 -1.080954\n",
      "2013-01-03  0.326626 -1.065438 -0.723318  1.843437\n",
      "2013-01-04 -1.069562  0.221770 -0.127092 -1.290570\n",
      "2013-01-05 -1.133427 -1.381886  2.673911  1.373106\n",
      "2013-01-06 -0.525649  0.106843  1.518344  0.644479\n",
      "========================================\n",
      "                   A         B         C         D\n",
      "2013-01-04 -1.069562  0.221770 -0.127092 -1.290570\n",
      "2013-01-05 -1.133427 -1.381886  2.673911  1.373106\n",
      "2013-01-06 -0.525649  0.106843  1.518344  0.644479\n"
     ]
    }
   ],
   "source": [
    "import numpy as np \n",
    "import pandas as pd\n",
    "\n",
    "dates = pd.date_range('20130101', periods=6)\n",
    "print(dates)\n",
    "print('\\n')\n",
    "df = pd.DataFrame(np.random.randn(6,4), index=dates, columns=list('ABCD')) # 6行4列，索引为dates，列名称分别为ABCD\n",
    "print(df)\n",
    "print(10*'====')\n",
    "print(df.head()) # 查看前5行\n",
    "print(10*'====')\n",
    "print(df.tail()) # 查看后5行\n",
    "print(10*'====')\n",
    "print(df.tail(3)) # 查看指定后几行"
   ]
  },
  {
   "cell_type": "code",
   "execution_count": 27,
   "metadata": {},
   "outputs": [
    {
     "name": "stdout",
     "output_type": "stream",
     "text": [
      "              A         B         C         D\n",
      "count  6.000000  6.000000  6.000000  6.000000\n",
      "mean   0.362920  0.111082 -0.398423  0.394174\n",
      "std    1.513359  0.594135  1.089509  1.033947\n",
      "min   -1.501581 -0.610544 -2.298700 -1.326919\n",
      "25%   -0.824666 -0.381581 -0.769687 -0.022558\n",
      "50%    0.484188  0.173101 -0.131602  0.639029\n",
      "75%    1.401197  0.561933  0.414417  0.935180\n",
      "max    2.264809  0.805763  0.557324  1.623092\n"
     ]
    }
   ],
   "source": [
    "# 描述性显示关于数据的简短统计摘要\n",
    "print(df.describe())"
   ]
  },
  {
   "cell_type": "code",
   "execution_count": 28,
   "metadata": {},
   "outputs": [
    {
     "name": "stdout",
     "output_type": "stream",
     "text": [
      "   2013-01-01  2013-01-02  2013-01-03  2013-01-04  2013-01-05  2013-01-06\n",
      "A   -1.501581    2.264809    0.421779   -1.240148    0.546597    1.686063\n",
      "B    0.585587    0.490970   -0.460519   -0.144767   -0.610544    0.805763\n",
      "C   -2.298700   -0.535680   -0.847689    0.461731    0.272476    0.557324\n",
      "D    1.623092   -0.210146    1.000955    0.540205   -1.326919    0.737853\n"
     ]
    }
   ],
   "source": [
    "# 转置\n",
    "print(df.T)"
   ]
  },
  {
   "cell_type": "code",
   "execution_count": 30,
   "metadata": {},
   "outputs": [
    {
     "name": "stdout",
     "output_type": "stream",
     "text": [
      "                   D         C         B         A\n",
      "2013-01-01  1.623092 -2.298700  0.585587 -1.501581\n",
      "2013-01-02 -0.210146 -0.535680  0.490970  2.264809\n",
      "2013-01-03  1.000955 -0.847689 -0.460519  0.421779\n",
      "2013-01-04  0.540205  0.461731 -0.144767 -1.240148\n",
      "2013-01-05 -1.326919  0.272476 -0.610544  0.546597\n",
      "2013-01-06  0.737853  0.557324  0.805763  1.686063\n",
      "\n",
      "注意sort_index和sort_values的区别\n",
      "                   A         B         C         D\n",
      "2013-01-06  1.686063  0.805763  0.557324  0.737853\n",
      "2013-01-01 -1.501581  0.585587 -2.298700  1.623092\n",
      "2013-01-02  2.264809  0.490970 -0.535680 -0.210146\n",
      "2013-01-04 -1.240148 -0.144767  0.461731  0.540205\n",
      "2013-01-03  0.421779 -0.460519 -0.847689  1.000955\n",
      "2013-01-05  0.546597 -0.610544  0.272476 -1.326919\n"
     ]
    }
   ],
   "source": [
    "# 通过轴来分类你的数据（相当于排序，axis=1可以理解为分类列名，=0则为索引名）\n",
    "print(df.sort_index(axis=1, ascending=False)) # sort_index--根据索引排序，axis=1代表横轴，ascending=False代表降序。\n",
    "print('\\n注意sort_index和sort_values的区别')\n",
    "print(df.sort_values(axis=0,by='B',ascending=False)) # sort_values--根据值来排序，axis=0代表竖轴，ascending=False代表降序。"
   ]
  },
  {
   "cell_type": "markdown",
   "metadata": {},
   "source": [
    "## 获取数据\n",
    "- 我们比较推荐最优化的pandas数据获取方法， \n",
    "- 例如.at, .iat, .loc, .iloc and .ix。"
   ]
  },
  {
   "cell_type": "code",
   "execution_count": 34,
   "metadata": {},
   "outputs": [
    {
     "name": "stdout",
     "output_type": "stream",
     "text": [
      "2013-01-01   -1.501581\n",
      "2013-01-02    2.264809\n",
      "2013-01-03    0.421779\n",
      "2013-01-04   -1.240148\n",
      "2013-01-05    0.546597\n",
      "2013-01-06    1.686063\n",
      "Freq: D, Name: A, dtype: float64\n",
      "\n",
      "\n",
      "                   A         B         C         D\n",
      "2013-01-01 -1.501581  0.585587 -2.298700  1.623092\n",
      "2013-01-02  2.264809  0.490970 -0.535680 -0.210146\n",
      "2013-01-03  0.421779 -0.460519 -0.847689  1.000955\n",
      "\n",
      "\n",
      "                   A         B         C         D\n",
      "2013-01-02  2.264809  0.490970 -0.535680 -0.210146\n",
      "2013-01-03  0.421779 -0.460519 -0.847689  1.000955\n",
      "2013-01-04 -1.240148 -0.144767  0.461731  0.540205\n"
     ]
    }
   ],
   "source": [
    "print(df['A']) # 像访问Python 字典一样\n",
    "print('\\n')\n",
    "print(df[0:3]) #根据顺序通过切片方式访问，前0-3不含3行数据。\n",
    "print('\\n')\n",
    "print(df['20130102':'20130104']) # 根据索引访问数据。2013-2，3，4"
   ]
  },
  {
   "cell_type": "markdown",
   "metadata": {},
   "source": [
    "## 由标签获取数据\n",
    "- 用标签来截取一行数据\n",
    "- 在多个轴上通过标签来选取数据\n",
    "- 同时用标签切片和标签名索引来获取数据\n",
    "- 对返回的对象的维度进行减少维度\n",
    "- 更快地获取标量值（效果相当于前一个方法）"
   ]
  },
  {
   "cell_type": "code",
   "execution_count": 41,
   "metadata": {},
   "outputs": [
    {
     "name": "stdout",
     "output_type": "stream",
     "text": [
      "A   -1.501581\n",
      "B    0.585587\n",
      "C   -2.298700\n",
      "D    1.623092\n",
      "Name: 2013-01-01 00:00:00, dtype: float64\n",
      "\n",
      "\n",
      "                   A         B\n",
      "2013-01-01 -1.501581  0.585587\n",
      "2013-01-02  2.264809  0.490970\n",
      "2013-01-03  0.421779 -0.460519\n",
      "2013-01-04 -1.240148 -0.144767\n",
      "2013-01-05  0.546597 -0.610544\n",
      "2013-01-06  1.686063  0.805763\n",
      "\n",
      "\n",
      "                   A         B\n",
      "2013-01-03  0.421779 -0.460519\n",
      "2013-01-04 -1.240148 -0.144767\n",
      "2013-01-05  0.546597 -0.610544\n",
      "\n",
      "\n",
      "-1.5015810915230863\n",
      "\n",
      "\n",
      "-1.5015810915230863\n"
     ]
    }
   ],
   "source": [
    "print(df.loc[dates[0]]) # 因为索引标签为dates，所以dates[0]代表第一行。\n",
    "print('\\n')\n",
    "print(df.loc[:,['A','B']]) # 在多个轴上通过标签来选取数据--从头到尾，选取A，B两列\n",
    "print('\\n')\n",
    "print(df.loc['20130103':'20130105',['A','B']]) # 同时用标签切片和标签名索引来获取数据--20130103到20130105，A，B两列数据\n",
    "print('\\n')\n",
    "print(df.loc[dates[0],'A'])\n",
    "print('\\n')\n",
    "print(df.at[dates[0],'A'])"
   ]
  },
  {
   "cell_type": "markdown",
   "metadata": {},
   "source": [
    "## 通过位置进行索引\n",
    "- 通过合适的整数来代表位置进行索引\n",
    "- 与numpy/python相似的操作，整数切片来获取数据\n",
    "- 通过含有代表位置的整数列表来获取数据，与numpy/python的风格相似\n",
    "- 显式切片索引行\n",
    "- 显式索引数据值"
   ]
  },
  {
   "cell_type": "code",
   "execution_count": 52,
   "metadata": {},
   "outputs": [
    {
     "name": "stdout",
     "output_type": "stream",
     "text": [
      "A   -1.240148\n",
      "B   -0.144767\n",
      "C    0.461731\n",
      "D    0.540205\n",
      "Name: 2013-01-04 00:00:00, dtype: float64\n",
      "\n",
      "\n",
      "                   A         B\n",
      "2013-01-01 -1.501581  0.585587\n",
      "2013-01-02  2.264809  0.490970\n",
      "2013-01-03  0.421779 -0.460519\n",
      "\n",
      "\n",
      "                   A         C\n",
      "2013-01-02  2.264809 -0.535680\n",
      "2013-01-03  0.421779 -0.847689\n",
      "2013-01-05  0.546597  0.272476\n"
     ]
    }
   ],
   "source": [
    "print(df.iloc[3]) # 通过适合的整数来代表位置进行索引--访问的是顺序索引值为3的那一行数据。\n",
    "print('\\n')\n",
    "print(df.iloc[0:3,0:2]) # 与numpy/python相似的操作，整数切片来获取数据--访问的是0-3行，0-2列数据\n",
    "print('\\n')\n",
    "print(df.iloc[[1,2,4],[0,2]]) # 通过含有代表位置的整数列表来获取数据，与numpy/python的风格相似--访问的是1,2,4行，0，2列数据\n"
   ]
  },
  {
   "cell_type": "code",
   "execution_count": 56,
   "metadata": {},
   "outputs": [
    {
     "name": "stdout",
     "output_type": "stream",
     "text": [
      "                   A         B         C         D\n",
      "2013-01-01 -1.501581  0.585587 -2.298700  1.623092\n",
      "2013-01-02  2.264809  0.490970 -0.535680 -0.210146\n",
      "2013-01-03  0.421779 -0.460519 -0.847689  1.000955\n",
      "\n",
      "\n",
      "                   B         C\n",
      "2013-01-01  0.585587 -2.298700\n",
      "2013-01-02  0.490970 -0.535680\n",
      "2013-01-03 -0.460519 -0.847689\n",
      "2013-01-04 -0.144767  0.461731\n",
      "2013-01-05 -0.610544  0.272476\n",
      "2013-01-06  0.805763  0.557324\n",
      "\n",
      "\n",
      "0.4909697416868359\n",
      "\n",
      "\n",
      "0.4909697416868359\n"
     ]
    }
   ],
   "source": [
    "print(df.iloc[0:3,:]) # 显示切片索引行\n",
    "print('\\n')\n",
    "print(df.iloc[:,1:3]) # 显示切片索引列\n",
    "print('\\n')\n",
    "print(df.iloc[1,1])\n",
    "print('\\n')\n",
    "print(df.iat[1,1])"
   ]
  },
  {
   "cell_type": "markdown",
   "metadata": {},
   "source": [
    "## 布尔值索引\n",
    "- 使用单一的列的值来选取数据\n",
    "- 从给出布尔条件的数据框来获取数据\n",
    "- 使用isin()方法来过滤数据"
   ]
  },
  {
   "cell_type": "code",
   "execution_count": 60,
   "metadata": {},
   "outputs": [
    {
     "name": "stdout",
     "output_type": "stream",
     "text": [
      "                   A         B         C         D\n",
      "2013-01-04 -1.069562  0.221770 -0.127092 -1.290570\n",
      "2013-01-06 -0.525649  0.106843  1.518344  0.644479\n",
      "\n",
      "\n",
      "                   A         B         C         D\n",
      "2013-01-01       NaN       NaN       NaN  0.559748\n",
      "2013-01-02       NaN       NaN       NaN       NaN\n",
      "2013-01-03  0.326626       NaN       NaN  1.843437\n",
      "2013-01-04       NaN  0.221770       NaN       NaN\n",
      "2013-01-05       NaN       NaN  2.673911  1.373106\n",
      "2013-01-06       NaN  0.106843  1.518344  0.644479\n"
     ]
    }
   ],
   "source": [
    "print(df[df.B>0]) # 相当于Excel筛选。B列值大于0\n",
    "print('\\n')\n",
    "print(df[df>0]) # 从给出布尔条件的数据框来获取数据"
   ]
  },
  {
   "cell_type": "code",
   "execution_count": 62,
   "metadata": {},
   "outputs": [
    {
     "name": "stdout",
     "output_type": "stream",
     "text": [
      "                   A         B         C         D      E\n",
      "2013-01-01 -0.349451 -1.321061 -0.424132  0.559748    one\n",
      "2013-01-02 -0.487236 -0.714997 -0.552206 -1.080954    one\n",
      "2013-01-03  0.326626 -1.065438 -0.723318  1.843437    two\n",
      "2013-01-04 -1.069562  0.221770 -0.127092 -1.290570  three\n",
      "2013-01-05 -1.133427 -1.381886  2.673911  1.373106   four\n",
      "2013-01-06 -0.525649  0.106843  1.518344  0.644479  three\n",
      "\n",
      "\n",
      "                   A         B         C         D     E\n",
      "2013-01-01 -0.349451 -1.321061 -0.424132  0.559748   one\n",
      "2013-01-02 -0.487236 -0.714997 -0.552206 -1.080954   one\n",
      "2013-01-05 -1.133427 -1.381886  2.673911  1.373106  four\n"
     ]
    }
   ],
   "source": [
    "df3 = df.copy()\n",
    "df3['E'] = ['one','one','two','three','four','three']\n",
    "print(df3)\n",
    "print('\\n')\n",
    "print(df3[df3['E'].isin(['one','four'])]) # 筛选出E列里面值为one，four的所有数据"
   ]
  },
  {
   "cell_type": "code",
   "execution_count": null,
   "metadata": {},
   "outputs": [],
   "source": []
  },
  {
   "cell_type": "code",
   "execution_count": null,
   "metadata": {},
   "outputs": [],
   "source": []
  },
  {
   "cell_type": "code",
   "execution_count": null,
   "metadata": {},
   "outputs": [],
   "source": []
  },
  {
   "cell_type": "code",
   "execution_count": null,
   "metadata": {},
   "outputs": [],
   "source": []
  },
  {
   "cell_type": "code",
   "execution_count": null,
   "metadata": {},
   "outputs": [],
   "source": []
  },
  {
   "cell_type": "code",
   "execution_count": null,
   "metadata": {},
   "outputs": [],
   "source": []
  },
  {
   "cell_type": "code",
   "execution_count": null,
   "metadata": {},
   "outputs": [],
   "source": []
  },
  {
   "cell_type": "code",
   "execution_count": null,
   "metadata": {},
   "outputs": [],
   "source": []
  },
  {
   "cell_type": "code",
   "execution_count": null,
   "metadata": {},
   "outputs": [],
   "source": []
  },
  {
   "cell_type": "code",
   "execution_count": null,
   "metadata": {},
   "outputs": [],
   "source": []
  },
  {
   "cell_type": "code",
   "execution_count": 25,
   "metadata": {},
   "outputs": [
    {
     "name": "stdout",
     "output_type": "stream",
     "text": [
      "     a          b    c  d      e    f\n",
      "0  1.0 2013-01-02  1.0  3   test  foo\n",
      "1  1.0 2013-01-02  1.0  3  train  foo\n",
      "2  1.0 2013-01-02  1.0  3   test  foo\n",
      "3  1.0 2013-01-02  1.0  3  train  foo\n",
      "\n",
      "\n",
      "a           float64\n",
      "b    datetime64[ns]\n",
      "c           float32\n",
      "d             int32\n",
      "e          category\n",
      "f            object\n",
      "dtype: object\n",
      "\n",
      "\n",
      "========================================\n",
      "Int64Index([0, 1, 2, 3], dtype='int64')\n",
      "========================================\n",
      "Index(['a', 'b', 'c', 'd', 'e', 'f'], dtype='object')\n",
      "========================================\n",
      "[[1.0 Timestamp('2013-01-02 00:00:00') 1.0 3 'test' 'foo']\n",
      " [1.0 Timestamp('2013-01-02 00:00:00') 1.0 3 'train' 'foo']\n",
      " [1.0 Timestamp('2013-01-02 00:00:00') 1.0 3 'test' 'foo']\n",
      " [1.0 Timestamp('2013-01-02 00:00:00') 1.0 3 'train' 'foo']]\n"
     ]
    }
   ],
   "source": [
    "#用包含对象的字典创建一个数据框，该方法与创建Series的方法相似。\n",
    "import numpy as np \n",
    "import pandas as pd\n",
    "df2 = pd.DataFrame({\n",
    "    'a':1.,\n",
    "    'b':pd.Timestamp('20130102'),\n",
    "    'c':pd.Series(1,index=list(range(4)),dtype='float32'),\n",
    "    'd':np.array([3]*4,dtype='int32'),\n",
    "    'e':pd.Categorical(['test','train','test','train']),\n",
    "    'f':'foo'\n",
    "})\n",
    "print(df2)\n",
    "print('\\n')\n",
    "print(df2.dtypes)\n",
    "print('\\n')\n",
    "# 显示数据框的索引，列名和值。\n",
    "print(10*'====')\n",
    "print(df2.index)\n",
    "print(10*'====')\n",
    "print(df2.columns)\n",
    "print(10*'====')\n",
    "print(df2.values)"
   ]
  },
  {
   "cell_type": "code",
   "execution_count": null,
   "metadata": {},
   "outputs": [],
   "source": []
  },
  {
   "cell_type": "code",
   "execution_count": null,
   "metadata": {},
   "outputs": [],
   "source": []
  },
  {
   "cell_type": "code",
   "execution_count": null,
   "metadata": {},
   "outputs": [],
   "source": []
  },
  {
   "cell_type": "code",
   "execution_count": null,
   "metadata": {},
   "outputs": [],
   "source": []
  },
  {
   "cell_type": "code",
   "execution_count": null,
   "metadata": {},
   "outputs": [],
   "source": []
  },
  {
   "cell_type": "code",
   "execution_count": null,
   "metadata": {},
   "outputs": [],
   "source": []
  },
  {
   "cell_type": "code",
   "execution_count": null,
   "metadata": {},
   "outputs": [],
   "source": []
  },
  {
   "cell_type": "code",
   "execution_count": null,
   "metadata": {},
   "outputs": [],
   "source": []
  },
  {
   "cell_type": "code",
   "execution_count": null,
   "metadata": {},
   "outputs": [],
   "source": []
  },
  {
   "cell_type": "code",
   "execution_count": null,
   "metadata": {},
   "outputs": [],
   "source": []
  }
 ],
 "metadata": {
  "kernelspec": {
   "display_name": "Python 3",
   "language": "python",
   "name": "python3"
  },
  "language_info": {
   "codemirror_mode": {
    "name": "ipython",
    "version": 3
   },
   "file_extension": ".py",
   "mimetype": "text/x-python",
   "name": "python",
   "nbconvert_exporter": "python",
   "pygments_lexer": "ipython3",
   "version": "3.7.0"
  }
 },
 "nbformat": 4,
 "nbformat_minor": 2
}
