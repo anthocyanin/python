{
 "cells": [
  {
   "cell_type": "markdown",
   "metadata": {},
   "source": [
    "## NumPy 位运算\n",
    "- NumPy \"bitwise_\" 开头的函数是位运算函数。\n",
    "- NumPy         位运算包括以下几个函数：\n",
    "- bitwise_and\t对数组元素执行位与操作\n",
    "- bitwise_or\t对数组元素执行位或操作\n",
    "- invert\t    按位取反\n",
    "- left_shift\t向左移动二进制表示的位\n",
    "- right_shift\t向右移动二进制表示的位"
   ]
  },
  {
   "cell_type": "code",
   "execution_count": 3,
   "metadata": {},
   "outputs": [
    {
     "name": "stdout",
     "output_type": "stream",
     "text": [
      "13 和 17 的二进制形式：\n",
      "0b1101 0b10001\n",
      "\n",
      "\n",
      "1\n",
      "\n",
      "\n",
      "29\n"
     ]
    }
   ],
   "source": [
    "import numpy as np \n",
    "print ('13 和 17 的二进制形式：')\n",
    "a,b=13,17\n",
    "print(bin(a),bin(b))\n",
    "print('\\n')\n",
    "print(np.bitwise_and(a,b)) # 位与操作运算规律如下：1-1=1,其他都为0\n",
    "print('\\n')\n",
    "print(np.bitwise_or(a,b)) # 位或操作运算规律如下：0-0=0,其他都为1\n"
   ]
  },
  {
   "cell_type": "code",
   "execution_count": 6,
   "metadata": {},
   "outputs": [
    {
     "name": "stdout",
     "output_type": "stream",
     "text": [
      "13 的位反转，其中 ndarray 的 dtype 是 uint8：\n",
      "[242]\n",
      "13 的二进制表示：\n",
      "00001101\n",
      "\n",
      "\n",
      "11110010\n"
     ]
    }
   ],
   "source": [
    "import numpy as np \n",
    "print ('13 的位反转，其中 ndarray 的 dtype 是 uint8：')\n",
    "print(np.invert(np.array([13],dtype=np.uint8)))\n",
    "print ('13 的二进制表示：')\n",
    "print(np.binary_repr(13,width=8))\n",
    "print('\\n')\n",
    "print(np.binary_repr(242,width=8))"
   ]
  },
  {
   "cell_type": "code",
   "execution_count": 7,
   "metadata": {},
   "outputs": [
    {
     "name": "stdout",
     "output_type": "stream",
     "text": [
      "将 10 左移两位：\n",
      "40\n",
      "\n",
      "\n",
      "00001010\n",
      "\n",
      "\n",
      "00101000\n"
     ]
    }
   ],
   "source": [
    "# left_shift() 函数将数组元素的二进制形式向左移动到指定位置，右侧附加相等数量的 0。\n",
    "import numpy as np \n",
    "print ('将 10 左移两位：')\n",
    "print(np.left_shift(10,2))\n",
    "print('\\n')\n",
    "print(np.binary_repr(10,width=8))\n",
    "print('\\n')\n",
    "print(np.binary_repr(40,width=8))"
   ]
  },
  {
   "cell_type": "code",
   "execution_count": 10,
   "metadata": {},
   "outputs": [
    {
     "name": "stdout",
     "output_type": "stream",
     "text": [
      "将 40 右移两位：\n",
      "10\n",
      "\n",
      "\n",
      "00001010\n",
      "\n",
      "\n",
      "00101000\n"
     ]
    }
   ],
   "source": [
    "# right_shift() 函数将数组元素的二进制形式向右移动到指定位置，左侧附加相等数量的 0。\n",
    "import numpy as np \n",
    "print ('将 40 右移两位：')\n",
    "print(np.right_shift(40,2))\n",
    "print('\\n')\n",
    "print(np.binary_repr(10,width=8))\n",
    "print('\\n')\n",
    "print(np.binary_repr(40,width=8))"
   ]
  },
  {
   "cell_type": "markdown",
   "metadata": {},
   "source": [
    "## NumPy 字符串函数\n",
    "- 以下函数用于对 dtype 为 numpy.string_ 或 numpy.unicode_ 的数组执行向量化字符串操作。 \n",
    "- 它们基于 Python 内置库中的标准字符串函数。\n",
    "- 这些函数在字符数组类（numpy.char）中定义\n",
    "    - add()\t        对两个数组的逐个字符串元素进行连接\n",
    "    - multiply()\t返回按元素多重连接后的字符串\n",
    "    - center()\t    居中字符串\n",
    "    - capitalize()\t将字符串第一个字母转换为大写\n",
    "    - title()\t    将字符串的每个单词的第一个字母转换为大写\n",
    "    - lower()\t    数组元素转换为小写\n",
    "    - upper()\t    数组元素转换为大写\n",
    "    - split()\t    指定分隔符对字符串进行分割，并返回数组列表\n",
    "    - splitlines()\t返回元素中的行列表，以换行符分割\n",
    "    - strip()\t    移除元素开头或者结尾处的特定字符\n",
    "    - join()\t    通过指定分隔符来连接数组中的元素\n",
    "    - replace()\t    使用新字符串替换字符串中的所有子字符串\n",
    "    - decode()\t    数组元素依次调用str.decode\n",
    "    - encode()\t    数组元素依次调用str.encode"
   ]
  },
  {
   "cell_type": "code",
   "execution_count": 11,
   "metadata": {},
   "outputs": [
    {
     "name": "stdout",
     "output_type": "stream",
     "text": [
      "连接两个字符串：\n",
      "['hello xyz']\n",
      "\n",
      "\n",
      "连接示例：\n",
      "['hello abc' 'hi xyz']\n"
     ]
    }
   ],
   "source": [
    "# numpy.char.add() 函数依次对两个数组的元素进行字符串连接。\n",
    "import numpy as np \n",
    " \n",
    "print ('连接两个字符串：')\n",
    "print (np.char.add(['hello'],[' xyz']))\n",
    "print ('\\n')\n",
    " \n",
    "print ('连接示例：')\n",
    "print (np.char.add(['hello', 'hi'],[' abc', ' xyz']))"
   ]
  },
  {
   "cell_type": "code",
   "execution_count": 12,
   "metadata": {},
   "outputs": [
    {
     "name": "stdout",
     "output_type": "stream",
     "text": [
      "Runoob Runoob Runoob \n"
     ]
    }
   ],
   "source": [
    "# numpy.char.multiply() 函数执行多重连接。\n",
    "import numpy as np \n",
    "print (np.char.multiply('Runoob ',3))"
   ]
  },
  {
   "cell_type": "code",
   "execution_count": 16,
   "metadata": {},
   "outputs": [
    {
     "name": "stdout",
     "output_type": "stream",
     "text": [
      ">>>>>>>Runoob>>>>>>>\n",
      "Runoob\n"
     ]
    }
   ],
   "source": [
    "# numpy.char.center() 函数用于将字符串居中，并使用指定字符在左侧和右侧进行填充。\n",
    "import numpy as np\n",
    "print(np.char.center('Runoob',20,fillchar='>'))\n",
    "print (np.char.capitalize('runoob'))\n"
   ]
  },
  {
   "cell_type": "code",
   "execution_count": 20,
   "metadata": {},
   "outputs": [
    {
     "name": "stdout",
     "output_type": "stream",
     "text": [
      "I Like Runoob\n",
      "google runoob\n",
      "GOOGLE RUNOOB\n"
     ]
    }
   ],
   "source": [
    "# numpy.char.title() 函数将字符串的每个单词的第一个字母转换为大写：\n",
    "import numpy as np\n",
    "print (np.char.title('i like runoob')) # 单词首字母大写\n",
    "print (np.char.lower('Google Runoob')) # 单词字母小写\n",
    "print (np.char.upper('Google Runoob')) # 单词字母大写"
   ]
  },
  {
   "cell_type": "code",
   "execution_count": 21,
   "metadata": {},
   "outputs": [
    {
     "name": "stdout",
     "output_type": "stream",
     "text": [
      "['i', 'like', 'runoob?']\n",
      "['www', 'runoob', 'com']\n"
     ]
    }
   ],
   "source": [
    "# numpy.char.split() 通过指定分隔符对字符串进行分割，并返回数组。默认情况下，分隔符为空格。\n",
    "import numpy as np \n",
    " \n",
    "# 分隔符默认为空格\n",
    "print (np.char.split ('i like runoob?'))\n",
    "# 分隔符为 .\n",
    "print (np.char.split ('www.runoob.com', sep = '.'))"
   ]
  },
  {
   "cell_type": "code",
   "execution_count": 22,
   "metadata": {},
   "outputs": [
    {
     "name": "stdout",
     "output_type": "stream",
     "text": [
      "['i', 'like runoob?']\n",
      "['i', 'like runoob?']\n"
     ]
    }
   ],
   "source": [
    "# numpy.char.splitlines() 函数以换行符作为分隔符来分割字符串，并返回数组。\n",
    "import numpy as np \n",
    "# 换行符 \\n\n",
    "print (np.char.splitlines('i\\nlike runoob?')) \n",
    "print (np.char.splitlines('i\\rlike runoob?'))"
   ]
  },
  {
   "cell_type": "code",
   "execution_count": 27,
   "metadata": {},
   "outputs": [
    {
     "name": "stdout",
     "output_type": "stream",
     "text": [
      "  ashok arunooba  \n",
      "ashok arunooba\n",
      "shok arunoob\n",
      "['runoob' 'dmin' 'jav']\n"
     ]
    }
   ],
   "source": [
    "# numpy.char.strip() 函数用于移除开头或结尾处的特定字符。\n",
    "import numpy as np \n",
    "\n",
    "print ('  ashok arunooba  ')\n",
    "# 默认情况下移除字符串头尾的空格字符\n",
    "print (np.char.strip('  ashok arunooba  '))\n",
    "\n",
    "# 移除字符串头尾的 a 字符\n",
    "print (np.char.strip('ashok arunooba','a'))\n",
    " \n",
    "# 移除数组元素头尾的 a 字符\n",
    "print (np.char.strip(['arunooba','admin','java'],'a'))"
   ]
  },
  {
   "cell_type": "code",
   "execution_count": 28,
   "metadata": {},
   "outputs": [
    {
     "name": "stdout",
     "output_type": "stream",
     "text": [
      "r:u:n:o:o:b\n",
      "['r:u:n:o:o:b' 'g-o-o-g-l-e']\n"
     ]
    }
   ],
   "source": [
    "# numpy.char.join() 函数通过指定分隔符来连接数组中的元素或字符串\n",
    "import numpy as np \n",
    " \n",
    "# 操作字符串\n",
    "print (np.char.join(':','runoob'))\n",
    " \n",
    "# 指定多个分隔符操作数组元素\n",
    "print (np.char.join([':','-'],['runoob','google']))\n"
   ]
  },
  {
   "cell_type": "code",
   "execution_count": 29,
   "metadata": {},
   "outputs": [
    {
     "name": "stdout",
     "output_type": "stream",
     "text": [
      "i like runccb\n"
     ]
    }
   ],
   "source": [
    "# numpy.char.replace() 函数使用新字符串替换字符串中的所有子字符串。\n",
    "import numpy as np \n",
    " \n",
    "print (np.char.replace ('i like runoob', 'oo', 'cc')) # 要替换对象，对象里的哪一部分，替换成什么 "
   ]
  },
  {
   "cell_type": "code",
   "execution_count": 31,
   "metadata": {},
   "outputs": [
    {
     "name": "stdout",
     "output_type": "stream",
     "text": [
      "b'\\x99\\xa4\\x95\\x96\\x96\\x82'\n",
      "runoob\n"
     ]
    }
   ],
   "source": [
    "# numpy.char.encode() 函数对数组中的每个元素调用 str.encode 函数。 默认编码是 utf-8，可以使用标准 Python 库中的编解码器。\n",
    "# numpy.char.decode() 函数对编码的元素进行 str.decode() 解码。\n",
    "a = np.char.encode('runoob','cp500')\n",
    "print(a)\n",
    "print(np.char.decode(a,'cp500'))"
   ]
  },
  {
   "cell_type": "markdown",
   "metadata": {},
   "source": [
    "## NumPy 数学函数\n",
    "- NumPy 包含大量的各种数学运算的函数，包括三角函数，算术运算的函数，复数处理函数等。\n",
    "- NumPy 提供了标准的三角函数：sin()、cos()、tan()。"
   ]
  },
  {
   "cell_type": "code",
   "execution_count": 32,
   "metadata": {},
   "outputs": [
    {
     "name": "stdout",
     "output_type": "stream",
     "text": [
      "不同角度的正弦值：\n",
      "[0.         0.5        0.70710678 0.8660254  1.        ]\n",
      "\n",
      "\n",
      "数组中角度的余弦值：\n",
      "[1.00000000e+00 8.66025404e-01 7.07106781e-01 5.00000000e-01\n",
      " 6.12323400e-17]\n",
      "\n",
      "\n",
      "数组中角度的正切值：\n",
      "[0.00000000e+00 5.77350269e-01 1.00000000e+00 1.73205081e+00\n",
      " 1.63312394e+16]\n"
     ]
    }
   ],
   "source": [
    "import numpy as np\n",
    " \n",
    "a = np.array([0,30,45,60,90])\n",
    "print ('不同角度的正弦值：')\n",
    "# 通过乘 pi/180 转化为弧度  \n",
    "print (np.sin(a*np.pi/180))\n",
    "print ('\\n')\n",
    "print ('数组中角度的余弦值：')\n",
    "print (np.cos(a*np.pi/180))\n",
    "print ('\\n')\n",
    "print ('数组中角度的正切值：')\n",
    "print (np.tan(a*np.pi/180))"
   ]
  },
  {
   "cell_type": "code",
   "execution_count": 34,
   "metadata": {},
   "outputs": [
    {
     "name": "stdout",
     "output_type": "stream",
     "text": [
      "含有正弦值的数组：\n",
      "[0.         0.5        0.70710678 0.8660254  1.        ]\n",
      "\n",
      "\n",
      "计算角度的反正弦，返回值以弧度为单位：\n",
      "[0.         0.52359878 0.78539816 1.04719755 1.57079633]\n",
      "\n",
      "\n",
      "通过转化为角度制来检查结果：\n",
      "[ 0. 30. 45. 60. 90.]\n",
      "\n",
      "\n",
      "arccos 和 arctan 函数行为类似：\n"
     ]
    }
   ],
   "source": [
    "import numpy as np\n",
    "a = np.array([0,30,45,60,90])  \n",
    "print ('含有正弦值的数组：')\n",
    "sin = np.sin(a*np.pi/180)  \n",
    "print (sin)\n",
    "print ('\\n')\n",
    "print ('计算角度的反正弦，返回值以弧度为单位：')\n",
    "inv = np.arcsin(sin)  \n",
    "print (inv)\n",
    "print ('\\n')\n",
    "print ('通过转化为角度制来检查结果：')\n",
    "print (np.degrees(inv))\n",
    "print ('\\n')\n",
    "print ('arccos 和 arctan 函数行为类似：')\n"
   ]
  },
  {
   "cell_type": "code",
   "execution_count": 39,
   "metadata": {},
   "outputs": [
    {
     "name": "stdout",
     "output_type": "stream",
     "text": [
      "[1.00000000e+00 8.66025404e-01 7.07106781e-01 5.00000000e-01\n",
      " 6.12323400e-17]\n",
      "\n",
      "\n",
      "反余弦：\n",
      "[0.         0.52359878 0.78539816 1.04719755 1.57079633]\n",
      "\n",
      "\n",
      "角度制单位：\n",
      "[ 0. 30. 45. 60. 90.]\n",
      "\n",
      "\n",
      "tan 函数：\n",
      "[0.00000000e+00 5.77350269e-01 1.00000000e+00 1.73205081e+00\n",
      " 1.63312394e+16]\n",
      "\n",
      "\n",
      "反正切：\n",
      "[0.         0.52359878 0.78539816 1.04719755 1.57079633]\n",
      "\n",
      "\n",
      "角度制单位：\n",
      "[ 0. 30. 45. 60. 90.]\n"
     ]
    }
   ],
   "source": [
    "import numpy as np\n",
    "a = np.array([0,30,45,60,90])  \n",
    "cos = np.cos(a*np.pi/180)  \n",
    "print (cos)\n",
    "print ('\\n')\n",
    "print ('反余弦：')\n",
    "inv = np.arccos(cos)  \n",
    "print (inv)\n",
    "print ('\\n')\n",
    "print ('角度制单位：')\n",
    "print (np.degrees(inv))\n",
    "print ('\\n')\n",
    "print ('tan 函数：')\n",
    "tan = np.tan(a*np.pi/180)  \n",
    "print (tan)\n",
    "print ('\\n')\n",
    "print ('反正切：')\n",
    "inv = np.arctan(tan)  \n",
    "print (inv)\n",
    "print ('\\n')\n",
    "print ('角度制单位：')\n",
    "print (np.degrees(inv))"
   ]
  },
  {
   "cell_type": "code",
   "execution_count": 40,
   "metadata": {},
   "outputs": [
    {
     "name": "stdout",
     "output_type": "stream",
     "text": [
      "原数组：\n",
      "[  1.      5.55  123.      0.567  25.532]\n",
      "\n",
      "\n",
      "舍入后：\n",
      "[  1.   6. 123.   1.  26.]\n",
      "[  1.    5.6 123.    0.6  25.5]\n",
      "[  0.  10. 120.   0.  30.]\n"
     ]
    }
   ],
   "source": [
    "import numpy as np\n",
    "a = np.array([1.0,5.55,  123,  0.567,  25.532])  \n",
    "print  ('原数组：')\n",
    "print (a)\n",
    "print ('\\n')\n",
    "print ('舍入后：')\n",
    "print (np.around(a))\n",
    "print (np.around(a, decimals =  1))\n",
    "print (np.around(a, decimals =  -1)) # decimals: 舍入的小数位数。 默认值为0。 如果为负，整数将四舍五入到小数点左侧的位置"
   ]
  },
  {
   "cell_type": "code",
   "execution_count": 41,
   "metadata": {},
   "outputs": [
    {
     "name": "stdout",
     "output_type": "stream",
     "text": [
      "提供的数组：\n",
      "[-1.7  1.5 -0.2  0.6 10. ]\n",
      "\n",
      "\n",
      "修改后的数组：\n",
      "[-2.  1. -1.  0. 10.]\n"
     ]
    }
   ],
   "source": [
    "# numpy.floor() 返回数字的下舍整数。\n",
    "import numpy as np\n",
    " \n",
    "a = np.array([-1.7,  1.5,  -0.2,  0.6,  10])\n",
    "print ('提供的数组：')\n",
    "print (a)\n",
    "print ('\\n')\n",
    "print ('修改后的数组：')\n",
    "print (np.floor(a))"
   ]
  },
  {
   "cell_type": "code",
   "execution_count": 42,
   "metadata": {},
   "outputs": [
    {
     "name": "stdout",
     "output_type": "stream",
     "text": [
      "提供的数组：\n",
      "[-1.7  1.5 -0.2  0.6 10. ]\n",
      "\n",
      "\n",
      "修改后的数组：\n",
      "[-1.  2. -0.  1. 10.]\n"
     ]
    }
   ],
   "source": [
    "# numpy.ceil() 返回数字的上入整数。\n",
    "import numpy as np\n",
    " \n",
    "a = np.array([-1.7,  1.5,  -0.2,  0.6,  10])  \n",
    "print  ('提供的数组：')\n",
    "print (a)\n",
    "print ('\\n')\n",
    "print ('修改后的数组：')\n",
    "print (np.ceil(a))"
   ]
  },
  {
   "cell_type": "markdown",
   "metadata": {},
   "source": [
    "## NumPy 算术函数\n",
    "- NumPy 算术函数包含简单的加减乘除: add()，subtract()，multiply() 和 divide()。\n",
    "- 需要注意的是数组必须具有相同的形状或符合数组广播规则。"
   ]
  },
  {
   "cell_type": "code",
   "execution_count": 50,
   "metadata": {},
   "outputs": [
    {
     "name": "stdout",
     "output_type": "stream",
     "text": [
      "[[0 1 2]\n",
      " [3 4 5]\n",
      " [6 7 8]]\n",
      "[10 10 10]\n",
      "====================\n",
      "[[10 11 12]\n",
      " [13 14 15]\n",
      " [16 17 18]]\n",
      "====================\n",
      "[[-10  -9  -8]\n",
      " [ -7  -6  -5]\n",
      " [ -4  -3  -2]]\n",
      "====================\n",
      "[[ 0 10 20]\n",
      " [30 40 50]\n",
      " [60 70 80]]\n",
      "====================\n",
      "[[0.  0.1 0.2]\n",
      " [0.3 0.4 0.5]\n",
      " [0.6 0.7 0.8]]\n"
     ]
    }
   ],
   "source": [
    "import numpy as np \n",
    " \n",
    "a = np.arange(9).reshape(3,3)  \n",
    "print (a)\n",
    "b = np.array([10,10,10])  \n",
    "print (b)\n",
    "print(10*'==')\n",
    "print(np.add(a,b))\n",
    "print(10*'==')\n",
    "print(np.subtract(a,b))\n",
    "print(10*'==')\n",
    "print(np.multiply(a,b))\n",
    "print(10*'==')\n",
    "print(np.divide(a,b))"
   ]
  },
  {
   "cell_type": "code",
   "execution_count": 55,
   "metadata": {},
   "outputs": [
    {
     "name": "stdout",
     "output_type": "stream",
     "text": [
      "[ 1.   2.   4.5  5.  10. ]\n",
      "\n",
      "\n",
      "[1.         0.5        0.22222222 0.2        0.1       ]\n"
     ]
    }
   ],
   "source": [
    "# 此外 Numpy 也包含了其他重要的算术函数。\n",
    "# numpy.reciprocal()\n",
    "# numpy.reciprocal() 函数返回参数逐元素的倒数。如 1/4 倒数为 4/1。\n",
    "import numpy as np\n",
    "a = np.array([1,2.0,4.5,5.0,10])\n",
    "print(a)\n",
    "print('\\n')\n",
    "print(np.reciprocal(a))"
   ]
  },
  {
   "cell_type": "code",
   "execution_count": 54,
   "metadata": {},
   "outputs": [
    {
     "name": "stdout",
     "output_type": "stream",
     "text": [
      "我们的数组是：\n",
      "[  0.25   1.33   1.   100.  ]\n",
      "\n",
      "\n",
      "调用 reciprocal 函数：\n",
      "[4.        0.7518797 1.        0.01     ]\n"
     ]
    }
   ],
   "source": [
    "import numpy as np \n",
    " \n",
    "a = np.array([0.25,  1.33,  1,  100])  \n",
    "print ('我们的数组是：')\n",
    "print (a)\n",
    "print ('\\n')\n",
    "print ('调用 reciprocal 函数：')\n",
    "print (np.reciprocal(a))"
   ]
  },
  {
   "cell_type": "code",
   "execution_count": 60,
   "metadata": {},
   "outputs": [
    {
     "name": "stdout",
     "output_type": "stream",
     "text": [
      "[10 10 10]\n",
      "\n",
      "\n",
      "[1000 1000 1000]\n",
      "\n",
      "\n",
      "[  10  100 1000]\n"
     ]
    }
   ],
   "source": [
    "# numpy.power() 函数将第一个输入数组中的元素作为底数，计算它与第二个输入数组中相应元素的幂。\n",
    "import numpy as np \n",
    "a = np.array([10,10,10])  \n",
    "print(a)\n",
    "print('\\n')\n",
    "print(np.power(a,3))\n",
    "print('\\n')\n",
    "b = np.array([1,2,3])\n",
    "print(np.power(a,b))"
   ]
  },
  {
   "cell_type": "code",
   "execution_count": 64,
   "metadata": {},
   "outputs": [
    {
     "name": "stdout",
     "output_type": "stream",
     "text": [
      "[10 20 30]\n",
      "\n",
      "\n",
      "[3 5 7]\n",
      "\n",
      "\n",
      "[1 0 2]\n",
      "\n",
      "\n",
      "[1 0 2]\n"
     ]
    }
   ],
   "source": [
    "# numpy.mod() 计算输入数组中相应元素的相除后的余数。 函数 numpy.remainder() 也产生相同的结果。\n",
    "import numpy as np\n",
    "a = np.array([10,20,30]) \n",
    "b = np.array([3,5,7])  \n",
    "print(a)\n",
    "print('\\n')\n",
    "print(b)\n",
    "print('\\n')\n",
    "print(np.mod(a,b))\n",
    "print('\\n')\n",
    "print(np.remainder(a,b))"
   ]
  },
  {
   "cell_type": "code",
   "execution_count": null,
   "metadata": {},
   "outputs": [],
   "source": []
  },
  {
   "cell_type": "code",
   "execution_count": null,
   "metadata": {},
   "outputs": [],
   "source": []
  },
  {
   "cell_type": "code",
   "execution_count": null,
   "metadata": {},
   "outputs": [],
   "source": []
  },
  {
   "cell_type": "code",
   "execution_count": null,
   "metadata": {},
   "outputs": [],
   "source": []
  },
  {
   "cell_type": "code",
   "execution_count": null,
   "metadata": {},
   "outputs": [],
   "source": []
  },
  {
   "cell_type": "code",
   "execution_count": null,
   "metadata": {},
   "outputs": [],
   "source": []
  },
  {
   "cell_type": "code",
   "execution_count": null,
   "metadata": {},
   "outputs": [],
   "source": []
  },
  {
   "cell_type": "code",
   "execution_count": null,
   "metadata": {},
   "outputs": [],
   "source": []
  },
  {
   "cell_type": "code",
   "execution_count": null,
   "metadata": {},
   "outputs": [],
   "source": []
  },
  {
   "cell_type": "code",
   "execution_count": null,
   "metadata": {},
   "outputs": [],
   "source": []
  }
 ],
 "metadata": {
  "kernelspec": {
   "display_name": "Python 3",
   "language": "python",
   "name": "python3"
  },
  "language_info": {
   "codemirror_mode": {
    "name": "ipython",
    "version": 3
   },
   "file_extension": ".py",
   "mimetype": "text/x-python",
   "name": "python",
   "nbconvert_exporter": "python",
   "pygments_lexer": "ipython3",
   "version": "3.7.0"
  }
 },
 "nbformat": 4,
 "nbformat_minor": 2
}
