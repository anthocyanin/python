{
 "cells": [
  {
   "cell_type": "code",
   "execution_count": 5,
   "metadata": {},
   "outputs": [
    {
     "data": {
      "text/plain": [
       "20"
      ]
     },
     "execution_count": 5,
     "metadata": {},
     "output_type": "execute_result"
    }
   ],
   "source": [
    "# 很多时候需要对类属性做一些限制,一般用get和set方法来写\n",
    "# 这种使用 get/set 方法来封装对一个属性的访问在许多面向对象编程的语言中都很常见。\n",
    "\n",
    "class Student(object):\n",
    "    def __init__(self, name, score):\n",
    "        self.name = name\n",
    "        self.__score = score\n",
    "    def get_score(self):\n",
    "        return self.__score\n",
    "    def set_score(self, score):\n",
    "        if score < 0 or score > 100:\n",
    "            raise ValueError('invalid score')\n",
    "        self.__score = score\n",
    "        \n",
    "s = Student('Tom', 20)\n",
    "s.get_score()"
   ]
  },
  {
   "cell_type": "code",
   "execution_count": 10,
   "metadata": {},
   "outputs": [
    {
     "name": "stdout",
     "output_type": "stream",
     "text": [
      "30\n"
     ]
    }
   ],
   "source": [
    "# 但是在上面的例子中，如果想要修改或者获得score属性，就得调用set_score和get_score方法，这有点不够方便了\n",
    "# 为了方便，可以用装饰器函数把 get/set 方法“装饰”成属性调用\n",
    "class Student(object):\n",
    "    def __init__(self, name, score):\n",
    "        self.name = name\n",
    "        self.__score = score\n",
    "    @property\n",
    "    def score(self):\n",
    "        return self.__score\n",
    "    \n",
    "    @score.setter\n",
    "    def score(self, score):\n",
    "        if score < 0 or score > 100:\n",
    "            raise ValueError('invalid score')\n",
    "        self.__score = score\n",
    "# 注意: 第一个score(self)是get方法，用@property装饰，第二个score(self, score)是set方法，用@score.setter装饰。\n",
    "# @score.setter是前一个@property装饰后的副产品。\n",
    "s1 = Student('jack', 12)\n",
    "s1.score = 30\n",
    "print(s1.score)\n",
    "# s1.score = 190"
   ]
  },
  {
   "cell_type": "markdown",
   "metadata": {},
   "source": [
    "- python中用”.”操作来访问和改写类的属性成员时，会调用__get__和__set__方法，\n",
    "- 模式情况下，python会查找class.__dict__字典，对对应值进行操作。\n",
    "- 比如C.x会调用C.__get__访问最终读取C.__dict__[x]元素。\n",
    "\n"
   ]
  },
  {
   "cell_type": "code",
   "execution_count": null,
   "metadata": {},
   "outputs": [],
   "source": [
    "# 而property对象<property object>有三个类方法，即setter, getter和delete，用于之后设置相应的函数。"
   ]
  },
  {
   "cell_type": "code",
   "execution_count": 12,
   "metadata": {},
   "outputs": [
    {
     "data": {
      "text/plain": [
       "['__class__',\n",
       " '__delattr__',\n",
       " '__delete__',\n",
       " '__dir__',\n",
       " '__doc__',\n",
       " '__eq__',\n",
       " '__format__',\n",
       " '__ge__',\n",
       " '__get__',\n",
       " '__getattribute__',\n",
       " '__gt__',\n",
       " '__hash__',\n",
       " '__init__',\n",
       " '__init_subclass__',\n",
       " '__isabstractmethod__',\n",
       " '__le__',\n",
       " '__lt__',\n",
       " '__ne__',\n",
       " '__new__',\n",
       " '__reduce__',\n",
       " '__reduce_ex__',\n",
       " '__repr__',\n",
       " '__set__',\n",
       " '__setattr__',\n",
       " '__sizeof__',\n",
       " '__str__',\n",
       " '__subclasshook__',\n",
       " 'deleter',\n",
       " 'fdel',\n",
       " 'fget',\n",
       " 'fset',\n",
       " 'getter',\n",
       " 'setter']"
      ]
     },
     "execution_count": 12,
     "metadata": {},
     "output_type": "execute_result"
    }
   ],
   "source": [
    "dir(property) # dir 果然牛逼"
   ]
  },
  {
   "cell_type": "markdown",
   "metadata": {},
   "source": [
    "###  Python内置有三大装饰器：@staticmethod(静态方法)、@classmethod(类方法)、@property(描述符)。\n",
    "- 其中静态方法就是定义在类里的函数，并没有非要定义的必要；\n",
    "- 类方法则是在调用类属性、传递类对象时使用；\n",
    "- 而@property则是一个非常好用的语法糖。@property最大的好处就是在类中把一个方法变成属性调用，\n",
    "- 起到既能检查属性，还能用属性的方式来访问该属性的作用。"
   ]
  },
  {
   "cell_type": "code",
   "execution_count": 15,
   "metadata": {},
   "outputs": [
    {
     "name": "stdout",
     "output_type": "stream",
     "text": [
      "18\n"
     ]
    }
   ],
   "source": [
    "class Person(object):\n",
    "    def __init__(self, name, age=18):\n",
    "        self.name = name\n",
    "        self.__age = age\n",
    "    @property\n",
    "    def age(self):\n",
    "        return self.__age\n",
    "mm = Person('xiaoming')\n",
    "print(mm.age)\n",
    "\n",
    "# mm.age = 23 # mm是只读属性，"
   ]
  },
  {
   "cell_type": "code",
   "execution_count": 45,
   "metadata": {},
   "outputs": [
    {
     "data": {
      "text/plain": [
       "15"
      ]
     },
     "execution_count": 45,
     "metadata": {},
     "output_type": "execute_result"
    }
   ],
   "source": [
    "# 先介绍下Python是如何存储实例属性(定义在__init__下的属性)。\n",
    "# 当我们定义实例属性时，Python会把其存入__dict__中，实际上就是个字典，\n",
    "# 以下面的Person1类为实例\n",
    "class Person1(object):\n",
    "    def __init__(self, name, age):\n",
    "        self.name = name\n",
    "        self.__age = age\n",
    "m1 = Person1('xiaoming', 15)\n",
    "\n",
    "# m1.__dict__\n",
    "# 显然python会把实例的属性，以字典的形式存储起来，而__attr,这样的属性，则是以_Parent__attr 作为键来存储的\n",
    "# 所以要想访问__attr这样的私有变量，写法如下\n",
    "# m1.name\n",
    "m1._Person1__age \n",
    "# m1.age\n"
   ]
  },
  {
   "cell_type": "code",
   "execution_count": 37,
   "metadata": {},
   "outputs": [
    {
     "data": {
      "text/plain": [
       "5"
      ]
     },
     "execution_count": 37,
     "metadata": {},
     "output_type": "execute_result"
    }
   ],
   "source": [
    "class B(object):\n",
    "    def __init__(self, x, y):\n",
    "        self.x = x\n",
    "        self._y = y\n",
    "b = B(1,5)\n",
    "b._y"
   ]
  },
  {
   "cell_type": "code",
   "execution_count": 35,
   "metadata": {},
   "outputs": [
    {
     "data": {
      "text/plain": [
       "1"
      ]
     },
     "execution_count": 35,
     "metadata": {},
     "output_type": "execute_result"
    }
   ],
   "source": [
    "class B:\n",
    "    def __init__(self, x, y):\n",
    "        self._x = x\n",
    "        self.y = y\n",
    "b = B(1,5)\n",
    "b._x"
   ]
  },
  {
   "cell_type": "markdown",
   "metadata": {},
   "source": [
    "#### 通过callable()函数，我们就可以判断一个对象是否是“可调用”对象。"
   ]
  },
  {
   "cell_type": "code",
   "execution_count": 62,
   "metadata": {},
   "outputs": [
    {
     "name": "stdout",
     "output_type": "stream",
     "text": [
      "nihao hello world microsoft       bill gate\n"
     ]
    }
   ],
   "source": [
    "# \\ 的用处，\n",
    "# 会有这样的情况，要打印一句很长很长的话，打印出来效果要求是一行，很长很长的一行。但是编辑代码时，直接把这一行复制到print()函数里\n",
    "# 如果不折行的话，会很长很长，如果需要检察内容，则需要不停的往又右划，因此需要折断，但是直接折断打印回报错的，但是加上 \\就不会报错了\n",
    "print('nihao hello world microsoft \\\n",
    "      bill gate')"
   ]
  },
  {
   "cell_type": "code",
   "execution_count": 4,
   "metadata": {},
   "outputs": [
    {
     "data": {
      "text/plain": [
       "1"
      ]
     },
     "execution_count": 4,
     "metadata": {},
     "output_type": "execute_result"
    }
   ],
   "source": [
    "def ff(year, month, day, hour, minute, second):\n",
    "    if 1900 < year < 2100 and 1 <= month <= 12 \\\n",
    "       and 1 <= day <= 31 and 0 <= hour < 24 \\\n",
    "       and 0 <= minute < 60 and 0 <= second < 60:   # Looks like a valid date\n",
    "         return 1\n",
    "    \n",
    "ff(2019, 3, 22, 6, 55, 33)\n",
    "# 这里有个小问题，return 1,往外退一格，往里进一格，也可以正常执行，真是奇怪，不是严格要求缩进的嘛？"
   ]
  },
  {
   "cell_type": "code",
   "execution_count": 60,
   "metadata": {},
   "outputs": [
    {
     "data": {
      "text/plain": [
       "3"
      ]
     },
     "execution_count": 60,
     "metadata": {},
     "output_type": "execute_result"
    }
   ],
   "source": [
    "# 这样也可以哦\n",
    "def ff2(x):\n",
    "    if x < 10: return x\n",
    "               \n",
    "ff2(3)"
   ]
  },
  {
   "cell_type": "code",
   "execution_count": 63,
   "metadata": {},
   "outputs": [
    {
     "name": "stdout",
     "output_type": "stream",
     "text": [
      "100000000\n"
     ]
    }
   ],
   "source": [
    "print(100_000_000) # 牛逼 注：在 3.6 版更改: 允许在字面值中使用下划线进行分组。"
   ]
  },
  {
   "cell_type": "markdown",
   "metadata": {},
   "source": [
    "- 集合\n",
    "- 此类对象表示可变集合。它们可通过内置的 set() 构造器创建，并且创建之后可以通过方法进行修改，例如 add()。\n",
    "\n",
    "- 冻结集合\n",
    "- 此类对象表示不可变集合。它们可通过内置的 frozenset() 构造器创建。由于 frozenset 对象不可变且 hashable，它可以被用作另一个集合的元素或是字典的键。"
   ]
  },
  {
   "cell_type": "code",
   "execution_count": 97,
   "metadata": {},
   "outputs": [
    {
     "name": "stdout",
     "output_type": "stream",
     "text": [
      "𓱈\n"
     ]
    }
   ],
   "source": [
    "print(chr(80968))\n"
   ]
  },
  {
   "cell_type": "code",
   "execution_count": 90,
   "metadata": {},
   "outputs": [
    {
     "name": "stdout",
     "output_type": "stream",
     "text": [
      "True\n",
      "True\n",
      "False\n"
     ]
    }
   ],
   "source": [
    "print(all([1,3,3])) # 迭代器里面任何全部为真时，才返回true\n",
    "print(all([])) # 迭代器里面任何全部为真时，才返回true\n",
    "print(all([1,0,3])) # 迭代器里面任何全部为真时，才返回true\n"
   ]
  },
  {
   "cell_type": "code",
   "execution_count": 77,
   "metadata": {},
   "outputs": [
    {
     "name": "stdout",
     "output_type": "stream",
     "text": [
      "False\n",
      "True\n"
     ]
    }
   ],
   "source": [
    "print(any([])) # 如果迭代器为空，返回``False\n",
    "print(any([1,4,0])) # 任一元素为真则返回 True。"
   ]
  },
  {
   "cell_type": "code",
   "execution_count": 98,
   "metadata": {},
   "outputs": [
    {
     "name": "stdout",
     "output_type": "stream",
     "text": [
      "Jan => Month.Jan , 1\n",
      "Feb => Month.Feb , 2\n",
      "Mar => Month.Mar , 3\n",
      "Apr => Month.Apr , 4\n",
      "May => Month.May , 5\n",
      "Jun => Month.Jun , 6\n",
      "Jul => Month.Jul , 7\n",
      "Aug => Month.Aug , 8\n",
      "Sep => Month.Sep , 9\n",
      "Oct => Month.Oct , 10\n",
      "Nov => Month.Nov , 11\n",
      "Dec => Month.Dec , 12\n"
     ]
    }
   ],
   "source": [
    "from enum import Enum\n",
    "Month = Enum('Month', ('Jan', 'Feb', 'Mar', 'Apr', 'May', 'Jun', 'Jul', 'Aug', 'Sep', 'Oct', 'Nov', 'Dec'))\n",
    "for name, member in Month.__members__.items():\n",
    "    print(name, '=>', member, ',', member.value) # value属性则是自动赋给成员的int常量，默认从1开始计数。\n",
    "\n"
   ]
  },
  {
   "cell_type": "code",
   "execution_count": 99,
   "metadata": {},
   "outputs": [
    {
     "name": "stdout",
     "output_type": "stream",
     "text": [
      "sun => Weekday.sun , 0\n",
      "Mon => Weekday.Mon , 1\n",
      "Tue => Weekday.Tue , 2\n",
      "Wed => Weekday.Wed , 3\n",
      "Thu => Weekday.Thu , 4\n",
      "Fri => Weekday.Fri , 5\n",
      "Sat => Weekday.Sat , 6\n"
     ]
    }
   ],
   "source": [
    "# 如果需要更精确地控制枚举类型，可以从Enum派生出自定义类：\n",
    "# @unique装饰器可以帮助我们检查保证没有重复值。\n",
    "# Weekday继承Enum枚举类\n",
    "from enum import Enum, unique\n",
    "@unique\n",
    "class Weekday(Enum):\n",
    "    sun = 0\n",
    "    Mon = 1\n",
    "    Tue = 2\n",
    "    Wed = 3\n",
    "    Thu = 4\n",
    "    Fri = 5\n",
    "    Sat = 6\n",
    "for name, member in Weekday.__members__.items():\n",
    "    print(name, '=>', member, ',', member.value)\n"
   ]
  },
  {
   "cell_type": "markdown",
   "metadata": {},
   "source": [
    "## Python3 中有六个标准的数据类型：\n",
    "\n",
    "- Number（数字）\n",
    "- String（字符串）\n",
    "- List（列表）\n",
    "- Tuple（元组）\n",
    "- Set（集合）\n",
    "- Dictionary（字典）\n",
    "- \n",
    "- python还允许创建自定义数据类型，python还有空值即None这种类型\n",
    "- \n",
    "- Python3 的六个标准数据类型中：  \n",
    "- 不可变数据（3 个）：Number、String、Tuple\n",
    "- 可变数据（3 个）：List、Dictionary、Set\n"
   ]
  },
  {
   "cell_type": "code",
   "execution_count": null,
   "metadata": {},
   "outputs": [],
   "source": [
    "python中使用type()函数和isinstance()函数可以判断对象的类型\n",
    "但是两者略有区别\n",
    "type()不会认为子类不是一种父类类型\n",
    "isinstance()会认为子类是一种父类类型"
   ]
  },
  {
   "cell_type": "markdown",
   "metadata": {},
   "source": [
    "#### 在同一个字典中，键(key)必须是唯一的。\n",
    "#### 可以使用大括号 { } 或者 set() 函数创建集合，\n",
    "#### 注意：创建一个空集合必须用 set() 而不是 { }，因为 { } 是用来创建一个空字典。"
   ]
  },
  {
   "cell_type": "code",
   "execution_count": 101,
   "metadata": {},
   "outputs": [
    {
     "data": {
      "text/plain": [
       "['False',\n",
       " 'None',\n",
       " 'True',\n",
       " 'and',\n",
       " 'as',\n",
       " 'assert',\n",
       " 'break',\n",
       " 'class',\n",
       " 'continue',\n",
       " 'def',\n",
       " 'del',\n",
       " 'elif',\n",
       " 'else',\n",
       " 'except',\n",
       " 'finally',\n",
       " 'for',\n",
       " 'from',\n",
       " 'global',\n",
       " 'if',\n",
       " 'import',\n",
       " 'in',\n",
       " 'is',\n",
       " 'lambda',\n",
       " 'nonlocal',\n",
       " 'not',\n",
       " 'or',\n",
       " 'pass',\n",
       " 'raise',\n",
       " 'return',\n",
       " 'try',\n",
       " 'while',\n",
       " 'with',\n",
       " 'yield']"
      ]
     },
     "execution_count": 101,
     "metadata": {},
     "output_type": "execute_result"
    }
   ],
   "source": [
    "# 查看保留字\n",
    "import keyword\n",
    "keyword.kwlist"
   ]
  },
  {
   "cell_type": "code",
   "execution_count": 102,
   "metadata": {},
   "outputs": [
    {
     "name": "stdout",
     "output_type": "stream",
     "text": [
      "<class 'zip'>\n",
      "(1, 'a')\n",
      "(2, 'b')\n",
      "(3, 'c')\n"
     ]
    }
   ],
   "source": [
    "lt = [1,2,3]\n",
    "st = 'abc'\n",
    "zz = zip(lt, st)\n",
    "print(type(zz))\n",
    "for i in zz:\n",
    "    print(i)"
   ]
  },
  {
   "cell_type": "code",
   "execution_count": 103,
   "metadata": {},
   "outputs": [
    {
     "data": {
      "text/plain": [
       "['__add__',\n",
       " '__class__',\n",
       " '__contains__',\n",
       " '__delattr__',\n",
       " '__delitem__',\n",
       " '__dir__',\n",
       " '__doc__',\n",
       " '__eq__',\n",
       " '__format__',\n",
       " '__ge__',\n",
       " '__getattribute__',\n",
       " '__getitem__',\n",
       " '__gt__',\n",
       " '__hash__',\n",
       " '__iadd__',\n",
       " '__imul__',\n",
       " '__init__',\n",
       " '__init_subclass__',\n",
       " '__iter__',\n",
       " '__le__',\n",
       " '__len__',\n",
       " '__lt__',\n",
       " '__mul__',\n",
       " '__ne__',\n",
       " '__new__',\n",
       " '__reduce__',\n",
       " '__reduce_ex__',\n",
       " '__repr__',\n",
       " '__reversed__',\n",
       " '__rmul__',\n",
       " '__setattr__',\n",
       " '__setitem__',\n",
       " '__sizeof__',\n",
       " '__str__',\n",
       " '__subclasshook__',\n",
       " 'append',\n",
       " 'clear',\n",
       " 'copy',\n",
       " 'count',\n",
       " 'extend',\n",
       " 'index',\n",
       " 'insert',\n",
       " 'pop',\n",
       " 'remove',\n",
       " 'reverse',\n",
       " 'sort']"
      ]
     },
     "execution_count": 103,
     "metadata": {},
     "output_type": "execute_result"
    }
   ],
   "source": [
    "dir(list())"
   ]
  },
  {
   "cell_type": "code",
   "execution_count": 2,
   "metadata": {},
   "outputs": [
    {
     "name": "stdout",
     "output_type": "stream",
     "text": [
      "hello world\n"
     ]
    }
   ],
   "source": [
    "# type()函数既可以返回一个对象的类型，也可创建一个类\n",
    "# 要创建一个class对象，type()函数依次传入3个参数：\n",
    "#     class的名称；\n",
    "#     继承的父类集合，注意Python支持多重继承，如果只有一个父类，别忘了tuple的单元素写法；\n",
    "#     class的方法名称与函数绑定，这里我们把函数fn绑定到方法名hello上。\n",
    "def fn(self, name='world'):\n",
    "    print('hello %s' %name)\n",
    "    \n",
    "Hello = type('Hello', (object,), dict(hello=fn)) # dict(hello=fn)相当于让Hello这个类里面有一个hello函数，然后将其指向fn函数\n",
    "h = Hello()\n",
    "h.hello()"
   ]
  },
  {
   "cell_type": "code",
   "execution_count": 8,
   "metadata": {},
   "outputs": [
    {
     "data": {
      "text/plain": [
       "[1]"
      ]
     },
     "execution_count": 8,
     "metadata": {},
     "output_type": "execute_result"
    }
   ],
   "source": [
    "# 我们先看一个简单的例子，这个metaclass可以给我们自定义的MyList增加一个add方法：\n",
    "class ListMetaclass(type):\n",
    "    def __new__(cls, name, bases, attrs):\n",
    "        attrs['add'] = lambda self, value: self.append(value)\n",
    "        return type.__new__(cls, name, bases, attrs)\n",
    "# 有了ListMetaclass，我们在定义类的时候还要指示使用ListMetaclass来定制类，传入关键字参数metaclass：\n",
    "\n",
    "# 下面的Mylist继承自list，并且指定了元类为ListMetaclass\n",
    "class MyList(list, metaclass=ListMetaclass):\n",
    "    pass\n",
    "\n",
    "li = MyList()\n",
    "li.add(1)\n",
    "li"
   ]
  },
  {
   "cell_type": "code",
   "execution_count": 14,
   "metadata": {},
   "outputs": [
    {
     "name": "stdout",
     "output_type": "stream",
     "text": [
      "<class 'ellipsis'>\n"
     ]
    }
   ],
   "source": [
    "print(type(Ellipsis))"
   ]
  },
  {
   "cell_type": "code",
   "execution_count": 13,
   "metadata": {},
   "outputs": [
    {
     "data": {
      "text/plain": [
       "True"
      ]
     },
     "execution_count": 13,
     "metadata": {},
     "output_type": "execute_result"
    }
   ],
   "source": [
    "bool(...)"
   ]
  },
  {
   "cell_type": "code",
   "execution_count": 15,
   "metadata": {},
   "outputs": [
    {
     "data": {
      "text/plain": [
       "4323725072"
      ]
     },
     "execution_count": 15,
     "metadata": {},
     "output_type": "execute_result"
    }
   ],
   "source": [
    "id(...)"
   ]
  },
  {
   "cell_type": "code",
   "execution_count": null,
   "metadata": {},
   "outputs": [],
   "source": []
  },
  {
   "cell_type": "code",
   "execution_count": 6,
   "metadata": {},
   "outputs": [],
   "source": [
    "# class Language(object):\n",
    "#     def __init__(self, language_list):\n",
    "#         self.lans = language_list\n",
    "    \n",
    "#     def __getitem__(self, item):\n",
    "#         return self.lans[item]\n",
    "\n",
    "# language = Language([\"Python\", \"C\", \"Lisp\"])\n",
    "# # for lan in language.lans:\n",
    "# #     print(lan)\n",
    "\n",
    "# language.__getitem__()"
   ]
  },
  {
   "cell_type": "markdown",
   "metadata": {},
   "source": [
    "## 类名首字母不一定是大写\n",
    "- 在正常情况下，我们所编写的所见到的代码，好像都默许了类名首字母大写，而实例用小写的这一准则。但这并不是强制性的，即使你反过来的也没有关系。\n",
    "\n",
    "- 但有一些内置的类，首字母都是小写，而实例都是大写。\n",
    "\n",
    "- 比如 bool 是类名，而 True，False 是其实例；\n",
    "- 比如 ellipsis 是类名，Ellipsis是实例；\n",
    "- 还有 int，string，float，list，tuple，dict 等一系列数据类型都是类名，它们都是小写。"
   ]
  },
  {
   "cell_type": "markdown",
   "metadata": {},
   "source": [
    "## python区分整型数，浮点型数，复数，\n",
    "- 整型数又分为 整型和布尔型， 布尔类型是整型的子类型， 两个布尔值在各种场合的行为分别类似于数值 0 和 1\n"
   ]
  },
  {
   "cell_type": "markdown",
   "metadata": {},
   "source": [
    "- __new__() 的目的主要是允许不可变类型的子类 (例如 int, str 或 tuple) 定制实例创建过程。\n",
    "- 它也常会在自定义元类中被重载以便定制类创建过程。\n",
    "\n"
   ]
  },
  {
   "cell_type": "markdown",
   "metadata": {},
   "source": [
    "- 很多时候，数据读写不一定是文件，也可以在内存中读写。\n",
    "- StringIO顾名思义就是在内存中读写str。\n",
    "- 要把str写入StringIO，我们需要先创建一个StringIO，然后，像文件一样写入即可："
   ]
  },
  {
   "cell_type": "code",
   "execution_count": 20,
   "metadata": {},
   "outputs": [
    {
     "name": "stdout",
     "output_type": "stream",
     "text": [
      "hello world!\n"
     ]
    }
   ],
   "source": [
    "from io import StringIO\n",
    "f = StringIO()\n",
    "f.write('hello')\n",
    "f.write(' ')\n",
    "f.write('world!')\n",
    "print(f.getvalue())"
   ]
  },
  {
   "cell_type": "code",
   "execution_count": 29,
   "metadata": {},
   "outputs": [
    {
     "name": "stdout",
     "output_type": "stream",
     "text": [
      "b'\\xe4\\xb8\\xad\\xe6\\xac\\xa7\\xe5\\x9c\\xb0\\xe5\\x8c\\xba'\n"
     ]
    }
   ],
   "source": [
    "from io import BytesIO\n",
    "fb = BytesIO()\n",
    "fb.write('中欧地区'.encode('utf-8'))\n",
    "print(fb.getvalue())"
   ]
  },
  {
   "cell_type": "code",
   "execution_count": 31,
   "metadata": {},
   "outputs": [
    {
     "data": {
      "text/plain": [
       "'中欧地区'"
      ]
     },
     "execution_count": 31,
     "metadata": {},
     "output_type": "execute_result"
    }
   ],
   "source": [
    "fb2 = BytesIO(b'\\xe4\\xb8\\xad\\xe6\\xac\\xa7\\xe5\\x9c\\xb0\\xe5\\x8c\\xba')\n",
    "fb2.read().decode()"
   ]
  },
  {
   "cell_type": "code",
   "execution_count": 21,
   "metadata": {},
   "outputs": [
    {
     "name": "stdout",
     "output_type": "stream",
     "text": [
      "hello world\n"
     ]
    }
   ],
   "source": [
    "f2 = StringIO('hello world')\n",
    "print(f2.getvalue())"
   ]
  },
  {
   "cell_type": "code",
   "execution_count": 22,
   "metadata": {},
   "outputs": [
    {
     "name": "stdout",
     "output_type": "stream",
     "text": [
      "Hello!\n",
      "Hi!\n",
      "Goodbye!\n"
     ]
    }
   ],
   "source": [
    "f3 = StringIO('Hello!\\nHi!\\nGoodbye!')\n",
    "while True:\n",
    "    s = f3.readline()\n",
    "    if s == '':\n",
    "        break\n",
    "    print(s.strip())"
   ]
  },
  {
   "cell_type": "code",
   "execution_count": 26,
   "metadata": {},
   "outputs": [
    {
     "name": "stdout",
     "output_type": "stream",
     "text": [
      "The Zen of Python, by Tim Peters\n",
      "\n",
      "Beautiful is better than ugly.\n",
      "Explicit is better than implicit.\n",
      "Simple is better than complex.\n",
      "Complex is better than complicated.\n",
      "Flat is better than nested.\n",
      "Sparse is better than dense.\n",
      "Readability counts.\n",
      "Special cases aren't special enough to break the rules.\n",
      "Although practicality beats purity.\n",
      "Errors should never pass silently.\n",
      "Unless explicitly silenced.\n",
      "In the face of ambiguity, refuse the temptation to guess.\n",
      "There should be one-- and preferably only one --obvious way to do it.\n",
      "Although that way may not be obvious at first unless you're Dutch.\n",
      "Now is better than never.\n",
      "Although never is often better than *right* now.\n",
      "If the implementation is hard to explain, it's a bad idea.\n",
      "If the implementation is easy to explain, it may be a good idea.\n",
      "Namespaces are one honking great idea -- let's do more of those!\n"
     ]
    }
   ],
   "source": [
    "import this"
   ]
  },
  {
   "cell_type": "code",
   "execution_count": 32,
   "metadata": {},
   "outputs": [
    {
     "name": "stdout",
     "output_type": "stream",
     "text": [
      "posix\n"
     ]
    }
   ],
   "source": [
    "import os\n",
    "print(os.name)"
   ]
  },
  {
   "cell_type": "code",
   "execution_count": 33,
   "metadata": {},
   "outputs": [
    {
     "name": "stdout",
     "output_type": "stream",
     "text": [
      "environ({'TERM_PROGRAM': 'Apple_Terminal', 'TERM': 'xterm-color', 'SHELL': '/bin/bash', 'TMPDIR': '/var/folders/ms/b2mxyzbs7pvfhmmsq60f4x200000gn/T/', 'Apple_PubSub_Socket_Render': '/private/tmp/com.apple.launchd.XnnJMpi40x/Render', 'CONDA_SHLVL': '1', 'TERM_PROGRAM_VERSION': '404', 'CONDA_PROMPT_MODIFIER': '(base) ', 'TERM_SESSION_ID': '942182F5-7116-4BAB-83E1-84D6609A1CF9', 'USER': 'gonghuidepro', 'CONDA_EXE': '/Users/gonghuidepro/anaconda3/bin/conda', 'SSH_AUTH_SOCK': '/private/tmp/com.apple.launchd.D3xhzWjPyh/Listeners', '_CE_CONDA': '', 'PATH': '/Users/gonghuidepro/anaconda3/bin:/Users/gonghuidepro/anaconda3/condabin:/usr/local/bin:/usr/bin:/bin:/usr/sbin:/sbin', 'CONDA_PREFIX': '/Users/gonghuidepro/anaconda3', 'PWD': '/Users/gonghuidepro', 'LANG': 'zh_CN.UTF-8', 'XPC_FLAGS': '0x0', 'XPC_SERVICE_NAME': '0', '_CE_M': '', 'HOME': '/Users/gonghuidepro', 'SHLVL': '2', 'LOGNAME': 'gonghuidepro', 'CONDA_PYTHON_EXE': '/Users/gonghuidepro/anaconda3/bin/python', 'CONDA_DEFAULT_ENV': 'base', '_': '/Users/gonghuidepro/anaconda3/bin/jupyter-notebook', 'JPY_PARENT_PID': '77242', 'CLICOLOR': '1', 'PAGER': 'cat', 'GIT_PAGER': 'cat', 'MPLBACKEND': 'module://ipykernel.pylab.backend_inline'})\n"
     ]
    }
   ],
   "source": [
    "print(os.environ)"
   ]
  },
  {
   "cell_type": "markdown",
   "metadata": {},
   "source": [
    "#### 我们把变量从内存中变成可存储或传输的过程称之为序列化，在Python中叫pickling，\n",
    "#### 在其他语言中也被称之为serialization，marshalling，flattening等等，都是一个意思。\n",
    "#### 序列化之后，就可以把序列化后的内容写入磁盘，或者通过网络传输到别的机器上。\n",
    "#### 反过来，把变量内容从序列化的对象重新读到内存里称之为反序列化，即unpickling。"
   ]
  },
  {
   "cell_type": "code",
   "execution_count": 34,
   "metadata": {},
   "outputs": [
    {
     "data": {
      "text/plain": [
       "b'\\x80\\x03}q\\x00(X\\x04\\x00\\x00\\x00nameq\\x01X\\x03\\x00\\x00\\x00Bobq\\x02X\\x03\\x00\\x00\\x00ageq\\x03K\\x14X\\x05\\x00\\x00\\x00scoreq\\x04KXu.'"
      ]
     },
     "execution_count": 34,
     "metadata": {},
     "output_type": "execute_result"
    }
   ],
   "source": [
    "import pickle\n",
    "d = dict(name='Bob', age=20, score=88)\n",
    "pickle.dumps(d)"
   ]
  },
  {
   "cell_type": "code",
   "execution_count": 37,
   "metadata": {},
   "outputs": [],
   "source": [
    "f = open('dump_learn.txt', 'wb')\n",
    "pickle.dump(d, f)\n",
    "f.close()"
   ]
  },
  {
   "cell_type": "code",
   "execution_count": 40,
   "metadata": {},
   "outputs": [
    {
     "name": "stdout",
     "output_type": "stream",
     "text": [
      "{\"name\": \"Bob\", \"age\": 20, \"score\": 88}\n"
     ]
    }
   ],
   "source": [
    "import json\n",
    "\n",
    "class Student(object):\n",
    "    def __init__(self, name, age, score):\n",
    "        self.name = name\n",
    "        self.age = age\n",
    "        self.score = score\n",
    "\n",
    "s = Student('Bob', 20, 88)\n",
    "\n",
    "def student2dict(std):\n",
    "    return {\n",
    "        'name': std.name,\n",
    "        'age': std.age,\n",
    "        'score': std.score\n",
    "    }\n",
    "print(json.dumps(s, default=student2dict))"
   ]
  },
  {
   "cell_type": "code",
   "execution_count": 41,
   "metadata": {},
   "outputs": [
    {
     "name": "stdout",
     "output_type": "stream",
     "text": [
      "{\"name\": \"Bob\", \"age\": 20, \"score\": 88}\n"
     ]
    }
   ],
   "source": [
    "print(json.dumps(s, default=lambda obj: obj.__dict__))"
   ]
  },
  {
   "cell_type": "code",
   "execution_count": null,
   "metadata": {},
   "outputs": [],
   "source": []
  },
  {
   "cell_type": "code",
   "execution_count": null,
   "metadata": {},
   "outputs": [],
   "source": []
  },
  {
   "cell_type": "code",
   "execution_count": null,
   "metadata": {},
   "outputs": [],
   "source": []
  },
  {
   "cell_type": "code",
   "execution_count": null,
   "metadata": {},
   "outputs": [],
   "source": []
  }
 ],
 "metadata": {
  "kernelspec": {
   "display_name": "Python 3",
   "language": "python",
   "name": "python3"
  },
  "language_info": {
   "codemirror_mode": {
    "name": "ipython",
    "version": 3
   },
   "file_extension": ".py",
   "mimetype": "text/x-python",
   "name": "python",
   "nbconvert_exporter": "python",
   "pygments_lexer": "ipython3",
   "version": "3.6.8"
  }
 },
 "nbformat": 4,
 "nbformat_minor": 2
}
