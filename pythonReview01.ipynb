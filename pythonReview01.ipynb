{
 "cells": [
  {
   "cell_type": "code",
   "execution_count": 3,
   "metadata": {},
   "outputs": [
    {
     "name": "stdout",
     "output_type": "stream",
     "text": [
      "120\n",
      "120\n"
     ]
    }
   ],
   "source": [
    "# 递归函数\n",
    "def fun(n):\n",
    "    if n == 1:\n",
    "        return 1\n",
    "    else:\n",
    "        return n * fun(n-1)\n",
    "print(fun(5))\n",
    "# else:可省略\n",
    "def fun1(n):\n",
    "    if n == 1:\n",
    "        return 1\n",
    "    return n * fun1(n-1)\n",
    "print(fun1(5))"
   ]
  },
  {
   "cell_type": "code",
   "execution_count": 4,
   "metadata": {},
   "outputs": [
    {
     "name": "stdout",
     "output_type": "stream",
     "text": [
      "120\n"
     ]
    }
   ],
   "source": [
    "# 使用递归函数需要注意防止栈溢出。在计算机中，函数调用是通过栈（stack）这种数据结构实现的，每当进入一个函数调用，栈就会加一层栈帧。\n",
    "# 每当函数返回，栈就会减一层栈帧。由于栈的大小不是无限的，所以，递归调用的次数过多，会导致栈溢出。可以试试fact(1000)：\n",
    "# 解决递归调用栈溢出的方法是通过尾递归优化，事实上尾递归和循环的效果是一样的，所以，把循环看成是一种特殊的尾递归函数也是可以的。\n",
    "def fact(n):\n",
    "    return fact_iter(n, 1)\n",
    "\n",
    "def fact_iter(num, product):\n",
    "    if num == 1:\n",
    "        return product\n",
    "    return fact_iter(num-1, num*product)\n",
    "# 这个函数巧妙之处在于将product搞成一个不停变化的数字，每次调用fact_iter时，就会把之前的乘起来\n",
    "print(fact(5))"
   ]
  },
  {
   "cell_type": "code",
   "execution_count": 6,
   "metadata": {},
   "outputs": [
    {
     "name": "stdout",
     "output_type": "stream",
     "text": [
      "50\n",
      "99\n"
     ]
    }
   ],
   "source": [
    "tt = []\n",
    "n = 1\n",
    "while n <=99:\n",
    "    tt.append(n)\n",
    "    n += 2\n",
    "print(len(tt))\n",
    "print(tt[-1])"
   ]
  },
  {
   "cell_type": "code",
   "execution_count": 7,
   "metadata": {},
   "outputs": [
    {
     "name": "stdout",
     "output_type": "stream",
     "text": [
      "a ----- 1\n",
      "b ----- 2\n",
      "c ----- 3\n"
     ]
    }
   ],
   "source": [
    "dd = {'a':1, 'b':2, 'c':3}\n",
    "for k, v in dd.items():\n",
    "    print(k,'-----', v)"
   ]
  },
  {
   "cell_type": "code",
   "execution_count": 10,
   "metadata": {},
   "outputs": [
    {
     "name": "stdout",
     "output_type": "stream",
     "text": [
      "a\n",
      "b\n",
      "c\n",
      "d\n",
      "e\n",
      "f\n",
      "g\n",
      "h\n"
     ]
    }
   ],
   "source": [
    "for x in 'abcdefgh':\n",
    "    print(x)"
   ]
  },
  {
   "cell_type": "code",
   "execution_count": 15,
   "metadata": {},
   "outputs": [
    {
     "name": "stdout",
     "output_type": "stream",
     "text": [
      "True\n",
      "False\n",
      "True\n",
      "True\n"
     ]
    }
   ],
   "source": [
    "from collections import Iterable\n",
    "print(isinstance('acb', Iterable))\n",
    "print(isinstance(123, Iterable))\n",
    "print(isinstance({'a':1, 'b':2, 'c':4}, Iterable))\n",
    "print(isinstance(({'a', 'b', 'v'}), Iterable))"
   ]
  },
  {
   "cell_type": "code",
   "execution_count": 20,
   "metadata": {},
   "outputs": [
    {
     "name": "stdout",
     "output_type": "stream",
     "text": [
      "<class 'set'>\n",
      "{1, 2, 3, 6}\n",
      "{1, 2, 3, 4, 5}\n"
     ]
    }
   ],
   "source": [
    "print(type({'a', 'b', 'v'})) # 这是集合\n",
    "s1 = set([1,2,3,1,2,6])\n",
    "print(s1)\n",
    "\n",
    "s2 = set((1,2,3,4,2,5))\n",
    "print(s2)\n"
   ]
  },
  {
   "cell_type": "code",
   "execution_count": 23,
   "metadata": {},
   "outputs": [
    {
     "name": "stdout",
     "output_type": "stream",
     "text": [
      "{1, 2, 3}\n",
      "{1, 2, 3, 4, 5, 6}\n"
     ]
    }
   ],
   "source": [
    "print(s1 & s2)\n",
    "print(s1 | s2)"
   ]
  },
  {
   "cell_type": "code",
   "execution_count": 26,
   "metadata": {},
   "outputs": [
    {
     "name": "stdout",
     "output_type": "stream",
     "text": [
      "[0, 1, 4, 9, 16, 25, 36, 49, 64, 81]\n"
     ]
    }
   ],
   "source": [
    "print([x * x for x in range(0, 10)])"
   ]
  },
  {
   "cell_type": "code",
   "execution_count": 28,
   "metadata": {},
   "outputs": [
    {
     "name": "stdout",
     "output_type": "stream",
     "text": [
      "['a1', 'a2', 'a3', 'b1', 'b2', 'b3', 'c1', 'c2', 'c3']\n"
     ]
    }
   ],
   "source": [
    "print([m + n for m in 'abc' for n in '123'])"
   ]
  },
  {
   "cell_type": "code",
   "execution_count": 37,
   "metadata": {},
   "outputs": [
    {
     "name": "stdout",
     "output_type": "stream",
     "text": [
      "<class 'generator'>\n",
      "0\n",
      "1\n",
      "4\n",
      "9\n",
      "16\n",
      "25\n",
      "36\n",
      "49\n",
      "64\n",
      "81\n"
     ]
    }
   ],
   "source": [
    "# 要创建一个generator，有很多种方法。第一种方法很简单，只要把一个列表生成式的[]改成()，就创建了一个generator：\n",
    "p = (x * x for x in range(0, 10))\n",
    "print(type(p))\n",
    "# 如果要一个一个打印出来，可以通过next()函数获得generator的下一个返回值：\n",
    "# print(next(p))\n",
    "# print(next(p))\n",
    "# print(next(p))\n",
    "for x in p:\n",
    "    print(x)"
   ]
  },
  {
   "cell_type": "code",
   "execution_count": 38,
   "metadata": {},
   "outputs": [
    {
     "name": "stdout",
     "output_type": "stream",
     "text": [
      "1\n",
      "2\n",
      "3\n",
      "5\n",
      "8\n",
      "13\n",
      "21\n",
      "34\n",
      "55\n",
      "89\n"
     ]
    },
    {
     "data": {
      "text/plain": [
       "'done'"
      ]
     },
     "execution_count": 38,
     "metadata": {},
     "output_type": "execute_result"
    }
   ],
   "source": [
    "# 斐波拉契数列用列表生成式写不出来，但是，用函数把它打印出来却很容易：\n",
    "\n",
    "def ff(m):\n",
    "    n, a, b = 0, 1, 1\n",
    "    while n < m:\n",
    "        print(b)\n",
    "        a, b = b, a+b\n",
    "        n += 1\n",
    "    return 'done'\n",
    "ff(10)"
   ]
  },
  {
   "cell_type": "code",
   "execution_count": 39,
   "metadata": {},
   "outputs": [
    {
     "name": "stdout",
     "output_type": "stream",
     "text": [
      "1\n",
      "1\n",
      "2\n",
      "3\n",
      "5\n",
      "8\n",
      "13\n",
      "21\n",
      "34\n",
      "55\n"
     ]
    },
    {
     "data": {
      "text/plain": [
       "'done'"
      ]
     },
     "execution_count": 39,
     "metadata": {},
     "output_type": "execute_result"
    }
   ],
   "source": [
    "def ff(m):\n",
    "    n, a, b = 0, 1, 1\n",
    "    while n < m:\n",
    "        print(a)\n",
    "        a, b = b, a+b\n",
    "        n += 1\n",
    "    return 'done'\n",
    "ff(10)"
   ]
  },
  {
   "cell_type": "code",
   "execution_count": 41,
   "metadata": {},
   "outputs": [
    {
     "name": "stdout",
     "output_type": "stream",
     "text": [
      "<class 'generator'>\n",
      "1\n",
      "2\n",
      "3\n",
      "5\n",
      "8\n",
      "13\n",
      "21\n",
      "34\n",
      "55\n",
      "89\n"
     ]
    }
   ],
   "source": [
    "def ff(m):\n",
    "    n, a, b = 0, 1, 1\n",
    "    while n < m:\n",
    "        yield(b)\n",
    "        a, b = b, a+b\n",
    "        n += 1\n",
    "    return 'done'\n",
    "g = ff(10)\n",
    "print(type(g))\n",
    "for x in g:\n",
    "    print(x)"
   ]
  },
  {
   "cell_type": "code",
   "execution_count": 43,
   "metadata": {},
   "outputs": [
    {
     "name": "stdout",
     "output_type": "stream",
     "text": [
      "1\n",
      "2\n",
      "3\n",
      "5\n",
      "8\n",
      "13\n",
      "21\n",
      "34\n",
      "55\n",
      "89\n",
      "done\n"
     ]
    }
   ],
   "source": [
    "g2 = ff(10)\n",
    "while True:\n",
    "    try:\n",
    "        x = next(g2)\n",
    "        print(x)\n",
    "    except StopIteration as e:\n",
    "        print(e.value)\n",
    "        break"
   ]
  },
  {
   "cell_type": "code",
   "execution_count": null,
   "metadata": {},
   "outputs": [],
   "source": [
    "# 生成器都是Iterable对象，但list、dict、str虽然是Iterable，却不是Iterator。\n",
    "# 把list、dict、str等Iterable变成Iterator可以使用iter()函数：\n"
   ]
  },
  {
   "cell_type": "code",
   "execution_count": 49,
   "metadata": {},
   "outputs": [
    {
     "name": "stdout",
     "output_type": "stream",
     "text": [
      "<class 'map'>\n",
      "<map object at 0x110ac77b8>\n",
      "1\n",
      "4\n",
      "9\n"
     ]
    }
   ],
   "source": [
    "# map()函数接收两个参数，一个是函数，一个是Iterable\n",
    "def ff(x):\n",
    "    return x*x\n",
    "m = map(ff, [1,2,3])\n",
    "print(type(m))\n",
    "print(m)\n",
    "for x in m:\n",
    "    print(x)\n",
    "\n",
    "# list(m)"
   ]
  },
  {
   "cell_type": "code",
   "execution_count": 50,
   "metadata": {},
   "outputs": [
    {
     "data": {
      "text/plain": [
       "True"
      ]
     },
     "execution_count": 50,
     "metadata": {},
     "output_type": "execute_result"
    }
   ],
   "source": [
    "isinstance(m, Iterable) # m 可迭代"
   ]
  },
  {
   "cell_type": "code",
   "execution_count": 2,
   "metadata": {},
   "outputs": [
    {
     "name": "stdout",
     "output_type": "stream",
     "text": [
      "<class 'int'>\n",
      "10\n"
     ]
    }
   ],
   "source": [
    "from functools import reduce\n",
    "def fs(x, y):\n",
    "    return x + y\n",
    "s = reduce(fs, [1,2,3,4])\n",
    "print(type(s))\n",
    "print(s)\n"
   ]
  },
  {
   "cell_type": "code",
   "execution_count": 54,
   "metadata": {},
   "outputs": [
    {
     "name": "stdout",
     "output_type": "stream",
     "text": [
      "3\n"
     ]
    }
   ],
   "source": [
    "print(sum([1,2]))"
   ]
  },
  {
   "cell_type": "code",
   "execution_count": 4,
   "metadata": {},
   "outputs": [
    {
     "name": "stdout",
     "output_type": "stream",
     "text": [
      "123\n"
     ]
    }
   ],
   "source": [
    "# 需求手写一个str转换成int的函数：比如‘123’ -- 123\n",
    "# 方法一\n",
    "dd = {'0':0, '1':1, '2':2, '3':3, '4':4}\n",
    "def charnum(k):\n",
    "    return dd[k]\n",
    "\n",
    "def func(x, y):\n",
    "    return x * 10 + y\n",
    "\n",
    "i = reduce(func, map(charnum, '123'))\n",
    "print(i)"
   ]
  },
  {
   "cell_type": "code",
   "execution_count": 66,
   "metadata": {},
   "outputs": [
    {
     "name": "stdout",
     "output_type": "stream",
     "text": [
      "123\n"
     ]
    }
   ],
   "source": [
    "# 方法二\n",
    "def str_int(s):\n",
    "    def func(x, y):\n",
    "        return x * 10 + y\n",
    "    \n",
    "    def charnum(k):\n",
    "        return dd[k]\n",
    "    return reduce(func, map(charnum, s))\n",
    "\n",
    "print(str_int('123'))"
   ]
  },
  {
   "cell_type": "code",
   "execution_count": 5,
   "metadata": {},
   "outputs": [
    {
     "name": "stdout",
     "output_type": "stream",
     "text": [
      "123\n"
     ]
    }
   ],
   "source": [
    "# 方法三\n",
    "def charnum(k):\n",
    "    return dd[k]\n",
    "e  = reduce(lambda x, y: x * 10 + y, map(charnum, '123'))\n",
    "print(e)"
   ]
  },
  {
   "cell_type": "code",
   "execution_count": 70,
   "metadata": {},
   "outputs": [
    {
     "name": "stdout",
     "output_type": "stream",
     "text": [
      "123\n"
     ]
    }
   ],
   "source": [
    "# 方法四\n",
    "# 此法自创，得意\n",
    "print(reduce(lambda x, y: x*10+y, map(lambda x: dd[x], '123'))) "
   ]
  },
  {
   "cell_type": "code",
   "execution_count": 74,
   "metadata": {},
   "outputs": [
    {
     "name": "stdout",
     "output_type": "stream",
     "text": [
      "打印x之前打印一句话了哦\n",
      "你是小狗\n"
     ]
    }
   ],
   "source": [
    "# 比如，在函数调用前后自动打印日志，但又不希望修改now()函数的定义，这种在代码运行期间动态增加功能的方式，称之为“装饰器”（Decorator）。\n",
    "# 本质上，decorator就是一个返回函数的高阶函数。所以，我们要定义一个能打印日志的decorator，可以定义如下：\n",
    "# 装饰器有感，他就是一个返回函数的高阶函数，能够给函数动态的增加功能，这也就是所谓的装饰。\n",
    "# 装饰带参数的函数\n",
    "def dec(func):\n",
    "    def wrap(x):\n",
    "        print('打印x之前打印一句话了哦')\n",
    "        return func(x)\n",
    "    return wrap\n",
    "\n",
    "@dec\n",
    "def f3(x):\n",
    "    print(x)\n",
    "f3('你是小狗')"
   ]
  },
  {
   "cell_type": "code",
   "execution_count": 76,
   "metadata": {},
   "outputs": [
    {
     "name": "stdout",
     "output_type": "stream",
     "text": [
      "打印x之前打印一句话了哦\n",
      "小明 垃圾\n"
     ]
    }
   ],
   "source": [
    "# 装饰更多函数\n",
    "def dec(func):\n",
    "    def wrap(*ar, **kw):\n",
    "        print('打印x之前打印一句话了哦')\n",
    "        return func(*ar, **kw)\n",
    "    return wrap\n",
    "\n",
    "@dec\n",
    "def f3(x, y):\n",
    "    print(x, y)\n",
    "f3('小明', '垃圾')"
   ]
  },
  {
   "cell_type": "code",
   "execution_count": 83,
   "metadata": {},
   "outputs": [
    {
     "name": "stdout",
     "output_type": "stream",
     "text": [
      "打印x之前打印一句话了哦\n",
      "又打印一句话\n",
      "today very cold\n"
     ]
    }
   ],
   "source": [
    "# 双重语法糖\n",
    "def dec1(func):\n",
    "    def wrap(*ar, **kw):\n",
    "        print('打印x之前打印一句话了哦')\n",
    "        return func(*ar, **kw)\n",
    "    return wrap\n",
    "\n",
    "def dec2(func):\n",
    "    def wrap2(*ar, **kw):\n",
    "        print('又打印一句话')\n",
    "        return func(*ar, **kw)\n",
    "    return wrap2\n",
    "\n",
    "@dec1\n",
    "@dec2\n",
    "def f3(x, y):\n",
    "    print(x, y)\n",
    "    \n",
    "f3('today', 'very cold')"
   ]
  },
  {
   "cell_type": "code",
   "execution_count": 85,
   "metadata": {},
   "outputs": [
    {
     "name": "stdout",
     "output_type": "stream",
     "text": [
      "====================\n",
      "today tianjing Tom 18\n",
      "====================\n",
      "tomorrow nanjing xiaoming 20\n"
     ]
    }
   ],
   "source": [
    "# 带参数的装饰器\n",
    "def dec3(m):\n",
    "    def fun(func):\n",
    "        def wrap2(*ar, **kw):\n",
    "            print(m*20)\n",
    "            return func(*ar, **kw)\n",
    "        return wrap2\n",
    "    return fun\n",
    "\n",
    "@ dec3('=')\n",
    "def f4(x, y, name='Tom', age='18'):\n",
    "    print(x, y, name, age)\n",
    "\n",
    "f4('today', 'tianjing')\n",
    "    \n",
    "f4('tomorrow', 'nanjing', 'xiaoming', '20')"
   ]
  },
  {
   "cell_type": "markdown",
   "metadata": {},
   "source": [
    "## 偏函数\n",
    "- Python的functools模块提供了很多有用的功能，其中一个就是偏函数（Partial function）。要注意，这里的偏函数和数学意义上的偏函数不一样。\n",
    "- 在介绍函数参数的时候，我们讲到，通过设定参数的默认值，可以降低函数调用的难度。而偏函数也可以做到这一点。举例如下："
   ]
  },
  {
   "cell_type": "code",
   "execution_count": 91,
   "metadata": {},
   "outputs": [
    {
     "name": "stdout",
     "output_type": "stream",
     "text": [
      "1010101\n",
      "85\n"
     ]
    }
   ],
   "source": [
    "from functools import partial\n",
    "print(int('1010101'))\n",
    "int2 = partial(int, base=2)\n",
    "print(int2('1010101'))\n"
   ]
  },
  {
   "cell_type": "code",
   "execution_count": 93,
   "metadata": {},
   "outputs": [
    {
     "name": "stdout",
     "output_type": "stream",
     "text": [
      "8\n",
      "10\n"
     ]
    }
   ],
   "source": [
    "print(max(1,2,8))\n",
    "\n",
    "max2 = partial(max, 10)\n",
    "print(max2(1,2,8))"
   ]
  },
  {
   "cell_type": "code",
   "execution_count": null,
   "metadata": {},
   "outputs": [],
   "source": [
    "# 一个.py文件就称之为一个模块（Module）\n",
    "# 请注意，每一个包目录下面都会有一个__init__.py的文件，这个文件是必须存在的，\n",
    "# 否则，Python就把这个目录当成普通目录，而不是一个包。__init__.py可以是空文件，也可以有Python代码，\n",
    "# 因为__init__.py本身就是一个模块"
   ]
  },
  {
   "cell_type": "code",
   "execution_count": null,
   "metadata": {},
   "outputs": [],
   "source": [
    "# 在类里面__attr,这样的属性代表私有变量,通过类的实例.__attr直接调用不了。但是通过实例._Class.__attr就可以了\n",
    "\n"
   ]
  },
  {
   "cell_type": "code",
   "execution_count": null,
   "metadata": {},
   "outputs": [],
   "source": [
    "# 要理解什么是多态，我们首先要对数据类型再作一点说明。\n",
    "# 当我们定义一个class的时候，我们实际上就定义了一种数据类型。我们定义的数据类型和Python自带的数据类型，比如str、list、dict没什么两样："
   ]
  },
  {
   "cell_type": "code",
   "execution_count": 101,
   "metadata": {},
   "outputs": [
    {
     "data": {
      "text/plain": [
       "True"
      ]
     },
     "execution_count": 101,
     "metadata": {},
     "output_type": "execute_result"
    }
   ],
   "source": [
    "import types\n",
    "# type(abs) == types.BuiltinFunctionType\n",
    "# type(lambda x:x) == types.LambdaType\n",
    "# type(x for x in range(3)) == types.GeneratorType\n",
    "def fun():\n",
    "    pass\n",
    "type(fun) == types.FunctionType"
   ]
  },
  {
   "cell_type": "code",
   "execution_count": 104,
   "metadata": {},
   "outputs": [],
   "source": [
    "# isinstance()判断的是一个对象是否是该类型本身，或者位于该类型的父继承链上。\n",
    "# isinstance()函数还可以这样写\n",
    "# isinstance([1,2,3], (list, tuple, set))\n",
    "# isinstance({'a':1}, (list, tuple, set))"
   ]
  },
  {
   "cell_type": "code",
   "execution_count": 106,
   "metadata": {},
   "outputs": [
    {
     "data": {
      "text/plain": [
       "['__add__',\n",
       " '__class__',\n",
       " '__contains__',\n",
       " '__delattr__',\n",
       " '__dir__',\n",
       " '__doc__',\n",
       " '__eq__',\n",
       " '__format__',\n",
       " '__ge__',\n",
       " '__getattribute__',\n",
       " '__getitem__',\n",
       " '__getnewargs__',\n",
       " '__gt__',\n",
       " '__hash__',\n",
       " '__init__',\n",
       " '__init_subclass__',\n",
       " '__iter__',\n",
       " '__le__',\n",
       " '__len__',\n",
       " '__lt__',\n",
       " '__mod__',\n",
       " '__mul__',\n",
       " '__ne__',\n",
       " '__new__',\n",
       " '__reduce__',\n",
       " '__reduce_ex__',\n",
       " '__repr__',\n",
       " '__rmod__',\n",
       " '__rmul__',\n",
       " '__setattr__',\n",
       " '__sizeof__',\n",
       " '__str__',\n",
       " '__subclasshook__',\n",
       " 'capitalize',\n",
       " 'casefold',\n",
       " 'center',\n",
       " 'count',\n",
       " 'encode',\n",
       " 'endswith',\n",
       " 'expandtabs',\n",
       " 'find',\n",
       " 'format',\n",
       " 'format_map',\n",
       " 'index',\n",
       " 'isalnum',\n",
       " 'isalpha',\n",
       " 'isdecimal',\n",
       " 'isdigit',\n",
       " 'isidentifier',\n",
       " 'islower',\n",
       " 'isnumeric',\n",
       " 'isprintable',\n",
       " 'isspace',\n",
       " 'istitle',\n",
       " 'isupper',\n",
       " 'join',\n",
       " 'ljust',\n",
       " 'lower',\n",
       " 'lstrip',\n",
       " 'maketrans',\n",
       " 'partition',\n",
       " 'replace',\n",
       " 'rfind',\n",
       " 'rindex',\n",
       " 'rjust',\n",
       " 'rpartition',\n",
       " 'rsplit',\n",
       " 'rstrip',\n",
       " 'split',\n",
       " 'splitlines',\n",
       " 'startswith',\n",
       " 'strip',\n",
       " 'swapcase',\n",
       " 'title',\n",
       " 'translate',\n",
       " 'upper',\n",
       " 'zfill']"
      ]
     },
     "execution_count": 106,
     "metadata": {},
     "output_type": "execute_result"
    }
   ],
   "source": [
    "dir('abc')"
   ]
  },
  {
   "cell_type": "code",
   "execution_count": null,
   "metadata": {},
   "outputs": [],
   "source": [
    "# 实例属性属于各个实例所有，互不干扰；\n",
    "# 类属性属于类所有，所有实例共享一个属性；\n",
    "# 不要对实例属性和类属性使用相同的名字，否则将产生难以发现的错误。"
   ]
  },
  {
   "cell_type": "code",
   "execution_count": null,
   "metadata": {},
   "outputs": [],
   "source": [
    "# 数据封装、继承和多态只是面向对象程序设计中最基础的3个概念。在Python中，面向对象还有很多高级特性，允许我们写出非常强大的功能。\n",
    "# 我们会讨论多重继承、定制类、元类等概念。"
   ]
  },
  {
   "cell_type": "code",
   "execution_count": 108,
   "metadata": {},
   "outputs": [
    {
     "data": {
      "text/plain": [
       "'Tom'"
      ]
     },
     "execution_count": 108,
     "metadata": {},
     "output_type": "execute_result"
    }
   ],
   "source": [
    "# 可以给实例绑定任意属性\n",
    "class Student(object):\n",
    "    pass\n",
    "s1 = Student()\n",
    "s1.name = 'Tom'\n",
    "s1.name"
   ]
  },
  {
   "cell_type": "code",
   "execution_count": 112,
   "metadata": {},
   "outputs": [
    {
     "data": {
      "text/plain": [
       "22"
      ]
     },
     "execution_count": 112,
     "metadata": {},
     "output_type": "execute_result"
    }
   ],
   "source": [
    "# 还可以给实例绑定任意方法\n",
    "def set_age(self, age):\n",
    "    self.age = age\n",
    "from types import MethodType\n",
    "s1.set_age = MethodType(set_age, s1)\n",
    "s1.set_age(22)\n",
    "s1.age"
   ]
  },
  {
   "cell_type": "code",
   "execution_count": 114,
   "metadata": {},
   "outputs": [
    {
     "data": {
      "text/plain": [
       "'new york'"
      ]
     },
     "execution_count": 114,
     "metadata": {},
     "output_type": "execute_result"
    }
   ],
   "source": [
    "# 给类绑定属性\n",
    "class Student1(object):\n",
    "    pass\n",
    "def set_city(self, city):\n",
    "    self.city = city\n",
    "Student1.set_city = set_city\n",
    "\n",
    "a = Student1()\n",
    "a.set_city('london')\n",
    "a.city\n",
    "\n",
    "b = Student1()\n",
    "b.set_city('new york')\n",
    "b.city"
   ]
  },
  {
   "cell_type": "code",
   "execution_count": 116,
   "metadata": {},
   "outputs": [
    {
     "data": {
      "text/plain": [
       "'80'"
      ]
     },
     "execution_count": 116,
     "metadata": {},
     "output_type": "execute_result"
    }
   ],
   "source": [
    "# 给实例限制绑定属性，则是在类定义时，定义一个特殊的__slots__变量，来限制该class实例能添加的属性\n",
    "class Student2(object):\n",
    "    __slots__ = ('name', 'gender')\n",
    "\n",
    "c = Student2()\n",
    "c.name = '80'\n",
    "c.name"
   ]
  },
  {
   "cell_type": "code",
   "execution_count": 142,
   "metadata": {},
   "outputs": [],
   "source": [
    "# 继承父类的属性\n",
    "# Python3.x 和 Python2.x 的一个区别是: Python 3 可以使用直接使用 super().xxx 代替 super(Class, self).xxx :\n",
    "\n",
    "class Animal(object):\n",
    "    def __init__(self, city, legs):\n",
    "        self.city = city\n",
    "        self.legs = legs\n",
    "    def run(self):\n",
    "        print('animal is runing')\n",
    "        \n",
    "# class Dog(Animal):\n",
    "#     def __init__(self, city, legs, gate):\n",
    "#         Animal.__init__(self, city, legs)\n",
    "#         self.gate = gate\n",
    "\n",
    "# erha = Dog('china', 'four', 'wangwangwang')\n",
    "# print(erha.city)\n",
    "# print(erha.legs)\n",
    "# print(erha.gate)\n",
    "# # erha.run()"
   ]
  },
  {
   "cell_type": "code",
   "execution_count": 163,
   "metadata": {},
   "outputs": [
    {
     "name": "stdout",
     "output_type": "stream",
     "text": [
      "doubin\n",
      "four\n",
      "miamiamia\n"
     ]
    }
   ],
   "source": [
    "class Cats(Animal):\n",
    "    def __init__(self, city, legs, miao):\n",
    "#         Animal.__init__(self, city, legs)\n",
    "        super().__init__(city, legs) # 这样写是可以的\n",
    "        self.miao = miao\n",
    "\n",
    "jumao = Cats('doubin','four','miamiamia')\n",
    "print(jumao.city)\n",
    "print(jumao.legs)\n",
    "print(jumao.miao)"
   ]
  },
  {
   "cell_type": "code",
   "execution_count": 164,
   "metadata": {},
   "outputs": [
    {
     "data": {
      "text/plain": [
       "'beijing'"
      ]
     },
     "execution_count": 164,
     "metadata": {},
     "output_type": "execute_result"
    }
   ],
   "source": [
    "class Pig(Animal):\n",
    "    def __init__(self, city, legs, miao):\n",
    "        super(Pig, self).__init__(city, legs)\n",
    "        self.miao = miao\n",
    "        \n",
    "pp = Pig('beijing', 'four', 'ememm')\n",
    "pp.city"
   ]
  },
  {
   "cell_type": "code",
   "execution_count": 155,
   "metadata": {},
   "outputs": [
    {
     "data": {
      "text/plain": [
       "13"
      ]
     },
     "execution_count": 155,
     "metadata": {},
     "output_type": "execute_result"
    }
   ],
   "source": [
    "# 定义类的时候也可以没有初始化函数，可以定义一个设置属性的函数，用来实例去掉用\n",
    "class Student4(object):\n",
    "    def get_score(self):\n",
    "        return self._score\n",
    "    def set_score(self, value):\n",
    "        if not isinstance(value, int):\n",
    "            raise ValueError('score must be an integer!')\n",
    "        if value<0 or value>100:\n",
    "            raise ValueError('score must between 0 ~ 100!')\n",
    "        self._score = value\n",
    "s4 = Student4()\n",
    "s4.set_score(13)\n",
    "s4.get_score()\n"
   ]
  },
  {
   "cell_type": "code",
   "execution_count": 161,
   "metadata": {},
   "outputs": [
    {
     "data": {
      "text/plain": [
       "15"
      ]
     },
     "execution_count": 161,
     "metadata": {},
     "output_type": "execute_result"
    }
   ],
   "source": [
    "s4.score=15\n",
    "# s4.score\n",
    "s4.get_score()"
   ]
  },
  {
   "cell_type": "code",
   "execution_count": 158,
   "metadata": {},
   "outputs": [
    {
     "data": {
      "text/plain": [
       "30"
      ]
     },
     "execution_count": 158,
     "metadata": {},
     "output_type": "execute_result"
    }
   ],
   "source": [
    "class Student(object):\n",
    "\n",
    "    @property\n",
    "    def score(self):\n",
    "        return self._score\n",
    "\n",
    "    @score.setter\n",
    "    def score(self, value):\n",
    "        if not isinstance(value, int):\n",
    "            raise ValueError('score must be an integer!')\n",
    "        if value < 0 or value > 100:\n",
    "            raise ValueError('score must between 0 ~ 100!')\n",
    "        self._score = value\n",
    "        \n",
    "s = Student()\n",
    "s.score = 30\n",
    "s.score"
   ]
  },
  {
   "cell_type": "code",
   "execution_count": 167,
   "metadata": {},
   "outputs": [
    {
     "data": {
      "text/plain": [
       "20"
      ]
     },
     "execution_count": 167,
     "metadata": {},
     "output_type": "execute_result"
    }
   ],
   "source": [
    "class C:\n",
    "    def __init__(self, size=10):\n",
    "        self.size = size\n",
    "    def getSize(self):\n",
    "        return self.size\n",
    "    def setSize(self, value):\n",
    "        self.size = value\n",
    "    def delSize(self):\n",
    "        del self.size\n",
    "    x = property(getSize, setSize, delSize)\n",
    "    \n",
    "c = C()\n",
    "# c.x # 可以这么理解，当我写下c.x时，程序就会理解我要调用x值，于是会property()会，自动调用getSize函数，而getSize会返回size的值\n",
    "c.x = 20\n",
    "c.x\n",
    "\n",
    "        "
   ]
  },
  {
   "cell_type": "code",
   "execution_count": null,
   "metadata": {},
   "outputs": [],
   "source": []
  },
  {
   "cell_type": "code",
   "execution_count": null,
   "metadata": {},
   "outputs": [],
   "source": []
  }
 ],
 "metadata": {
  "kernelspec": {
   "display_name": "Python 3",
   "language": "python",
   "name": "python3"
  },
  "language_info": {
   "codemirror_mode": {
    "name": "ipython",
    "version": 3
   },
   "file_extension": ".py",
   "mimetype": "text/x-python",
   "name": "python",
   "nbconvert_exporter": "python",
   "pygments_lexer": "ipython3",
   "version": "3.6.8"
  }
 },
 "nbformat": 4,
 "nbformat_minor": 2
}
