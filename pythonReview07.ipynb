{
 "cells": [
  {
   "cell_type": "markdown",
   "metadata": {},
   "source": [
    "### 关于\"__str__()\" 和 \"__repr__()\"这两个特殊方法\n",
    "- 说明：__str__() 返回给用户看的字符串。__repe__()返回给解释器看的字符串\n",
    "- 调用：print(str)时调用str.__str__()。直接str时调用__repr__\n",
    "- 上面str，repr前后都有__。撒比编辑器总是总动忽略。"
   ]
  },
  {
   "cell_type": "code",
   "execution_count": 2,
   "metadata": {},
   "outputs": [
    {
     "name": "stdout",
     "output_type": "stream",
     "text": [
      "<__main__.Student01 object at 0x1106ba588>\n"
     ]
    }
   ],
   "source": [
    "class Student01:\n",
    "    def __init__(self, name):\n",
    "        self.name = name\n",
    "\n",
    "a = Student01('tutu')\n",
    "print(a) # 显然不利于阅读"
   ]
  },
  {
   "cell_type": "code",
   "execution_count": 5,
   "metadata": {},
   "outputs": [
    {
     "name": "stdout",
     "output_type": "stream",
     "text": [
      "Student object (name: %s)\n"
     ]
    },
    {
     "data": {
      "text/plain": [
       "<__main__.Student02 at 0x1106ba940>"
      ]
     },
     "execution_count": 5,
     "metadata": {},
     "output_type": "execute_result"
    }
   ],
   "source": [
    "class Student02:\n",
    "    def __init__(self, name):\n",
    "        self.name = name\n",
    "    def __str__(self):\n",
    "        return \"Student object (name: %s)\".format(self.name)\n",
    "\n",
    "a = Student02('tutu')\n",
    "print(a) # 显然利于阅读\n",
    "\n",
    "a # 但是直接调用,仍然显示不好，因为啊直接调用a是执行的a.__repr__()函数，你得提前定义好，才能利于阅读啊。"
   ]
  },
  {
   "cell_type": "code",
   "execution_count": 9,
   "metadata": {},
   "outputs": [
    {
     "name": "stdout",
     "output_type": "stream",
     "text": [
      "Student object (name: %s)\n"
     ]
    },
    {
     "data": {
      "text/plain": [
       "Student object (name: %s)"
      ]
     },
     "execution_count": 9,
     "metadata": {},
     "output_type": "execute_result"
    }
   ],
   "source": [
    "class Student03:\n",
    "    def __init__(self, name):\n",
    "        self.name = name\n",
    "        \n",
    "    def __str__(self):\n",
    "        return \"Student object (name: %s)\".format(self.name)\n",
    "    \n",
    "    def __repr__(self):\n",
    "        return \"Student object (name: %s)\".format(self.name)\n",
    "\n",
    "a = Student03('tutu')\n",
    "print(a) # 显然利于阅读\n",
    "\n",
    "a # 此时直接调用,显示好了吧。"
   ]
  },
  {
   "cell_type": "code",
   "execution_count": 10,
   "metadata": {},
   "outputs": [
    {
     "name": "stdout",
     "output_type": "stream",
     "text": [
      "Student object (name: %s)\n"
     ]
    },
    {
     "data": {
      "text/plain": [
       "Student object (name: %s)"
      ]
     },
     "execution_count": 10,
     "metadata": {},
     "output_type": "execute_result"
    }
   ],
   "source": [
    "class Student04:\n",
    "    def __init__(self, name):\n",
    "        self.name = name\n",
    "        \n",
    "    def __str__(self):\n",
    "        return \"Student object (name: %s)\".format(self.name)\n",
    "    \n",
    "    __repr__ = __str__  #通常__str__()和__repr__()代码都是一样的，所以一般都这么写。\n",
    "\n",
    "a = Student04('tutu')\n",
    "print(a) # 显然利于阅读\n",
    "\n",
    "a # 此时直接调用,显示好了吧。"
   ]
  },
  {
   "cell_type": "code",
   "execution_count": 20,
   "metadata": {},
   "outputs": [
    {
     "name": "stdout",
     "output_type": "stream",
     "text": [
      "1\n",
      "1\n",
      "2\n",
      "3\n",
      "5\n",
      "8\n",
      "13\n",
      "21\n",
      "34\n",
      "55\n",
      "89\n"
     ]
    }
   ],
   "source": [
    "class Fib(object):\n",
    "    \n",
    "    def __init__(self):\n",
    "        self.a, self.b = 0, 1 # 初始化两个计数器a，b\n",
    "        \n",
    "    def __iter__(self):\n",
    "        return self\n",
    "    \n",
    "    def __next__(self):\n",
    "        self.a, self.b = self.b, self.a + self.b\n",
    "        if self.a >= 100:\n",
    "            raise StopIteration()\n",
    "        return self.a\n",
    "    \n",
    "for x in Fib():\n",
    "    print(x)"
   ]
  },
  {
   "cell_type": "markdown",
   "metadata": {},
   "source": [
    "### Python的元类还得结合项目看"
   ]
  },
  {
   "cell_type": "markdown",
   "metadata": {},
   "source": [
    "### 文件读取\n",
    "- file.read(): 全部读取\n",
    "- file.read(size): 按size大小读取\n",
    "- file.readlines(): 一次读取全部，按行读取，返回列表。\n",
    "- open(): 默认是utf8编码，若非，则添加参数encoding='相应编码'，若有非法编码的字符则 error=ignore。\n",
    "- 每次读取文件都要关闭，有时出了问题还关不了，则用with 关键字吧。"
   ]
  },
  {
   "cell_type": "markdown",
   "metadata": {},
   "source": [
    "### StringIO 和 BytesIO"
   ]
  },
  {
   "cell_type": "markdown",
   "metadata": {},
   "source": [
    "### 操作文件和目录\n",
    "- 操作文件和目录的函数一部分放在os模块中，一部分放在os.path模块中，这一点要注意一下。查看、创建和删除目录可以这么调用："
   ]
  },
  {
   "cell_type": "code",
   "execution_count": 23,
   "metadata": {},
   "outputs": [
    {
     "name": "stdout",
     "output_type": "stream",
     "text": [
      "posix\n",
      "posix.uname_result(sysname='Darwin', nodename='192.168.0.101', release='17.7.0', version='Darwin Kernel Version 17.7.0: Fri Jul  6 19:54:51 PDT 2018; root:xnu-4570.71.3~2/RELEASE_X86_64', machine='x86_64')\n"
     ]
    }
   ],
   "source": [
    "import os\n",
    "print(os.name)\n",
    "print(os.uname())"
   ]
  },
  {
   "cell_type": "code",
   "execution_count": 24,
   "metadata": {},
   "outputs": [
    {
     "name": "stdout",
     "output_type": "stream",
     "text": [
      "environ({'TERM_PROGRAM': 'Apple_Terminal', 'TERM': 'xterm-color', 'SHELL': '/bin/bash', 'TMPDIR': '/var/folders/ms/b2mxyzbs7pvfhmmsq60f4x200000gn/T/', 'Apple_PubSub_Socket_Render': '/private/tmp/com.apple.launchd.GnCFKo78y5/Render', 'CONDA_SHLVL': '1', 'TERM_PROGRAM_VERSION': '404', 'CONDA_PROMPT_MODIFIER': '(base) ', 'TERM_SESSION_ID': '9A72C1B3-B9A5-49CB-A24A-5CBA9A6A171F', 'USER': 'gonghuidepro', 'CONDA_EXE': '/Users/gonghuidepro/anaconda3/bin/conda', 'SSH_AUTH_SOCK': '/private/tmp/com.apple.launchd.NCaBBtlBNR/Listeners', '_CE_CONDA': '', 'PATH': '/Users/gonghuidepro/anaconda3/bin:/Users/gonghuidepro/anaconda3/condabin:/usr/local/bin:/usr/bin:/bin:/usr/sbin:/sbin', 'CONDA_PREFIX': '/Users/gonghuidepro/anaconda3', 'PWD': '/Users/gonghuidepro', 'LANG': 'zh_CN.UTF-8', 'XPC_FLAGS': '0x0', 'XPC_SERVICE_NAME': '0', '_CE_M': '', 'HOME': '/Users/gonghuidepro', 'SHLVL': '2', 'LOGNAME': 'gonghuidepro', 'CONDA_PYTHON_EXE': '/Users/gonghuidepro/anaconda3/bin/python', 'CONDA_DEFAULT_ENV': 'base', 'SECURITYSESSIONID': '186a9', '_': '/Users/gonghuidepro/anaconda3/bin/jupyter-notebook', 'JPY_PARENT_PID': '8649', 'CLICOLOR': '1', 'PAGER': 'cat', 'GIT_PAGER': 'cat', 'MPLBACKEND': 'module://ipykernel.pylab.backend_inline'})\n"
     ]
    }
   ],
   "source": [
    "print(os.environ)"
   ]
  },
  {
   "cell_type": "code",
   "execution_count": 25,
   "metadata": {},
   "outputs": [
    {
     "name": "stdout",
     "output_type": "stream",
     "text": [
      "/Users/gonghuidepro/anaconda3/bin:/Users/gonghuidepro/anaconda3/condabin:/usr/local/bin:/usr/bin:/bin:/usr/sbin:/sbin\n"
     ]
    }
   ],
   "source": [
    "print(os.environ.get('PATH'))"
   ]
  },
  {
   "cell_type": "code",
   "execution_count": 26,
   "metadata": {},
   "outputs": [
    {
     "name": "stdout",
     "output_type": "stream",
     "text": [
      "/Users/gonghuidepro/My python\n"
     ]
    }
   ],
   "source": [
    "print(os.path.abspath('.')) # 查看当前目录的绝对路径"
   ]
  },
  {
   "cell_type": "code",
   "execution_count": null,
   "metadata": {},
   "outputs": [],
   "source": []
  },
  {
   "cell_type": "code",
   "execution_count": 41,
   "metadata": {},
   "outputs": [
    {
     "name": "stdout",
     "output_type": "stream",
     "text": [
      "/Users/gonghuidepro/My python/abdir/asdir\n"
     ]
    }
   ],
   "source": [
    "print(os.path.join('/Users/gonghuidepro/My python/abdir', 'asdir')) # 在某个目录下创建一个新目录，首先把新目录的完整路径表示出来:\n",
    "\n",
    "os.mkdir('/Users/gonghuidepro/My python/abdir/asdir') # 然后创建一个目录:\n"
   ]
  },
  {
   "cell_type": "markdown",
   "metadata": {},
   "source": [
    "#### 合并两个路径时，千万不要直接拼接，因为不通系统下的目录连接符不一样‘/’ 或‘\\’等。应该用os.path.join()函数\n",
    "#### 同样，拆分路径时，也不要直接去拆字符串，而要通过os.path.split()函数，这样可以把一个路径拆分为两部分，后一部分总是最后级别的目录或文件名：\n",
    " "
   ]
  },
  {
   "cell_type": "code",
   "execution_count": 42,
   "metadata": {},
   "outputs": [
    {
     "name": "stdout",
     "output_type": "stream",
     "text": [
      "('/Users/michael/testdir', 'file.txt')\n"
     ]
    }
   ],
   "source": [
    "print(os.path.split('/Users/michael/testdir/file.txt'))"
   ]
  },
  {
   "cell_type": "code",
   "execution_count": 43,
   "metadata": {},
   "outputs": [
    {
     "name": "stdout",
     "output_type": "stream",
     "text": [
      "('Users/michael/testdir/file', '.txt')\n"
     ]
    }
   ],
   "source": [
    "# os.path.splitext()可以直接让你得到文件扩展名，很多时候非常方便：\n",
    "print(os.path.splitext('Users/michael/testdir/file.txt'))\n"
   ]
  },
  {
   "cell_type": "markdown",
   "metadata": {},
   "source": [
    "### 文件目录操作\n",
    "- 创建：open(，‘w’) as file方法创建新文件。创建目录方法是os.mkdir(path)\n",
    "- 更改：os.rename()可以重命名文件和目录\n",
    "- 删除：os.remove()删除文件。os.rmdir()删除目录\n",
    "- 复制：幸运的是shutil模块提供了copyfile()的函数，你还可以在shutil模块中找到很多实用函数，它们可以看做是os模块的补充。\n",
    "- 查询：os.listdir('.') 。返回path指定的文件夹包含的文件或文件夹的名字的列表。\n"
   ]
  },
  {
   "cell_type": "code",
   "execution_count": 45,
   "metadata": {},
   "outputs": [
    {
     "name": "stdout",
     "output_type": "stream",
     "text": [
      "['data05.ipynb', 'pandas03.ipynb', 'aadir', 'Pillow_learn.ipynb', 'pythonReview05.ipynb', 'python进程.ipynb', 'dump_learn.txt', 'out.txt', 'pythonReview07.ipynb', 'data07.ipynb', 'pandas01.ipynb', '.DS_Store', 'data03.ipynb', 'sina.html', 'pythonReview03.ipynb', 'img_crop.png', 'pythonReview01.ipynb', 'img_c.png', 'data01.ipynb', 'pythonReview.ipynb', 'pythonReview06.ipynb', 'outfile2.npy', 'data06.ipynb', 'pandas02.ipynb', 'data04.ipynb', 'spider4.ipynb', 'pythonReview04.ipynb', 'test1.png', '苏轼', 'data02.ipynb', 'pythonReview02.ipynb', 'test2.png', 'captcha2.png', 'spider 02.ipynb', 'captcha1.png', 'outfile.npy', 'data08.ipynb', 'python网络编程.ipynb', '.ipynb_checkpoints', 'img_evl.png', 'spider 01.ipynb', 'runoob.npz', 'abdir', 'manyarray.npz', 'capt_blend.png', 'data09.ipynb', 'python100道面试题.ipynb']\n"
     ]
    }
   ],
   "source": [
    "print(os.listdir('.'))  # 返回path指定的文件夹包含的文件或文件夹的名字的列表。"
   ]
  },
  {
   "cell_type": "code",
   "execution_count": 47,
   "metadata": {},
   "outputs": [
    {
     "name": "stdout",
     "output_type": "stream",
     "text": [
      "['aadir', '苏轼', '.ipynb_checkpoints', 'abdir']\n"
     ]
    }
   ],
   "source": [
    "# 比如我们要列出当前目录下的所有目录\n",
    "cur_dirs = [i for i in os.listdir('.') if os.path.isdir(i)]\n",
    "print(cur_dirs)"
   ]
  },
  {
   "cell_type": "code",
   "execution_count": 48,
   "metadata": {},
   "outputs": [
    {
     "name": "stdout",
     "output_type": "stream",
     "text": [
      "['data05.ipynb', 'pandas03.ipynb', 'Pillow_learn.ipynb', 'pythonReview05.ipynb', 'python进程.ipynb', 'pythonReview07.ipynb', 'data07.ipynb', 'pandas01.ipynb', 'data03.ipynb', 'pythonReview03.ipynb', 'pythonReview01.ipynb', 'data01.ipynb', 'pythonReview.ipynb', 'pythonReview06.ipynb', 'data06.ipynb', 'pandas02.ipynb', 'data04.ipynb', 'spider4.ipynb', 'pythonReview04.ipynb', 'data02.ipynb', 'pythonReview02.ipynb', 'spider 02.ipynb', 'data08.ipynb', 'python网络编程.ipynb', 'spider 01.ipynb', 'data09.ipynb', 'python100道面试题.ipynb']\n"
     ]
    }
   ],
   "source": [
    "# 比如我们要列出当前目录下的所有.ipynb的文件\n",
    "cur_file = [i for i in os.listdir('.') if os.path.isfile(i) and os.path.splitext(i)[1] == '.ipynb']\n",
    "print(cur_file)"
   ]
  },
  {
   "cell_type": "markdown",
   "metadata": {},
   "source": [
    "#### 我们把变量从内存中变成可存储或传输的过程称之为序列化，在Python中叫pickling，\n",
    "#### 在其他语言中也被称之为serialization，marshalling，flattening等等，都是一个意思。\n",
    "#### 序列化之后，就可以把序列化后的内容写入磁盘，或者通过网络传输到别的机器上。\n",
    "#### 反过来，把变量内容从序列化的对象重新读到内存里称之为反序列化，即unpickling。\n",
    "- 序列化方法pickle.dumps(obj)和dump(obj, file)\n",
    "- 反序列化方法pickle.loads(obj) 和load(f)"
   ]
  },
  {
   "cell_type": "markdown",
   "metadata": {},
   "source": [
    "#### 如果我们要在不同的编程语言之间传递对象，就必须把对象序列化为标准格式，比如XML，但更好的方法是序列化为JSON.\n",
    "#### 因为JSON表示出来就是一个字符串，可以被所有语言读取，也可以方便地存储到磁盘或者通过网络传输。\n",
    "#### JSON不仅是标准格式，并且比XML更快，而且可以直接在Web页面中读取，非常方便。"
   ]
  },
  {
   "cell_type": "code",
   "execution_count": null,
   "metadata": {},
   "outputs": [],
   "source": []
  },
  {
   "cell_type": "code",
   "execution_count": null,
   "metadata": {},
   "outputs": [],
   "source": []
  },
  {
   "cell_type": "code",
   "execution_count": null,
   "metadata": {},
   "outputs": [],
   "source": []
  },
  {
   "cell_type": "code",
   "execution_count": null,
   "metadata": {},
   "outputs": [],
   "source": []
  },
  {
   "cell_type": "code",
   "execution_count": null,
   "metadata": {},
   "outputs": [],
   "source": []
  }
 ],
 "metadata": {
  "kernelspec": {
   "display_name": "Python 3",
   "language": "python",
   "name": "python3"
  },
  "language_info": {
   "codemirror_mode": {
    "name": "ipython",
    "version": 3
   },
   "file_extension": ".py",
   "mimetype": "text/x-python",
   "name": "python",
   "nbconvert_exporter": "python",
   "pygments_lexer": "ipython3",
   "version": "3.6.8"
  }
 },
 "nbformat": 4,
 "nbformat_minor": 2
}
