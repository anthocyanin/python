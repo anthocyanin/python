{
 "cells": [
  {
   "cell_type": "markdown",
   "metadata": {},
   "source": [
    "## 安插\n",
    "- 在安插新的列时通过索引值自动排列\n",
    "- 通过标签安插值\n",
    "- 通过位置安插值\n",
    "- 通过分配numpy数组来安插新的列\n",
    "- 前面安插值的操作的结果\n",
    "- 用一个where操作来安插数据"
   ]
  },
  {
   "cell_type": "code",
   "execution_count": 1,
   "metadata": {},
   "outputs": [
    {
     "name": "stdout",
     "output_type": "stream",
     "text": [
      "DatetimeIndex(['2013-01-01', '2013-01-02', '2013-01-03', '2013-01-04',\n",
      "               '2013-01-05', '2013-01-06'],\n",
      "              dtype='datetime64[ns]', freq='D')\n",
      "\n",
      "\n",
      "                   A         B         C         D\n",
      "2013-01-01 -0.873462  2.847167  0.693864 -2.035999\n",
      "2013-01-02 -1.185963 -0.290307  0.566101  0.973414\n",
      "2013-01-03 -1.065812 -0.696262  0.945434 -3.397630\n",
      "2013-01-04 -1.246650  0.757272 -0.995949 -0.085033\n",
      "2013-01-05 -0.356536  0.462087  1.006266  0.153631\n",
      "2013-01-06  0.049527 -1.658512  2.297461 -0.730905\n"
     ]
    }
   ],
   "source": [
    "import numpy as np \n",
    "import pandas as pd\n",
    "\n",
    "dates = pd.date_range('20130101', periods=6)\n",
    "print(dates)\n",
    "print('\\n')\n",
    "df = pd.DataFrame(np.random.randn(6,4), index=dates, columns=list('ABCD')) # 6行4列，索引为dates，列名称分别为ABCD\n",
    "print(df)"
   ]
  },
  {
   "cell_type": "code",
   "execution_count": 3,
   "metadata": {},
   "outputs": [
    {
     "name": "stdout",
     "output_type": "stream",
     "text": [
      "2013-01-02    1\n",
      "2013-01-03    2\n",
      "2013-01-04    3\n",
      "2013-01-05    4\n",
      "2013-01-06    5\n",
      "2013-01-07    6\n",
      "Freq: D, dtype: int64\n",
      "\n",
      "\n",
      "                   A         B         C         D    F\n",
      "2013-01-01 -0.873462  2.847167  0.693864 -2.035999  NaN\n",
      "2013-01-02 -1.185963 -0.290307  0.566101  0.973414  1.0\n",
      "2013-01-03 -1.065812 -0.696262  0.945434 -3.397630  2.0\n",
      "2013-01-04 -1.246650  0.757272 -0.995949 -0.085033  3.0\n",
      "2013-01-05 -0.356536  0.462087  1.006266  0.153631  4.0\n",
      "2013-01-06  0.049527 -1.658512  2.297461 -0.730905  5.0\n"
     ]
    }
   ],
   "source": [
    "s1 = pd.Series([1,2,3,4,5,6], index=pd.date_range('20130102',periods=6))\n",
    "print(s1)\n",
    "print('\\n')\n",
    "df['F']=s1\n",
    "print(df) #多扔，少补，补NaN"
   ]
  },
  {
   "cell_type": "code",
   "execution_count": 7,
   "metadata": {},
   "outputs": [
    {
     "name": "stdout",
     "output_type": "stream",
     "text": [
      "6.66\n",
      "6.66\n",
      "====================\n",
      "0.6938638905139981\n",
      "8.8\n"
     ]
    }
   ],
   "source": [
    "# 通过标签安插值\n",
    "print(df.at[dates[0],'B'])\n",
    "df.at[dates[0],'B']=6.66\n",
    "print(df.at[dates[0],'B'])\n",
    "print(10*'==')\n",
    "# 通过位置安插值\n",
    "print(df.iloc[0,2])\n",
    "df.iloc[0,2] = 8.8\n",
    "print(df.iloc[0,2])"
   ]
  },
  {
   "cell_type": "code",
   "execution_count": 11,
   "metadata": {},
   "outputs": [
    {
     "name": "stdout",
     "output_type": "stream",
     "text": [
      "2013-01-01    8.800000\n",
      "2013-01-02    0.566101\n",
      "2013-01-03    0.945434\n",
      "2013-01-04   -0.995949\n",
      "2013-01-05    1.006266\n",
      "2013-01-06    2.297461\n",
      "Freq: D, Name: C, dtype: float64\n",
      "\n",
      "\n",
      "2013-01-01    5\n",
      "2013-01-02    5\n",
      "2013-01-03    5\n",
      "2013-01-04    5\n",
      "2013-01-05    5\n",
      "2013-01-06    5\n",
      "Freq: D, Name: C, dtype: int64\n"
     ]
    }
   ],
   "source": [
    "# 通过分配numpy数组来安插新的列\n",
    "print(df['C'])\n",
    "print('\\n')\n",
    "df['C'] = np.array([5] * len(df))\n",
    "print(df['C'])"
   ]
  },
  {
   "cell_type": "code",
   "execution_count": 14,
   "metadata": {},
   "outputs": [
    {
     "name": "stdout",
     "output_type": "stream",
     "text": [
      "                   A         B  C  D    F\n",
      "2013-01-01  6.660000  6.660000  5  5  NaN\n",
      "2013-01-02 -1.185963 -0.290307  5  5  1.0\n",
      "2013-01-03 -1.065812 -0.696262  5  5  2.0\n",
      "2013-01-04 -1.246650  0.757272  5  5  3.0\n",
      "2013-01-05 -0.356536  0.462087  5  5  4.0\n",
      "2013-01-06  0.049527 -1.658512  5  5  5.0\n",
      "\n",
      "\n",
      "                   A         B  C  D    F\n",
      "2013-01-01 -6.660000 -6.660000 -5 -5  NaN\n",
      "2013-01-02 -1.185963 -0.290307 -5 -5 -1.0\n",
      "2013-01-03 -1.065812 -0.696262 -5 -5 -2.0\n",
      "2013-01-04 -1.246650 -0.757272 -5 -5 -3.0\n",
      "2013-01-05 -0.356536 -0.462087 -5 -5 -4.0\n",
      "2013-01-06 -0.049527 -1.658512 -5 -5 -5.0\n"
     ]
    }
   ],
   "source": [
    "# 用一个where操作来安插数据\n",
    "print(df)\n",
    "print('\\n')\n",
    "df2 = df.copy()\n",
    "df2[df2>0] = -df2 # df2>0把df2里面大于0的都筛选出来，用-df2对应的赋值，\n",
    "print(df2)"
   ]
  },
  {
   "cell_type": "markdown",
   "metadata": {},
   "source": [
    "## 缺失值\n",
    "- 早先的pandas使用 np.nan的值来代表缺失值。缺失值默认不会进行计算。\n",
    "- 重新排列索引操作允许你在指定的轴上改变/增加/删除索引。下面返回一个前面数据的复制结果\n",
    "- 删除所有含有缺失值的行\n",
    "- 替换缺失值\n",
    "- 通过判断缺失值来获取布尔值"
   ]
  },
  {
   "cell_type": "code",
   "execution_count": 16,
   "metadata": {},
   "outputs": [
    {
     "name": "stdout",
     "output_type": "stream",
     "text": [
      "                   A         B  C  D    F   E\n",
      "2013-01-01  6.660000  6.660000  5  5  NaN NaN\n",
      "2013-01-02 -1.185963 -0.290307  5  5  1.0 NaN\n",
      "2013-01-03 -1.065812 -0.696262  5  5  2.0 NaN\n",
      "2013-01-04 -1.246650  0.757272  5  5  3.0 NaN\n",
      "\n",
      "\n",
      "                   A         B  C  D    F    E\n",
      "2013-01-01  6.660000  6.660000  5  5  NaN  1.0\n",
      "2013-01-02 -1.185963 -0.290307  5  5  1.0  1.0\n",
      "2013-01-03 -1.065812 -0.696262  5  5  2.0  NaN\n",
      "2013-01-04 -1.246650  0.757272  5  5  3.0  NaN\n"
     ]
    }
   ],
   "source": [
    "df1 = df.reindex(index=dates[0:4],columns=list(df.columns) + ['E'])\n",
    "print(df1)\n",
    "print('\\n')\n",
    "df1.loc[dates[0]:dates[1],'E'] = 1\n",
    "print(df1)"
   ]
  },
  {
   "cell_type": "code",
   "execution_count": 21,
   "metadata": {
    "scrolled": true
   },
   "outputs": [
    {
     "name": "stdout",
     "output_type": "stream",
     "text": [
      "                   A         B  C  D    F    E\n",
      "2013-01-02 -1.185963 -0.290307  5  5  1.0  1.0\n",
      "\n",
      "\n",
      "                   A         B  C  D    F    E\n",
      "2013-01-01  6.660000  6.660000  5  5  8.0  1.0\n",
      "2013-01-02 -1.185963 -0.290307  5  5  1.0  1.0\n",
      "2013-01-03 -1.065812 -0.696262  5  5  2.0  8.0\n",
      "2013-01-04 -1.246650  0.757272  5  5  3.0  8.0\n"
     ]
    }
   ],
   "source": [
    "# 删除所有含有缺失值的行\n",
    "print(df1.dropna(how='any')) # 删除含有空值的行，方式是任何含有空值的都删除,删除操作不影响原始数据\n",
    "print('\\n')\n",
    "print(df1.fillna(value=8)) # 替换/填充空值，填值=8，替换操作不影响原始数据"
   ]
  },
  {
   "cell_type": "code",
   "execution_count": 24,
   "metadata": {},
   "outputs": [
    {
     "name": "stdout",
     "output_type": "stream",
     "text": [
      "                A      B      C      D      F      E\n",
      "2013-01-01  False  False  False  False   True  False\n",
      "2013-01-02  False  False  False  False  False  False\n",
      "2013-01-03  False  False  False  False  False   True\n",
      "2013-01-04  False  False  False  False  False   True\n"
     ]
    }
   ],
   "source": [
    "# 通过判断缺失值来获取布尔值\n",
    "print(pd.isnull(df1))"
   ]
  },
  {
   "cell_type": "markdown",
   "metadata": {},
   "source": [
    "## 统计表\n",
    "- 该操作一般不包含缺失值 \n",
    "- 呈现一个描述性的统计表\n",
    "- 在其他轴上进行相同的操作"
   ]
  },
  {
   "cell_type": "code",
   "execution_count": 33,
   "metadata": {},
   "outputs": [
    {
     "name": "stdout",
     "output_type": "stream",
     "text": [
      "                   A         B  C  D    F\n",
      "2013-01-01  6.660000  6.660000  5  5  NaN\n",
      "2013-01-02 -1.185963 -0.290307  5  5  1.0\n",
      "2013-01-03 -1.065812 -0.696262  5  5  2.0\n",
      "2013-01-04 -1.246650  0.757272  5  5  3.0\n",
      "2013-01-05 -0.356536  0.462087  5  5  4.0\n",
      "2013-01-06  0.049527 -1.658512  5  5  5.0\n",
      "\n",
      "\n",
      "\n",
      "\n",
      "                   A         B  C  D    F\n",
      "2013-01-01  6.660000  6.660000  5  5  6.0\n",
      "2013-01-02 -1.185963 -0.290307  5  5  1.0\n",
      "2013-01-03 -1.065812 -0.696262  5  5  2.0\n",
      "2013-01-04 -1.246650  0.757272  5  5  3.0\n",
      "2013-01-05 -0.356536  0.462087  5  5  4.0\n",
      "2013-01-06  0.049527 -1.658512  5  5  5.0\n",
      "\n",
      "\n",
      "A    0.475761\n",
      "B    0.872380\n",
      "C    5.000000\n",
      "D    5.000000\n",
      "F    3.500000\n",
      "dtype: float64\n",
      "\n",
      "\n",
      "2013-01-01    5.864000\n",
      "2013-01-02    1.904746\n",
      "2013-01-03    2.047585\n",
      "2013-01-04    2.502125\n",
      "2013-01-05    2.821110\n",
      "2013-01-06    2.678203\n",
      "Freq: D, dtype: float64\n"
     ]
    }
   ],
   "source": [
    "print(df)\n",
    "print('\\n')\n",
    "df3 = df.fillna(value=6)\n",
    "print('\\n')\n",
    "print(df3)\n",
    "print('\\n')\n",
    "print(df3.mean()) # 得到每列的平均值\n",
    "print('\\n')\n",
    "print(df3.mean(1)) # 得到每行的平均值"
   ]
  },
  {
   "cell_type": "markdown",
   "metadata": {},
   "source": [
    "## 应用\n",
    "- 对数据进行函数的应用"
   ]
  },
  {
   "cell_type": "code",
   "execution_count": 35,
   "metadata": {},
   "outputs": [
    {
     "data": {
      "text/html": [
       "<div>\n",
       "<style scoped>\n",
       "    .dataframe tbody tr th:only-of-type {\n",
       "        vertical-align: middle;\n",
       "    }\n",
       "\n",
       "    .dataframe tbody tr th {\n",
       "        vertical-align: top;\n",
       "    }\n",
       "\n",
       "    .dataframe thead th {\n",
       "        text-align: right;\n",
       "    }\n",
       "</style>\n",
       "<table border=\"1\" class=\"dataframe\">\n",
       "  <thead>\n",
       "    <tr style=\"text-align: right;\">\n",
       "      <th></th>\n",
       "      <th>A</th>\n",
       "      <th>B</th>\n",
       "      <th>C</th>\n",
       "      <th>D</th>\n",
       "      <th>F</th>\n",
       "    </tr>\n",
       "  </thead>\n",
       "  <tbody>\n",
       "    <tr>\n",
       "      <th>2013-01-01</th>\n",
       "      <td>6.660000</td>\n",
       "      <td>6.660000</td>\n",
       "      <td>5</td>\n",
       "      <td>5</td>\n",
       "      <td>6.0</td>\n",
       "    </tr>\n",
       "    <tr>\n",
       "      <th>2013-01-02</th>\n",
       "      <td>5.474037</td>\n",
       "      <td>6.369693</td>\n",
       "      <td>10</td>\n",
       "      <td>10</td>\n",
       "      <td>7.0</td>\n",
       "    </tr>\n",
       "    <tr>\n",
       "      <th>2013-01-03</th>\n",
       "      <td>4.408225</td>\n",
       "      <td>5.673431</td>\n",
       "      <td>15</td>\n",
       "      <td>15</td>\n",
       "      <td>9.0</td>\n",
       "    </tr>\n",
       "    <tr>\n",
       "      <th>2013-01-04</th>\n",
       "      <td>3.161575</td>\n",
       "      <td>6.430703</td>\n",
       "      <td>20</td>\n",
       "      <td>20</td>\n",
       "      <td>12.0</td>\n",
       "    </tr>\n",
       "    <tr>\n",
       "      <th>2013-01-05</th>\n",
       "      <td>2.805039</td>\n",
       "      <td>6.892790</td>\n",
       "      <td>25</td>\n",
       "      <td>25</td>\n",
       "      <td>16.0</td>\n",
       "    </tr>\n",
       "    <tr>\n",
       "      <th>2013-01-06</th>\n",
       "      <td>2.854566</td>\n",
       "      <td>5.234279</td>\n",
       "      <td>30</td>\n",
       "      <td>30</td>\n",
       "      <td>21.0</td>\n",
       "    </tr>\n",
       "  </tbody>\n",
       "</table>\n",
       "</div>"
      ],
      "text/plain": [
       "                   A         B   C   D     F\n",
       "2013-01-01  6.660000  6.660000   5   5   6.0\n",
       "2013-01-02  5.474037  6.369693  10  10   7.0\n",
       "2013-01-03  4.408225  5.673431  15  15   9.0\n",
       "2013-01-04  3.161575  6.430703  20  20  12.0\n",
       "2013-01-05  2.805039  6.892790  25  25  16.0\n",
       "2013-01-06  2.854566  5.234279  30  30  21.0"
      ]
     },
     "execution_count": 35,
     "metadata": {},
     "output_type": "execute_result"
    }
   ],
   "source": [
    "df3.apply(np.cumsum) # 第一行不变，第二行是前2行的和，第三行是前3行的和，一次类推"
   ]
  },
  {
   "cell_type": "code",
   "execution_count": 36,
   "metadata": {},
   "outputs": [
    {
     "data": {
      "text/plain": [
       "A    7.906650\n",
       "B    8.318512\n",
       "C    0.000000\n",
       "D    0.000000\n",
       "F    5.000000\n",
       "dtype: float64"
      ]
     },
     "execution_count": 36,
     "metadata": {},
     "output_type": "execute_result"
    }
   ],
   "source": [
    "df3.apply(lambda x: x.max()-x.min()) # 得到每列数据最大值和最小值的差值。"
   ]
  },
  {
   "cell_type": "code",
   "execution_count": 40,
   "metadata": {},
   "outputs": [
    {
     "name": "stdout",
     "output_type": "stream",
     "text": [
      "0    6\n",
      "1    4\n",
      "2    2\n",
      "3    2\n",
      "4    4\n",
      "5    5\n",
      "6    4\n",
      "7    3\n",
      "8    3\n",
      "9    4\n",
      "dtype: int64\n",
      "\n",
      "\n",
      "4    4\n",
      "3    2\n",
      "2    2\n",
      "6    1\n",
      "5    1\n",
      "dtype: int64\n"
     ]
    }
   ],
   "source": [
    "# 统计值的频数\n",
    "s = pd.Series(np.random.randint(0,7,size=10))\n",
    "print(s)\n",
    "print('\\n')\n",
    "print(s.value_counts()) # 对数据那一列进行频数统计。获得每个数字，及这个数字出现的次数"
   ]
  },
  {
   "cell_type": "code",
   "execution_count": 44,
   "metadata": {},
   "outputs": [
    {
     "name": "stdout",
     "output_type": "stream",
     "text": [
      "0       A\n",
      "1       B\n",
      "2       C\n",
      "3    Aaba\n",
      "4    Baca\n",
      "5     NaN\n",
      "6    CABA\n",
      "7     dog\n",
      "8     cat\n",
      "dtype: object\n",
      "\n",
      "\n",
      "0       a\n",
      "1       b\n",
      "2       c\n",
      "3    aaba\n",
      "4    baca\n",
      "5     NaN\n",
      "6    caba\n",
      "7     dog\n",
      "8     cat\n",
      "dtype: object\n"
     ]
    }
   ],
   "source": [
    "# 字符串操作\n",
    "# Series拥有像对字符串集合处理方法的能力，在str属性中可以对数组的每一个元素进行便捷的操作，就像下面的一小片字段中显示的那样。\n",
    "s1 = pd.Series(['A', 'B', 'C', 'Aaba', 'Baca', np.nan, 'CABA', 'dog', 'cat'])\n",
    "print(s1)\n",
    "print('\\n')\n",
    "print(s1.str.lower())"
   ]
  },
  {
   "cell_type": "markdown",
   "metadata": {},
   "source": []
  }
 ],
 "metadata": {
  "kernelspec": {
   "display_name": "Python 3",
   "language": "python",
   "name": "python3"
  },
  "language_info": {
   "codemirror_mode": {
    "name": "ipython",
    "version": 3
   },
   "file_extension": ".py",
   "mimetype": "text/x-python",
   "name": "python",
   "nbconvert_exporter": "python",
   "pygments_lexer": "ipython3",
   "version": "3.6.8"
  }
 },
 "nbformat": 4,
 "nbformat_minor": 2
}
