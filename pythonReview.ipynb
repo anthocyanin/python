{
 "cells": [
  {
   "cell_type": "code",
   "execution_count": 2,
   "metadata": {},
   "outputs": [
    {
     "name": "stdout",
     "output_type": "stream",
     "text": [
      "27\n"
     ]
    }
   ],
   "source": [
    "def power(x, n):\n",
    "    s=1\n",
    "    while n > 0:\n",
    "        n = n-1\n",
    "        s = s * x\n",
    "    return s\n",
    "print(power(3,3))"
   ]
  },
  {
   "cell_type": "code",
   "execution_count": 3,
   "metadata": {},
   "outputs": [
    {
     "name": "stdout",
     "output_type": "stream",
     "text": [
      "27\n"
     ]
    }
   ],
   "source": [
    "def power(x, n):\n",
    "    s=1\n",
    "    while n > 0:\n",
    "        s = s * x\n",
    "        n = n - 1\n",
    "    return s\n",
    "print(power(3,3))"
   ]
  },
  {
   "cell_type": "code",
   "execution_count": 5,
   "metadata": {},
   "outputs": [
    {
     "name": "stdout",
     "output_type": "stream",
     "text": [
      "9\n",
      "27\n"
     ]
    }
   ],
   "source": [
    "def power(x, n=2):\n",
    "    s=1\n",
    "    while n > 0:\n",
    "        s = s * x\n",
    "        n = n - 1\n",
    "    return s\n",
    "print(power(3))\n",
    "print(power(3, n=3))"
   ]
  },
  {
   "cell_type": "markdown",
   "metadata": {},
   "source": [
    "#### 从上面的例子可以看出，默认参数可以简化函数的调用。设置默认参数时，有几点要注意：\n",
    "- 一是必选参数在前，默认参数在后，否则Python的解释器会报错（思考一下为什么默认参数不能放在必选参数前面）；\n",
    "- 二是如何设置默认参数。\n",
    "- 当函数有多个参数时，把变化大的参数放前面，变化小的参数放后面。变化小的参数就可以作为默认参数。\n",
    "- 有多个默认参数时，调用的时候，既可以按顺序提供默认参数\n",
    "- 也可以不按顺序提供部分默认参数。"
   ]
  },
  {
   "cell_type": "code",
   "execution_count": 2,
   "metadata": {},
   "outputs": [
    {
     "name": "stdout",
     "output_type": "stream",
     "text": [
      "['end']\n",
      "['end', 'end']\n",
      "['end', 'end', 'end']\n",
      "[1, 2, 3, 'end']\n",
      "['x', 'v', 'end']\n"
     ]
    }
   ],
   "source": [
    "# 默认参数很有用，但使用不当，也会掉坑里。默认参数有个最大的坑，演示如下：\n",
    "def add_list(l=[]):\n",
    "    l.append('end')\n",
    "    return l\n",
    "print(add_list())\n",
    "print(add_list())\n",
    "print(add_list())\n",
    "print(add_list(l=[1,2,3]))\n",
    "print(add_list(['x','v']))\n",
    "# Python函数在定义的时候，默认参数L的值就被计算出来了，即[]，因为默认参数L也是一个变量，它指向对象[]，\n",
    "# 每次调用该函数，如果改变了L的内容，则下次调用时，默认参数的内容就变了，不再是函数定义时的[]了。"
   ]
  },
  {
   "cell_type": "markdown",
   "metadata": {},
   "source": [
    "### 定义默认参数要牢记一点：默认参数必须指向不变对象！"
   ]
  },
  {
   "cell_type": "code",
   "execution_count": 14,
   "metadata": {},
   "outputs": [
    {
     "name": "stdout",
     "output_type": "stream",
     "text": [
      "['end']\n",
      "['end']\n",
      "['end']\n",
      "[1, 2, 3, 'end']\n",
      "['x', 'v', 'end']\n"
     ]
    }
   ],
   "source": [
    "def add_list2(L=None):\n",
    "    if L is None:\n",
    "        L = []\n",
    "    L.append('end')\n",
    "    return L\n",
    "print(add_list2())\n",
    "print(add_list2())\n",
    "print(add_list2())\n",
    "print(add_list(l=[1,2,3]))\n",
    "print(add_list(['x','v']))"
   ]
  },
  {
   "cell_type": "markdown",
   "metadata": {},
   "source": [
    "- 为什么要设计str、None这样的不变对象呢？因为不变对象一旦创建，对象内部的数据就不能修改，这样就减少了由于修改数据导致的错误。\n",
    "- 此外，由于对象不变，多任务环境下同时读取对象不需要加锁，同时读一点问题都没有。\n",
    "- 我们在编写程序时，如果可以设计一个不变对象，那就尽量设计成不变对象。"
   ]
  },
  {
   "cell_type": "markdown",
   "metadata": {},
   "source": [
    "### 可变参数学习\n"
   ]
  },
  {
   "cell_type": "code",
   "execution_count": 18,
   "metadata": {},
   "outputs": [
    {
     "name": "stdout",
     "output_type": "stream",
     "text": [
      "30\n",
      "30\n"
     ]
    }
   ],
   "source": [
    "# 求 a2+ b2 + c2......\n",
    "# 写法一\n",
    "def sum1(numbers):\n",
    "    s = 0\n",
    "    for n in numbers:\n",
    "        s = s + n*n\n",
    "    return s   \n",
    "print(sum1([1,2,3,4]))\n",
    "print(sum1((1,2,3,4)))"
   ]
  },
  {
   "cell_type": "code",
   "execution_count": 21,
   "metadata": {},
   "outputs": [
    {
     "name": "stdout",
     "output_type": "stream",
     "text": [
      "30\n",
      "0\n",
      "30\n",
      "30\n"
     ]
    }
   ],
   "source": [
    "# 写法二\n",
    "# 定义可变参数和定义一个list或tuple参数相比，仅仅在参数前面加了一个*号。\n",
    "# 在函数内部，参数numbers接收到的是一个tuple，因此，函数代码完全不变。但是，调用该函数时，可以传入任意个参数，包括0个参数：\n",
    "def sum2(*numbers):\n",
    "    s = 0\n",
    "    for n in numbers:\n",
    "        s = s + n*n\n",
    "    return s\n",
    "print(sum2(1,2,3,4))\n",
    "print(sum2())\n",
    "# *nums表示把nums这个list的所有元素作为可变参数传进去。这种写法相当有用，而且很常见。\n",
    "a = [1,2,3,4]\n",
    "print(sum2(*a))\n",
    "b = (1,2,3,4)\n",
    "print(sum2(*b))\n"
   ]
  },
  {
   "cell_type": "code",
   "execution_count": 35,
   "metadata": {},
   "outputs": [
    {
     "name": "stdout",
     "output_type": "stream",
     "text": [
      "30\n",
      "0\n",
      "30\n",
      "30\n"
     ]
    }
   ],
   "source": [
    "def sum3(*args):\n",
    "    s = 0\n",
    "    for n in args:\n",
    "        s = s + n*n\n",
    "    return s\n",
    "print(sum3(1,2,3,4))\n",
    "print(sum3())\n",
    "# *nums表示把nums这个list的所有元素作为可变参数传进去。这种写法相当有用，而且很常见。\n",
    "a = [1,2,3,4]\n",
    "print(sum3(*a))\n",
    "b = (1,2,3,4)\n",
    "print(sum3(*b))"
   ]
  },
  {
   "cell_type": "markdown",
   "metadata": {},
   "source": [
    "## 关键字参数\n",
    "- 可变参数允许你传入0个或任意个参数，这些可变参数在函数调用时自动组装为一个tuple。\n",
    "- 而关键字参数允许你传入0个或任意个含参数名的参数，这些关键字参数在函数内部自动组装为一个dict。请看示例："
   ]
  },
  {
   "cell_type": "code",
   "execution_count": 26,
   "metadata": {},
   "outputs": [
    {
     "name": "stdout",
     "output_type": "stream",
     "text": [
      "name: nick age: 30 other: {'city': 'beijing'}\n",
      "name: micakl age: 20 other: {'gender': 'man', 'major': 'lawer', 'favitor': 'pinpang'}\n"
     ]
    }
   ],
   "source": [
    "def person(name, age, **kw):\n",
    "    print('name:', name, 'age:', age, 'other:', kw)\n",
    "\n",
    "person('nick', 30, city='beijing')\n",
    "person('micakl', 20, gender='man', major='lawer', favitor='pinpang')"
   ]
  },
  {
   "cell_type": "markdown",
   "metadata": {},
   "source": [
    "- 关键字参数有什么用？它可以扩展函数的功能。比如，在person函数里，我们保证能接收到name和age这两个参数。\n",
    "- 但是，如果调用者愿意提供更多的参数，我们也能收到。试想你正在做一个用户注册的功能，除了用户名和年龄是必填项外，其他都是可选项。\n",
    "- 利用关键字参数来定义这个函数就能满足注册的需求。"
   ]
  },
  {
   "cell_type": "code",
   "execution_count": 27,
   "metadata": {},
   "outputs": [
    {
     "name": "stdout",
     "output_type": "stream",
     "text": [
      "name: tom age: 10 other: {'city': 'Beijing', 'job': 'Engineer'}\n"
     ]
    }
   ],
   "source": [
    "extra = {'city': 'Beijing', 'job': 'Engineer'}\n",
    "person('tom', 10, **extra)"
   ]
  },
  {
   "cell_type": "code",
   "execution_count": 30,
   "metadata": {},
   "outputs": [
    {
     "name": "stdout",
     "output_type": "stream",
     "text": [
      "lisa 20 other: {'city': 'mosike', 'gender': 'man'}\n",
      "lisa 20 other: {'city': 'mosike'}\n",
      "Jack 24 other: {'city': 'Beijing', 'addr': 'Chaoyang', 'zipcode': 123456}\n"
     ]
    }
   ],
   "source": [
    "def person2(name, age, **kw):\n",
    "    if 'city' in kw:\n",
    "        pass\n",
    "    if 'gender' in kw:\n",
    "        pass\n",
    "    print(name, age, 'other:', kw)\n",
    "person2('lisa', 20, city='mosike', gender='man')\n",
    "person2('lisa', 20, city='mosike')\n",
    "person2('Jack', 24, city='Beijing', addr='Chaoyang', zipcode=123456)"
   ]
  },
  {
   "cell_type": "markdown",
   "metadata": {},
   "source": [
    "#### 如果要限制关键字参数的名字，就可以用命名关键字参数，例如，只接收city和job作为关键字参数。这种方式定义的函数如下：\n",
    "#### 命名关键字参数必须传入参数名，这和位置参数不同。如果没有传入参数名，调用将报错：\n",
    "#### 和关键字参数**kw不同，命名关键字参数需要一个特殊分隔符*，*后面的参数被视为命名关键字参数。"
   ]
  },
  {
   "cell_type": "code",
   "execution_count": 3,
   "metadata": {},
   "outputs": [
    {
     "name": "stdout",
     "output_type": "stream",
     "text": [
      "maria 18 nanjing singer\n"
     ]
    }
   ],
   "source": [
    "\n",
    "def person3(name, age, *, city, job):\n",
    "    print(name, age, city, job)\n",
    "person3('maria', 18, city='nanjing', job='singer')\n",
    "# person3('maria', 18, 1,2,3,4,5, city='nanjing', job='singer')\n",
    "# person3('maria', 18, city='nanjing')\n",
    "# person3('maria2', 18, city='nanjing', job='singer', gender='man')\n",
    "# person3限制了只接受city和job作为关键字参数，其他的不接受，你给了就会报错。少给了也报错。"
   ]
  },
  {
   "cell_type": "code",
   "execution_count": 41,
   "metadata": {},
   "outputs": [
    {
     "name": "stdout",
     "output_type": "stream",
     "text": [
      "jack 19 ('love', 'cat', 'very', 'much') londun datasicence\n"
     ]
    }
   ],
   "source": [
    "# 如果函数定义中已经有了一个可变参数，后面跟着的命名关键字参数就不再需要一个特殊分隔符*了：\n",
    "def person4(name, age, *args, city, job):\n",
    "    print(name, age, args, city, job)\n",
    "person4('jack', 19, 'love','cat','very', 'much', city='londun', job='datasicence')\n",
    "# person4('jack', 19, 'love','cat','very', 'much', city='londun')\n",
    "# 命名关键字参数必须传入参数名，这和位置参数不同。如果没有传入参数名，调用将报错：\n",
    "# person4('jack', 19, 'love','cat','very', 'much', 'londun', 'datasicence')\n"
   ]
  },
  {
   "cell_type": "markdown",
   "metadata": {},
   "source": [
    "## 参数组合\n",
    "- 在Python中定义函数，可以用必选参数、默认参数、可变参数、关键字参数和命名关键字参数，这5种参数都可以组合使用。\n",
    "- 但是请注意，参数定义的顺序必须是：必选参数、默认参数、可变参数、命名关键字参数和关键字参数。\n",
    "- 默写一遍为 必选参数 默认参数 可变参数 命名关键字参数 关键字参数"
   ]
  },
  {
   "cell_type": "code",
   "execution_count": 66,
   "metadata": {},
   "outputs": [
    {
     "name": "stdout",
     "output_type": "stream",
     "text": [
      "1 2 0 () {}\n",
      "1 2 3 () {}\n",
      "1 2 3 (4, 5) {}\n",
      "1 2 3 (4, 5) {'city': 'new york', 'name': 'amerce'}\n",
      "1 2 3 (4, 5, 6) {'d': 99, 'x': '#'}\n"
     ]
    }
   ],
   "source": [
    "tup = (1,2,3,4,5,6)\n",
    "kew = {'d': 99, 'x': '#'}\n",
    "def f1(a, b, c=0, *args, **kw):\n",
    "    print(a, b, c, args, kw)\n",
    "\n",
    "f1(1,2)\n",
    "f1(1,2,c=3)\n",
    "# f1(1,2,c=3,4,5) 注意这里面可不是c=0，*args=4，5的意思了，而是c=3，4，5.也就是说这样一弄，c就是一个元组了。\n",
    "f1(1,2,3,4,5)\n",
    "f1(1,2,3,4,5, city='new york', name='amerce')\n",
    "\n",
    "f1(*tup, **kew)"
   ]
  },
  {
   "cell_type": "code",
   "execution_count": 71,
   "metadata": {},
   "outputs": [
    {
     "name": "stdout",
     "output_type": "stream",
     "text": [
      "1 2 3 4 5 {}\n",
      "1 2 3 4 5 {'city': 'new york', 'name': 'amerce'}\n",
      "1 2 3 4 5 {'city': 'new york', 'name': 'amerce'}\n"
     ]
    }
   ],
   "source": [
    "tu=(1,2,3)\n",
    "kk={'d':4, 'f':5, 'city':'new york', 'name':'amerce'}\n",
    "def f2(a, b, c=0, *, d, f, **kw):\n",
    "    print(a, b, c, d, f, kw)\n",
    "\n",
    "f2(1,2,3,d=4,f=5)\n",
    "f2(1,2,3,d=4,f=5,city='new york', name='amerce')\n",
    "f2(*tu, **kk)"
   ]
  },
  {
   "cell_type": "code",
   "execution_count": 68,
   "metadata": {},
   "outputs": [
    {
     "name": "stdout",
     "output_type": "stream",
     "text": [
      "1 2 3 (4, 5) 6 7 {'city': 'new york', 'name': 'amerce'}\n",
      "1 2 3 (4,) 5 6 {'city': 'new york', 'name': 'amerce'}\n"
     ]
    }
   ],
   "source": [
    "tup2=(1,2,3,4)\n",
    "kew2={'city':'new york', 'name':'amerce'}\n",
    "def f3(a, b, c=0, *args, d, f, **kw):\n",
    "    print(a, b, c, args, d, f, kw)\n",
    "f3(1,2,3,4,5,d=6,f=7, city='new york', name='amerce')\n",
    "f3(*tup2,d=5, f=6, **kew2)"
   ]
  },
  {
   "cell_type": "code",
   "execution_count": 56,
   "metadata": {},
   "outputs": [
    {
     "name": "stdout",
     "output_type": "stream",
     "text": [
      "<class 'tuple'>\n",
      "(3, 4, 5)\n"
     ]
    }
   ],
   "source": [
    "c = 3,4,5\n",
    "print(type(c))\n",
    "print(c)"
   ]
  },
  {
   "cell_type": "code",
   "execution_count": null,
   "metadata": {},
   "outputs": [],
   "source": []
  }
 ],
 "metadata": {
  "kernelspec": {
   "display_name": "Python 3",
   "language": "python",
   "name": "python3"
  },
  "language_info": {
   "codemirror_mode": {
    "name": "ipython",
    "version": 3
   },
   "file_extension": ".py",
   "mimetype": "text/x-python",
   "name": "python",
   "nbconvert_exporter": "python",
   "pygments_lexer": "ipython3",
   "version": "3.6.8"
  }
 },
 "nbformat": 4,
 "nbformat_minor": 2
}
