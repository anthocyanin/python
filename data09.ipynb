{
 "cells": [
  {
   "cell_type": "markdown",
   "metadata": {},
   "source": [
    "## NumPy 字节交换\n",
    "\n",
    "- 在几乎所有的机器上，多字节对象都被存储为连续的字节序列。字节顺序，是跨越多字节的程序对象的存储规则。\n",
    "- 大端模式：指数据的高字节保存在内存的低地址中，而数据的低字节保存在内存的高地址中，这样的存储模式有点儿类似于把数据当作字符串顺序处理：地址-   由小向大增加，而数据从高位往低位放；这和我们的阅读习惯一致。\n",
    "\n",
    "- 小端模式：指数据的高字节保存在内存的高地址中，而数据的低字节保存在内存的低地址中，这种存储模式将地址的高低和数据位权有效地结合起来，高地址   部分权值高，低地址部分权值低。"
   ]
  },
  {
   "cell_type": "code",
   "execution_count": 1,
   "metadata": {},
   "outputs": [
    {
     "name": "stdout",
     "output_type": "stream",
     "text": [
      "我们的数组是：\n",
      "[   1  256 8755]\n",
      "以十六进制表示内存中的数据：\n",
      "<map object at 0x1050ec710>\n",
      "调用 byteswap() 函数：\n",
      "[  256     1 13090]\n",
      "十六进制形式：\n",
      "<map object at 0x1050ec748>\n"
     ]
    }
   ],
   "source": [
    "# numpy.ndarray.byteswap() 函数将 ndarray 中每个元素中的字节进行大小端转换。\n",
    "import numpy as np \n",
    " \n",
    "a = np.array([1,  256,  8755], dtype = np.int16)  \n",
    "print ('我们的数组是：')\n",
    "print (a)\n",
    "print ('以十六进制表示内存中的数据：')\n",
    "print (map(hex,a))\n",
    "# byteswap() 函数通过传入 true 来原地交换 \n",
    "print ('调用 byteswap() 函数：')\n",
    "print (a.byteswap(True))\n",
    "print ('十六进制形式：')\n",
    "print (map(hex,a))\n",
    "# 我们可以看到字节已经交换了"
   ]
  },
  {
   "cell_type": "code",
   "execution_count": null,
   "metadata": {},
   "outputs": [],
   "source": []
  },
  {
   "cell_type": "code",
   "execution_count": 2,
   "metadata": {},
   "outputs": [
    {
     "name": "stdout",
     "output_type": "stream",
     "text": [
      "我们的数组是：\n",
      "[0 1 2 3 4 5]\n",
      "调用 id() 函数：\n",
      "4398938512\n",
      "a 赋值给 b：\n",
      "[0 1 2 3 4 5]\n",
      "b 拥有相同 id()：\n",
      "4398938512\n",
      "修改 b 的形状：\n",
      "[[0 1]\n",
      " [2 3]\n",
      " [4 5]]\n",
      "a 的形状也修改了：\n",
      "[[0 1]\n",
      " [2 3]\n",
      " [4 5]]\n"
     ]
    }
   ],
   "source": [
    "import numpy as np \n",
    " \n",
    "a = np.arange(6)  \n",
    "print ('我们的数组是：')\n",
    "print (a)\n",
    "print ('调用 id() 函数：')\n",
    "print (id(a))\n",
    "print ('a 赋值给 b：')\n",
    "b = a \n",
    "print (b)\n",
    "print ('b 拥有相同 id()：')\n",
    "print (id(b))\n",
    "print ('修改 b 的形状：')\n",
    "b.shape =  3,2  \n",
    "print (b)\n",
    "print ('a 的形状也修改了：')\n",
    "print (a)"
   ]
  },
  {
   "cell_type": "code",
   "execution_count": 3,
   "metadata": {},
   "outputs": [
    {
     "name": "stdout",
     "output_type": "stream",
     "text": [
      "数组 a：\n",
      "[[0 1]\n",
      " [2 3]\n",
      " [4 5]]\n",
      "创建 a 的视图：\n",
      "[[0 1]\n",
      " [2 3]\n",
      " [4 5]]\n",
      "两个数组的 id() 不同：\n",
      "a 的 id()：\n",
      "4398939152\n",
      "b 的 id()：\n",
      "4398939072\n",
      "b 的形状：\n",
      "[[0 1 2]\n",
      " [3 4 5]]\n",
      "a 的形状：\n",
      "[[0 1]\n",
      " [2 3]\n",
      " [4 5]]\n"
     ]
    }
   ],
   "source": [
    "# ndarray.view() 方会创建一个新的数组对象，该方法创建的新数组的维数更改不会更改原始数据的维数。\n",
    "import numpy as np \n",
    " \n",
    "# 最开始 a 是个 3X2 的数组\n",
    "a = np.arange(6).reshape(3,2)  \n",
    "print ('数组 a：')\n",
    "print (a)\n",
    "print ('创建 a 的视图：')\n",
    "b = a.view()  \n",
    "print (b)\n",
    "print ('两个数组的 id() 不同：')\n",
    "print ('a 的 id()：')\n",
    "print (id(a))\n",
    "print ('b 的 id()：' )\n",
    "print (id(b))\n",
    "# 修改 b 的形状，并不会修改 a\n",
    "b.shape =  2,3\n",
    "print ('b 的形状：')\n",
    "print (b)\n",
    "print ('a 的形状：')\n",
    "print (a)"
   ]
  },
  {
   "cell_type": "code",
   "execution_count": 6,
   "metadata": {},
   "outputs": [
    {
     "name": "stdout",
     "output_type": "stream",
     "text": [
      "我们的数组：\n",
      "[ 0  1  2  3  4  5  6  7  8  9 10 11]\n",
      "创建切片：\n",
      "[  0   1   2   3 123 234   6   7   8   9  10  11]\n",
      "4398981408 4398981248 4398939952\n"
     ]
    }
   ],
   "source": [
    "# 使用切片创建视图修改数据会影响到原始数组：\n",
    "import numpy as np \n",
    "arr = np.arange(12)\n",
    "print ('我们的数组：')\n",
    "print (arr)\n",
    "print ('创建切片：')\n",
    "a=arr[3:]\n",
    "b=arr[3:]\n",
    "a[1]=123\n",
    "b[2]=234\n",
    "print(arr)\n",
    "print(id(a),id(b),id(arr[3:]))"
   ]
  },
  {
   "cell_type": "code",
   "execution_count": 8,
   "metadata": {},
   "outputs": [
    {
     "name": "stdout",
     "output_type": "stream",
     "text": [
      "数组 a：\n",
      "[[10 10]\n",
      " [ 2  3]\n",
      " [ 4  5]]\n",
      "创建 a 的深层副本：\n",
      "数组 b：\n",
      "[[10 10]\n",
      " [ 2  3]\n",
      " [ 4  5]]\n",
      "我们能够写入 b 来写入 a 吗？\n",
      "False\n",
      "修改 b 的内容：\n",
      "修改后的数组 b：\n",
      "[[100  10]\n",
      " [  2   3]\n",
      " [  4   5]]\n",
      "a 保持不变：\n",
      "[[10 10]\n",
      " [ 2  3]\n",
      " [ 4  5]]\n"
     ]
    }
   ],
   "source": [
    "# ndarray.copy() 函数创建一个副本。 对副本数据进行修改，不会影响到原始数据，它们物理内存不在同一位置。\n",
    "import numpy as np \n",
    "a = np.array([[10,10],  [2,3],  [4,5]])  \n",
    "print ('数组 a：')\n",
    "print (a)\n",
    "print ('创建 a 的深层副本：')\n",
    "b = a.copy()  \n",
    "print ('数组 b：')\n",
    "print (b)\n",
    "# b 与 a 不共享任何内容  \n",
    "print ('我们能够写入 b 来写入 a 吗？')\n",
    "print (b is a)\n",
    "print ('修改 b 的内容：')\n",
    "b[0,0]  =  100  \n",
    "print ('修改后的数组 b：')\n",
    "print (b)\n",
    "print ('a 保持不变：')\n",
    "print (a)"
   ]
  },
  {
   "cell_type": "markdown",
   "metadata": {},
   "source": [
    "## 简单总结就是：\n",
    "- python对列表通过切片得到的新列表进行更改，不影响原始列表\n",
    "- python对数组通过切片得到的新数组进行更改，会影响原始列表"
   ]
  },
  {
   "cell_type": "code",
   "execution_count": 9,
   "metadata": {},
   "outputs": [
    {
     "name": "stdout",
     "output_type": "stream",
     "text": [
      "[[ 2.14556778e-314 -1.35311969e-315]\n",
      " [ 2.16499151e-314  2.14826068e-314]]\n"
     ]
    }
   ],
   "source": [
    "import numpy.matlib \n",
    "import numpy as np\n",
    "print (np.matlib.empty((2,2)))\n",
    "# 填充为随机数据"
   ]
  },
  {
   "cell_type": "markdown",
   "metadata": {},
   "source": [
    "## NumPy 矩阵库(Matrix)\n",
    "- NumPy 中包含了一个矩阵库 numpy.matlib，该模块中的函数返回的是一个矩阵，而不是 ndarray 对象。\n",
    "\n",
    "- 一个 的矩阵是一个由行（row）列（column）元素排列成的矩形阵列"
   ]
  },
  {
   "cell_type": "code",
   "execution_count": 16,
   "metadata": {},
   "outputs": [
    {
     "name": "stdout",
     "output_type": "stream",
     "text": [
      "[[0. 0.]\n",
      " [0. 0.]]\n",
      "\n",
      "\n",
      "[[1. 1.]\n",
      " [1. 1.]]\n",
      "\n",
      "\n",
      "[[1. 0. 0. 0.]\n",
      " [0. 1. 0. 0.]\n",
      " [0. 0. 1. 0.]]\n"
     ]
    }
   ],
   "source": [
    "import numpy.matlib \n",
    "import numpy as np \n",
    " \n",
    "print(np.matlib.zeros((2,2)))\n",
    "print('\\n')\n",
    "print(np.matlib.ones((2,2)))\n",
    "print('\\n')\n",
    "print(np.matlib.eye(n=3, M=4, k=0, dtype=float))\n"
   ]
  },
  {
   "cell_type": "code",
   "execution_count": 18,
   "metadata": {},
   "outputs": [
    {
     "name": "stdout",
     "output_type": "stream",
     "text": [
      "[[1. 0. 0. 0. 0.]\n",
      " [0. 1. 0. 0. 0.]\n",
      " [0. 0. 1. 0. 0.]\n",
      " [0. 0. 0. 1. 0.]\n",
      " [0. 0. 0. 0. 1.]]\n"
     ]
    }
   ],
   "source": [
    "# numpy.matlib.identity()\n",
    "# numpy.matlib.identity() 函数返回给定大小的单位矩阵。\n",
    "# 单位矩阵是个方阵，从左上角到右下角的对角线（称为主对角线）上的元素均为 1，除此以外全都为 0。\n",
    "import numpy.matlib \n",
    "import numpy as np \n",
    " \n",
    "# 大小为 5，类型位浮点型\n",
    "print(np.matlib.identity(5, dtype=float))"
   ]
  },
  {
   "cell_type": "code",
   "execution_count": 19,
   "metadata": {},
   "outputs": [
    {
     "name": "stdout",
     "output_type": "stream",
     "text": [
      "[[0.11542829 0.65620457 0.01859913]\n",
      " [0.17532527 0.22507514 0.0813146 ]\n",
      " [0.54067183 0.28768846 0.16056824]]\n"
     ]
    }
   ],
   "source": [
    "# numpy.matlib.rand() 函数创建一个给定大小的矩阵，数据是随机填充0-1之间的值。\n",
    "import numpy.matlib \n",
    "import numpy as np \n",
    " \n",
    "print (np.matlib.rand(3,3))"
   ]
  },
  {
   "cell_type": "code",
   "execution_count": 24,
   "metadata": {},
   "outputs": [
    {
     "name": "stdout",
     "output_type": "stream",
     "text": [
      "[[1 2]\n",
      " [3 4]]\n",
      "\n",
      "\n",
      "[[1 2]\n",
      " [3 4]]\n",
      "\n",
      "\n",
      "[[1 2]\n",
      " [3 4]]\n"
     ]
    }
   ],
   "source": [
    "# 矩阵总是二维的，而 ndarray 是一个 n 维数组。 两个对象都是可互换的。\n",
    "import numpy.matlib \n",
    "import numpy as np  \n",
    " \n",
    "i = np.matrix('1,2;3,4')  \n",
    "print (i)\n",
    "print('\\n')\n",
    "j = np.asarray(i)  \n",
    "print (j)\n",
    "print('\\n')\n",
    "k = np.asmatrix (j)  \n",
    "print (k)"
   ]
  },
  {
   "cell_type": "markdown",
   "metadata": {},
   "source": [
    "## NumPy 线性代数\n",
    "- NumPy 提供了线性代数函数库 linalg，该库包含了线性代数所需的所有功能，可以看看下面的说明：\n",
    "- dot\t    两个数组的点积，即元素对应相乘。\n",
    "- vdot\t    两个向量的点积\n",
    "- inner\t    两个数组的内积\n",
    "- matmul\t两个数组的矩阵积\n",
    "- determinant\t数组的行列式\n",
    "- solve\t    求解线性矩阵方程\n",
    "- inv\t    计算矩阵的乘法逆矩阵"
   ]
  },
  {
   "cell_type": "code",
   "execution_count": 27,
   "metadata": {},
   "outputs": [
    {
     "name": "stdout",
     "output_type": "stream",
     "text": [
      "[[1 2]\n",
      " [3 4]]\n",
      "\n",
      "\n",
      "[[11 12]\n",
      " [13 14]]\n",
      "\n",
      "\n",
      "[[37 40]\n",
      " [85 92]]\n"
     ]
    }
   ],
   "source": [
    "# numpy.dot() 对于两个一维的数组，计算的是这两个数组对应下标元素的乘积和(数学上称之为内积)；\n",
    "# 对于二维数组，计算的是两个数组的矩阵乘积；对于多维数组，它的通用计算公式如下，\n",
    "# 即结果数组中的每个元素都是：数组a的最后一维上的所有元素与数组b的倒数第二位上的所有元素的乘积和：\n",
    "# dot(a, b)[i,j,k,m] = sum(a[i,j,:] * b[k,:,m])。\n",
    "import numpy.matlib\n",
    "import numpy as np\n",
    " \n",
    "a = np.array([[1,2],[3,4]])\n",
    "b = np.array([[11,12],[13,14]])\n",
    "print(a)\n",
    "print('\\n')\n",
    "print(b)\n",
    "print('\\n')\n",
    "print(np.dot(a,b))"
   ]
  },
  {
   "cell_type": "code",
   "execution_count": 28,
   "metadata": {},
   "outputs": [
    {
     "name": "stdout",
     "output_type": "stream",
     "text": [
      "130\n"
     ]
    }
   ],
   "source": [
    "# numpy.vdot() 函数是两个向量的点积。 如果第一个参数是复数，那么它的共轭复数会用于计算。 如果参数是多维数组，它会被展开。\n",
    "import numpy as np \n",
    " \n",
    "a = np.array([[1,2],[3,4]]) \n",
    "b = np.array([[11,12],[13,14]]) \n",
    " \n",
    "# vdot 将数组展开计算内积\n",
    "print (np.vdot(a,b)) # 计算式为1*11 + 2*12 + 3*13 + 4*14 "
   ]
  },
  {
   "cell_type": "code",
   "execution_count": 29,
   "metadata": {},
   "outputs": [
    {
     "name": "stdout",
     "output_type": "stream",
     "text": [
      "2\n"
     ]
    }
   ],
   "source": [
    "# numpy.inner() 函数返回一维数组的向量内积。对于更高的维度，它返回最后一个轴上的和的乘积。\n",
    "import numpy as np \n",
    "a = np.array([1,2,3])\n",
    "b = np.array([0,1,0])\n",
    "print (np.inner(a,b))\n",
    "# 等价于 1*0+2*1+3*0"
   ]
  },
  {
   "cell_type": "code",
   "execution_count": 30,
   "metadata": {},
   "outputs": [
    {
     "name": "stdout",
     "output_type": "stream",
     "text": [
      "[[35 41]\n",
      " [81 95]]\n"
     ]
    }
   ],
   "source": [
    "import numpy as np \n",
    " \n",
    "a = np.array([[1,2],[3,4]]) \n",
    "b = np.array([[11,12],[13,14]]) \n",
    "print(np.inner(a,b))#a数组第一行乘以b数组1，2行，对应元素相乘求和，得到第一行。a数组第二行乘以b数组1，2行，对应元素相乘求和，得到第二行\n"
   ]
  },
  {
   "cell_type": "code",
   "execution_count": 31,
   "metadata": {},
   "outputs": [
    {
     "name": "stdout",
     "output_type": "stream",
     "text": [
      "[[4 1]\n",
      " [2 2]]\n"
     ]
    }
   ],
   "source": [
    "# numpy.matmul 函数返回两个数组的矩阵乘积。 虽然它返回二维数组的正常乘积，但如果任一参数的维数大于2，\n",
    "# 则将其视为存在于最后两个索引的矩阵的栈，并进行相应广播。\n",
    "# 另一方面，如果任一参数是一维数组，则通过在其维度上附加 1 来将其提升为矩阵，并在乘法之后被去除。\n",
    "# 对于二维数组，它就是矩阵乘法：\n",
    "import numpy.matlib \n",
    "import numpy as np \n",
    " \n",
    "a = [[1,0],[0,1]] \n",
    "b = [[4,1],[2,2]] \n",
    "print (np.matmul(a,b))"
   ]
  },
  {
   "cell_type": "code",
   "execution_count": 32,
   "metadata": {},
   "outputs": [
    {
     "name": "stdout",
     "output_type": "stream",
     "text": [
      "[1 2]\n",
      "[1 2]\n"
     ]
    }
   ],
   "source": [
    "# 二维和一维运算：\n",
    "import numpy.matlib \n",
    "import numpy as np \n",
    " \n",
    "a = [[1,0],[0,1]] \n",
    "b = [1,2] \n",
    "print (np.matmul(a,b)) \n",
    "print (np.matmul(b,a))\n",
    "# 讲数组广播成2维数组，第二行与第一行一样。"
   ]
  },
  {
   "cell_type": "code",
   "execution_count": 35,
   "metadata": {},
   "outputs": [
    {
     "name": "stdout",
     "output_type": "stream",
     "text": [
      "[[[0 1]\n",
      "  [2 3]]\n",
      "\n",
      " [[4 5]\n",
      "  [6 7]]]\n",
      "\n",
      "\n",
      "[[0 1]\n",
      " [2 3]]\n",
      "\n",
      "\n",
      "[[[ 2  3]\n",
      "  [ 6 11]]\n",
      "\n",
      " [[10 19]\n",
      "  [14 27]]]\n"
     ]
    }
   ],
   "source": [
    "# 维度大于2的数组\n",
    "import numpy.matlib \n",
    "import numpy as np \n",
    " \n",
    "a = np.arange(8).reshape(2,2,2) \n",
    "print(a)\n",
    "print('\\n')\n",
    "b = np.arange(4).reshape(2,2)\n",
    "print(b)\n",
    "print('\\n')\n",
    "print (np.matmul(a,b)) # a里面的每一个二维数组，单独与b二维数组进行正常矩阵乘法运算 "
   ]
  },
  {
   "cell_type": "code",
   "execution_count": 38,
   "metadata": {},
   "outputs": [
    {
     "name": "stdout",
     "output_type": "stream",
     "text": [
      "-2.0000000000000004\n"
     ]
    }
   ],
   "source": [
    "# numpy.linalg.det() 函数计算输入矩阵的行列式。\n",
    "# 行列式在线性代数中是非常有用的值。 它从方阵的对角元素计算。 对于 2×2 矩阵，它是左上和右下元素的乘积与其他两个的乘积的差。\n",
    "# 换句话说，对于矩阵[[a，b]，[c，d]]，行列式计算为 ad-bc。 较大的方阵被认为是 2×2 矩阵的组合。\n",
    "import numpy as np\n",
    "a = np.array([[1,2], [3,4]]) \n",
    "print (np.linalg.det(a))"
   ]
  },
  {
   "cell_type": "code",
   "execution_count": 37,
   "metadata": {},
   "outputs": [
    {
     "name": "stdout",
     "output_type": "stream",
     "text": [
      "[[ 6  1  1]\n",
      " [ 4 -2  5]\n",
      " [ 2  8  7]]\n",
      "-306.0\n",
      "-306\n"
     ]
    }
   ],
   "source": [
    "import numpy as np\n",
    " \n",
    "b = np.array([[6,1,1], [4, -2, 5], [2,8,7]]) \n",
    "print (b)\n",
    "print (np.linalg.det(b))\n",
    "print (6*(-2*7 - 5*8) - 1*(4*7 - 5*2) + 1*(4*8 - -2*2))"
   ]
  },
  {
   "cell_type": "code",
   "execution_count": null,
   "metadata": {},
   "outputs": [],
   "source": [
    "# numpy.linalg.solve() 函数给出了矩阵形式的线性方程的解。\n"
   ]
  },
  {
   "cell_type": "code",
   "execution_count": 39,
   "metadata": {},
   "outputs": [
    {
     "name": "stdout",
     "output_type": "stream",
     "text": [
      "[[1 2]\n",
      " [3 4]]\n",
      "[[-2.   1. ]\n",
      " [ 1.5 -0.5]]\n",
      "[[1.00000000e+00 1.11022302e-16]\n",
      " [0.00000000e+00 1.00000000e+00]]\n"
     ]
    }
   ],
   "source": [
    "# numpy.linalg.inv()\n",
    "# numpy.linalg.inv() 函数计算矩阵的乘法逆矩阵。\n",
    "# 逆矩阵（inverse matrix）：设A是数域上的一个n阶矩阵，若在相同数域上存在另一个n阶矩阵B，\n",
    "# 使得： AB=BA=E ，则我们称B是A的逆矩阵，而A则被称为可逆矩阵。注：E为单位矩阵。\n",
    "import numpy as np \n",
    " \n",
    "x = np.array([[1,2],[3,4]]) \n",
    "y = np.linalg.inv(x) \n",
    "print (x)\n",
    "print (y)\n",
    "print (np.dot(x,y))"
   ]
  },
  {
   "cell_type": "markdown",
   "metadata": {},
   "source": [
    "## NumPy IO\n",
    "- Numpy 可以读写磁盘上的文本数据或二进制数据。\n",
    "- NumPy 为 ndarray 对象引入了一个简单的文件格式：npy。\n",
    "- npy 文件用于存储重建 ndarray 所需的数据、图形、dtype 和其他信息。\n",
    "- 常用的 IO 函数有：\n",
    "    - load() 和 save() 函数是读写文件数组数据的两个主要函数，默认情况下，数组是以未压缩的原始二进制格式保存在扩展名为 .npy 的文件中。\n",
    "    - savze() 函数用于将多个数组写入文件，默认情况下，数组是以未压缩的原始二进制格式保存在扩展名为 .npz 的文件中。\n",
    "    - loadtxt() 和 savetxt() 函数处理正常的文本文件(.txt 等)"
   ]
  },
  {
   "cell_type": "code",
   "execution_count": 42,
   "metadata": {},
   "outputs": [],
   "source": [
    "import numpy as np\n",
    "a = np.array([1,2,3,4])\n",
    "np.save('outfile.npy',a)\n",
    "np.save('outfile2',a)\n"
   ]
  },
  {
   "cell_type": "code",
   "execution_count": 43,
   "metadata": {},
   "outputs": [
    {
     "name": "stdout",
     "output_type": "stream",
     "text": [
      "[1 2 3 4]\n"
     ]
    }
   ],
   "source": [
    "import numpy as np \n",
    " \n",
    "b = np.load('outfile.npy')  \n",
    "print (b)"
   ]
  },
  {
   "cell_type": "code",
   "execution_count": 50,
   "metadata": {},
   "outputs": [
    {
     "name": "stdout",
     "output_type": "stream",
     "text": [
      "['sin_array', 'arr_0', 'arr_1']\n",
      "[[1 2 3]\n",
      " [4 5 6]]\n",
      "\n",
      "\n",
      "[0.  0.1 0.2 0.3 0.4 0.5 0.6 0.7 0.8 0.9]\n",
      "\n",
      "\n",
      "[0.         0.09983342 0.19866933 0.29552021 0.38941834 0.47942554\n",
      " 0.56464247 0.64421769 0.71735609 0.78332691]\n"
     ]
    }
   ],
   "source": [
    "# numpy.savez() 函数将多个数组保存到以 npz 为扩展名的文件中。\n",
    "import numpy as np \n",
    " \n",
    "a = np.array([[1,2,3],[4,5,6]])\n",
    "b = np.arange(0, 1.0, 0.1)\n",
    "c = np.sin(b)\n",
    "np.savez('manyarray.npz',a, b, sin_array=c)\n",
    "r = np.load('manyarray.npz')\n",
    "print(r.files)\n",
    "print(r['arr_0'])\n",
    "print('\\n')\n",
    "print(r['arr_1'])\n",
    "print('\\n')\n",
    "print(r['sin_array'])"
   ]
  },
  {
   "cell_type": "code",
   "execution_count": 53,
   "metadata": {},
   "outputs": [
    {
     "name": "stdout",
     "output_type": "stream",
     "text": [
      "[[0.  0.5 1.  1.5 2. ]\n",
      " [2.5 3.  3.5 4.  4.5]\n",
      " [5.  5.5 6.  6.5 7. ]\n",
      " [7.5 8.  8.5 9.  9.5]]\n",
      "\n",
      "\n",
      "[[0. 0. 1. 1. 2.]\n",
      " [2. 3. 3. 4. 4.]\n",
      " [5. 5. 6. 6. 7.]\n",
      " [7. 8. 8. 9. 9.]]\n"
     ]
    }
   ],
   "source": [
    "# savetxt() 函数是以简单的文本文件格式存储数据，对应的使用 loadtxt() 函数来获取数据。\n",
    "import numpy as np \n",
    "a=np.arange(0,10,0.5).reshape(4,-1)\n",
    "print(a)\n",
    "print('\\n')\n",
    "np.savetxt(\"out.txt\",a,fmt=\"%d\",delimiter=\",\") # 改为保存为整数，以逗号分隔\n",
    "b = np.loadtxt(\"out.txt\",delimiter=\",\") # load 时也要指定为逗号分隔\n",
    "print(b)"
   ]
  },
  {
   "cell_type": "code",
   "execution_count": 58,
   "metadata": {},
   "outputs": [
    {
     "name": "stdout",
     "output_type": "stream",
     "text": [
      "[[0.  0.5 1.  1.5 2. ]\n",
      " [2.5 3.  3.5 4.  4.5]\n",
      " [5.  5.5 6.  6.5 7. ]\n",
      " [7.5 8.  8.5 9.  9.5]]\n"
     ]
    }
   ],
   "source": [
    "import numpy as np \n",
    "a=np.arange(0,10,0.5).reshape(4,-1) #只需给定行数即可，列数输入-1，它会自动帮你计算合适的列数\n",
    "print(a)"
   ]
  },
  {
   "cell_type": "code",
   "execution_count": null,
   "metadata": {},
   "outputs": [],
   "source": []
  },
  {
   "cell_type": "code",
   "execution_count": null,
   "metadata": {},
   "outputs": [],
   "source": []
  },
  {
   "cell_type": "code",
   "execution_count": null,
   "metadata": {},
   "outputs": [],
   "source": []
  },
  {
   "cell_type": "code",
   "execution_count": null,
   "metadata": {},
   "outputs": [],
   "source": []
  },
  {
   "cell_type": "code",
   "execution_count": null,
   "metadata": {},
   "outputs": [],
   "source": []
  },
  {
   "cell_type": "code",
   "execution_count": null,
   "metadata": {},
   "outputs": [],
   "source": []
  },
  {
   "cell_type": "code",
   "execution_count": null,
   "metadata": {},
   "outputs": [],
   "source": []
  },
  {
   "cell_type": "code",
   "execution_count": null,
   "metadata": {},
   "outputs": [],
   "source": []
  },
  {
   "cell_type": "code",
   "execution_count": null,
   "metadata": {},
   "outputs": [],
   "source": []
  },
  {
   "cell_type": "code",
   "execution_count": null,
   "metadata": {},
   "outputs": [],
   "source": []
  },
  {
   "cell_type": "code",
   "execution_count": null,
   "metadata": {},
   "outputs": [],
   "source": []
  },
  {
   "cell_type": "code",
   "execution_count": null,
   "metadata": {},
   "outputs": [],
   "source": []
  },
  {
   "cell_type": "code",
   "execution_count": null,
   "metadata": {},
   "outputs": [],
   "source": []
  }
 ],
 "metadata": {
  "kernelspec": {
   "display_name": "Python 3",
   "language": "python",
   "name": "python3"
  },
  "language_info": {
   "codemirror_mode": {
    "name": "ipython",
    "version": 3
   },
   "file_extension": ".py",
   "mimetype": "text/x-python",
   "name": "python",
   "nbconvert_exporter": "python",
   "pygments_lexer": "ipython3",
   "version": "3.7.0"
  }
 },
 "nbformat": 4,
 "nbformat_minor": 2
}
