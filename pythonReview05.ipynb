{
 "cells": [
  {
   "cell_type": "code",
   "execution_count": 1,
   "metadata": {},
   "outputs": [
    {
     "name": "stdout",
     "output_type": "stream",
     "text": [
      "['spades', 'diamonds', 'clubs', 'hearts']\n"
     ]
    }
   ],
   "source": [
    "suit = \"spades diamonds clubs hearts\".split()\n",
    "print(suit)"
   ]
  },
  {
   "cell_type": "code",
   "execution_count": 16,
   "metadata": {},
   "outputs": [
    {
     "name": "stdout",
     "output_type": "stream",
     "text": [
      "11\n"
     ]
    }
   ],
   "source": [
    "ranks = [str(n) for n in range(2, 11)] + list('JQKA')\n",
    "print(ranks.index('K'))  #  返回对应值所在的索引"
   ]
  },
  {
   "cell_type": "code",
   "execution_count": 7,
   "metadata": {},
   "outputs": [
    {
     "name": "stdout",
     "output_type": "stream",
     "text": [
      "52\n",
      "Card(rank='2', suit='spades')\n",
      "Card(rank='A', suit='hearts')\n"
     ]
    }
   ],
   "source": [
    "import collections\n",
    "Card = collections.namedtuple('Card', ['rank', 'suit'])\n",
    "class FrenchDeck:\n",
    "    ranks = [str(n) for n in range(2, 11)] + list('JQKA')\n",
    "    suits = 'spades diamonds clubs hearts'.split()\n",
    "    \n",
    "    def __init__(self):\n",
    "        self._card = [Card(rank, suit) for suit in self.suits for rank in self.ranks]\n",
    "        \n",
    "    def __len__(self):\n",
    "        return len(self._card)\n",
    "    \n",
    "    def __getitem__(self, position):\n",
    "        return self._card[position]\n",
    "\n",
    "deck = FrenchDeck()\n",
    "print(len(deck))\n",
    "print(deck[0])\n",
    "print(deck[-1])"
   ]
  },
  {
   "cell_type": "code",
   "execution_count": 9,
   "metadata": {},
   "outputs": [
    {
     "name": "stdout",
     "output_type": "stream",
     "text": [
      "Card(rank='6', suit='clubs')\n"
     ]
    }
   ],
   "source": [
    "from random import choice\n",
    "print(choice(deck))"
   ]
  },
  {
   "cell_type": "code",
   "execution_count": 12,
   "metadata": {},
   "outputs": [
    {
     "name": "stdout",
     "output_type": "stream",
     "text": [
      "[Card(rank='2', suit='spades'), Card(rank='3', suit='spades'), Card(rank='4', suit='spades')]\n",
      "[Card(rank='A', suit='spades'), Card(rank='A', suit='diamonds'), Card(rank='A', suit='clubs'), Card(rank='A', suit='hearts')]\n"
     ]
    }
   ],
   "source": [
    "print(deck[:3])\n",
    "print(deck[12::13])"
   ]
  },
  {
   "cell_type": "code",
   "execution_count": 14,
   "metadata": {},
   "outputs": [
    {
     "name": "stdout",
     "output_type": "stream",
     "text": [
      "True\n"
     ]
    }
   ],
   "source": [
    "print(Card('3', 'hearts') in deck)"
   ]
  },
  {
   "cell_type": "code",
   "execution_count": 19,
   "metadata": {},
   "outputs": [
    {
     "name": "stdout",
     "output_type": "stream",
     "text": [
      "Card(rank='2', suit='clubs')\n",
      "Card(rank='2', suit='diamonds')\n",
      "Card(rank='2', suit='hearts')\n",
      "Card(rank='2', suit='spades')\n",
      "Card(rank='3', suit='clubs')\n",
      "Card(rank='3', suit='diamonds')\n",
      "Card(rank='3', suit='hearts')\n",
      "Card(rank='3', suit='spades')\n",
      "Card(rank='4', suit='clubs')\n",
      "Card(rank='4', suit='diamonds')\n",
      "Card(rank='4', suit='hearts')\n",
      "Card(rank='4', suit='spades')\n",
      "Card(rank='5', suit='clubs')\n",
      "Card(rank='5', suit='diamonds')\n",
      "Card(rank='5', suit='hearts')\n",
      "Card(rank='5', suit='spades')\n",
      "Card(rank='6', suit='clubs')\n",
      "Card(rank='6', suit='diamonds')\n",
      "Card(rank='6', suit='hearts')\n",
      "Card(rank='6', suit='spades')\n",
      "Card(rank='7', suit='clubs')\n",
      "Card(rank='7', suit='diamonds')\n",
      "Card(rank='7', suit='hearts')\n",
      "Card(rank='7', suit='spades')\n",
      "Card(rank='8', suit='clubs')\n",
      "Card(rank='8', suit='diamonds')\n",
      "Card(rank='8', suit='hearts')\n",
      "Card(rank='8', suit='spades')\n",
      "Card(rank='9', suit='clubs')\n",
      "Card(rank='9', suit='diamonds')\n",
      "Card(rank='9', suit='hearts')\n",
      "Card(rank='9', suit='spades')\n",
      "Card(rank='10', suit='clubs')\n",
      "Card(rank='10', suit='diamonds')\n",
      "Card(rank='10', suit='hearts')\n",
      "Card(rank='10', suit='spades')\n",
      "Card(rank='J', suit='clubs')\n",
      "Card(rank='J', suit='diamonds')\n",
      "Card(rank='J', suit='hearts')\n",
      "Card(rank='J', suit='spades')\n",
      "Card(rank='Q', suit='clubs')\n",
      "Card(rank='Q', suit='diamonds')\n",
      "Card(rank='Q', suit='hearts')\n",
      "Card(rank='Q', suit='spades')\n",
      "Card(rank='K', suit='clubs')\n",
      "Card(rank='K', suit='diamonds')\n",
      "Card(rank='K', suit='hearts')\n",
      "Card(rank='K', suit='spades')\n",
      "Card(rank='A', suit='clubs')\n",
      "Card(rank='A', suit='diamonds')\n",
      "Card(rank='A', suit='hearts')\n",
      "Card(rank='A', suit='spades')\n"
     ]
    }
   ],
   "source": [
    "suit_value = dict(spades=3, hearts=2, diamonds=1, clubs=0)\n",
    "def spades_high(card):\n",
    "    rank_values = FrenchDeck.ranks.index(card.rank)\n",
    "    return rank_values * len(suit_value) + suit_value[card.suit]\n",
    "\n",
    "for card in sorted(deck, key=spades_high):\n",
    "    print(card)"
   ]
  },
  {
   "cell_type": "code",
   "execution_count": 20,
   "metadata": {},
   "outputs": [
    {
     "name": "stdout",
     "output_type": "stream",
     "text": [
      "5.0\n"
     ]
    }
   ],
   "source": [
    "from math import hypot\n",
    "print(hypot(3,4))"
   ]
  },
  {
   "cell_type": "code",
   "execution_count": 21,
   "metadata": {},
   "outputs": [
    {
     "data": {
      "text/plain": [
       "\"{'runoob': 'runoob.com', 'google': 'google.com'}\""
      ]
     },
     "execution_count": 21,
     "metadata": {},
     "output_type": "execute_result"
    }
   ],
   "source": [
    "dict = {'runoob': 'runoob.com', 'google': 'google.com'}\n",
    "repr(dict)"
   ]
  },
  {
   "cell_type": "code",
   "execution_count": 22,
   "metadata": {},
   "outputs": [
    {
     "data": {
      "text/plain": [
       "\"{'runoob': 'runoob.com', 'google': 'google.com'}\""
      ]
     },
     "execution_count": 22,
     "metadata": {},
     "output_type": "execute_result"
    }
   ],
   "source": [
    "str(dict)"
   ]
  },
  {
   "cell_type": "code",
   "execution_count": 24,
   "metadata": {},
   "outputs": [
    {
     "data": {
      "text/plain": [
       "\"'RUNOOB'\""
      ]
     },
     "execution_count": 24,
     "metadata": {},
     "output_type": "execute_result"
    }
   ],
   "source": [
    "s = 'RUNOOB'\n",
    "repr(s)\n"
   ]
  },
  {
   "cell_type": "code",
   "execution_count": 25,
   "metadata": {},
   "outputs": [
    {
     "data": {
      "text/plain": [
       "'RUNOOB'"
      ]
     },
     "execution_count": 25,
     "metadata": {},
     "output_type": "execute_result"
    }
   ],
   "source": [
    "str(s)"
   ]
  },
  {
   "cell_type": "markdown",
   "metadata": {},
   "source": [
    "- 函数str() 用于将值转化为适于人阅读的形式，\n",
    "- 而repr() 转化为供解释器读取的形式（如果没有等价的语法，则会发生SyntaxError 异常）， 适合开发和调试阶段使用\n",
    "\n"
   ]
  },
  {
   "cell_type": "markdown",
   "metadata": {},
   "source": [
    "### map函数 他就是一个把一种集合（可迭代对象）映射到另一种集合的函数，返回的结果是迭代器。"
   ]
  },
  {
   "cell_type": "code",
   "execution_count": 27,
   "metadata": {},
   "outputs": [
    {
     "name": "stdout",
     "output_type": "stream",
     "text": [
      "<map object at 0x10bb9d358>\n",
      "[1, 4, 9, 16]\n"
     ]
    }
   ],
   "source": [
    "def fun(x):\n",
    "    return x*x\n",
    "ss = map(fun, [1,2,3,4])\n",
    "print(ss)\n",
    "print(list(ss))"
   ]
  },
  {
   "cell_type": "markdown",
   "metadata": {},
   "source": [
    "### reduce函数，像是一种收敛聚合函数，把可迭代对象，一个个给执行某种计算，返回结果不是迭代器。而是一个聚合结果值\n",
    "- 这个函数必须接收两个参数，reduce把结果继续和序列的下一个元素做累积计算，其效果就是：\n",
    "\n"
   ]
  },
  {
   "cell_type": "markdown",
   "metadata": {},
   "source": [
    "#### 不过需要注意的是map()，filter()函数，都是python内置函数，而reduce不是内置函数。但是他们三个经常放在一起讲。"
   ]
  },
  {
   "cell_type": "code",
   "execution_count": 33,
   "metadata": {},
   "outputs": [
    {
     "name": "stdout",
     "output_type": "stream",
     "text": [
      "18\n",
      "<class 'int'>\n"
     ]
    }
   ],
   "source": [
    "from functools import reduce \n",
    "\n",
    "def func(x, y):\n",
    "    return x + y\n",
    "\n",
    "rr = reduce(func, [1,1,2,3,5,6])\n",
    "print(rr)\n",
    "print(type(rr))"
   ]
  },
  {
   "cell_type": "markdown",
   "metadata": {},
   "source": [
    "### Python内建的filter()函数用于过滤序列。\n",
    "- 和map()类似，filter()也接收一个函数和一个序列。\n",
    "- 和map()不同的是，filter()把传入的函数依次作用于每个元素，然后根据返回值是True还是False决定保留还是丢弃该元素。\n"
   ]
  },
  {
   "cell_type": "code",
   "execution_count": 35,
   "metadata": {},
   "outputs": [
    {
     "name": "stdout",
     "output_type": "stream",
     "text": [
      "[1, 3, 5, 7]\n"
     ]
    }
   ],
   "source": [
    "# 例如，在一个list中，删掉偶数，只保留奇数，可以这么写：\n",
    "def is_odd(n):\n",
    "    return n % 2 == 1\n",
    "kk = list(filter(is_odd, [1,2,3,4,5,6,7]))\n",
    "print(kk)"
   ]
  },
  {
   "cell_type": "code",
   "execution_count": 43,
   "metadata": {},
   "outputs": [
    {
     "name": "stdout",
     "output_type": "stream",
     "text": [
      "asd  \n",
      "5\n",
      "  asd\n",
      "5\n",
      "asd\n",
      "3\n"
     ]
    }
   ],
   "source": [
    "ss = '  asd  '\n",
    "print(ss.lstrip())\n",
    "print(len(ss.lstrip()))\n",
    "\n",
    "print(ss.rstrip())\n",
    "print(len(ss.rstrip()))\n",
    "\n",
    "print(ss.strip())\n",
    "print(len(ss.strip()))"
   ]
  },
  {
   "cell_type": "code",
   "execution_count": 44,
   "metadata": {},
   "outputs": [
    {
     "name": "stdout",
     "output_type": "stream",
     "text": [
      "asd  \n"
     ]
    }
   ],
   "source": [
    "print(ss.rstrip() and ss.lstrip())"
   ]
  },
  {
   "cell_type": "code",
   "execution_count": 46,
   "metadata": {},
   "outputs": [
    {
     "name": "stdout",
     "output_type": "stream",
     "text": [
      "asd  \n",
      "  asd\n",
      "  asd\n"
     ]
    }
   ],
   "source": [
    "print('asd  ')\n",
    "print('  asd')\n",
    "print('asd  ' and '  asd')"
   ]
  },
  {
   "cell_type": "code",
   "execution_count": 48,
   "metadata": {},
   "outputs": [
    {
     "name": "stdout",
     "output_type": "stream",
     "text": [
      "a\n",
      "b\n",
      "c\n"
     ]
    }
   ],
   "source": [
    "d = {'a': 1, 'b': 2, 'c': 3}\n",
    "for k in d:\n",
    "    print(k)"
   ]
  },
  {
   "cell_type": "code",
   "execution_count": 50,
   "metadata": {},
   "outputs": [
    {
     "name": "stdout",
     "output_type": "stream",
     "text": [
      "1\n",
      "2\n",
      "3\n"
     ]
    }
   ],
   "source": [
    "for v in d.values():\n",
    "    print(v)"
   ]
  },
  {
   "cell_type": "code",
   "execution_count": 55,
   "metadata": {},
   "outputs": [
    {
     "name": "stdout",
     "output_type": "stream",
     "text": [
      "a:1\n",
      "b:2\n",
      "c:3\n"
     ]
    }
   ],
   "source": [
    "for k, v in d.items():\n",
    "    print(k + ':' +  str(v))\n"
   ]
  },
  {
   "cell_type": "markdown",
   "metadata": {},
   "source": [
    "### for循环只要作用域可迭代对象即可遍历\n",
    "- 那么如何判断对象是否可迭代呢？\n",
    "- 答案是通过collections模块的Iterable类型判断：\n"
   ]
  },
  {
   "cell_type": "code",
   "execution_count": 115,
   "metadata": {},
   "outputs": [
    {
     "name": "stdout",
     "output_type": "stream",
     "text": [
      "True\n",
      "True\n",
      "False\n"
     ]
    }
   ],
   "source": [
    "from collections import Iterable, Iterator\n",
    "print(isinstance([1,2,3], Iterable))\n",
    "print(isinstance('asdfgh', Iterable))\n",
    "print(isinstance(123, Iterable))"
   ]
  },
  {
   "cell_type": "markdown",
   "metadata": {},
   "source": [
    "### 如果相同时迭代出元素和元素所在都索引，则用enumerate函数"
   ]
  },
  {
   "cell_type": "code",
   "execution_count": 116,
   "metadata": {},
   "outputs": [
    {
     "name": "stdout",
     "output_type": "stream",
     "text": [
      "<enumerate object at 0x10bc0efc0>\n",
      "True\n",
      "True\n",
      "0:a\n",
      "1:b\n",
      "2:c\n"
     ]
    }
   ],
   "source": [
    "print(enumerate(['a', 'b', 'c']))\n",
    "print(isinstance(enumerate(['a', 'b', 'c']), Iterator))\n",
    "\n",
    "print(isinstance(enumerate(['a', 'b', 'c']), Iterable))\n",
    "for i, v in enumerate(['a', 'b', 'c']):\n",
    "    print(str(i) + ':' + v)"
   ]
  },
  {
   "cell_type": "code",
   "execution_count": 58,
   "metadata": {},
   "outputs": [
    {
     "name": "stdout",
     "output_type": "stream",
     "text": [
      "0:a\n",
      "1:s\n",
      "2:d\n",
      "3:f\n"
     ]
    }
   ],
   "source": [
    "for i, v in enumerate('asdf'):\n",
    "    print(str(i) + ':' + v)"
   ]
  },
  {
   "cell_type": "markdown",
   "metadata": {},
   "source": [
    "### 同时引用了两个变量，在Python里是很常见的，比如下面的代码：\n",
    "\n"
   ]
  },
  {
   "cell_type": "code",
   "execution_count": 59,
   "metadata": {},
   "outputs": [
    {
     "name": "stdout",
     "output_type": "stream",
     "text": [
      "1 2\n",
      "3 4\n",
      "5 6\n"
     ]
    }
   ],
   "source": [
    "for x, y in [(1,2), (3,4), (5,6)]:\n",
    "    print(x,y)"
   ]
  },
  {
   "cell_type": "markdown",
   "metadata": {},
   "source": [
    "### 列表生成式"
   ]
  },
  {
   "cell_type": "code",
   "execution_count": 60,
   "metadata": {},
   "outputs": [
    {
     "name": "stdout",
     "output_type": "stream",
     "text": [
      "[1, 4, 9, 16, 25, 36, 49, 64, 81, 100]\n"
     ]
    }
   ],
   "source": [
    "# 打印1-10所有数字都平方值\n",
    "dd = [x * x for x in range(1, 11)]\n",
    "print(dd)"
   ]
  },
  {
   "cell_type": "code",
   "execution_count": 63,
   "metadata": {},
   "outputs": [
    {
     "name": "stdout",
     "output_type": "stream",
     "text": [
      "[4, 16, 36, 64, 100]\n"
     ]
    }
   ],
   "source": [
    "# 打印1-10所有数字都平方值，保留偶数\n",
    "ds = [ x * x for x in range(1,11) if x % 2== 0]\n",
    "print(ds)\n"
   ]
  },
  {
   "cell_type": "code",
   "execution_count": 61,
   "metadata": {},
   "outputs": [
    {
     "name": "stdout",
     "output_type": "stream",
     "text": [
      "['az', 'ax', 'ac', 'sz', 'sx', 'sc', 'dz', 'dx', 'dc']\n"
     ]
    }
   ],
   "source": [
    "df = [m + n for m in 'asd' for n in 'zxc']\n",
    "print(df)"
   ]
  },
  {
   "cell_type": "code",
   "execution_count": 66,
   "metadata": {},
   "outputs": [
    {
     "name": "stdout",
     "output_type": "stream",
     "text": [
      "['data05.ipynb', 'pandas03.ipynb', 'Pillow_learn.ipynb', 'pythonReview05.ipynb', 'python进程.ipynb', 'dump_learn.txt', 'out.txt', 'data07.ipynb', 'pandas01.ipynb', '.DS_Store', 'data03.ipynb', 'sina.html', 'pythonReview03.ipynb', 'img_crop.png', 'pythonReview01.ipynb', 'img_c.png', 'data01.ipynb', 'pythonReview.ipynb', 'outfile2.npy', 'data06.ipynb', 'pandas02.ipynb', 'data04.ipynb', 'spider4.ipynb', 'pythonReview04.ipynb', 'test1.png', '苏轼', 'data02.ipynb', 'pythonReview02.ipynb', 'test2.png', 'captcha2.png', 'spider 02.ipynb', 'captcha1.png', 'outfile.npy', 'data08.ipynb', 'python网络编程.ipynb', '.ipynb_checkpoints', 'img_evl.png', 'spider 01.ipynb', 'runoob.npz', 'manyarray.npz', 'capt_blend.png', 'data09.ipynb', 'python100道面试题.ipynb']\n"
     ]
    }
   ],
   "source": [
    "# 打印当前目录下所有文件和目录\n",
    "import os\n",
    "dg = [d for d in os.listdir('.')]\n",
    "print(dg)"
   ]
  },
  {
   "cell_type": "code",
   "execution_count": 67,
   "metadata": {},
   "outputs": [
    {
     "name": "stdout",
     "output_type": "stream",
     "text": [
      "['hello', 'world', 'ibm', 'apple']\n"
     ]
    }
   ],
   "source": [
    "L = ['Hello', 'World', 'IBM', 'Apple']\n",
    "ll = [s.lower() for s in L]\n",
    "print(ll)"
   ]
  },
  {
   "cell_type": "markdown",
   "metadata": {},
   "source": [
    "#### 一。正常用列表生成式或者推导式得到的是一个完整的列表，而有些情况是这样的，列表很大很大，但是每次只访问前面几个元素，如果用列表生成式的话，就会有点浪费存储空间了，\n",
    "#### 二。而生成器就是用来解决这种问题的，首先呢生成器它是一个对象，而每调用这个对象一次，他返回也叫生成一个元素，每调用这个对象一次，他返回也叫生成一个元素，要多少，生成多少，而不是一次性创建一个完整的list。\n",
    "#### 三。创建一个生成器对象有两种方法，() 和 带yield 关键字的生成器函数"
   ]
  },
  {
   "cell_type": "code",
   "execution_count": 68,
   "metadata": {},
   "outputs": [
    {
     "name": "stdout",
     "output_type": "stream",
     "text": [
      "[0, 1, 2, 3, 4, 5, 6, 7, 8, 9]\n"
     ]
    }
   ],
   "source": [
    "L = [x for x in range(10)]\n",
    "print(L)"
   ]
  },
  {
   "cell_type": "code",
   "execution_count": 69,
   "metadata": {},
   "outputs": [
    {
     "name": "stdout",
     "output_type": "stream",
     "text": [
      "<generator object <genexpr> at 0x10bc42048>\n"
     ]
    }
   ],
   "source": [
    "G = (x for x in range(10))\n",
    "print(G)"
   ]
  },
  {
   "cell_type": "markdown",
   "metadata": {},
   "source": [
    "#### 创建L和G的区别仅在于最外层的[]和()，L是一个list，而g是一个generator。\n"
   ]
  },
  {
   "cell_type": "code",
   "execution_count": 70,
   "metadata": {},
   "outputs": [
    {
     "name": "stdout",
     "output_type": "stream",
     "text": [
      "0\n",
      "1\n",
      "2\n",
      "3\n",
      "4\n",
      "5\n",
      "6\n",
      "7\n",
      "8\n",
      "9\n"
     ]
    }
   ],
   "source": [
    "for x in G:\n",
    "    print(x)"
   ]
  },
  {
   "cell_type": "markdown",
   "metadata": {},
   "source": [
    "#### generator非常强大。如果推算的算法比较复杂，用类似列表生成式 的 ( ) for循环无法实现的时候，还可以用函数来实现。"
   ]
  },
  {
   "cell_type": "code",
   "execution_count": 75,
   "metadata": {},
   "outputs": [
    {
     "name": "stdout",
     "output_type": "stream",
     "text": [
      "1\n",
      "1\n",
      "2\n",
      "3\n",
      "5\n",
      "8\n"
     ]
    },
    {
     "data": {
      "text/plain": [
       "'None'"
      ]
     },
     "execution_count": 75,
     "metadata": {},
     "output_type": "execute_result"
    }
   ],
   "source": [
    "# 比如：斐波拉契数列用列表生成式写不出来，但是，用函数把它打印出来却很容易：\n",
    "def fib(max):\n",
    "    n, a, b = 0,0,1\n",
    "    while n < max:\n",
    "        print(b)\n",
    "        a, b = b, a + b\n",
    "        n += 1\n",
    "    return 'None'\n",
    "\n",
    "fib(6)"
   ]
  },
  {
   "cell_type": "code",
   "execution_count": 81,
   "metadata": {},
   "outputs": [
    {
     "name": "stdout",
     "output_type": "stream",
     "text": [
      "<class 'function'>\n"
     ]
    }
   ],
   "source": [
    "print(type(fib))"
   ]
  },
  {
   "cell_type": "code",
   "execution_count": 84,
   "metadata": {},
   "outputs": [],
   "source": [
    "def fib2(max):\n",
    "    n, a, b = 0,0,1\n",
    "    while n < max:\n",
    "        yield b\n",
    "        a, b = b, a + b\n",
    "        n += 1\n",
    "    return 'None'"
   ]
  },
  {
   "cell_type": "code",
   "execution_count": 110,
   "metadata": {},
   "outputs": [
    {
     "name": "stdout",
     "output_type": "stream",
     "text": [
      "<class 'function'>\n",
      "<class 'generator'>\n",
      "1\n",
      "1\n",
      "2\n",
      "3\n",
      "5\n",
      "8\n"
     ]
    }
   ],
   "source": [
    "print(type(fib2))\n",
    "print(type(fib2(6)))\n",
    "\n",
    "for x in fib2(6): # 拿不到return语句到返回值,这里也说明生成器可迭代。\n",
    "    print(x)"
   ]
  },
  {
   "cell_type": "code",
   "execution_count": 89,
   "metadata": {},
   "outputs": [
    {
     "name": "stdout",
     "output_type": "stream",
     "text": [
      "1\n",
      "1\n",
      "2\n",
      "3\n",
      "5\n",
      "8\n",
      "StopIteration: None\n"
     ]
    }
   ],
   "source": [
    "# 如果想要拿到返回值，必须捕获StopIteration错误，返回值包含在StopIteration的value中：\n",
    "g = fib2(6)\n",
    "while True:\n",
    "    try:\n",
    "        x = next(g)\n",
    "        print(x)\n",
    "    except StopIteration as e:\n",
    "        print('StopIteration:', e.value)\n",
    "        break\n"
   ]
  },
  {
   "cell_type": "code",
   "execution_count": 80,
   "metadata": {},
   "outputs": [
    {
     "name": "stdout",
     "output_type": "stream",
     "text": [
      "1\n",
      "1\n",
      "2\n",
      "3\n",
      "5\n"
     ]
    }
   ],
   "source": [
    "# 递归写法斐波那契数列。\n",
    "def fibs(n):\n",
    "    if n <= 1:\n",
    "        return 1\n",
    "    return fibs(n-2) + fibs(n-1) \n",
    "for x in range(5):\n",
    "    print(fibs(x))"
   ]
  },
  {
   "cell_type": "code",
   "execution_count": 87,
   "metadata": {},
   "outputs": [
    {
     "name": "stdout",
     "output_type": "stream",
     "text": [
      "1\n",
      "1\n",
      "2\n",
      "3\n",
      "5\n"
     ]
    }
   ],
   "source": [
    "def fib(n):\n",
    "    if n <= 2:\n",
    "        return 1\n",
    "    return fib(n-2) + fib(n-1)\n",
    "\n",
    "for x in range(1, 5+1):\n",
    "    print(fib(x))"
   ]
  },
  {
   "cell_type": "code",
   "execution_count": 106,
   "metadata": {},
   "outputs": [
    {
     "name": "stdout",
     "output_type": "stream",
     "text": [
      "[1]\n",
      "[1, 1]\n",
      "[1, 2, 1]\n",
      "[1, 3, 3, 1]\n",
      "[1, 4, 6, 4, 1]\n",
      "[1, 5, 10, 10, 5, 1]\n",
      "[1, 6, 15, 20, 15, 6, 1]\n",
      "[1, 7, 21, 35, 35, 21, 7, 1]\n",
      "[1, 8, 28, 56, 70, 56, 28, 8, 1]\n",
      "[1, 9, 36, 84, 126, 126, 84, 36, 9, 1]\n"
     ]
    }
   ],
   "source": [
    "# 打印杨辉三角\n",
    "def triangles(n):\n",
    "    p = [1]       \n",
    "    while n > 0:\n",
    "        yield p         \n",
    "        p =[1] + [p[x] + p[x+1] for x in range(len(p)-1)] + [1]\n",
    "        n -= 1\n",
    "\n",
    "for x in triangles(10): # 生成器可迭代吧，又一次证明\n",
    "    print(x)"
   ]
  },
  {
   "cell_type": "raw",
   "metadata": {},
   "source": [
    "# 列表相加得一个新列表，类似于下面的字符拼接\n",
    "a = [1] + [2] + [3]\n",
    "print(a)"
   ]
  },
  {
   "cell_type": "code",
   "execution_count": 95,
   "metadata": {},
   "outputs": [
    {
     "name": "stdout",
     "output_type": "stream",
     "text": [
      "asd\n"
     ]
    }
   ],
   "source": [
    "c = 'a' + 's' + 'd'\n",
    "print(c)"
   ]
  },
  {
   "cell_type": "code",
   "execution_count": 97,
   "metadata": {},
   "outputs": [
    {
     "name": "stdout",
     "output_type": "stream",
     "text": [
      "[1]\n",
      "[1, 1]\n",
      "[1, 2, 1]\n",
      "[1, 3, 3, 1]\n",
      "[1, 4, 6, 4, 1]\n",
      "[1, 5, 10, 10, 5, 1]\n",
      "[1, 6, 15, 20, 15, 6, 1]\n",
      "[1, 7, 21, 35, 35, 21, 7, 1]\n",
      "[1, 8, 28, 56, 70, 56, 28, 8, 1]\n",
      "[1, 9, 36, 84, 126, 126, 84, 36, 9, 1]\n"
     ]
    }
   ],
   "source": [
    "# 打印杨辉三角\n",
    "def yh(t):\n",
    "    print([1])\n",
    "    line = [1,1]\n",
    "    print(line)\n",
    "    for x in range(2, t): # 外层循环负责更新line\n",
    "        r = []\n",
    "        for i in range(len(line)-1): # 里层循环负责更新r\n",
    "            r.append(line[i] + line[i+1]) # r每次添加一个元素\n",
    "        line = [1] + r + [1]\n",
    "        print(line)\n",
    "    \n",
    "yh(10)"
   ]
  },
  {
   "cell_type": "markdown",
   "metadata": {},
   "source": [
    "#### 可以直接作用于for循环的数据类型有以下几种：\n",
    "\n",
    "- 一类是集合数据类型，如list、tuple、dict、set、str等；\n",
    "\n",
    "- 一类是generator，包括生成器和带yield的generator function。\n",
    "\n",
    "- 这些可以直接作用于for循环的对象统称为可迭代对象：Iterable。"
   ]
  },
  {
   "cell_type": "markdown",
   "metadata": {},
   "source": [
    "#### 而生成器不但可以作用于for循环，还可以被next()函数不断调用并返回下一个值，直到最后抛出StopIteration错误表示无法继续返回下一个值了。\n",
    "\n",
    "- 可以被next()函数调用并不断返回下一个值的对象称为迭代器：Iterator。\n",
    "\n",
    "- 显然生成器都是Iterator对象，即生成器都是迭代器。但list、dict、str虽然是Iterable，却不是Iterator。\n",
    "\n",
    "- 可以使用isinstance()判断一个对象是否是Iterator对象：\n",
    "\n"
   ]
  },
  {
   "cell_type": "markdown",
   "metadata": {},
   "source": [
    "#### 可迭代对象(Iterable)，迭代器(Iterator)，生成器(generator)。讲一下它们三个。\n",
    "- 定义：\n",
    "    -- 凡是可作用于for循环的对象都是可迭代对象。\n",
    "    -- 凡是可作用于next()函数的对象都是迭代器对象。\n",
    "    -- 生成器对象我的理解是 凡是能够返回迭代器的函数的返回结果是生成器对象。从这个角度看生成器不就是迭代器吗。\n",
    "    \n",
    "- 创建\n",
    "    -- 可迭代对象如list,tuple, dict,set,str的创建都是没什么好讲的。\n",
    "    -- 迭代器的创建是iter()函数和自定义包含__iter__,__next__特殊方法的类，以及生成器函数的返回结果。\n",
    "    -- 生成器对象的创建有两种方法，() 和 带yield 关键字的生成器函数。\n",
    "    \n",
    "- 判断\n",
    "    -- from collections import Iterable isinstance()判断是否为可迭代对象\n",
    "    -- from collections import Iterator isinstance()判断是否为迭代器\n",
    "    -- type()函数呗，是class 'generator',或者直接调用生成器，返回generator object + ‘地址’ 则一定是生成器\n",
    "    \n",
    "- 关系\n",
    "    -- 可迭代对象不一定是迭代器，也不一定是生成器，当然也有可能是。\n",
    "    -- 迭代器一定是可迭代对象。\n",
    "    -- 生成器即是可迭代对象也是迭代器。"
   ]
  },
  {
   "cell_type": "markdown",
   "metadata": {},
   "source": []
  },
  {
   "cell_type": "markdown",
   "metadata": {},
   "source": [
    "### 函数可以同时返回多个值，但其实就是一个tuple。"
   ]
  },
  {
   "cell_type": "code",
   "execution_count": null,
   "metadata": {},
   "outputs": [],
   "source": []
  },
  {
   "cell_type": "code",
   "execution_count": null,
   "metadata": {},
   "outputs": [],
   "source": []
  },
  {
   "cell_type": "code",
   "execution_count": null,
   "metadata": {},
   "outputs": [],
   "source": []
  },
  {
   "cell_type": "code",
   "execution_count": null,
   "metadata": {},
   "outputs": [],
   "source": []
  },
  {
   "cell_type": "code",
   "execution_count": null,
   "metadata": {},
   "outputs": [],
   "source": []
  },
  {
   "cell_type": "code",
   "execution_count": null,
   "metadata": {},
   "outputs": [],
   "source": []
  },
  {
   "cell_type": "code",
   "execution_count": null,
   "metadata": {},
   "outputs": [],
   "source": []
  },
  {
   "cell_type": "code",
   "execution_count": null,
   "metadata": {},
   "outputs": [],
   "source": []
  }
 ],
 "metadata": {
  "kernelspec": {
   "display_name": "Python 3",
   "language": "python",
   "name": "python3"
  },
  "language_info": {
   "codemirror_mode": {
    "name": "ipython",
    "version": 3
   },
   "file_extension": ".py",
   "mimetype": "text/x-python",
   "name": "python",
   "nbconvert_exporter": "python",
   "pygments_lexer": "ipython3",
   "version": "3.6.8"
  }
 },
 "nbformat": 4,
 "nbformat_minor": 2
}
