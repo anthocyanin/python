{
 "cells": [
  {
   "cell_type": "markdown",
   "metadata": {},
   "source": [
    "## NumPy 统计函数\n",
    "- NumPy 提供了很多统计函数，用于从数组中查找最小元素，最大元素，百分位标准差和方差等。 函数说明如下：\n",
    "\n",
    "- numpy.amin() 和 numpy.amax()\n",
    "- numpy.amin() 用于计算数组中的元素沿指定轴的最小值。\n",
    "- numpy.amax() 用于计算数组中的元素沿指定轴的最大值。"
   ]
  },
  {
   "cell_type": "code",
   "execution_count": 6,
   "metadata": {},
   "outputs": [
    {
     "name": "stdout",
     "output_type": "stream",
     "text": [
      "[[3 7 5]\n",
      " [8 4 3]\n",
      " [2 4 9]]\n",
      "\n",
      "\n",
      "2\n",
      "\n",
      "\n",
      "[2 4 3]\n",
      "\n",
      "\n",
      "[3 3 2]\n",
      "\n",
      "\n",
      "9\n",
      "\n",
      "\n",
      "[8 7 9]\n",
      "\n",
      "\n",
      "[7 8 9]\n"
     ]
    }
   ],
   "source": [
    "import numpy as np \n",
    " \n",
    "a = np.array([[3,7,5],[8,4,3],[2,4,9]])  \n",
    "print (a)\n",
    "print('\\n')\n",
    "print(np.amin(a))\n",
    "print('\\n')\n",
    "print(np.amin(a,0))\n",
    "print('\\n')\n",
    "print(np.amin(a,1))\n",
    "print('\\n')\n",
    "print(np.amax(a))\n",
    "print('\\n')\n",
    "print(np.amax(a,0))\n",
    "print('\\n')\n",
    "print(np.amax(a,1))"
   ]
  },
  {
   "cell_type": "code",
   "execution_count": 10,
   "metadata": {},
   "outputs": [
    {
     "name": "stdout",
     "output_type": "stream",
     "text": [
      "我们的数组是：\n",
      "[[3 7 5]\n",
      " [8 4 3]\n",
      " [2 4 9]]\n",
      "\n",
      "\n",
      "调用 ptp() 函数：\n",
      "7\n",
      "\n",
      "\n",
      "沿轴 1 调用 ptp() 函数：\n",
      "[4 5 7]\n",
      "\n",
      "\n",
      "沿轴 0 调用 ptp() 函数：\n",
      "[6 3 6]\n"
     ]
    }
   ],
   "source": [
    "# numpy.ptp()函数计算数组中元素最大值与最小值的差（最大值 - 最小值）。\n",
    "import numpy as np \n",
    " \n",
    "a = np.array([[3,7,5],[8,4,3],[2,4,9]])  \n",
    "print ('我们的数组是：')\n",
    "print (a)\n",
    "print ('\\n')\n",
    "print ('调用 ptp() 函数：')\n",
    "print(np.ptp(a))\n",
    "print ('\\n')\n",
    "print ('沿轴 1 调用 ptp() 函数：')\n",
    "print(np.ptp(a,1))\n",
    "print ('\\n')\n",
    "print ('沿轴 0 调用 ptp() 函数：')\n",
    "print(np.ptp(a,0))"
   ]
  },
  {
   "cell_type": "code",
   "execution_count": null,
   "metadata": {},
   "outputs": [],
   "source": [
    "# 百分位数是统计中使用的度量，表示小于这个值的观察值的百分比。 函数numpy.percentile()接受以下参数。\n",
    "# numpy.percentile(a, q, axis)\n",
    "# a: 输入数组\n",
    "# q: 要计算的百分位数，在 0 ~ 100 之间\n",
    "# axis: 沿着它计算百分位数的轴"
   ]
  },
  {
   "cell_type": "code",
   "execution_count": null,
   "metadata": {},
   "outputs": [],
   "source": [
    "# 首先明确百分位数：\n",
    "# 第 p 个百分位数是这样一个值，它使得至少有 p% 的数据项小于或等于这个值，且至少有 (100-p)% 的数据项大于或等于这个值。\n",
    "# 举个例子：高等院校的入学考试成绩经常以百分位数的形式报告。比如，假设某个考生在入学考试中的语文部分的原始分数为 54 分。\n",
    "# 相对于参加同一考试的其他学生来说，他的成绩如何并不容易知道。但是如果原始分数54分恰好对应的是第70百分位数，\n",
    "# 我们就能知道大约70%的学生的考分比他低，而约30%的学生考分比他高。\n",
    "# 这里的 p = 70。"
   ]
  },
  {
   "cell_type": "code",
   "execution_count": 14,
   "metadata": {},
   "outputs": [
    {
     "name": "stdout",
     "output_type": "stream",
     "text": [
      "我们的数组是：\n",
      "[[10  7  4  8]\n",
      " [ 3  2  1  9]]\n",
      "调用 percentile() 函数：\n",
      "7.8999999999999995\n",
      "[6.5 4.5 2.5 8.5]\n",
      "[7.5 2.5]\n",
      "[[7.5]\n",
      " [2.5]]\n"
     ]
    }
   ],
   "source": [
    "import numpy as np \n",
    " \n",
    "a = np.array([[10, 7, 4, 8], [3, 2, 1, 9]])\n",
    "print ('我们的数组是：')\n",
    "print (a)\n",
    " \n",
    "print ('调用 percentile() 函数：')\n",
    "print (np.percentile(a, 70)) \n",
    " \n",
    "# axis 为 0，在纵列上求\n",
    "print (np.percentile(a, 50, axis=0)) \n",
    " \n",
    "# axis 为 1，在横行上求\n",
    "print (np.percentile(a, 50, axis=1)) \n",
    " \n",
    "# 保持维度不变\n",
    "print (np.percentile(a, 50, axis=1, keepdims=True))"
   ]
  },
  {
   "cell_type": "code",
   "execution_count": null,
   "metadata": {},
   "outputs": [],
   "source": []
  },
  {
   "cell_type": "code",
   "execution_count": 15,
   "metadata": {},
   "outputs": [
    {
     "name": "stdout",
     "output_type": "stream",
     "text": [
      "我们的数组是：\n",
      "[[30 65 70]\n",
      " [80 95 10]\n",
      " [50 90 60]]\n",
      "\n",
      "\n",
      "调用 median() 函数：\n",
      "65.0\n",
      "\n",
      "\n",
      "沿轴 0 调用 median() 函数：\n",
      "[50. 90. 60.]\n",
      "\n",
      "\n",
      "沿轴 1 调用 median() 函数：\n",
      "[65. 80. 60.]\n"
     ]
    }
   ],
   "source": [
    "# numpy.median() 函数用于计算数组 a 中元素的中位数（中值）\n",
    "import numpy as np \n",
    " \n",
    "a = np.array([[30,65,70],[80,95,10],[50,90,60]])  \n",
    "print ('我们的数组是：')\n",
    "print (a)\n",
    "print ('\\n')\n",
    "print ('调用 median() 函数：')\n",
    "print (np.median(a))\n",
    "print ('\\n')\n",
    "print ('沿轴 0 调用 median() 函数：')\n",
    "print (np.median(a, axis =  0))\n",
    "print ('\\n')\n",
    "print ('沿轴 1 调用 median() 函数：')\n",
    "print (np.median(a, axis =  1))"
   ]
  },
  {
   "cell_type": "markdown",
   "metadata": {},
   "source": [
    "## numpy.average()\n",
    "- numpy.average() 函数根据在另一个数组中给出的各自的权重计算数组中元素的加权平均值。\n",
    "\n",
    "- 该函数可以接受一个轴参数。 如果没有指定轴，则数组会被展开。\n",
    "\n",
    "- 加权平均值即将各数值乘以相应的权数，然后加总求和得到总体值，再除以总的单位数。\n",
    "\n",
    "- 考虑数组[1,2,3,4]和相应的权重[4,3,2,1]，通过将相应元素的乘积相加，并将和除以权重的和，来计算加权平均值。\n",
    "\n"
   ]
  },
  {
   "cell_type": "code",
   "execution_count": 17,
   "metadata": {},
   "outputs": [
    {
     "name": "stdout",
     "output_type": "stream",
     "text": [
      "我们的数组是：\n",
      "[1 2 3 4]\n",
      "\n",
      "\n",
      "调用 average() 函数：\n",
      "2.5\n",
      "\n",
      "\n",
      "再次调用 average() 函数：\n",
      "2.0\n",
      "\n",
      "\n",
      "权重的和：\n",
      "(2.0, 10.0)\n",
      "2.0\n"
     ]
    }
   ],
   "source": [
    "import numpy as np \n",
    " \n",
    "a = np.array([1,2,3,4])  \n",
    "print ('我们的数组是：')\n",
    "print (a)\n",
    "print ('\\n')\n",
    "print ('调用 average() 函数：')\n",
    "print (np.average(a))\n",
    "print ('\\n')\n",
    "# 不指定权重时相当于 mean 函数\n",
    "wts = np.array([4,3,2,1])  \n",
    "print ('再次调用 average() 函数：')\n",
    "print (np.average(a,weights = wts))\n",
    "print ('\\n')\n",
    "# 如果 returned 参数设为 true，则返回权重的和  \n",
    "print ('权重的和：')\n",
    "print (np.average([1,2,3,  4],weights =  [4,3,2,1], returned =  True))\n",
    "print (np.average([1,2,3,  4],weights =  [4,3,2,1], returned =  False))"
   ]
  },
  {
   "cell_type": "code",
   "execution_count": null,
   "metadata": {},
   "outputs": [],
   "source": [
    "# 标准差\n",
    "# 标准差是一组数据平均值分散程度的一种度量。\n",
    "# 标准差是方差的算术平方根。\n",
    "# 标准差公式如下：\n",
    "# 一组数值，有个平均值，每个值与平均值的差值的平方求和，在求下平均值，则为方差，如果再开根号则为标准差"
   ]
  },
  {
   "cell_type": "code",
   "execution_count": 20,
   "metadata": {},
   "outputs": [
    {
     "name": "stdout",
     "output_type": "stream",
     "text": [
      "1.4142135623730951\n"
     ]
    }
   ],
   "source": [
    "import numpy as np \n",
    " \n",
    "print (np.std([1,2,3,4,5]))"
   ]
  },
  {
   "cell_type": "code",
   "execution_count": null,
   "metadata": {},
   "outputs": [],
   "source": [
    "5个,\n",
    "3是平均值\n",
    "值与平均值差值的平方：\n",
    "2，1，0，1，2\n",
    "4，1，0，1，4\n",
    "求和10\n",
    "平均值：2\n",
    "开根号：squr(2)"
   ]
  },
  {
   "cell_type": "code",
   "execution_count": 22,
   "metadata": {},
   "outputs": [
    {
     "name": "stdout",
     "output_type": "stream",
     "text": [
      "1.25\n",
      "2.0\n"
     ]
    }
   ],
   "source": [
    "# 统计中的方差（样本方差）是每个样本值与全体样本值的平均数之差的平方值的平均数，即 mean((x - x.mean())** 2)。\n",
    "# 换句话说，标准差是方差的平方根。\n",
    "import numpy as np \n",
    "print (np.var([1,2,3,4]))\n",
    "print(np.var([1,2,3,4,5]))"
   ]
  },
  {
   "cell_type": "markdown",
   "metadata": {},
   "source": [
    "## NumPy 排序、条件刷选函数\n",
    "- NumPy 提供了多种排序的方法。 这些排序函数实现不同的排序算法，每个排序算法的特征在于执行速度，最坏情况性能，所需的工作空间和算法的稳定性。   - 下表显示了三种排序算法的比较。"
   ]
  },
  {
   "cell_type": "code",
   "execution_count": 30,
   "metadata": {},
   "outputs": [
    {
     "name": "stdout",
     "output_type": "stream",
     "text": [
      "[[ 3  7 18]\n",
      " [ 9  1 33]\n",
      " [30  5 76]]\n",
      "\n",
      "\n",
      "[[ 3  7 18]\n",
      " [ 1  9 33]\n",
      " [ 5 30 76]]\n",
      "\n",
      "\n",
      "[[ 3  1 18]\n",
      " [ 9  5 33]\n",
      " [30  7 76]]\n"
     ]
    }
   ],
   "source": [
    "# numpy.sort() 函数返回输入数组的排序副本。函数格式如下：\n",
    "import numpy as np  \n",
    "a = np.array([[3,7,18],[9,1,33],[30,5,76]])  \n",
    "print(a)\n",
    "print('\\n')\n",
    "print(np.sort(a))\n",
    "print('\\n')\n",
    "print(np.sort(a,axis=0))\n"
   ]
  },
  {
   "cell_type": "code",
   "execution_count": 34,
   "metadata": {},
   "outputs": [
    {
     "name": "stdout",
     "output_type": "stream",
     "text": [
      "[(b'angel', 20) (b'swik', 22) (b'yuuo', 30) (b'zkip', 90)]\n",
      "\n",
      "\n",
      "[(b'angel', 20) (b'swik', 22) (b'yuuo', 30) (b'zkip', 90)]\n",
      "\n",
      "\n",
      "[(b'angel', 20) (b'swik', 22) (b'yuuo', 30) (b'zkip', 90)]\n"
     ]
    }
   ],
   "source": [
    "import numpy as np\n",
    "dt = np.dtype([('name', 'S10'),('age', int)])\n",
    "a = np.array([('angel',20),('zkip',90),('yuuo',30),('swik',22)], dtype=dt)\n",
    "print(np.sort(a))\n",
    "print('\\n')\n",
    "print(np.sort(a,order='name'))\n",
    "print('\\n')\n",
    "print(np.sort(a,order='age'))"
   ]
  },
  {
   "cell_type": "code",
   "execution_count": 45,
   "metadata": {},
   "outputs": [
    {
     "name": "stdout",
     "output_type": "stream",
     "text": [
      "[4 2 5 3]\n",
      "\n",
      "\n",
      "[1 3 0 2]\n",
      "[2 3 4 5]\n",
      "2 3 4 5 "
     ]
    }
   ],
   "source": [
    "# numpy.argsort() 函数返回的是数组值从小到大的索引值。\n",
    "import numpy as np\n",
    "a = np.array([4,2,5,3])\n",
    "print(a)\n",
    "print('\\n')\n",
    "y = np.argsort(a)\n",
    "print(y)\n",
    "print(a[y])\n",
    "for i in y:\n",
    "    print(a[i],end=' ')"
   ]
  },
  {
   "cell_type": "code",
   "execution_count": null,
   "metadata": {},
   "outputs": [],
   "source": [
    "# numpy.lexsort()\n",
    "# numpy.lexsort() 用于对多个序列进行排序。把它想象成对电子表格进行排序，每一列代表一个序列，排序时优先照顾靠后的列。\n",
    "# 这里举一个应用场景：小升初考试，重点班录取学生按照总成绩录取。在总成绩相同时，数学成绩高的优先录取，在总成绩和数学成绩都相同时，\n",
    "# 按照英语成绩录取…… 这里，总成绩排在电子表格的最后一列，数学成绩在倒数第二列，英语成绩在倒数第三列。"
   ]
  },
  {
   "cell_type": "code",
   "execution_count": 55,
   "metadata": {},
   "outputs": [
    {
     "name": "stdout",
     "output_type": "stream",
     "text": [
      "[[1 2 5]\n",
      " [9 3 0]\n",
      " [2 8 0]]\n",
      "\n",
      "\n",
      "[[2 8 0]\n",
      " [1 2 5]\n",
      " [9 3 0]]\n"
     ]
    }
   ],
   "source": [
    "import numpy as np \n",
    "a = np.array([[1,2,5],[9,3,0],[2,8,0]])\n",
    "print(a)\n",
    "print('\\n')\n",
    "ind=np.lexsort(a)\n",
    "print(a[ind])"
   ]
  },
  {
   "cell_type": "markdown",
   "metadata": {},
   "source": [
    "## msort、sort_complex、partition、argpartition\n",
    "- msort(a)\t数组按第一个轴排序，返回排序后的数组副本。np.msort(a) 相等于 np.sort(a, axis=0)。\n",
    "- sort_complex(a)\t对复数按照先实部后虚部的顺序进行排序。\n",
    "- partition(a, kth[, axis, kind, order])\t指定一个数，对数组进行分区\n",
    "- argpartition(a, kth[, axis, kind, order])\t可以通过关键字 kind 指定算法沿着指定轴对数组进行分区"
   ]
  },
  {
   "cell_type": "code",
   "execution_count": 58,
   "metadata": {},
   "outputs": [
    {
     "name": "stdout",
     "output_type": "stream",
     "text": [
      "[1.+0.j 2.+0.j 3.+0.j 5.+0.j 6.+0.j]\n",
      "[1.+2.j 2.-1.j 3.-3.j 3.-2.j 3.+5.j]\n"
     ]
    }
   ],
   "source": [
    "import numpy as np\n",
    "print(np.sort_complex([5, 3, 6, 2, 1]))\n",
    "print(np.sort_complex([1 + 2j, 2 - 1j, 3 - 2j, 3 - 3j, 3 + 5j]))"
   ]
  },
  {
   "cell_type": "code",
   "execution_count": 68,
   "metadata": {},
   "outputs": [
    {
     "name": "stdout",
     "output_type": "stream",
     "text": [
      "[1 0 1 2 2 3]\n",
      "[0 1 1 2 3 2]\n"
     ]
    }
   ],
   "source": [
    "import numpy as np\n",
    "a = np.array([0, 3, 1, 2, 1, 2])\n",
    "print(np.partition(a,5)) # 将数组 a 中所有元素（包括重复元素）从小到大排列，比第3小的放在前面，大的放在后面\n",
    "print(np.partition(a,(1,3)))"
   ]
  },
  {
   "cell_type": "code",
   "execution_count": 69,
   "metadata": {},
   "outputs": [
    {
     "name": "stdout",
     "output_type": "stream",
     "text": [
      "我们的数组是：\n",
      "[[30 40 70]\n",
      " [80 20 10]\n",
      " [50 90 60]]\n",
      "\n",
      "\n",
      "调用 argmax() 函数：\n",
      "7\n",
      "\n",
      "\n",
      "展开数组：\n",
      "[30 40 70 80 20 10 50 90 60]\n",
      "\n",
      "\n",
      "沿轴 0 的最大值索引：\n",
      "[1 2 0]\n",
      "\n",
      "\n",
      "沿轴 1 的最大值索引：\n",
      "[2 0 1]\n",
      "\n",
      "\n",
      "调用 argmin() 函数：\n",
      "5\n",
      "\n",
      "\n",
      "展开数组中的最小值：\n",
      "10\n",
      "\n",
      "\n",
      "沿轴 0 的最小值索引：\n",
      "[0 1 1]\n",
      "\n",
      "\n",
      "沿轴 1 的最小值索引：\n",
      "[0 2 0]\n"
     ]
    }
   ],
   "source": [
    "# numpy.argmax() 和 numpy.argmin()函数分别沿给定轴返回最大和最小元素的索引。\n",
    "import numpy as np \n",
    "a = np.array([[30,40,70],[80,20,10],[50,90,60]])  \n",
    "print  ('我们的数组是：') \n",
    "print (a) \n",
    "print ('\\n') \n",
    "print ('调用 argmax() 函数：') \n",
    "print (np.argmax(a)) \n",
    "print ('\\n') \n",
    "print ('展开数组：') \n",
    "print (a.flatten()) \n",
    "print ('\\n') \n",
    "print ('沿轴 0 的最大值索引：') \n",
    "maxindex = np.argmax(a, axis =  0)  \n",
    "print (maxindex) \n",
    "print ('\\n') \n",
    "print ('沿轴 1 的最大值索引：') \n",
    "maxindex = np.argmax(a, axis =  1)  \n",
    "print (maxindex) \n",
    "print ('\\n') \n",
    "print ('调用 argmin() 函数：') \n",
    "minindex = np.argmin(a)  \n",
    "print (minindex) \n",
    "print ('\\n') \n",
    "print ('展开数组中的最小值：') \n",
    "print (a.flatten()[minindex]) \n",
    "print ('\\n') \n",
    "print ('沿轴 0 的最小值索引：') \n",
    "minindex = np.argmin(a, axis =  0)  \n",
    "print (minindex) \n",
    "print ('\\n') \n",
    "print ('沿轴 1 的最小值索引：') \n",
    "minindex = np.argmin(a, axis =  1)  \n",
    "print (minindex)"
   ]
  },
  {
   "cell_type": "code",
   "execution_count": 72,
   "metadata": {},
   "outputs": [
    {
     "name": "stdout",
     "output_type": "stream",
     "text": [
      "我们的数组是：\n",
      "[[30 40 70]\n",
      " [80 20 10]\n",
      " [50 90 60]]\n",
      "\n",
      "\n",
      "调用 argmax() 函数：\n",
      "7\n",
      "5\n"
     ]
    }
   ],
   "source": [
    "import numpy as np \n",
    "a = np.array([[30,40,70],[80,20,10],[50,90,60]])  \n",
    "print('我们的数组是：') \n",
    "print(a) \n",
    "print('\\n') \n",
    "print('调用 argmax() 函数：') \n",
    "print(np.argmax(a)) # 返回数组展开后最大元素的索引值\n",
    "print(np.argmin(a)) # 返回数组展开后最小元素的索引值"
   ]
  },
  {
   "cell_type": "code",
   "execution_count": 73,
   "metadata": {},
   "outputs": [
    {
     "name": "stdout",
     "output_type": "stream",
     "text": [
      "我们的数组是：\n",
      "[[30 40  0]\n",
      " [ 0 20 10]\n",
      " [50  0 60]]\n",
      "\n",
      "\n",
      "调用 nonzero() 函数：\n",
      "(array([0, 0, 1, 1, 2, 2]), array([0, 1, 1, 2, 0, 2]))\n"
     ]
    }
   ],
   "source": [
    "# numpy.nonzero() 函数返回输入数组中非零元素的索引。\n",
    "import numpy as np \n",
    "a = np.array([[30,40,0],[0,20,10],[50,0,60]])  \n",
    "print ('我们的数组是：')\n",
    "print (a)\n",
    "print ('\\n')\n",
    "print ('调用 nonzero() 函数：')\n",
    "print (np.nonzero(a))"
   ]
  },
  {
   "cell_type": "code",
   "execution_count": null,
   "metadata": {},
   "outputs": [],
   "source": [
    "[0,0,1,1,2,2]\n",
    "[0,1,1,2,0,2]"
   ]
  },
  {
   "cell_type": "code",
   "execution_count": 74,
   "metadata": {},
   "outputs": [
    {
     "name": "stdout",
     "output_type": "stream",
     "text": [
      "我们的数组是：\n",
      "[[0. 1. 2.]\n",
      " [3. 4. 5.]\n",
      " [6. 7. 8.]]\n",
      "大于 3 的元素的索引：\n",
      "(array([1, 1, 2, 2, 2]), array([1, 2, 0, 1, 2]))\n",
      "使用这些索引来获取满足条件的元素：\n",
      "[4. 5. 6. 7. 8.]\n"
     ]
    }
   ],
   "source": [
    "# numpy.where() 函数返回输入数组中满足给定条件的元素的索引。\n",
    "import numpy as np \n",
    " \n",
    "x = np.arange(9.).reshape(3,  3)  \n",
    "print ('我们的数组是：')\n",
    "print (x)\n",
    "print ( '大于 3 的元素的索引：')\n",
    "y = np.where(x >3)  \n",
    "print (y)\n",
    "print ('使用这些索引来获取满足条件的元素：')\n",
    "print (x[y])"
   ]
  },
  {
   "cell_type": "code",
   "execution_count": 75,
   "metadata": {},
   "outputs": [
    {
     "name": "stdout",
     "output_type": "stream",
     "text": [
      "我们的数组是：\n",
      "[[0. 1. 2.]\n",
      " [3. 4. 5.]\n",
      " [6. 7. 8.]]\n",
      "按元素的条件值：\n",
      "[[ True False  True]\n",
      " [False  True False]\n",
      " [ True False  True]]\n",
      "使用条件提取元素：\n",
      "[0. 2. 4. 6. 8.]\n"
     ]
    }
   ],
   "source": [
    "# numpy.extract() 函数根据某个条件从数组中抽取元素，返回满条件的元素。\n",
    "import numpy as np \n",
    " \n",
    "x = np.arange(9.).reshape(3,  3)  \n",
    "print ('我们的数组是：')\n",
    "print (x)\n",
    "# 定义条件, 选择偶数元素\n",
    "condition = np.mod(x,2)  ==  0  \n",
    "print ('按元素的条件值：')\n",
    "print (condition)\n",
    "print ('使用条件提取元素：')\n",
    "print (np.extract(condition, x))"
   ]
  },
  {
   "cell_type": "code",
   "execution_count": null,
   "metadata": {},
   "outputs": [],
   "source": []
  },
  {
   "cell_type": "code",
   "execution_count": null,
   "metadata": {},
   "outputs": [],
   "source": []
  },
  {
   "cell_type": "code",
   "execution_count": null,
   "metadata": {},
   "outputs": [],
   "source": []
  },
  {
   "cell_type": "code",
   "execution_count": null,
   "metadata": {},
   "outputs": [],
   "source": []
  },
  {
   "cell_type": "code",
   "execution_count": null,
   "metadata": {},
   "outputs": [],
   "source": []
  },
  {
   "cell_type": "code",
   "execution_count": null,
   "metadata": {},
   "outputs": [],
   "source": []
  },
  {
   "cell_type": "code",
   "execution_count": null,
   "metadata": {},
   "outputs": [],
   "source": []
  }
 ],
 "metadata": {
  "kernelspec": {
   "display_name": "Python 3",
   "language": "python",
   "name": "python3"
  },
  "language_info": {
   "codemirror_mode": {
    "name": "ipython",
    "version": 3
   },
   "file_extension": ".py",
   "mimetype": "text/x-python",
   "name": "python",
   "nbconvert_exporter": "python",
   "pygments_lexer": "ipython3",
   "version": "3.6.8"
  }
 },
 "nbformat": 4,
 "nbformat_minor": 2
}
