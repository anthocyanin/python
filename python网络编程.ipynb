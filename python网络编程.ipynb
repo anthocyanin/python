{
 "cells": [
  {
   "cell_type": "code",
   "execution_count": 4,
   "metadata": {},
   "outputs": [],
   "source": [
    "# import socket\n",
    "# import sys\n",
    "# # 创建 socket 对象\n",
    "# serversocket = socket.socket(socket.AF_INET, socket.SOCK_STREAM)\n",
    "# # 获取本地主机名\n",
    "# host = socket.gethostname()\n",
    "# port = 9999\n",
    "# # 绑定端口号\n",
    "# serversocket.bind((host, port))\n",
    "# # 设置最大连接数，超过后排队\n",
    "# serversocket.listen(5)\n",
    "# while True:\n",
    "#     # 建立客户端连接\n",
    "#     clientsocket, addr = serversocket.accept()\n",
    "#     print('链接地址：%s' % str(addr))\n",
    "#     print('连接地址：{}'.format(str(addr)))\n",
    "#     msg = '欢迎访问菜鸟网络' + \"\\r\\n\"\n",
    "#     clientsocket.send(msg.encode('utf-8'))\n",
    "#     clientsocket.close()"
   ]
  },
  {
   "cell_type": "code",
   "execution_count": 3,
   "metadata": {},
   "outputs": [],
   "source": [
    "# import socket\n",
    "# import sys\n",
    "# s = socket.socket(socket.AF_INET, socket.SOCK_STREAM) \n",
    "# host = s.gethostname()\n",
    "# port = 9999\n",
    "# s.connect((host, port))\n",
    "# # 接收小于 1024 字节的数据\n",
    "# msg = s.recv(1024)\n",
    "# s.close()\n",
    "# print(msg.decode('utf-8'))\n"
   ]
  },
  {
   "cell_type": "code",
   "execution_count": 1,
   "metadata": {},
   "outputs": [],
   "source": [
    "# import socket\n",
    "# import threading\n",
    "# import time\n",
    "# def dealClient(sock, addr):\n",
    "#     print('Accept connect from {}'.format(addr))\n",
    "#     sock.send(b'hello i am server')\n",
    "#     while True:\n",
    "#         data = sock.recv(1024)\n",
    "#         time.sleep(2)\n",
    "#         if not data or data.decode('utf-8') == 'exit':\n",
    "#             break\n",
    "#         print('----->>%s' % data.decode('utf-8'))\n",
    "#         sock.send(('Loop_msg: %s' % data.decode('utf-8').encode('utf-8')))\n",
    "#     sock.close()\n",
    "#     print('connect from {} closed'.format(addr))\n",
    "# if __name__ == '__main__':\n",
    "#     s = socket.socket(socket.AF_INET, socket.SOCK_STREAM)\n",
    "#     s.bind(('127.0.0.1', 9999))\n",
    "#     s.listen(5)\n",
    "#     print('waiting for connecting')\n",
    "#     while True:\n",
    "#         sock,addr = s.accept()\n",
    "#         t = threading.Thread(target=dealClient, args=(sock, addr))\n",
    "#         t.start()"
   ]
  },
  {
   "cell_type": "code",
   "execution_count": 2,
   "metadata": {},
   "outputs": [],
   "source": [
    "# import socket\n",
    "# s = socket.socket(socket.AF_INET, socket.SOCK_STREAM)\n",
    "# s.connect('127.0.01', 9999)\n",
    "# print('---->' + s.recv(1024).decode('utf-8'))\n",
    "# s.send(b'hello i am client')\n",
    "# print('---->' + s.recv(1024).decode('utf-8'))\n",
    "# s.send(b'exit')\n",
    "# s.close()"
   ]
  },
  {
   "cell_type": "code",
   "execution_count": null,
   "metadata": {},
   "outputs": [],
   "source": []
  },
  {
   "cell_type": "code",
   "execution_count": null,
   "metadata": {},
   "outputs": [],
   "source": []
  },
  {
   "cell_type": "code",
   "execution_count": null,
   "metadata": {},
   "outputs": [],
   "source": []
  },
  {
   "cell_type": "code",
   "execution_count": null,
   "metadata": {},
   "outputs": [],
   "source": []
  },
  {
   "cell_type": "code",
   "execution_count": null,
   "metadata": {},
   "outputs": [],
   "source": []
  },
  {
   "cell_type": "code",
   "execution_count": null,
   "metadata": {},
   "outputs": [],
   "source": []
  }
 ],
 "metadata": {
  "kernelspec": {
   "display_name": "Python 3",
   "language": "python",
   "name": "python3"
  },
  "language_info": {
   "codemirror_mode": {
    "name": "ipython",
    "version": 3
   },
   "file_extension": ".py",
   "mimetype": "text/x-python",
   "name": "python",
   "nbconvert_exporter": "python",
   "pygments_lexer": "ipython3",
   "version": "3.6.8"
  }
 },
 "nbformat": 4,
 "nbformat_minor": 2
}
