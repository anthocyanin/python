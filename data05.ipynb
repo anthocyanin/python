{
 "cells": [
  {
   "cell_type": "code",
   "execution_count": 1,
   "metadata": {},
   "outputs": [
    {
     "name": "stdout",
     "output_type": "stream",
     "text": [
      "[ 2  6 12 20]\n"
     ]
    }
   ],
   "source": [
    "import numpy as np\n",
    "a = np.array([1,2,3,4])\n",
    "b = np.array([2,3,4,5])\n",
    "print(a*b)"
   ]
  },
  {
   "cell_type": "code",
   "execution_count": 4,
   "metadata": {},
   "outputs": [
    {
     "name": "stdout",
     "output_type": "stream",
     "text": [
      "[[11 22 33 44]\n",
      " [51 62 73 84]\n",
      " [31 42 53 64]]\n",
      "\n",
      "\n",
      "[[1 2 3 4]\n",
      " [1 2 3 4]\n",
      " [1 2 3 4]\n",
      " [1 2 3 4]]\n"
     ]
    }
   ],
   "source": [
    "# 当运算中的 2 个数组的形状不同时，numpy 将自动触发广播机制。如：\n",
    "import numpy as np\n",
    "a = np.array([[10,20,30,40],\n",
    "              [50,60,70,80],\n",
    "              [30,40,50,60]])\n",
    "b = np.array([[1,2,3,4]])\n",
    "bb = np.tile(b, (4, 1)) # 重复四次\n",
    "\n",
    "print(a+b)\n",
    "print('\\n')\n",
    "print(bb)"
   ]
  },
  {
   "cell_type": "markdown",
   "metadata": {},
   "source": [
    "## NumPy 迭代数组\n",
    "- NumPy 迭代器对象numpy.nditer提供了灵活访问数组元素的方法\n",
    "- 迭代器最基本的任务可以完成对数组对访问"
   ]
  },
  {
   "cell_type": "code",
   "execution_count": 2,
   "metadata": {},
   "outputs": [
    {
     "name": "stdout",
     "output_type": "stream",
     "text": [
      "[[0 1 2]\n",
      " [3 4 5]]\n",
      "\n",
      "\n",
      "0\n",
      "1\n",
      "2\n",
      "3\n",
      "4\n",
      "5\n"
     ]
    }
   ],
   "source": [
    "import numpy as np\n",
    "a = np.arange(6).reshape(2,3)\n",
    "print(a)\n",
    "print('\\n')\n",
    "for x in np.nditer(a):\n",
    "    print(x)"
   ]
  },
  {
   "cell_type": "code",
   "execution_count": 18,
   "metadata": {},
   "outputs": [
    {
     "name": "stdout",
     "output_type": "stream",
     "text": [
      "0,1,2,3,4,5,\n",
      "\n",
      "0,1,2,3,4,5,\n",
      " ====================\n",
      "0,3,1,4,2,5,\n",
      "\n",
      "0,1,2,3,4,5,"
     ]
    }
   ],
   "source": [
    "# 可以看出a 和 a.T 的遍历顺序是一样的，也就是他们在内存中的存储顺序也是一样的\n",
    "# 但是 a.T.copy(order = 'C') 的遍历结果是不同的，那是因为它和前两种的存储方式是不一样的，默认是按行访问。\n",
    "import numpy as np\n",
    "a = np.arange(6).reshape(2,3)\n",
    "for x in np.nditer(a):\n",
    "    print(x,end=',')\n",
    "print('\\n')\n",
    "for y in np.nditer(a.T):\n",
    "    print(y,end=',')\n",
    "print('\\n',10*\"==\")\n",
    "for z in np.nditer(a.T.copy(order='C')):\n",
    "    print(z,end=',')\n",
    "print('\\n')\n",
    "for w in np.nditer(a.T.copy(order='F')):\n",
    "    print(w,end=',')"
   ]
  },
  {
   "cell_type": "code",
   "execution_count": 12,
   "metadata": {},
   "outputs": [
    {
     "name": "stdout",
     "output_type": "stream",
     "text": [
      "[[0 1 2]\n",
      " [3 4 5]]\n",
      "\n",
      "\n",
      "[[0 3]\n",
      " [1 4]\n",
      " [2 5]]\n",
      "=============\n",
      "[[0 3]\n",
      " [1 4]\n",
      " [2 5]]\n",
      "\n",
      "\n",
      "[[0 3]\n",
      " [1 4]\n",
      " [2 5]]\n",
      "=============\n",
      "[[0 1 2]\n",
      " [3 4 5]]\n",
      "\n",
      "\n",
      "[[0 1 2]\n",
      " [3 4 5]]\n"
     ]
    }
   ],
   "source": [
    "import numpy as np\n",
    "a = np.arange(6).reshape(2,3)\n",
    "print(a)\n",
    "print('\\n')\n",
    "print(a.T)\n",
    "print('=============')\n",
    "print(a.T.copy(order='C'))\n",
    "print('\\n')\n",
    "print(a.T.copy(order='F'))\n",
    "print('=============')\n",
    "print(a.copy(order='C'))\n",
    "print('\\n')\n",
    "print(a.copy(order='F'))"
   ]
  },
  {
   "cell_type": "code",
   "execution_count": 19,
   "metadata": {},
   "outputs": [
    {
     "name": "stdout",
     "output_type": "stream",
     "text": [
      "[[ 0  5 10 15]\n",
      " [20 25 30 35]\n",
      " [40 45 50 55]]\n",
      "\n",
      "\n",
      "0,5,10,15,20,25,30,35,40,45,50,55,\n",
      " ====================\n",
      "0,20,40,5,25,45,10,30,50,15,35,55,"
     ]
    }
   ],
   "source": [
    "# 可以通过显式设置，来强制 nditer 对象使用某种顺序：\n",
    "# 早说嘛，这种方式不是很好理解吗\n",
    "import numpy as np\n",
    "a = np.arange(0,60,5).reshape(3,4)\n",
    "print(a)\n",
    "print('\\n')\n",
    "for x in np.nditer(a,order='C'):\n",
    "    print(x,end=',')\n",
    "print('\\n',10*\"==\")\n",
    "for y in np.nditer(a,order='F'):\n",
    "    print(y,end=',')"
   ]
  },
  {
   "cell_type": "markdown",
   "metadata": {},
   "source": [
    "## 遍历数组时还可以修改数组中元素的值\n",
    "- nditer 对象有另一个可选参数 op_flags。 默认情况下，nditer 将视待迭代遍历的数组为只读对象（read-only），\n",
    "- 为了在遍历数组的同时，实现对数组元素值得修改，必须指定 read-write 或者 write-only 的模式。"
   ]
  },
  {
   "cell_type": "code",
   "execution_count": 20,
   "metadata": {},
   "outputs": [
    {
     "name": "stdout",
     "output_type": "stream",
     "text": [
      "[[ 0  5 10 15]\n",
      " [20 25 30 35]\n",
      " [40 45 50 55]]\n",
      "\n",
      "\n",
      "修改后的数组如下\n",
      "\n",
      "[[  0  10  20  30]\n",
      " [ 40  50  60  70]\n",
      " [ 80  90 100 110]]\n"
     ]
    }
   ],
   "source": [
    "import numpy as np\n",
    "a = np.arange(0,60,5).reshape(3,4)\n",
    "print(a)\n",
    "print('\\n')\n",
    "for x in np.nditer(a,op_flags=['readwrite']):\n",
    "    x[...] = 2*x\n",
    "print('修改后的数组如下\\n')\n",
    "print(a)"
   ]
  },
  {
   "cell_type": "markdown",
   "metadata": {},
   "source": [
    "## nditer类的构造器拥有flags参数，它可以接受下列值：\n",
    "- c_index\t可以跟踪 C 顺序的索引\n",
    "- f_index\t可以跟踪 Fortran 顺序的索引\n",
    "- multi-index\t每次迭代可以跟踪一种索引类型\n",
    "- external_loop\t给出的值是具有多个值的一维数组，而不是零维数组"
   ]
  },
  {
   "cell_type": "code",
   "execution_count": 25,
   "metadata": {},
   "outputs": [
    {
     "name": "stdout",
     "output_type": "stream",
     "text": [
      "[[ 0  5 10 15]\n",
      " [20 25 30 35]\n",
      " [40 45 50 55]]\n",
      "\n",
      "\n",
      "[ 0  5 10 15 20 25 30 35 40 45 50 55],\n",
      "\n",
      "[ 0 20 40],[ 5 25 45],[10 30 50],[15 35 55],"
     ]
    }
   ],
   "source": [
    "import numpy as np\n",
    "a = np.arange(0,60,5).reshape(3,4)\n",
    "print(a)\n",
    "print('\\n')\n",
    "for x in np.nditer(a,flags=['external_loop'],order='C'):\n",
    "    print(x,end=',')    \n",
    "print('\\n')\n",
    "for x in np.nditer(a,flags=['external_loop'],order='F'):\n",
    "    print(x,end=',')    "
   ]
  },
  {
   "cell_type": "code",
   "execution_count": 29,
   "metadata": {},
   "outputs": [
    {
     "name": "stdout",
     "output_type": "stream",
     "text": [
      "[[ 0  5 10 15]\n",
      " [20 25 30 35]\n",
      " [40 45 50 55]]\n",
      "\n",
      "\n",
      "0,5,10,15,20,25,30,35,40,45,50,55,\n",
      "\n",
      "0,20,40,5,25,45,10,30,50,15,35,55,\n",
      "\n",
      "0,5,10,15,20,25,30,35,40,45,50,55,"
     ]
    }
   ],
   "source": [
    "import numpy as np\n",
    "a = np.arange(0,60,5).reshape(3,4)\n",
    "print(a)\n",
    "print('\\n')\n",
    "for x in np.nditer(a,flags=['c_index'],order='C'):\n",
    "    print(x,end=',')    \n",
    "print('\\n')\n",
    "for x in np.nditer(a,flags=['f_index'],order='F'):\n",
    "    print(x,end=',')  \n",
    "print('\\n')\n",
    "for x in np.nditer(a,flags=['multi_index']):\n",
    "    print(x,end=',') "
   ]
  },
  {
   "cell_type": "markdown",
   "metadata": {},
   "source": [
    "## 广播迭代\n",
    "- 如果两个数组是可广播的，nditer 组合对象能够同时迭代它们。 \n",
    "- 假设数组 a 的维度为 3X4，数组 b 的维度为 1X4 ，则使用以下迭代器（数组 b 被广播到 a 的大小）。"
   ]
  },
  {
   "cell_type": "code",
   "execution_count": 30,
   "metadata": {},
   "outputs": [
    {
     "name": "stdout",
     "output_type": "stream",
     "text": [
      "[[ 0  5 10 15]\n",
      " [20 25 30 35]\n",
      " [40 45 50 55]]\n",
      "\n",
      "\n",
      "[1 2 3 4]\n",
      "\n",
      "\n",
      "0:1,5:2,10:3,15:4,20:1,25:2,30:3,35:4,40:1,45:2,50:3,55:4,"
     ]
    }
   ],
   "source": [
    "import numpy as np\n",
    "a = np.arange(0,60,5).reshape(3,4)\n",
    "print(a)\n",
    "print('\\n')\n",
    "b = np.array([1,2,3,4],dtype=int)\n",
    "print(b)\n",
    "print('\\n')\n",
    "for x,y in np.nditer([a,b]):\n",
    "    print(\"%d:%d\" % (x,y),end=',')"
   ]
  },
  {
   "cell_type": "code",
   "execution_count": null,
   "metadata": {},
   "outputs": [],
   "source": []
  },
  {
   "cell_type": "code",
   "execution_count": null,
   "metadata": {},
   "outputs": [],
   "source": []
  },
  {
   "cell_type": "code",
   "execution_count": null,
   "metadata": {},
   "outputs": [],
   "source": []
  },
  {
   "cell_type": "code",
   "execution_count": null,
   "metadata": {},
   "outputs": [],
   "source": []
  },
  {
   "cell_type": "code",
   "execution_count": null,
   "metadata": {},
   "outputs": [],
   "source": []
  },
  {
   "cell_type": "code",
   "execution_count": null,
   "metadata": {},
   "outputs": [],
   "source": []
  },
  {
   "cell_type": "code",
   "execution_count": null,
   "metadata": {},
   "outputs": [],
   "source": []
  },
  {
   "cell_type": "code",
   "execution_count": null,
   "metadata": {},
   "outputs": [],
   "source": []
  },
  {
   "cell_type": "code",
   "execution_count": null,
   "metadata": {},
   "outputs": [],
   "source": []
  },
  {
   "cell_type": "code",
   "execution_count": null,
   "metadata": {},
   "outputs": [],
   "source": []
  }
 ],
 "metadata": {
  "kernelspec": {
   "display_name": "Python 3",
   "language": "python",
   "name": "python3"
  },
  "language_info": {
   "codemirror_mode": {
    "name": "ipython",
    "version": 3
   },
   "file_extension": ".py",
   "mimetype": "text/x-python",
   "name": "python",
   "nbconvert_exporter": "python",
   "pygments_lexer": "ipython3",
   "version": "3.7.0"
  }
 },
 "nbformat": 4,
 "nbformat_minor": 2
}
