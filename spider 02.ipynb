{
 "cells": [
  {
   "cell_type": "code",
   "execution_count": 28,
   "metadata": {},
   "outputs": [
    {
     "name": "stdout",
     "output_type": "stream",
     "text": [
      "Harry Potter\n",
      "29.99\n",
      "2018\n",
      "Learning XML\n",
      "39.95\n",
      "python\n",
      "40\n"
     ]
    }
   ],
   "source": [
    "test_data = '''\n",
    "        <div>\n",
    "            <ul>\n",
    "                 <li class=\"item-0\"><a href=\"link1.html\" id=\"places_neighbours__row\">9,596,960first item</a></li>\n",
    "                 <li class=\"item-1\"><a href=\"link2.html\">second item</a></li>\n",
    "                 <li class=\"item-inactive\"><a href=\"link3.html\">third item</a></li>\n",
    "                 <li class=\"item-1\"><a href=\"link4.html\" id=\"places_neighbours__row\">fourth item</a></li>\n",
    "                 <li class=\"item-0\"><a href=\"link5.html\">fifth item</a></li>\n",
    "                 <li class=\"good-0\"><a href=\"link5.html\">sixth item</a></li>\n",
    "             </ul>\n",
    "             <book>\n",
    "                    <title lang=\"eng\">Harry Potter</title>\n",
    "                    <price>29.99</price>\n",
    "                    <time><year>2018</year></time>\n",
    "            </book>\n",
    "            <book>\n",
    "                <title lang=\"zh\">Learning XML</title>\n",
    "                <price id=\"places_neighbours__row\">39.95</price>\n",
    "            </book>\n",
    "            <book>\n",
    "                <title>python</title>\n",
    "                <price>40</price>\n",
    "            </book>\n",
    "         </div>\n",
    "         '''\n",
    "        \n",
    "import lxml.html\n",
    "html = lxml.html.fromstring(test_data)\n",
    "html_data = html.xpath(\"//div/book[1]/title\")\n",
    "html_data = html.xpath(\"//div/book[last()]\")\n",
    "html_data = html.xpath('//div/book')\n",
    "html_data = html.xpath('//book/title')\n",
    "html_data = html.xpath('//title')\n",
    "html_data = html.xpath('//div/book/title[@lang=\"zh\"]')\n",
    "html_data = html.xpath('//div/book/title[@*]')\n",
    "html_data = html.xpath('//book/title/@*')\n",
    "html_data = html.xpath('//book/title/text()')\n",
    "html_data = html.xpath('//ul/li/a[@href=\"link1.html\"]/text()')\n",
    "html_data = html.xpath('//a[@href=\"link4.html\"and @id=\"places_neighbours__row\"]/text()')\n",
    "html_data = html.xpath('//li[@class=\"item-0\" or @class=\"item-2\"]/a/text()')\n",
    "html_data = html.xpath('//li[@class!=\"item-0\" and @class!=\"itrm-2\"]/a/text()')\n",
    "html_data = html.xpath('//li/a[not(@id)]/text()')\n",
    "html_data = html.xpath('//div/book[last()-1]/title/text()')\n",
    "html_data = html.xpath('//div/book[price>30]/title/text()')\n",
    "html_data = html.xpath('//li[starts-with(@class,\"item\")]/a/text()')\n",
    "html_data = html.xpath('//title[contains(@lang,\"en\")]/text()')\n",
    "html_data = html.xpath('//book/descendant::*/text()')\n",
    "for i in html_data:\n",
    "    print(i)"
   ]
  },
  {
   "cell_type": "code",
   "execution_count": null,
   "metadata": {},
   "outputs": [],
   "source": []
  },
  {
   "cell_type": "code",
   "execution_count": null,
   "metadata": {},
   "outputs": [],
   "source": []
  },
  {
   "cell_type": "code",
   "execution_count": null,
   "metadata": {},
   "outputs": [],
   "source": []
  }
 ],
 "metadata": {
  "kernelspec": {
   "display_name": "Python 3",
   "language": "python",
   "name": "python3"
  },
  "language_info": {
   "codemirror_mode": {
    "name": "ipython",
    "version": 3
   },
   "file_extension": ".py",
   "mimetype": "text/x-python",
   "name": "python",
   "nbconvert_exporter": "python",
   "pygments_lexer": "ipython3",
   "version": "3.7.0"
  }
 },
 "nbformat": 4,
 "nbformat_minor": 2
}
