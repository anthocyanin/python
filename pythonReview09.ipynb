{
 "cells": [
  {
   "cell_type": "markdown",
   "metadata": {},
   "source": [
    "### 常用内建模块\n"
   ]
  },
  {
   "cell_type": "markdown",
   "metadata": {},
   "source": [
    "#### datetime模块\n",
    "- 注意：注意到datetime是模块，datetime模块还包含一个datetime类，通过from datetime import datetime导入的才是datetime这个类。\n",
    "- 操作：获取当前日期和时间--datetime.now()\n",
    "- 操作：获取指定日期和时间--datetime()\n",
    "- 操作：datetime转换为timestamp--dt.timestamp()\n",
    "- 操作：timestamp转换为datetime--datetime.fromtimestamp(ts)\n",
    "- 操作：str转换为datetime--datetime.strptime(str,format)\n",
    "- 操作：datetime转str--dt.strftime(format)\n",
    "- 操作：datetime加减,需要导入timedelta这个类--dt +/- timedelta(day= ,hours= )"
   ]
  },
  {
   "cell_type": "code",
   "execution_count": 3,
   "metadata": {},
   "outputs": [
    {
     "name": "stdout",
     "output_type": "stream",
     "text": [
      "2019-06-26 10:10:07.512493\n",
      "<class 'datetime.datetime'>\n"
     ]
    }
   ],
   "source": [
    "from datetime import datetime\n",
    "n = datetime.now() # datetime.now()返回当前日期和时间，其类型是datetime。\n",
    "\n",
    "print(n)\n",
    "print(type(n))"
   ]
  },
  {
   "cell_type": "code",
   "execution_count": 6,
   "metadata": {},
   "outputs": [
    {
     "name": "stdout",
     "output_type": "stream",
     "text": [
      "1429417200.0\n"
     ]
    }
   ],
   "source": [
    "dt = datetime(2015, 4, 19, 12, 20) # 用指定日期时间创建datetime\n",
    "print(dt.timestamp()) # 把datetime转换成timestamp"
   ]
  },
  {
   "cell_type": "code",
   "execution_count": 8,
   "metadata": {},
   "outputs": [
    {
     "name": "stdout",
     "output_type": "stream",
     "text": [
      "2015-04-19 12:20:00\n",
      "2015-04-19 04:20:00\n"
     ]
    }
   ],
   "source": [
    "ts = 1429417200.0\n",
    "print(datetime.fromtimestamp(ts)) # 用datetime.fromtimestamp(t)函数把参数t转换成日期。默认是本地时区转换\n",
    "print(datetime.utcfromtimestamp(ts)) # utcfromtimestamp()函数是转换到UTC标准时区时间。"
   ]
  },
  {
   "cell_type": "code",
   "execution_count": 17,
   "metadata": {},
   "outputs": [
    {
     "name": "stdout",
     "output_type": "stream",
     "text": [
      "2015-06-01 18:19:59\n",
      "2015-06-01 18:19:59\n",
      "2015-06-01 18:19:59\n"
     ]
    }
   ],
   "source": [
    "# 没啥好说的，自己看一遍即可\n",
    "cday1 = datetime.strptime('2015/6/1--18:19:59', '%Y/%m/%d--%H:%M:%S')\n",
    "cday2 = datetime.strptime('2015-6-1 18:19:59', '%Y-%m-%d %H:%M:%S')\n",
    "cday3 = datetime.strptime(r'2015\\6\\1 18:19:59', '%Y\\%m\\%d %H:%M:%S')\n",
    "\n",
    "print(cday1)\n",
    "print(cday2)\n",
    "print(cday3)"
   ]
  },
  {
   "cell_type": "code",
   "execution_count": 21,
   "metadata": {},
   "outputs": [
    {
     "name": "stdout",
     "output_type": "stream",
     "text": [
      "Wed Jun 26 10:55\n",
      "19/06/26--10:55:56\n",
      "Wednesday%June%26--10:55\n"
     ]
    }
   ],
   "source": [
    "nm = datetime.now()\n",
    "t2 = nm.strftime('%a %b %d %H:%M')\n",
    "print(t2)\n",
    "\n",
    "t3 = nm.strftime('%y/%m/%d--%H:%M:%S')\n",
    "print(t3)\n",
    "\n",
    "t4 = nm.strftime('%A%%%B%%%d--%H:%M') # %% 代表%。\n",
    "print(t4)"
   ]
  },
  {
   "cell_type": "code",
   "execution_count": 25,
   "metadata": {},
   "outputs": [
    {
     "name": "stdout",
     "output_type": "stream",
     "text": [
      "2019-06-26 11:06:00.666984\n",
      "2019-06-27 11:06:00.666984\n",
      "2019-06-28 21:06:00.666984\n"
     ]
    }
   ],
   "source": [
    "# 对日期和时间进行加减实际上就是把datetime往后或往前计算，得到新的datetime。加减可以直接用+和-运算符，不过需要导入timedelta这个类：\n",
    "from datetime import datetime, timedelta\n",
    "now1 = datetime.now()\n",
    "now2 = now1 + timedelta(days=1)\n",
    "now3 = now1 + timedelta(days=2,hours=10)\n",
    "print(now1)\n",
    "print(now2)\n",
    "print(now3)"
   ]
  },
  {
   "cell_type": "markdown",
   "metadata": {},
   "source": [
    "#### collections是Python内建的一个集合模块，提供了许多有用的集合类。\n",
    "- namedtuple:是一个函数，它用来创建一个自定义的tuple对象，并且规定了tuple元素的个数，并可以用属性而不是索引来引用tuple的某个元素。\n",
    "- deque:正常list访问快，插入删除慢，deque是为了高效实现插入和删除操作的双向列表，适合用于队列和栈\n",
    "- deque:除了实现list的append()和pop()外，还支持appendleft()和popleft()，这样就可以非常高效地往头部添加或删除元素。\n",
    "- \n",
    "- defaultdict:使用dict时，如果引用的Key不存在，就会抛出KeyError。如果希望key不存在时，返回一个默认值，就可以用defaultdict。\n",
    "- OrderedDict: 使用dict时，Key是无序的。在对dict做迭代时，我们无法确定Key的顺序。如果要保持Key的顺序，可以用OrderedDict。\n",
    "- ChainMap:可以把一组dict串起来并组成一个逻辑上的dict。ChainMap本身也是一个dict，但是查找的时候，会按照顺序在内部的dict依次查找。\n",
    "\n",
    "- Counter:Counter是一个简单的计数器，例如，统计字符出现的个数："
   ]
  },
  {
   "cell_type": "code",
   "execution_count": 27,
   "metadata": {},
   "outputs": [
    {
     "name": "stdout",
     "output_type": "stream",
     "text": [
      "1 2\n"
     ]
    }
   ],
   "source": [
    "from collections import namedtuple\n",
    "Point = namedtuple('Point', ['x', 'y'])\n",
    "p = Point(1,2)\n",
    "print(p.x, p.y)\n"
   ]
  },
  {
   "cell_type": "code",
   "execution_count": 29,
   "metadata": {},
   "outputs": [
    {
     "name": "stdout",
     "output_type": "stream",
     "text": [
      "True\n"
     ]
    }
   ],
   "source": [
    "# 可以验证创建的Point对象是tuple的一种子类：\n",
    "print(isinstance(p, tuple))"
   ]
  },
  {
   "cell_type": "code",
   "execution_count": 33,
   "metadata": {},
   "outputs": [
    {
     "name": "stdout",
     "output_type": "stream",
     "text": [
      "deque(['b', 1, 2, 3, 'a'])\n"
     ]
    }
   ],
   "source": [
    "from collections import deque\n",
    "q = deque([1,2,3])\n",
    "q.append('a')\n",
    "q.appendleft('b')\n",
    "print(q)"
   ]
  },
  {
   "cell_type": "code",
   "execution_count": 37,
   "metadata": {},
   "outputs": [
    {
     "name": "stdout",
     "output_type": "stream",
     "text": [
      "aa\n",
      "N/A\n"
     ]
    }
   ],
   "source": [
    "from collections import defaultdict\n",
    "dd = defaultdict(lambda:'N/A')\n",
    "dd['k1'] = 'aa'\n",
    "print(dd['k1'])\n",
    "print(dd['k2'])\n",
    "# 注意默认值是调用函数返回的，而函数在创建defaultdict对象时传入。\n",
    "# 除了在Key不存在时返回默认值，defaultdict的其他行为跟dict是完全一样的。"
   ]
  },
  {
   "cell_type": "code",
   "execution_count": 40,
   "metadata": {},
   "outputs": [
    {
     "name": "stdout",
     "output_type": "stream",
     "text": [
      "{'a': 1, 'b': 2, 'c': 3}\n",
      "OrderedDict([('a', 1), ('c', 2), ('b', 3)])\n",
      "x\n",
      "z\n",
      "y\n"
     ]
    }
   ],
   "source": [
    "from collections import OrderedDict\n",
    "d1 = dict([('a', 1), ('b', 2), ('c', 3)])\n",
    "print(d1) # d1可能会顺序不定\n",
    "\n",
    "d2 = OrderedDict([('a', 1), ('c', 2), ('b', 3)])\n",
    "print(d2) # d2顺序一直不变\n",
    "\n",
    "# 注意，OrderedDict的Key会按照插入的顺序排列，不是Key本身排序：\n",
    "od = OrderedDict()\n",
    "od['x'] = 1\n",
    "od['z'] = 2\n",
    "od['y'] = 3\n",
    "for i in od.keys():\n",
    "    print(i)"
   ]
  },
  {
   "cell_type": "code",
   "execution_count": 41,
   "metadata": {},
   "outputs": [
    {
     "name": "stdout",
     "output_type": "stream",
     "text": [
      "Counter({'s': 5, 'a': 3, 'h': 3, 'g': 1, 'k': 1})\n"
     ]
    }
   ],
   "source": [
    "from collections import Counter\n",
    "c = Counter()\n",
    "for i in 'asgshshakshas':\n",
    "    c[i] = c[i] + 1\n",
    "print(c)"
   ]
  },
  {
   "cell_type": "markdown",
   "metadata": {},
   "source": [
    "### Base64模块\n",
    "- Base64是一种用64个字符表示任意二进制数据等方法\n",
    "- 但是我没太理解"
   ]
  },
  {
   "cell_type": "markdown",
   "metadata": {},
   "source": [
    "### Struct模块\n",
    "- struct模块来解决bytes和其他二进制数据类型的转换。\n",
    "- struct的pack函数把任意数据类型变成bytes：\n",
    "- unpack把bytes变成相应的数据类型：\n",
    "- 我不大理解他的用途"
   ]
  },
  {
   "cell_type": "markdown",
   "metadata": {},
   "source": [
    "### Hashlib模块\n",
    "- 什么是摘要算法呢？摘要算法又称哈希算法、散列算法。它通过一个函数，把任意长度的数据转换为一个长度固定的数据串（通常用16进制的字符串表示）。\n",
    "- Python的hashlib提供了常见的摘要算法，如MD5，SHA1等等。\n",
    "- "
   ]
  },
  {
   "cell_type": "code",
   "execution_count": 42,
   "metadata": {},
   "outputs": [
    {
     "name": "stdout",
     "output_type": "stream",
     "text": [
      "974f57f3fa9c0c71a5e7c8cf8d80ae4c\n"
     ]
    }
   ],
   "source": [
    "import hashlib\n",
    "# MD5是最常见的摘要算法，速度很快，生成结果是固定的128 bit字节，通常用一个32位的16进制字符串表示。\n",
    "md5 = hashlib.md5()\n",
    "md5.update('nihao zhihua'.encode('utf-8'))\n",
    "print(md5.hexdigest())"
   ]
  },
  {
   "cell_type": "code",
   "execution_count": 44,
   "metadata": {},
   "outputs": [
    {
     "name": "stdout",
     "output_type": "stream",
     "text": [
      "ff6cfaf18976257a28a52afd282fb72d90bea0ba\n"
     ]
    }
   ],
   "source": [
    "# 另一种常见的摘要算法是SHA1，调用SHA1和调用MD5完全类似：\n",
    "sha = hashlib.sha1()\n",
    "sha.update('nohaozhihua?'.encode())\n",
    "print(sha.hexdigest())"
   ]
  },
  {
   "cell_type": "markdown",
   "metadata": {},
   "source": [
    "### Itertools模块\n",
    "- itertools模块提供的全部是处理迭代功能的函数，它们的返回值不是list，而是Iterator，只有用for循环迭代的时候才真正计算。\n",
    "- itertools.count()\n",
    "- itertools.circle()\n",
    "- itertools.repeat()\n",
    "- itertools.takewhile()\n",
    "- itertools.chain()\n",
    "- itertools.groupby()"
   ]
  },
  {
   "cell_type": "code",
   "execution_count": 49,
   "metadata": {},
   "outputs": [
    {
     "name": "stdout",
     "output_type": "stream",
     "text": [
      "[1, 2, 3, 4, 5, 6, 7, 8, 9]\n"
     ]
    }
   ],
   "source": [
    "import itertools \n",
    "natuals = itertools.count(1)\n",
    "# for x in n:\n",
    "#     print(x)\n",
    "# 无限循环打印1，2，3。。。。。\n",
    "\n",
    "# 无限序列虽然可以无限迭代下去，但是通常我们会通过takewhile()等函数根据条件判断来截取出一个有限的序列：\n",
    "\n",
    "ns = itertools.takewhile(lambda x: x<10, natuals)\n",
    "print(list(ns))"
   ]
  },
  {
   "cell_type": "code",
   "execution_count": 46,
   "metadata": {},
   "outputs": [],
   "source": [
    "# cs = itertools.circle('A', 'B', 'C')\n",
    "# for i in cs:\n",
    "#     print(i)\n",
    "# 无限循环打印'A', 'B', 'C'"
   ]
  },
  {
   "cell_type": "code",
   "execution_count": 48,
   "metadata": {},
   "outputs": [
    {
     "name": "stdout",
     "output_type": "stream",
     "text": [
      "A\n",
      "A\n",
      "A\n",
      "A\n",
      "A\n",
      "A\n"
     ]
    }
   ],
   "source": [
    "# repeat负责把一个元素重复下去。但可以传入限制参数\n",
    "import itertools\n",
    "r = itertools.repeat('A', 6)\n",
    "for x in r:\n",
    "    print(x)"
   ]
  },
  {
   "cell_type": "code",
   "execution_count": 50,
   "metadata": {},
   "outputs": [
    {
     "name": "stdout",
     "output_type": "stream",
     "text": [
      "A\n",
      "B\n",
      "C\n",
      "X\n",
      "Y\n",
      "Z\n"
     ]
    }
   ],
   "source": [
    "# chain()可以把一组迭代对象串联起来，形成一个更大的迭代器：\n",
    "for i in itertools.chain('ABC', 'XYZ'):\n",
    "    print(i)\n"
   ]
  },
  {
   "cell_type": "code",
   "execution_count": 51,
   "metadata": {},
   "outputs": [
    {
     "name": "stdout",
     "output_type": "stream",
     "text": [
      "a ['a', 'a', 'a', 'a']\n",
      "b ['b', 'b', 'b']\n",
      "c ['c', 'c', 'c']\n",
      "d ['d', 'd']\n"
     ]
    }
   ],
   "source": [
    "# groupby()把迭代器中相邻的重复元素挑出来放在一起：\n",
    "for key, group in itertools.groupby('aaaabbbcccdd'):\n",
    "    print(key, list(group))\n"
   ]
  },
  {
   "cell_type": "code",
   "execution_count": 52,
   "metadata": {},
   "outputs": [
    {
     "name": "stdout",
     "output_type": "stream",
     "text": [
      "A ['A', 'a', 'a']\n",
      "B ['B', 'B', 'b']\n",
      "C ['c', 'C']\n",
      "A ['A', 'A', 'a']\n"
     ]
    }
   ],
   "source": [
    "for key, group in itertools.groupby('AaaBBbcCAAa', lambda c: c.upper()): # 忽略大小写\n",
    "    print(key, list(group))\n"
   ]
  },
  {
   "cell_type": "markdown",
   "metadata": {},
   "source": [
    "### contextlib模块\n",
    "- 并不是只有open()函数返回的fp对象才能使用with语句。实际上，任何对象，只要正确实现了上下文管理，就可以使用with语句\n",
    "- 实现上下文管理是通过__enter__() 和 __exit__()两个方法实现的。\n",
    "- 凡是实现了__enter__() 和 __exit__()两个方法的对象就是上下文管理器\n"
   ]
  },
  {
   "cell_type": "code",
   "execution_count": 53,
   "metadata": {},
   "outputs": [
    {
     "name": "stdout",
     "output_type": "stream",
     "text": [
      "Begin\n",
      "Query info about Jack...\n",
      "End\n"
     ]
    }
   ],
   "source": [
    "class Query(object):\n",
    "    \n",
    "    def __init__(self, name):\n",
    "        self.name = name\n",
    "        \n",
    "    def __enter__(self):\n",
    "        print('Begin')\n",
    "        return self\n",
    "    \n",
    "#     退出运行时上下文，并返回一个布尔值标示是否有需要处理的异常。\n",
    "#     如果在执行with语句体时发生异常，那退出时参数会包括异常类型、异常值、异常追踪信息，\n",
    "#     否则，3个参数都是None\n",
    "    def __exit__(self, exc_type, exc_value, traceback):\n",
    "        if exc_type:\n",
    "            print('Error')\n",
    "        else:\n",
    "            print('End')\n",
    "            \n",
    "    def query(self):\n",
    "        print('Query info about %s...' % self.name)\n",
    "\n",
    "with Query('Jack') as q:\n",
    "    q.query()"
   ]
  },
  {
   "cell_type": "markdown",
   "metadata": {},
   "source": [
    "#### 编写__enter__和__exit__仍然很繁琐，因此Python的标准库contextlib提供了更简单的写法，上面的代码可以改写如下"
   ]
  },
  {
   "cell_type": "markdown",
   "metadata": {},
   "source": [
    "- with expression [as variable]:\n",
    "- ....with-block\n",
    "- expression应该返回一个支持“上下文管理协议”的对象，如果 as 分句存在的话，这个对象的返回值会被赋给 as 后面的变量名。\n",
    "\n"
   ]
  },
  {
   "cell_type": "code",
   "execution_count": 55,
   "metadata": {},
   "outputs": [
    {
     "name": "stdout",
     "output_type": "stream",
     "text": [
      "Begin\n",
      "Query info about tutu...\n",
      "End\n"
     ]
    }
   ],
   "source": [
    "from contextlib import contextmanager\n",
    "\n",
    "class Query(object):\n",
    "    \n",
    "    def __init__(self, name):\n",
    "        self.name = name\n",
    "    def query(self):\n",
    "        print('Query info about %s...' % self.name)\n",
    " \n",
    "\n",
    "@contextmanager\n",
    "def create_query(name):\n",
    "    print('Begin')\n",
    "    q = Query(name)\n",
    "    yield q\n",
    "    print('End')\n",
    "\n",
    "with create_query('tutu') as q:\n",
    "    q.query()"
   ]
  },
  {
   "cell_type": "markdown",
   "metadata": {},
   "source": [
    "#### contextmanager就是能把一个生成器装饰成上下文管理器"
   ]
  },
  {
   "cell_type": "code",
   "execution_count": 56,
   "metadata": {},
   "outputs": [
    {
     "name": "stdout",
     "output_type": "stream",
     "text": [
      "<h1>\n",
      "hello\n",
      "world\n",
      "</h1>\n"
     ]
    }
   ],
   "source": [
    "@contextmanager\n",
    "def tag(name):\n",
    "    print('<%s>' % name)\n",
    "    yield\n",
    "    print('</%s>' % name)\n",
    "    \n",
    "with tag('h1'):\n",
    "    print('hello')\n",
    "    print('world')\n"
   ]
  },
  {
   "cell_type": "markdown",
   "metadata": {},
   "source": [
    "#### 如果一个对象没有实现上下文，我们就不能把它用于with语句。\n",
    "#### 这个时候，可以用closing()来把该对象变为上下文对象。例如，用with语句使用urlopen()：\n",
    "\n"
   ]
  },
  {
   "cell_type": "code",
   "execution_count": 57,
   "metadata": {},
   "outputs": [
    {
     "name": "stdout",
     "output_type": "stream",
     "text": [
      "b'<!DOCTYPE html>\\n'\n",
      "b'<html lang=\"en\">\\n'\n",
      "b'\\n'\n",
      "b'<head>\\n'\n",
      "b'    <meta charset=\"UTF-8\">\\n'\n",
      "b'    <title>httpbin.org</title>\\n'\n",
      "b'    <link href=\"https://fonts.googleapis.com/css?family=Open+Sans:400,700|Source+Code+Pro:300,600|Titillium+Web:400,600,700\"\\n'\n",
      "b'        rel=\"stylesheet\">\\n'\n",
      "b'    <link rel=\"stylesheet\" type=\"text/css\" href=\"/flasgger_static/swagger-ui.css\">\\n'\n",
      "b'    <link rel=\"icon\" type=\"image/png\" href=\"/static/favicon.ico\" sizes=\"64x64 32x32 16x16\" />\\n'\n",
      "b'    <style>\\n'\n",
      "b'        html {\\n'\n",
      "b'            box-sizing: border-box;\\n'\n",
      "b'            overflow: -moz-scrollbars-vertical;\\n'\n",
      "b'            overflow-y: scroll;\\n'\n",
      "b'        }\\n'\n",
      "b'\\n'\n",
      "b'        *,\\n'\n",
      "b'        *:before,\\n'\n",
      "b'        *:after {\\n'\n",
      "b'            box-sizing: inherit;\\n'\n",
      "b'        }\\n'\n",
      "b'\\n'\n",
      "b'        body {\\n'\n",
      "b'            margin: 0;\\n'\n",
      "b'            background: #fafafa;\\n'\n",
      "b'        }\\n'\n",
      "b'    </style>\\n'\n",
      "b'</head>\\n'\n",
      "b'\\n'\n",
      "b'<body>\\n'\n",
      "b'    <a href=\"https://github.com/requests/httpbin\" class=\"github-corner\" aria-label=\"View source on Github\">\\n'\n",
      "b'        <svg width=\"80\" height=\"80\" viewBox=\"0 0 250 250\" style=\"fill:#151513; color:#fff; position: absolute; top: 0; border: 0; right: 0;\"\\n'\n",
      "b'            aria-hidden=\"true\">\\n'\n",
      "b'            <path d=\"M0,0 L115,115 L130,115 L142,142 L250,250 L250,0 Z\"></path>\\n'\n",
      "b'            <path d=\"M128.3,109.0 C113.8,99.7 119.0,89.6 119.0,89.6 C122.0,82.7 120.5,78.6 120.5,78.6 C119.2,72.0 123.4,76.3 123.4,76.3 C127.3,80.9 125.5,87.3 125.5,87.3 C122.9,97.6 130.6,101.9 134.4,103.2\"\\n'\n",
      "b'                fill=\"currentColor\" style=\"transform-origin: 130px 106px;\" class=\"octo-arm\"></path>\\n'\n",
      "b'            <path d=\"M115.0,115.0 C114.9,115.1 118.7,116.5 119.8,115.4 L133.7,101.6 C136.9,99.2 139.9,98.4 142.2,98.6 C133.8,88.0 127.5,74.4 143.8,58.0 C148.5,53.4 154.0,51.2 159.7,51.0 C160.3,49.4 163.2,43.6 171.4,40.1 C171.4,40.1 176.1,42.5 178.8,56.2 C183.1,58.6 187.2,61.8 190.9,65.4 C194.5,69.0 197.7,73.2 200.1,77.6 C213.8,80.2 216.3,84.9 216.3,84.9 C212.7,93.1 206.9,96.0 205.4,96.6 C205.1,102.4 203.0,107.8 198.3,112.5 C181.9,128.9 168.3,122.5 157.7,114.1 C157.9,116.9 156.7,120.9 152.7,124.9 L141.0,136.5 C139.8,137.7 141.6,141.9 141.8,141.8 Z\"\\n'\n",
      "b'                fill=\"currentColor\" class=\"octo-body\"></path>\\n'\n",
      "b'        </svg>\\n'\n",
      "b'    </a>\\n'\n",
      "b'    <svg xmlns=\"http://www.w3.org/2000/svg\" xmlns:xlink=\"http://www.w3.org/1999/xlink\" style=\"position:absolute;width:0;height:0\">\\n'\n",
      "b'        <defs>\\n'\n",
      "b'            <symbol viewBox=\"0 0 20 20\" id=\"unlocked\">\\n'\n",
      "b'                <path d=\"M15.8 8H14V5.6C14 2.703 12.665 1 10 1 7.334 1 6 2.703 6 5.6V6h2v-.801C8 3.754 8.797 3 10 3c1.203 0 2 .754 2 2.199V8H4c-.553 0-1 .646-1 1.199V17c0 .549.428 1.139.951 1.307l1.197.387C5.672 18.861 6.55 19 7.1 19h5.8c.549 0 1.428-.139 1.951-.307l1.196-.387c.524-.167.953-.757.953-1.306V9.199C17 8.646 16.352 8 15.8 8z\"></path>\\n'\n",
      "b'            </symbol>\\n'\n",
      "b'\\n'\n",
      "b'            <symbol viewBox=\"0 0 20 20\" id=\"locked\">\\n'\n",
      "b'                <path d=\"M15.8 8H14V5.6C14 2.703 12.665 1 10 1 7.334 1 6 2.703 6 5.6V8H4c-.553 0-1 .646-1 1.199V17c0 .549.428 1.139.951 1.307l1.197.387C5.672 18.861 6.55 19 7.1 19h5.8c.549 0 1.428-.139 1.951-.307l1.196-.387c.524-.167.953-.757.953-1.306V9.199C17 8.646 16.352 8 15.8 8zM12 8H8V5.199C8 3.754 8.797 3 10 3c1.203 0 2 .754 2 2.199V8z\"\\n'\n",
      "b'                />\\n'\n",
      "b'            </symbol>\\n'\n",
      "b'\\n'\n",
      "b'            <symbol viewBox=\"0 0 20 20\" id=\"close\">\\n'\n",
      "b'                <path d=\"M14.348 14.849c-.469.469-1.229.469-1.697 0L10 11.819l-2.651 3.029c-.469.469-1.229.469-1.697 0-.469-.469-.469-1.229 0-1.697l2.758-3.15-2.759-3.152c-.469-.469-.469-1.228 0-1.697.469-.469 1.228-.469 1.697 0L10 8.183l2.651-3.031c.469-.469 1.228-.469 1.697 0 .469.469.469 1.229 0 1.697l-2.758 3.152 2.758 3.15c.469.469.469 1.229 0 1.698z\"\\n'\n",
      "b'                />\\n'\n",
      "b'            </symbol>\\n'\n",
      "b'\\n'\n",
      "b'            <symbol viewBox=\"0 0 20 20\" id=\"large-arrow\">\\n'\n",
      "b'                <path d=\"M13.25 10L6.109 2.58c-.268-.27-.268-.707 0-.979.268-.27.701-.27.969 0l7.83 7.908c.268.271.268.709 0 .979l-7.83 7.908c-.268.271-.701.27-.969 0-.268-.269-.268-.707 0-.979L13.25 10z\"\\n'\n",
      "b'                />\\n'\n",
      "b'            </symbol>\\n'\n",
      "b'\\n'\n",
      "b'            <symbol viewBox=\"0 0 20 20\" id=\"large-arrow-down\">\\n'\n",
      "b'                <path d=\"M17.418 6.109c.272-.268.709-.268.979 0s.271.701 0 .969l-7.908 7.83c-.27.268-.707.268-.979 0l-7.908-7.83c-.27-.268-.27-.701 0-.969.271-.268.709-.268.979 0L10 13.25l7.418-7.141z\"\\n'\n",
      "b'                />\\n'\n",
      "b'            </symbol>\\n'\n",
      "b'\\n'\n",
      "b'\\n'\n",
      "b'            <symbol viewBox=\"0 0 24 24\" id=\"jump-to\">\\n'\n",
      "b'                <path d=\"M19 7v4H5.83l3.58-3.59L8 6l-6 6 6 6 1.41-1.41L5.83 13H21V7z\" />\\n'\n",
      "b'            </symbol>\\n'\n",
      "b'\\n'\n",
      "b'            <symbol viewBox=\"0 0 24 24\" id=\"expand\">\\n'\n",
      "b'                <path d=\"M10 18h4v-2h-4v2zM3 6v2h18V6H3zm3 7h12v-2H6v2z\" />\\n'\n",
      "b'            </symbol>\\n'\n",
      "b'\\n'\n",
      "b'        </defs>\\n'\n",
      "b'    </svg>\\n'\n",
      "b'\\n'\n",
      "b'\\n'\n",
      "b'    <div id=\"swagger-ui\">\\n'\n",
      "b'        <div data-reactroot=\"\" class=\"swagger-ui\">\\n'\n",
      "b'            <div>\\n'\n",
      "b'                <div class=\"information-container wrapper\">\\n'\n",
      "b'                    <section class=\"block col-12\">\\n'\n",
      "b'                        <div class=\"info\">\\n'\n",
      "b'                            <hgroup class=\"main\">\\n'\n",
      "b'                                <h2 class=\"title\">httpbin.org\\n'\n",
      "b'                                    <small>\\n'\n",
      "b'                                        <pre class=\"version\">0.9.2</pre>\\n'\n",
      "b'                                    </small>\\n'\n",
      "b'                                </h2>\\n'\n",
      "b'                                <pre class=\"base-url\">[ Base URL: httpbin.org/ ]</pre>\\n'\n",
      "b'                            </hgroup>\\n'\n",
      "b'                            <div class=\"description\">\\n'\n",
      "b'                                <div class=\"markdown\">\\n'\n",
      "b'                                    <p>A simple HTTP Request &amp; Response Service.\\n'\n",
      "b'                                        <br>\\n'\n",
      "b'                                        <br>\\n'\n",
      "b'                                        <b>Run locally: </b>\\n'\n",
      "b'                                        <code>$ docker run -p 80:80 kennethreitz/httpbin</code>\\n'\n",
      "b'                                    </p>\\n'\n",
      "b'                                </div>\\n'\n",
      "b'                            </div>\\n'\n",
      "b'                            <div>\\n'\n",
      "b'                                <div>\\n'\n",
      "b'                                    <a href=\"https://kennethreitz.org\" target=\"_blank\">the developer - Website</a>\\n'\n",
      "b'                                </div>\\n'\n",
      "b'                                <a href=\"mailto:me@kennethreitz.org\">Send email to the developer</a>\\n'\n",
      "b'                            </div>\\n'\n",
      "b'                        </div>\\n'\n",
      "b'                        <!-- ADDS THE LOADER SPINNER -->\\n'\n",
      "b'                        <div class=\"loading-container\">\\n'\n",
      "b'                            <div class=\"loading\"></div>\\n'\n",
      "b'                        </div>\\n'\n",
      "b'\\n'\n",
      "b'                    </section>\\n'\n",
      "b'                </div>\\n'\n",
      "b'            </div>\\n'\n",
      "b'        </div>\\n'\n",
      "b'    </div>\\n'\n",
      "b'\\n'\n",
      "b'\\n'\n",
      "b\"    <div class='swagger-ui'>\\n\"\n",
      "b'        <div class=\"wrapper\">\\n'\n",
      "b'            <section class=\"clear\">\\n'\n",
      "b'                <span style=\"float: right;\">\\n'\n",
      "b'                    [Powered by\\n'\n",
      "b'                    <a target=\"_blank\" href=\"https://github.com/rochacbruno/flasgger\">Flasgger</a>]\\n'\n",
      "b'                    <br>\\n'\n",
      "b'                </span>\\n'\n",
      "b'            </section>\\n'\n",
      "b'        </div>\\n'\n",
      "b'    </div>\\n'\n",
      "b'\\n'\n",
      "b'\\n'\n",
      "b'\\n'\n",
      "b'    <script src=\"/flasgger_static/swagger-ui-bundle.js\"> </script>\\n'\n",
      "b'    <script src=\"/flasgger_static/swagger-ui-standalone-preset.js\"> </script>\\n'\n",
      "b\"    <script src='/flasgger_static/lib/jquery.min.js' type='text/javascript'></script>\\n\"\n",
      "b'    <script>\\n'\n",
      "b'\\n'\n",
      "b'        window.onload = function () {\\n'\n",
      "b'            \\n'\n",
      "b'\\n'\n",
      "b'            fetch(\"/spec.json\")\\n'\n",
      "b'                .then(function (response) {\\n'\n",
      "b'                    response.json()\\n'\n",
      "b'                        .then(function (json) {\\n'\n",
      "b'                            var current_protocol = window.location.protocol.slice(0, -1);\\n'\n",
      "b'                            if (json.schemes[0] != current_protocol) {\\n'\n",
      "b'                                // Switches scheme to the current in use\\n'\n",
      "b'                                var other_protocol = json.schemes[0];\\n'\n",
      "b'                                json.schemes[0] = current_protocol;\\n'\n",
      "b'                                json.schemes[1] = other_protocol;\\n'\n",
      "b'\\n'\n",
      "b'                            }\\n'\n",
      "b'                            json.host = window.location.host;  // sets the current host\\n'\n",
      "b'\\n'\n",
      "b'                            const ui = SwaggerUIBundle({\\n'\n",
      "b'                                spec: json,\\n'\n",
      "b'                                validatorUrl: null,\\n'\n",
      "b\"                                dom_id: '#swagger-ui',\\n\"\n",
      "b'                                deepLinking: true,\\n'\n",
      "b'                                jsonEditor: true,\\n'\n",
      "b'                                docExpansion: \"none\",\\n'\n",
      "b'                                apisSorter: \"alpha\",\\n'\n",
      "b'                                //operationsSorter: \"alpha\",\\n'\n",
      "b'                                presets: [\\n'\n",
      "b'                                    SwaggerUIBundle.presets.apis,\\n'\n",
      "b'                                    // yay ES6 modules \\xe2\\x86\\x98\\n'\n",
      "b'                                    Array.isArray(SwaggerUIStandalonePreset) ? SwaggerUIStandalonePreset : SwaggerUIStandalonePreset.default\\n'\n",
      "b'                                ],\\n'\n",
      "b'                                plugins: [\\n'\n",
      "b'                                    SwaggerUIBundle.plugins.DownloadUrl\\n'\n",
      "b'                                ],\\n'\n",
      "b'            \\n'\n",
      "b'            // layout: \"StandaloneLayout\"  // uncomment to enable the green top header\\n'\n",
      "b'        })\\n'\n",
      "b'\\n'\n",
      "b'        window.ui = ui\\n'\n",
      "b'\\n'\n",
      "b'        // uncomment to rename the top brand if layout is enabled\\n'\n",
      "b'        // $(\".topbar-wrapper .link span\").replaceWith(\"<span>httpbin</span>\");\\n'\n",
      "b'        })\\n'\n",
      "b'    })\\n'\n",
      "b'}\\n'\n",
      "b\"    </script>  <div class='swagger-ui'>\\n\"\n",
      "b'    <div class=\"wrapper\">\\n'\n",
      "b'        <section class=\"block col-12 block-desktop col-12-desktop\">\\n'\n",
      "b'            <div>\\n'\n",
      "b'\\n'\n",
      "b'                <h2>Other Utilities</h2>\\n'\n",
      "b'\\n'\n",
      "b'                <ul>\\n'\n",
      "b'                    <li>\\n'\n",
      "b'                        <a href=\"/forms/post\">HTML form</a> that posts to /post /forms/post</li>\\n'\n",
      "b'                </ul>\\n'\n",
      "b'\\n'\n",
      "b'                <br />\\n'\n",
      "b'                <br />\\n'\n",
      "b'            </div>\\n'\n",
      "b'        </section>\\n'\n",
      "b'    </div>\\n'\n",
      "b'</div>\\n'\n",
      "b'</body>\\n'\n",
      "b'\\n'\n",
      "b'</html>'\n"
     ]
    }
   ],
   "source": [
    "from contextlib import closing\n",
    "from urllib.request import urlopen\n",
    "\n",
    "with closing(urlopen('https://www.httpbin.org')) as page:\n",
    "    for line in page:\n",
    "        print(line)"
   ]
  },
  {
   "cell_type": "markdown",
   "metadata": {},
   "source": [
    "#### XML模块\n",
    "- 操作xml模块有两种方法dom和sax\n",
    "- DOM会把整个XML读入内存，解析为树，因此占用内存大，解析慢，优点是可以任意遍历树的节点\n",
    "- SAX是流模式，边读边解析，占用内存小，解析快，缺点是我们需要自己处理事件。\n",
    "- 正常情况下优先考虑使用sax\n",
    "- xml.dom 和xml.sax 都要看看\n",
    "- 除了解析XML外，如何生成XML呢？99%的情况下需要生成的XML结构都是非常简单的，因此，最简单也是最有效的生成XML的方法是拼接字符串："
   ]
  },
  {
   "cell_type": "code",
   "execution_count": 1,
   "metadata": {},
   "outputs": [
    {
     "name": "stdout",
     "output_type": "stream",
     "text": [
      "sax:start_element: ol, attrs: {}\n",
      "sax:char_data: \n",
      "\n",
      "sax:char_data:     \n",
      "sax:start_element: li, attrs: {}\n",
      "sax:start_element: a, attrs: {'href': '/python'}\n",
      "sax:char_data: Python\n",
      "sax:end_element: a\n",
      "sax:end_element: li\n",
      "sax:char_data: \n",
      "\n",
      "sax:char_data:     \n",
      "sax:start_element: li, attrs: {}\n",
      "sax:start_element: a, attrs: {'href': '/ruby'}\n",
      "sax:char_data: Ruby\n",
      "sax:end_element: a\n",
      "sax:end_element: li\n",
      "sax:char_data: \n",
      "\n",
      "sax:end_element: ol\n"
     ]
    },
    {
     "data": {
      "text/plain": [
       "1"
      ]
     },
     "execution_count": 1,
     "metadata": {},
     "output_type": "execute_result"
    }
   ],
   "source": [
    "from xml.parsers.expat import ParserCreate\n",
    "\n",
    "class DefaultSaxHandler(object):\n",
    "    \n",
    "    def start_element(self, name, attrs):\n",
    "        print('sax:start_element: %s, attrs: %s' % (name, str(attrs)))\n",
    "\n",
    "    def end_element(self, name):\n",
    "        print('sax:end_element: %s' % name)\n",
    "\n",
    "    def char_data(self, text):\n",
    "        print('sax:char_data: %s' % text)\n",
    "\n",
    "xml = r'''<?xml version=\"1.0\"?>\n",
    "<ol>\n",
    "    <li><a href=\"/python\">Python</a></li>\n",
    "    <li><a href=\"/ruby\">Ruby</a></li>\n",
    "</ol>\n",
    "'''\n",
    "\n",
    "handler = DefaultSaxHandler()\n",
    "parser = ParserCreate()\n",
    "parser.StartElementHandler = handler.start_element\n",
    "parser.EndElementHandler = handler.end_element\n",
    "parser.CharacterDataHandler = handler.char_data\n",
    "parser.Parse(xml)"
   ]
  },
  {
   "cell_type": "code",
   "execution_count": 5,
   "metadata": {},
   "outputs": [
    {
     "name": "stdout",
     "output_type": "stream",
     "text": [
      "<?xml version=\"1.0\"?> <root> some & data </root>\n"
     ]
    }
   ],
   "source": [
    "L = []\n",
    "L.append(r'<?xml version=\"1.0\"?>')\n",
    "L.append(r'<root>')\n",
    "L.append('some & data')\n",
    "L.append(r'</root>')\n",
    "print(' '.join(L))"
   ]
  },
  {
   "cell_type": "markdown",
   "metadata": {},
   "source": [
    "### HTMLParser模块\n",
    "- HTML本质上是XML的子集，但是HTML的语法没有XML那么严格，所以不能用标准的DOM或SAX来解析HTML。\n",
    "- 好在Python提供了HTMLParser来非常方便地解析HTML，只需简单几行代码："
   ]
  },
  {
   "cell_type": "code",
   "execution_count": 8,
   "metadata": {},
   "outputs": [
    {
     "name": "stdout",
     "output_type": "stream",
     "text": [
      "<html>\n",
      "\n",
      "\n",
      "<head>\n",
      "</head>\n",
      "\n",
      "\n",
      "<body>\n",
      "\n",
      "\n",
      "<!--  test html parser  -->\n",
      "\n",
      "    \n",
      "<p>\n",
      "Some \n",
      "<a>\n",
      "html\n",
      "</a>\n",
      " HTML tutorial...\n",
      "<br>\n",
      "END\n",
      "</p>\n",
      "\n",
      "\n",
      "</body>\n",
      "</html>\n"
     ]
    }
   ],
   "source": [
    "from html.parser import HTMLParser\n",
    "\n",
    "\n",
    "class Myhtmlparser(HTMLParser):\n",
    "    \n",
    "    def handle_starttag(self, tag, attrs):\n",
    "        print('<%s>' % tag)\n",
    "\n",
    "    def handle_endtag(self, tag):\n",
    "        print('</%s>' % tag)\n",
    "\n",
    "    def handle_startendtag(self, tag, attrs):\n",
    "        print('<%s/>' % tag)\n",
    "\n",
    "    def handle_data(self, data):\n",
    "        print(data)\n",
    "\n",
    "    def handle_comment(self, data):\n",
    "        print('<!--', data, '-->')\n",
    "\n",
    "    def handle_entityref(self, name):\n",
    "        print('&%s;' % name)\n",
    "\n",
    "    def handle_charref(self, name):\n",
    "        print('&#%s;' % name)\n",
    "\n",
    "parser = Myhtmlparser()\n",
    "parser.feed('''<html>\n",
    "<head></head>\n",
    "<body>\n",
    "<!-- test html parser -->\n",
    "    <p>Some <a href=\\\"#\\\">html</a> HTML&nbsp;tutorial...<br>END</p>\n",
    "</body></html>''')\n"
   ]
  },
  {
   "cell_type": "code",
   "execution_count": null,
   "metadata": {},
   "outputs": [],
   "source": []
  },
  {
   "cell_type": "code",
   "execution_count": null,
   "metadata": {},
   "outputs": [],
   "source": []
  },
  {
   "cell_type": "code",
   "execution_count": null,
   "metadata": {},
   "outputs": [],
   "source": []
  },
  {
   "cell_type": "code",
   "execution_count": null,
   "metadata": {},
   "outputs": [],
   "source": []
  },
  {
   "cell_type": "code",
   "execution_count": null,
   "metadata": {},
   "outputs": [],
   "source": []
  },
  {
   "cell_type": "code",
   "execution_count": null,
   "metadata": {},
   "outputs": [],
   "source": []
  },
  {
   "cell_type": "code",
   "execution_count": null,
   "metadata": {},
   "outputs": [],
   "source": []
  },
  {
   "cell_type": "code",
   "execution_count": null,
   "metadata": {},
   "outputs": [],
   "source": []
  },
  {
   "cell_type": "code",
   "execution_count": null,
   "metadata": {},
   "outputs": [],
   "source": []
  }
 ],
 "metadata": {
  "kernelspec": {
   "display_name": "Python 3",
   "language": "python",
   "name": "python3"
  },
  "language_info": {
   "codemirror_mode": {
    "name": "ipython",
    "version": 3
   },
   "file_extension": ".py",
   "mimetype": "text/x-python",
   "name": "python",
   "nbconvert_exporter": "python",
   "pygments_lexer": "ipython3",
   "version": "3.6.8"
  }
 },
 "nbformat": 4,
 "nbformat_minor": 2
}
