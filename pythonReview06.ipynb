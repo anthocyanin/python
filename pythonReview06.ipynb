{
 "cells": [
  {
   "cell_type": "markdown",
   "metadata": {},
   "source": [
    "### sorted()函数也是一个高阶函数，它还可以接收一个key函数来实现自定义的排序，例如按绝对值大小排序：\n",
    "- key指定的函数将作用于list的每一个元素上，并根据key函数返回的结果进行排序。对比原始的list和经过key=abs处理过的list：\n"
   ]
  },
  {
   "cell_type": "markdown",
   "metadata": {},
   "source": [
    "### 闭包的概念\n",
    "- 内部函数s可以引用外部函数参数和局部变量，当外部函数返回内部函数时，相关参数和变量都保存在返回的函数中，这种程序结构称为闭包（Closure）\n",
    "- 另一个需要注意的问题是，返回的函数并没有立刻执行，而是直到调用了f()才执行。我们来看一个例子：\n",
    "- 返回闭包时牢记一点：返回函数不要引用任何循环变量，或者后续会发生变化的变量。"
   ]
  },
  {
   "cell_type": "code",
   "execution_count": 4,
   "metadata": {},
   "outputs": [
    {
     "name": "stdout",
     "output_type": "stream",
     "text": [
      "9\n",
      "9\n",
      "9\n"
     ]
    }
   ],
   "source": [
    "def count():\n",
    "    ls = []\n",
    "    for i in range(1,4):\n",
    "        def f():\n",
    "            return i*i\n",
    "        ls.append(f) # 这里append的是f函数名称，而不是f()函数的调用。\n",
    "    return ls\n",
    "f1, f2, f3 = count()\n",
    "print(f1())\n",
    "print(f2())\n",
    "print(f3())\n",
    "# 这里的原因是，添加到列表里的函数引用了i变量，但是一方便你这个函数有没有立即执行，同时呢i又是一个变化的变量。"
   ]
  },
  {
   "cell_type": "code",
   "execution_count": 6,
   "metadata": {},
   "outputs": [
    {
     "name": "stdout",
     "output_type": "stream",
     "text": [
      "1\n",
      "4\n",
      "9\n"
     ]
    }
   ],
   "source": [
    "def count():\n",
    "    ls = []\n",
    "    for i in range(1, 4):\n",
    "        def f():\n",
    "            return i * i\n",
    "        ls.append(f())\n",
    "    return ls\n",
    "a1, a2, a3 = count()\n",
    "print(a1)\n",
    "print(a2)\n",
    "print(a3)"
   ]
  },
  {
   "cell_type": "markdown",
   "metadata": {},
   "source": [
    "### 装饰器\n",
    "- 定义：装饰器(decorator)就是一个返回函数的高阶函数。\n",
    "- 创建：Python的decorator可以用函数实现，也可以用类实现。\n",
    "- 用法：借助于@语法，放在被装饰函数的前面。\n",
    "- 注意事项1：无参数装饰器--两层 和 带参数装饰器--三层。\n",
    "- 注意事项2: 被装饰函数装饰前函数名(__name__属性) 和 装饰后函数名(__name__属性)。\n",
    "- 因为返回的那个wrapper()函数名字就是'wrapper'，所以，需要把原始函数的__name__等属性复制到wrapper()函数中，否则，有些依赖函数签名的代码执行就会出错。\n",
    "\n",
    "- 不需要编写wrapper.__name__ = func.__name__这样的代码，Python内置的functools.wraps就是干这个事的，所以，一个完整的decorator的写法如下：\n",
    "\n",
    "- 注意事项3:多个装饰器执行的问题\n",
    "- 注意事项4:以及在装饰函数的前还是后装饰器的写法\n",
    "- 最后一点就是装饰器和必报的关系--即闭包函数的参数为函数时就是装饰器了。"
   ]
  },
  {
   "cell_type": "code",
   "execution_count": 8,
   "metadata": {},
   "outputs": [
    {
     "name": "stdout",
     "output_type": "stream",
     "text": [
      "I am your baba\n",
      "hello world\n"
     ]
    }
   ],
   "source": [
    "# 无参数的装饰器实例\n",
    "def log(func):\n",
    "    def wrapper():\n",
    "        print(\"I am your baba\")\n",
    "        func()\n",
    "    return wrapper\n",
    "\n",
    "@log\n",
    "def nm():\n",
    "    print('hello world')\n",
    "# 把@log放在nm()函数之前相当于，执行了这一句：nm = log(nm),也就是说log(nm)的返回函数赋值给了nm变量，\n",
    "# 所以调用nm则意味着调用装饰器的返回函数。\n",
    "    \n",
    "nm()"
   ]
  },
  {
   "cell_type": "code",
   "execution_count": 12,
   "metadata": {},
   "outputs": [
    {
     "name": "stdout",
     "output_type": "stream",
     "text": [
      "with args decorator hahahha\n",
      "hello world\n"
     ]
    }
   ],
   "source": [
    "# 带参数的装饰器实例\n",
    "def logg(text):\n",
    "    def deco(func):\n",
    "        def wrapper():\n",
    "            print('with args decorator', text)\n",
    "            func()\n",
    "        return wrapper\n",
    "    return deco\n",
    "\n",
    "@logg('hahahha')\n",
    "def mm():\n",
    "    print('hello world')\n",
    "# 带参数的装饰器是这样的\n",
    "# mm = logg('hahah')(mm)\n",
    "mm()\n",
    "# 剖析上面的语句，首先执行log('hahaha')，返回的是deco函数，再调用返回的函数，参数是mm函数，返回值最终是wrapper函数。"
   ]
  },
  {
   "cell_type": "code",
   "execution_count": 15,
   "metadata": {},
   "outputs": [
    {
     "name": "stdout",
     "output_type": "stream",
     "text": [
      "I am your baba\n",
      "hello world ---- dana\n"
     ]
    }
   ],
   "source": [
    "# 可以看出以上两个实例的被装饰函数都是没有参数的\n",
    "# 加入是有参数的，则装饰器应该改成\n",
    "def log(func):\n",
    "    def wrapper(str):\n",
    "        print(\"I am your baba\")\n",
    "        func(str)\n",
    "    return wrapper\n",
    "\n",
    "# 把@log放在nm()函数之前相当于，执行了这一句：nm = log(nm),也就是说log(nm)的返回函数赋值给了nm变量，\n",
    "@log\n",
    "def nm(str):\n",
    "    print('hello world ----', str)\n",
    "\n",
    "nm('dana')"
   ]
  },
  {
   "cell_type": "code",
   "execution_count": 17,
   "metadata": {},
   "outputs": [
    {
     "name": "stdout",
     "output_type": "stream",
     "text": [
      "I am your baba\n",
      "hello world ---- dana\n"
     ]
    }
   ],
   "source": [
    "# 而完整的写法是如下的，\n",
    "import functools\n",
    "def log(func):\n",
    "    @functools.wraps(func)\n",
    "    def wrapper(str):\n",
    "        print(\"I am your baba\")\n",
    "        func(str)\n",
    "    return wrapper\n",
    "\n",
    "# 把@log放在nm()函数之前相当于，执行了这一句：nm = log(nm),也就是说log(nm)的返回函数赋值给了nm变量，\n",
    "@log\n",
    "def nm(str):\n",
    "    print('hello world ----', str)\n",
    "\n",
    "nm('dana')"
   ]
  },
  {
   "cell_type": "markdown",
   "metadata": {},
   "source": [
    "### 包-模块\n",
    "- 包含很多.py文件，切必有一个__init__.py文件的目录就是包\n",
    "- 每一个.py文件就是一个模块\n",
    "- 每一个模块里面包含很多函数，类，属性等"
   ]
  },
  {
   "cell_type": "code",
   "execution_count": null,
   "metadata": {},
   "outputs": [],
   "source": []
  },
  {
   "cell_type": "markdown",
   "metadata": {},
   "source": [
    "### 面向对象一\n",
    "- 类和实例：类的创建class和实例的创建--可以自由地给一个实例变量绑定属性--可以在创建实例的时候，把一些我们认为必须绑定的属性强制填写进去。通过定义一个特殊的__init__方法。\n",
    "- 注意到__init__方法的第一个参数永远是self，表示创建的实例本身\n",
    "- self代表累的实例，要牢记。\n",
    "- 并且，调用时，不用传递该参数。除此之外，类的方法和普通函数没有什么区别，所以，你仍然可以用默认参数、可变参数、关键字参数和命名关键字参数。"
   ]
  },
  {
   "cell_type": "code",
   "execution_count": 18,
   "metadata": {},
   "outputs": [
    {
     "name": "stdout",
     "output_type": "stream",
     "text": [
      "tutu\n",
      "30\n"
     ]
    }
   ],
   "source": [
    "class Student:\n",
    "    \n",
    "    def __init__(self, name, score):\n",
    "        self.name = name\n",
    "        self.score = score\n",
    "\n",
    "bart = Student('tutu', '30')\n",
    "\n",
    "print(bart.name)\n",
    "print(bart.score)"
   ]
  },
  {
   "cell_type": "markdown",
   "metadata": {},
   "source": [
    "### 面向对象二\n",
    "- 访问和限制：__varb是私有变量，一般类外部无法访问，但是也能访问。\n",
    "- 继承和多态：继承是为了代码重复利用，继承带来多态的好处。\n",
    "- 获取对象信息：通过hasattr,getattr, setattr内置函数\n",
    "- 类有类属性和类方法，实例属性和实例方法\n",
    "- 类属性是定义在类里面函数之外的属性，不带self. 类方法是classmethod装饰器修饰后的方法，类方法的首参数必是cls。\n",
    "- 实例属性都在__init__方法里，实例方法首参数必是self。"
   ]
  },
  {
   "cell_type": "markdown",
   "metadata": {},
   "source": [
    "###  __slots__"
   ]
  },
  {
   "cell_type": "code",
   "execution_count": 19,
   "metadata": {},
   "outputs": [
    {
     "name": "stdout",
     "output_type": "stream",
     "text": [
      "Michael\n"
     ]
    }
   ],
   "source": [
    "class Student(object):\n",
    "    pass\n",
    "\n",
    "s = Student()\n",
    "s.name = 'Michael'\n",
    "print(s.name)"
   ]
  },
  {
   "cell_type": "code",
   "execution_count": 20,
   "metadata": {},
   "outputs": [
    {
     "name": "stdout",
     "output_type": "stream",
     "text": [
      "24\n"
     ]
    }
   ],
   "source": [
    "def set_age(self, age): # 先定义一个实例方法\n",
    "    self.age = age\n",
    "    \n",
    "from types import MethodType\n",
    "s.set_age = MethodType(set_age, s) # 给s这个实例绑定set_age这个实例方法\n",
    "s.set_age(24) # 由set_age方法可知，绑定了之后，s就有了一个age实例属性\n",
    "print(s.age) # 调用实例属性age"
   ]
  },
  {
   "cell_type": "code",
   "execution_count": 23,
   "metadata": {},
   "outputs": [],
   "source": [
    "# 但是，给一个实例绑定的方法，对另一个实例是不起作用的：\n",
    "s2 = Student()\n",
    "# s2.age 执行将报错"
   ]
  },
  {
   "cell_type": "code",
   "execution_count": 25,
   "metadata": {},
   "outputs": [
    {
     "name": "stdout",
     "output_type": "stream",
     "text": [
      "30\n",
      "22\n"
     ]
    }
   ],
   "source": [
    "# 为了给所有实例都绑定方法，可以给class绑定实例方法：\n",
    "def set_score(self, score):\n",
    "    self.score = score\n",
    "Student.set_score = set_score\n",
    "\n",
    "s3 = Student()\n",
    "s3.set_score(30)\n",
    "print(s3.score)\n",
    "\n",
    "s4 = Student()\n",
    "s4.set_score(22)\n",
    "print(s4.score)"
   ]
  },
  {
   "cell_type": "markdown",
   "metadata": {},
   "source": [
    "### 通常情况下，上面的set_score方法可以直接定义在class中，但动态绑定允许我们在程序运行的过程中动态给class加上功能，这在静态语言中很难实现。\n",
    "\n"
   ]
  },
  {
   "cell_type": "code",
   "execution_count": null,
   "metadata": {},
   "outputs": [],
   "source": []
  },
  {
   "cell_type": "markdown",
   "metadata": {},
   "source": [
    "#### 但是，如果我们想要限制实例的属性怎么办？比如，只允许对Student实例添加name和age属性。\n",
    "#### 为了达到限制的目的，Python允许在定义class的时候，定义一个特殊的__slots__变量，来限制该class实例能添加的属性："
   ]
  },
  {
   "cell_type": "code",
   "execution_count": 26,
   "metadata": {},
   "outputs": [
    {
     "data": {
      "text/plain": [
       "'Michale'"
      ]
     },
     "execution_count": 26,
     "metadata": {},
     "output_type": "execute_result"
    }
   ],
   "source": [
    "class Student(object):\n",
    "    __slots__ = ('name', 'age')\n",
    "    \n",
    "s5 = Student()\n",
    "s5.name = 'Michale'\n",
    "s5.name"
   ]
  },
  {
   "cell_type": "code",
   "execution_count": 27,
   "metadata": {},
   "outputs": [
    {
     "name": "stdout",
     "output_type": "stream",
     "text": [
      "23\n"
     ]
    }
   ],
   "source": [
    "s5.age = '23'\n",
    "print(s5.age)"
   ]
  },
  {
   "cell_type": "code",
   "execution_count": 30,
   "metadata": {},
   "outputs": [],
   "source": [
    "# s5.score = '22' 执行将会报错。\n",
    "# print(s5.score)"
   ]
  },
  {
   "cell_type": "markdown",
   "metadata": {},
   "source": [
    "### 使用__slots__要注意，__slots__定义的属性仅对当前类实例起作用，对继承的子类是不起作用的："
   ]
  },
  {
   "cell_type": "markdown",
   "metadata": {},
   "source": [
    "### @property\n",
    "- property()是python内置函数，这个函数也是一个装饰器，和staticmethod，classmethod是python三大内置装饰器\n",
    "- 首先有这样的问题，类的实例属性直接暴露出去的话，容易遭到破坏，因为可以随便改嘛---于是只能在累里面定义控制函数--但是定了控制函数，则会导致调用时不太方便/直观（但好像也不麻烦啊）--于是只能综合一下，即定义控制方法，又得让这个控制方法可以想属性一样方便直观调用。\n",
    "- 而@property就是解决这个问题的"
   ]
  },
  {
   "cell_type": "code",
   "execution_count": 35,
   "metadata": {},
   "outputs": [
    {
     "name": "stdout",
     "output_type": "stream",
     "text": [
      "20\n"
     ]
    }
   ],
   "source": [
    "class Student(object):\n",
    "    \n",
    "    @property\n",
    "    def score(self): # 两个都定义为score是为了直观调用。\n",
    "        return self._score # 变量还得定义为_var,否则报错呢\n",
    "     \n",
    "    @score.setter # 此时，@property本身又创建了另一个装饰器@score.setter，负责把一个setter方法变成属性赋值，\n",
    "    def score(self, num): #\n",
    "        if not isinstance(num, int):\n",
    "            raise ValueError(\"error one\")\n",
    "        if num < 0 or num > 100:\n",
    "            raise ValueError(\"error two\")\n",
    "        self._score = num\n",
    "\n",
    "s6 = Student()\n",
    "s6.score = 20 # 相当于执行设赋值函数\n",
    "print(s6.score) # 相当于执行取值函数"
   ]
  },
  {
   "cell_type": "markdown",
   "metadata": {},
   "source": [
    "### 还可以定义只读属性，只定义getter方法，不定义setter方法就是一个只读属性"
   ]
  },
  {
   "cell_type": "code",
   "execution_count": 36,
   "metadata": {},
   "outputs": [],
   "source": [
    "class Student(object):\n",
    "\n",
    "    @property\n",
    "    def birth(self):\n",
    "        return self._birth\n",
    "\n",
    "    @birth.setter\n",
    "    def birth(self, value):\n",
    "        self._birth = value\n",
    "\n",
    "    @property\n",
    "    def age(self):\n",
    "        return 2015 - self._birth\n",
    "# 上面的birth是可读写属性，而age就是一个只读属性，因为age可以根据birth和当前时间计算出来。\n"
   ]
  },
  {
   "cell_type": "markdown",
   "metadata": {},
   "source": [
    "### 由于Python允许使用多重继承，因此，MixIn就是一种常见的设计。"
   ]
  },
  {
   "cell_type": "code",
   "execution_count": null,
   "metadata": {},
   "outputs": [],
   "source": []
  },
  {
   "cell_type": "code",
   "execution_count": null,
   "metadata": {},
   "outputs": [],
   "source": []
  },
  {
   "cell_type": "code",
   "execution_count": null,
   "metadata": {},
   "outputs": [],
   "source": []
  },
  {
   "cell_type": "code",
   "execution_count": null,
   "metadata": {},
   "outputs": [],
   "source": []
  },
  {
   "cell_type": "code",
   "execution_count": null,
   "metadata": {},
   "outputs": [],
   "source": []
  },
  {
   "cell_type": "code",
   "execution_count": null,
   "metadata": {},
   "outputs": [],
   "source": []
  }
 ],
 "metadata": {
  "kernelspec": {
   "display_name": "Python 3",
   "language": "python",
   "name": "python3"
  },
  "language_info": {
   "codemirror_mode": {
    "name": "ipython",
    "version": 3
   },
   "file_extension": ".py",
   "mimetype": "text/x-python",
   "name": "python",
   "nbconvert_exporter": "python",
   "pygments_lexer": "ipython3",
   "version": "3.6.8"
  }
 },
 "nbformat": 4,
 "nbformat_minor": 2
}
