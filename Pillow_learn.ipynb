{
 "cells": [
  {
   "cell_type": "code",
   "execution_count": 10,
   "metadata": {},
   "outputs": [
    {
     "name": "stdout",
     "output_type": "stream",
     "text": [
      "('R', 'G', 'B', 'A')\n",
      "RGBA\n",
      "(258, 159)\n",
      "PNG\n",
      "None\n"
     ]
    }
   ],
   "source": [
    "from PIL import Image as Img\n",
    "img = Img.open('captcha2.png')\n",
    "print(img.getbands())\n",
    "print(img.mode)\n",
    "print(img.size)\n",
    "print(img.format)\n",
    "print(img.palette)\n",
    "# print(img.info)"
   ]
  },
  {
   "cell_type": "code",
   "execution_count": 12,
   "metadata": {},
   "outputs": [],
   "source": [
    "# new() 使用给定的变量mode和size生成新的图像\n",
    "img = Img.new('RGB',(128,128),'#FF0000')\n",
    "img.save('test1.png')\n",
    "# img.show()\n",
    "img2 = Img.new('RGB',(128,128))\n",
    "img2.save('test2.png')"
   ]
  },
  {
   "cell_type": "code",
   "execution_count": 13,
   "metadata": {},
   "outputs": [],
   "source": [
    "# blend() 两张图片混合出一张新的图片\n",
    "img1 = Img.open('captcha1.png')\n",
    "img2 = Img.open('captcha2.png')\n",
    "img = Img.blend(img1, img2, 0.5)\n",
    "img.save('capt_blend.png')"
   ]
  },
  {
   "cell_type": "code",
   "execution_count": 16,
   "metadata": {},
   "outputs": [],
   "source": [
    "img1 = Img.open('captcha1.png')\n",
    "def fun(c):\n",
    "    return c*0.89\n",
    "img_evl = Img.eval(img1, fun)\n",
    "img_evl.save('img_evl.png')"
   ]
  },
  {
   "cell_type": "code",
   "execution_count": 17,
   "metadata": {},
   "outputs": [
    {
     "name": "stdout",
     "output_type": "stream",
     "text": [
      "RGBA\n",
      "1\n"
     ]
    }
   ],
   "source": [
    "# 将“RGB”模式的img1图像，转换为“1”模式的img_c图像。\n",
    "img1 = Img.open('captcha1.png')\n",
    "print(img1.mode)\n",
    "img_c = img1.convert('1')\n",
    "img_c.save('img_c.png')\n",
    "print(img_c.mode)"
   ]
  },
  {
   "cell_type": "code",
   "execution_count": 20,
   "metadata": {},
   "outputs": [
    {
     "name": "stdout",
     "output_type": "stream",
     "text": [
      "(258, 159)\n"
     ]
    }
   ],
   "source": [
    "img1 = Img.open('captcha1.png')\n",
    "print(img1.size)\n",
    "box = [0, 0, 100, 100]\n",
    "img_crop = img1.crop(box)\n",
    "img_crop.save('img_crop.png')"
   ]
  },
  {
   "cell_type": "code",
   "execution_count": null,
   "metadata": {},
   "outputs": [],
   "source": []
  },
  {
   "cell_type": "code",
   "execution_count": null,
   "metadata": {},
   "outputs": [],
   "source": []
  },
  {
   "cell_type": "code",
   "execution_count": null,
   "metadata": {},
   "outputs": [],
   "source": []
  },
  {
   "cell_type": "code",
   "execution_count": null,
   "metadata": {},
   "outputs": [],
   "source": []
  },
  {
   "cell_type": "code",
   "execution_count": null,
   "metadata": {},
   "outputs": [],
   "source": []
  },
  {
   "cell_type": "code",
   "execution_count": null,
   "metadata": {},
   "outputs": [],
   "source": []
  },
  {
   "cell_type": "code",
   "execution_count": null,
   "metadata": {},
   "outputs": [],
   "source": []
  },
  {
   "cell_type": "code",
   "execution_count": null,
   "metadata": {},
   "outputs": [],
   "source": []
  },
  {
   "cell_type": "code",
   "execution_count": null,
   "metadata": {},
   "outputs": [],
   "source": []
  }
 ],
 "metadata": {
  "kernelspec": {
   "display_name": "Python 3",
   "language": "python",
   "name": "python3"
  },
  "language_info": {
   "codemirror_mode": {
    "name": "ipython",
    "version": 3
   },
   "file_extension": ".py",
   "mimetype": "text/x-python",
   "name": "python",
   "nbconvert_exporter": "python",
   "pygments_lexer": "ipython3",
   "version": "3.6.8"
  }
 },
 "nbformat": 4,
 "nbformat_minor": 2
}
