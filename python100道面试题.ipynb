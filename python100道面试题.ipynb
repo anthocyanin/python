{
 "cells": [
  {
   "cell_type": "code",
   "execution_count": 3,
   "metadata": {},
   "outputs": [
    {
     "name": "stdout",
     "output_type": "stream",
     "text": [
      "5050\n"
     ]
    }
   ],
   "source": [
    "# 1、一行代码实现1--100之和\n",
    "print(sum(range(1,101)))"
   ]
  },
  {
   "cell_type": "code",
   "execution_count": 4,
   "metadata": {},
   "outputs": [
    {
     "name": "stdout",
     "output_type": "stream",
     "text": [
      "8\n"
     ]
    }
   ],
   "source": [
    "# 2、如何在一个函数内部修改全局变量\n",
    "a = 5\n",
    "def fun():\n",
    "    global a\n",
    "    a = 8\n",
    "fun()\n",
    "print(a)"
   ]
  },
  {
   "cell_type": "code",
   "execution_count": null,
   "metadata": {},
   "outputs": [],
   "source": [
    "# 3、列出5个python标准库\n",
    "os:提供了不少与操作系统相关联的函数\n",
    "sys：通常用于命令行参数\n",
    "re：正则匹配\n",
    "math：数学运算\n",
    "datetime：处理日期时间"
   ]
  },
  {
   "cell_type": "code",
   "execution_count": 7,
   "metadata": {},
   "outputs": [
    {
     "name": "stdout",
     "output_type": "stream",
     "text": [
      "{'b': 2}\n",
      "{'b': 2, 'a': 1}\n"
     ]
    }
   ],
   "source": [
    "# 4、字典如何删除键和合并两个字典\n",
    "dic = {'a':1,'b':2}\n",
    "del dic['a']\n",
    "print(dic)\n",
    "dic2 = {'a':1}\n",
    "dic.update(dic2)\n",
    "print(dic)"
   ]
  },
  {
   "cell_type": "code",
   "execution_count": 8,
   "metadata": {},
   "outputs": [],
   "source": [
    "# 5、谈下python的GIL\n",
    "# GIL 是python的全局解释器锁，同一进程中假如有多个线程运行，一个线程在运行python程序的时候会霸占python解释器，使该进程内的其他线程无法运行\n",
    "# 等该线程运行完后其他线程才能运行。如果线程运行过程中遇到耗时操作，则解释器锁解开，使其他线程运行。所以在多线程中，线程的运行仍是有先后顺序的，\n",
    "# 并不是同时进行。\n",
    "\n",
    "# 多进程中因为每个进程都能被系统分配资源，相当于每个进程有了一个python解释器，所以多进程可以实现多个进程的同时运行，缺点是进程系统资源开销大\n"
   ]
  },
  {
   "cell_type": "code",
   "execution_count": 12,
   "metadata": {},
   "outputs": [
    {
     "name": "stdout",
     "output_type": "stream",
     "text": [
      "{1, 2, 3}\n",
      "[1, 2, 3]\n",
      "[1, 2, 3]\n"
     ]
    }
   ],
   "source": [
    "# 6、python实现列表去重的方法\n",
    "# 先通过集合去重，在转列表\n",
    "lis = [1,1,2,2,3,3]\n",
    "s = set(lis)\n",
    "print(s) # s是集合\n",
    "lis2 = list(s)\n",
    "# 或者\n",
    "lis3 = [x for x in s]\n",
    "print(lis2)\n",
    "print(lis3)"
   ]
  },
  {
   "cell_type": "code",
   "execution_count": null,
   "metadata": {},
   "outputs": [],
   "source": [
    "# 7、fun(*args,**kwargs)中的*args,**kwargs什么意思？\n"
   ]
  },
  {
   "cell_type": "code",
   "execution_count": null,
   "metadata": {},
   "outputs": [],
   "source": [
    "# 8、python2和python3的range（100）的区别\n",
    "# python2返回列表，python3返回迭代器，节约内存"
   ]
  },
  {
   "cell_type": "code",
   "execution_count": null,
   "metadata": {},
   "outputs": [],
   "source": [
    "# 9、一句话解释什么样的语言能够用装饰器?\n",
    "# 函数可以作为参数传递的语言，可以使用装饰器"
   ]
  },
  {
   "cell_type": "code",
   "execution_count": null,
   "metadata": {},
   "outputs": [],
   "source": [
    "# 10、python内建数据类型有哪些\n",
    "# 整型--int\n",
    "# 布尔型--bool\n",
    "# 字符串--str\n",
    "# 列表--list\n",
    "# 元组--tuple\n",
    "# 字典--dict"
   ]
  },
  {
   "cell_type": "code",
   "execution_count": null,
   "metadata": {},
   "outputs": [],
   "source": [
    "# 11、简述面向对象中__new__和__init__区别"
   ]
  },
  {
   "cell_type": "code",
   "execution_count": null,
   "metadata": {},
   "outputs": [],
   "source": [
    "# 12、简述with方法打开处理文件帮我我们做了什么？"
   ]
  },
  {
   "cell_type": "code",
   "execution_count": 16,
   "metadata": {},
   "outputs": [
    {
     "name": "stdout",
     "output_type": "stream",
     "text": [
      "<class 'map'>\n",
      "<map object at 0x10c603f98>\n",
      "[1, 4, 9, 16, 25]\n",
      "[]\n"
     ]
    }
   ],
   "source": [
    "# 13、列表[1,2,3,4,5],请使用map()函数输出[1,4,9,16,25]，并使用列表推导式提取出大于10的数，最终输出[16,25]\n",
    "lis = [1,2,3,4,5]\n",
    "def fun(x):\n",
    "    return x**2\n",
    "res = map(fun,lis)\n",
    "print(type(res))\n",
    "print(res)\n",
    "print(list(res)) # 需要加一个list才可以，类似于zip函数\n",
    "res2 = [i for i in res if i>10]\n",
    "print(res2)"
   ]
  },
  {
   "cell_type": "code",
   "execution_count": 25,
   "metadata": {},
   "outputs": [
    {
     "name": "stdout",
     "output_type": "stream",
     "text": [
      "8\n",
      "[5 4 7 3 4]\n",
      "[[0.7827607  0.86924488 0.0239094 ]\n",
      " [0.38157969 0.40155094 0.0903848 ]\n",
      " [0.5159441  0.35092986 0.30788589]]\n",
      "\n",
      "\n",
      "[[0.36069012 0.21986274 0.12114287]\n",
      " [0.74311616 0.80447089 0.59726866]\n",
      " [0.54485472 0.80912521 0.20615505]]\n",
      "0.991233194519725\n",
      "0.4911064342071486\n"
     ]
    }
   ],
   "source": [
    "# 14、python中生成随机整数、随机小数、0--1之间小数方法\n",
    "import numpy as np\n",
    "import random\n",
    "res1 = random.randint(3,9) # 只接受两个参数。不可以设置一次性生成多个整数\n",
    "print(res1)\n",
    "res2 = np.random.randint(3,8,5) # 接受三个参数。可以设置一次性生成多个整数\n",
    "print(res2)\n",
    "res3 = np.random.rand(3,3) # 3*3的0-1的数据\n",
    "print(res3)\n",
    "print('\\n')\n",
    "res4 = np.random.random((3,3)) # 个np.random.rand函数列有不同，参数的写法不一样\n",
    "print(res4)\n",
    "res5 = random.random() # 生成0-1随机小数\n",
    "print(res5)\n",
    "res6 = np.random.rand()\n",
    "print(res6)"
   ]
  },
  {
   "cell_type": "code",
   "execution_count": null,
   "metadata": {},
   "outputs": [],
   "source": [
    "# 15、避免转义给字符串加哪个字母表示原始字符串？\n",
    "r , 表示需要原始字符串，不转义特殊字符"
   ]
  },
  {
   "cell_type": "code",
   "execution_count": 27,
   "metadata": {},
   "outputs": [
    {
     "name": "stdout",
     "output_type": "stream",
     "text": [
      "['中国']\n"
     ]
    }
   ],
   "source": [
    "# 16、<div class=\"nam\">中国</div>，用正则匹配出标签里面的内容（“中国”），其中class的类名是不确定的\n",
    "import re\n",
    "str = '<div class=\"nam\">中国</div>'\n",
    "res = re.findall(r'<div class=\".*\">(.*?)</div>', str)\n",
    "print(res)"
   ]
  },
  {
   "cell_type": "code",
   "execution_count": 29,
   "metadata": {},
   "outputs": [
    {
     "name": "stdout",
     "output_type": "stream",
     "text": [
      "断言成功\n",
      "断言成功\n"
     ]
    }
   ],
   "source": [
    "# 17、python中断言方法举例\n",
    "# assert（）方法，断言成功，则程序继续执行，断言失败，则程序报错\n",
    "a = 4\n",
    "assert(a>2)\n",
    "print('断言成功')\n",
    "b = 15\n",
    "assert(b>10)\n",
    "print('断言成功')"
   ]
  },
  {
   "cell_type": "code",
   "execution_count": null,
   "metadata": {},
   "outputs": [],
   "source": [
    "# 18、数据表student有id,name,score,city字段，其中name中的名字可有重复，需要消除重复行,请写sql语句\n",
    "select distinct name from student"
   ]
  },
  {
   "cell_type": "code",
   "execution_count": null,
   "metadata": {},
   "outputs": [],
   "source": [
    "# 19、10个Linux常用命令\n",
    "ls pwd cd touch rm mkdir tree cp mv cat more grep echo"
   ]
  },
  {
   "cell_type": "markdown",
   "metadata": {},
   "source": [
    "## 20、python2和python3区别？列举5个\n",
    "\n",
    "- 1、Python3 使用 print 必须要以小括号包裹打印内容，比如 print('hi')\n",
    "\n",
    "- Python2 既可以使用带小括号的方式，也可以使用一个空格来分隔打印内容，比 如 print 'hi'\n",
    "\n",
    "- 2、python2 range(1,10)返回列表，python3中返回迭代器，节约内存\n",
    "\n",
    "- 3、python2中使用ascii编码，python中使用utf-8编码，\n",
    "- python2默认编码为ASCII，这就是为什么我们在编写代码出现中文时需要在第一行加上#coding=utf-8\n",
    "\n",
    "- 4、python2中unicode表示字符串序列，str表示字节序列\n",
    "\n",
    "- python3中str表示字符串序列，byte表示字节序列\n",
    "\n",
    "- 5、python2中为正常显示中文，引入coding声明，python3中不需要\n",
    "\n",
    "- 6、python2中是raw_input()函数，python3中是input()函数"
   ]
  },
  {
   "cell_type": "code",
   "execution_count": null,
   "metadata": {},
   "outputs": [],
   "source": []
  },
  {
   "cell_type": "code",
   "execution_count": null,
   "metadata": {},
   "outputs": [],
   "source": []
  },
  {
   "cell_type": "code",
   "execution_count": null,
   "metadata": {},
   "outputs": [],
   "source": []
  },
  {
   "cell_type": "code",
   "execution_count": null,
   "metadata": {},
   "outputs": [],
   "source": []
  },
  {
   "cell_type": "code",
   "execution_count": null,
   "metadata": {},
   "outputs": [],
   "source": []
  },
  {
   "cell_type": "code",
   "execution_count": null,
   "metadata": {},
   "outputs": [],
   "source": []
  },
  {
   "cell_type": "code",
   "execution_count": null,
   "metadata": {},
   "outputs": [],
   "source": []
  },
  {
   "cell_type": "code",
   "execution_count": null,
   "metadata": {},
   "outputs": [],
   "source": []
  },
  {
   "cell_type": "code",
   "execution_count": null,
   "metadata": {},
   "outputs": [],
   "source": []
  },
  {
   "cell_type": "code",
   "execution_count": null,
   "metadata": {},
   "outputs": [],
   "source": []
  },
  {
   "cell_type": "code",
   "execution_count": null,
   "metadata": {},
   "outputs": [],
   "source": []
  },
  {
   "cell_type": "code",
   "execution_count": null,
   "metadata": {},
   "outputs": [],
   "source": []
  }
 ],
 "metadata": {
  "kernelspec": {
   "display_name": "Python 3",
   "language": "python",
   "name": "python3"
  },
  "language_info": {
   "codemirror_mode": {
    "name": "ipython",
    "version": 3
   },
   "file_extension": ".py",
   "mimetype": "text/x-python",
   "name": "python",
   "nbconvert_exporter": "python",
   "pygments_lexer": "ipython3",
   "version": "3.7.0"
  }
 },
 "nbformat": 4,
 "nbformat_minor": 2
}
