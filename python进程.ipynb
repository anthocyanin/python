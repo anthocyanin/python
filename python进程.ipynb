{
 "cells": [
  {
   "cell_type": "code",
   "execution_count": 5,
   "metadata": {},
   "outputs": [],
   "source": [
    "# import os \n",
    "# os.fork()\n",
    "# print(111) #fork函数一旦运行就会生出一条新的进程，2个进程一起执行导致输出了2行。"
   ]
  },
  {
   "cell_type": "code",
   "execution_count": 2,
   "metadata": {},
   "outputs": [],
   "source": [
    "# import os \n",
    "# res = os.fork() # 一次调用两个返回值。在父进程里返回\n",
    "# print('res==%d'%res)\n",
    "# if res !=0:\n",
    "#     print('我是父进程，我的id为%d'%os.getpid())\n",
    "# else:\n",
    "#     print('我是子进程，我的ID为%d,我的父进程是%d'%(os.getpid(),os.getppid()))\n"
   ]
  },
  {
   "cell_type": "code",
   "execution_count": 5,
   "metadata": {},
   "outputs": [],
   "source": [
    "# from multiprocessing import Process\n",
    "# import os\n",
    "\n",
    "# def run_proc(name):\n",
    "#     print('Child process %s (id=%s) is runing' % (name, os.getpid())) \n",
    "    \n",
    "# if __name__ == '__main__':\n",
    "#     print('Parent process %s.' % os.getpid())\n",
    "#     for i in range(5):\n",
    "#         p = Process(target=run_proc, args=str(i),)\n",
    "#         print('Process will start')\n",
    "#         p.start()\n",
    "#     p.join()\n",
    "#     print('Process end')        "
   ]
  },
  {
   "cell_type": "code",
   "execution_count": 6,
   "metadata": {},
   "outputs": [],
   "source": [
    "# from multiprocessing import Pool\n",
    "# import time, random\n",
    "# def run_task(name):\n",
    "#     print('Task %s (id=%s) is running' % (name, os.getpid()))\n",
    "#     time.sleep(random.random()*3)\n",
    "#     print('Task %s end' % name)\n",
    "    \n",
    "# if __name__ == '__main__':\n",
    "#     print('Parent process %s' % os.getpid())\n",
    "#     p = Pool(processes=3) # 池里面设置最多创建3个进程\n",
    "#     for i in range(6):\n",
    "#         p.apply_async(run_task, args=(i,))\n",
    "#     print('Wating for all subprocess done')\n",
    "#     p.close()\n",
    "#     p.join()\n",
    "#     print('All subprocess done')\n",
    "    "
   ]
  },
  {
   "cell_type": "code",
   "execution_count": 10,
   "metadata": {},
   "outputs": [],
   "source": [
    "# from multiprocessing import Queue, Process\n",
    "# import os, time, random\n",
    "\n",
    "# def proc_write(q, urls):\n",
    "#     print('Process(%s) is writing' % os.getpid())\n",
    "#     for url in urls:\n",
    "#         q.put(url)\n",
    "#         print('Put %s to queue' % url)\n",
    "#         time.sleep(random.random())\n",
    "        \n",
    "# def proc_read(q):\n",
    "#     print('Process(%s) is reading' % os.getpid())\n",
    "#     while True:\n",
    "#         url = q.get(True)\n",
    "#         print('Get %s from queue' % url)\n",
    "\n",
    "# if __name__ == '__main__':\n",
    "#     q = Queue() # 父进程创建消息队列，传递给3个子进程\n",
    "#     # 创建3个子进程，两个往消息队列里面写数据，一个从消息队列里面读数据\n",
    "#     proc_writer1 = Process(target=proc_write, args=(q, ['url_1', 'url_2', 'url_3']))\n",
    "#     proc_writer2 = Process(target=proc_write, args=(q, ['url_4', 'url_5', 'url_6']))\n",
    "#     proc_reader = Process(target=proc_read, args=(q,))\n",
    "    \n",
    "#     # 创建好了子进程，用start方法调用他们，他们便开始同事工作了。\n",
    "#     proc_writer1.start()\n",
    "#     proc_writer2.start()\n",
    "#     proc_reader.start()\n",
    "    \n",
    "#     proc_writer1.join()\n",
    "#     proc_writer2.join()\n",
    "#     proc_reader.terminate()"
   ]
  },
  {
   "cell_type": "code",
   "execution_count": null,
   "metadata": {},
   "outputs": [],
   "source": [
    "# import multiprocessing\n",
    "# import os, time, random\n",
    "\n",
    "# def proc_send(pipe, urls):\n",
    "#     for url in urls:\n",
    "#         print('Process %s send: %s' % (os.getpid(), url))\n",
    "#         pipe.send(url)\n",
    "#         time.sleep(random.random())\n",
    "        \n",
    "# def proc_rece(pipe):\n",
    "#     while True:\n",
    "#         print('Process %s receive: %s' % (os.getpid(), pipe.recv()))\n",
    "#         time.sleep(random.random())\n",
    "        \n",
    "# if __name__ == '__main__':\n",
    "#     pipe = multiprocessing.Pipe()\n",
    "#     p1 = multiprocessing.Process(target=proc_send, args=(pipe[0], ['url_' + str(i) for i in range(8)]))\n",
    "#     p2 = multiprocessing.Process(target=proc_rece, args=(pipe[1],))\n",
    "#     p1.start()\n",
    "#     p2.start()\n",
    "#     p1.join()\n",
    "#     p2.join()"
   ]
  },
  {
   "cell_type": "code",
   "execution_count": 4,
   "metadata": {},
   "outputs": [],
   "source": [
    "import random\n",
    "import time, threading\n",
    "def thread_run(urls):\n",
    "    print('Current %s is running' % threading.current_thread().name)\n",
    "    for url in urls:\n",
    "        print('%s ----->>> %s' %(threading.current_thread().name, url))\n",
    "        time.sleep(random.random())\n",
    "    print('%s end' % threading.current_thread().name)\n",
    "    \n",
    "print('%s is running' % threading.current_thread().name)\n",
    "\n",
    "t1 = threading.Thread(target=thread_run, name='Thread_1', args=(['url_1', 'url_2', 'url_3'],))\n",
    "t2 = threading.Thread(target=thread_run, name='Thread_2', args=(['url_4', 'url_5', 'url_6'],))\n",
    "t1.start()\n",
    "t2.start()\n",
    "t1.join()\n",
    "t2.join()\n",
    "print('%s end' % threading.current_thread().name)"
   ]
  },
  {
   "cell_type": "code",
   "execution_count": 10,
   "metadata": {},
   "outputs": [],
   "source": [
    "# import random \n",
    "# import time\n",
    "# import threading\n",
    "# class MyThread(threading.Thread):\n",
    "#     def __init__(self, name, urls):\n",
    "#         threading.Thread.__init__(self, name=name)\n",
    "#         self.urls = urls\n",
    "        \n",
    "#     def run(self):\n",
    "#         print('Current %s is running' % threading.current_thread().name)\n",
    "#         for url in self.urls:\n",
    "#             print('%s ----->>> %s' %(threading.current_thread().name, url))\n",
    "#             time.sleep(random.random())\n",
    "#         print('%s end' % threading.current_thread().name)    \n",
    "        \n",
    "# print('%s is running' % threading.current_thread().name)\n",
    "\n",
    "# t1 = MyThread(name='Thread_1', urls=['url_1', 'url_2', 'url_3'])\n",
    "# t2 = MyThread(name='Thread_2', urls=['url_4', 'url_5', 'url_6'])\n",
    "# t1.start()\n",
    "# t2.start()\n",
    "# t1.join()\n",
    "# t2.join()\n",
    "# print('%s end' % threading.current_thread().name)"
   ]
  },
  {
   "cell_type": "code",
   "execution_count": 14,
   "metadata": {},
   "outputs": [],
   "source": [
    "# import threading\n",
    "# mylock = threading.RLock()\n",
    "# num = 0\n",
    "# class MyThread(threading.Thread):\n",
    "#     def __init__(self,name):\n",
    "#         threading.Thread.__init__(self, name=name)\n",
    "#     def run(self):\n",
    "#         global num\n",
    "#         while True:\n",
    "#             mylock.acquire()\n",
    "#             print('%s locked, number:%d' % (threading.current_thread().name, num))\n",
    "#             if num >=4:\n",
    "#                 mylock.release()\n",
    "#                 print('%s realeased, number:%d' % (threading.current_thread().name, num))\n",
    "#                 break\n",
    "#             num +=1\n",
    "#             print('%s released, number:%d' % (threading.current_thread().name, num))\n",
    "#             mylock.release()\n",
    "# if __name__ == '__main__':\n",
    "#     t1 = MyThread('Thread1')\n",
    "#     t2 = MyThread('Thread2')\n",
    "#     t1.start()\n",
    "#     t2.start()"
   ]
  },
  {
   "cell_type": "code",
   "execution_count": 25,
   "metadata": {},
   "outputs": [],
   "source": [
    "import queue\n",
    "q = queue.Queue(2) # 最大只能放2个\n",
    "# print(q.empty())\n",
    "# q.put(11)\n",
    "# q.put(22)\n",
    "# print(q.qsize())\n",
    "# q.put(33, block=False) # 最大只能放2个， 再往里面加一个。如果没有block=False，就会一直阻塞着，有的话就会报错。\n",
    "# print(q.get())\n",
    "# print(q.get())\n",
    "# print(q.get(timeout=3))"
   ]
  },
  {
   "cell_type": "code",
   "execution_count": 28,
   "metadata": {},
   "outputs": [],
   "source": [
    "# q = queue.Queue(5)\n",
    "# q.put(123)\n",
    "# q.put(456)\n",
    "# q.get()\n",
    "# q.task_done()\n",
    "# q.get()\n",
    "# q.task_done()\n",
    "# q.join()"
   ]
  },
  {
   "cell_type": "code",
   "execution_count": 3,
   "metadata": {},
   "outputs": [],
   "source": [
    "# import queue\n",
    "# q = queue.LifoQueue(2) # 后进先出\n",
    "# q.put(123)\n",
    "# q.put(456)\n",
    "# print(q.get())\n",
    "# q = queue.PriorityQueue() # 优先级最小的先出\n",
    "# q.put(1, 'alex1')\n",
    "# q.put(2, 'alex2')\n",
    "# q.put(3, 'alex3')\n",
    "# print(q.get())\n",
    "# q = queue.deque()\n",
    "# q.append(1)\n",
    "# q.append(2)\n",
    "# q.appendleft(3) # 3 插入最左边，所以索引为0\n",
    "# print(q)\n",
    "# print(q[0])\n",
    "# print(q.pop()) # 因为2在最右边，pop函数每次弹出最右边的\n",
    "# print(q.popleft()) # 这里也可以从左边弹出。"
   ]
  },
  {
   "cell_type": "code",
   "execution_count": 2,
   "metadata": {},
   "outputs": [],
   "source": [
    "# import time, random\n",
    "# import queue, threading\n",
    "# q = queue.Queue()\n",
    "\n",
    "# def Producer(name):\n",
    "#     count = 0\n",
    "#     if count<5 :\n",
    "#         time.sleep(random.randrange(3))\n",
    "#         if q.qsize() < 3:\n",
    "#             q.put(count)\n",
    "#             print('Producer %s has produced %s ge baozi' % (name, count))\n",
    "#             count += 1\n",
    "# def Consumer(name):\n",
    "#     count = 0\n",
    "#     if count<5:\n",
    "#         time.sleep(random.randrange(4))\n",
    "#         if not q.empty():\n",
    "#             data = q.get()\n",
    "#             print(data)\n",
    "#             print('Consumer %s has eat %s ge baozi' % (name, count))\n",
    "#         else:\n",
    "#             print('no baozi anymore')\n",
    "#         count +=1\n",
    "# p1 = threading.Thread(target=Producer, args=('A', ))\n",
    "# c1 = threading.Thread(target=Consumer, args=('B', ))\n",
    "# c2 = threading.Thread(target=Consumer, args=('C', ))\n",
    "# p1.start()\n",
    "# c1.start()\n",
    "# c2.start()    "
   ]
  },
  {
   "cell_type": "markdown",
   "metadata": {},
   "source": [
    "## 3.2 信号量 BoundedSemaphore\n",
    "- 如果用线程锁，一次只允许一个进入，如果用信号量可以允许同时多少个一起进入。\n",
    "- 每次5个线程同时执行，可能就会同时修改一个值。"
   ]
  },
  {
   "cell_type": "code",
   "execution_count": 7,
   "metadata": {},
   "outputs": [],
   "source": [
    "# import threading\n",
    "# import time\n",
    "# NUM = 10\n",
    "\n",
    "# def func(i,lock):\n",
    "#     global NUM\n",
    "#     # 上锁\n",
    "#     lock.acquire()  # 总共30个 一次执行5个 25个，依次类推：20,15。。。\n",
    "#     NUM -= 1\n",
    "#     time.sleep(2)\n",
    "#     print('NUM:',str(NUM),'i:',i)\n",
    "#     # 开锁\n",
    "#     lock.release()\n",
    "\n",
    "# # Lock = threading.Lock()   # 不支持嵌套锁，一般不用\n",
    "# # RLock = threading.RLock()   # 一般用RLock，支持嵌套锁。\n",
    "# lock = threading.BoundedSemaphore(5)   # 参数是每次执行几个线程\n",
    "\n",
    "# for i in range(30):\n",
    "#     t = threading.Thread(target=func,args=(i,lock,))\n",
    "#     t.start()"
   ]
  },
  {
   "cell_type": "markdown",
   "metadata": {},
   "source": [
    "## 3.3 event红绿灯\n",
    "- 要么全部阻塞（红灯），要么全部放开（绿灯）"
   ]
  },
  {
   "cell_type": "code",
   "execution_count": 2,
   "metadata": {},
   "outputs": [],
   "source": [
    "# import threading\n",
    "\n",
    "# def func(i, e):\n",
    "#     print(i)\n",
    "#     print('\\n')\n",
    "#     e.wait()\n",
    "#     print(i+100)\n",
    "#     print('\\n')\n",
    "\n",
    "# event = threading.Event()\n",
    "# for i in range(10):\n",
    "#     t = threading.Thread(target=func, args=(i, event))\n",
    "#     t.start()\n",
    "# event.clear() # 设置成红灯\n",
    "# inp = input('请输入指令：')\n",
    "# if inp == '1':\n",
    "#     event.set() # 设置成绿灯"
   ]
  },
  {
   "cell_type": "markdown",
   "metadata": {},
   "source": [
    "## 3.4 线程锁条件-condition1\n",
    "- Lock,RLock：线程锁使用场景：\n",
    "\n",
    "- Lock,RLock是多个用户同时修改一份数据，可能会出现脏数据，数据就会乱，就加互斥锁，一次只能让一个人修改数据，就能解决。\n",
    "\n",
    "- condition，event，BoundedSemaphore 使用场景：\n",
    "\n",
    "- 如果写了个爬虫，在建立数据库连接，线程就等着，什么能数据库能用了，就开通线程，再爬虫。\n",
    "\n",
    "- event是kua一下，全走了。\n",
    "\n",
    "- notify维护一个队列，传几个，就只能出去几次。"
   ]
  },
  {
   "cell_type": "code",
   "execution_count": null,
   "metadata": {},
   "outputs": [],
   "source": []
  },
  {
   "cell_type": "code",
   "execution_count": null,
   "metadata": {},
   "outputs": [],
   "source": [
    "# from gevent import monkey\n",
    "# import gevent\n",
    "# import urllib"
   ]
  },
  {
   "cell_type": "code",
   "execution_count": 5,
   "metadata": {},
   "outputs": [
    {
     "name": "stdout",
     "output_type": "stream",
     "text": [
      "hhh ffff ggg\n",
      "hhh ffff ggg\n",
      "hhhffffggg\n"
     ]
    }
   ],
   "source": [
    "print('hhh ffff ggg')\n",
    "print('hhh','ffff','ggg') # , 相当于一个空格。\n",
    "print('hhh'+'ffff'+'ggg')"
   ]
  },
  {
   "cell_type": "code",
   "execution_count": 8,
   "metadata": {},
   "outputs": [
    {
     "name": "stdout",
     "output_type": "stream",
     "text": [
      "{'encoding': 'utf-8', 'confidence': 0.99, 'language': ''}\n"
     ]
    }
   ],
   "source": [
    "# requests的使用学习\n",
    "import requests\n",
    "import chardet\n",
    "r = requests.get('http://www.baidu.com')\n",
    "print(chardet.detect(r.content)) # chardet用着模块的detect函数检测字符串文件编码，返回一个字典\n",
    "r.encoding= chardet.detect(r.content)['encoding'] # 将检测到的编码赋值给r.encoding\n",
    "# print(r.text)\n"
   ]
  },
  {
   "cell_type": "code",
   "execution_count": 14,
   "metadata": {},
   "outputs": [
    {
     "name": "stdout",
     "output_type": "stream",
     "text": [
      "200\n",
      "{'Cache-Control': 'private, no-cache, no-store, proxy-revalidate, no-transform', 'Connection': 'Keep-Alive', 'Content-Encoding': 'gzip', 'Content-Type': 'text/html', 'Date': 'Thu, 28 Mar 2019 09:30:48 GMT', 'Last-Modified': 'Mon, 23 Jan 2017 13:28:36 GMT', 'Pragma': 'no-cache', 'Server': 'bfe/1.0.8.18', 'Set-Cookie': 'BDORZ=27315; max-age=86400; domain=.baidu.com; path=/', 'Transfer-Encoding': 'chunked'}\n",
      "text/html\n",
      "text/html\n"
     ]
    }
   ],
   "source": [
    "import requests\n",
    "import chardet\n",
    "r = requests.get('http://www.baidu.com')\n",
    "if r.status_code == requests.codes.ok:\n",
    "    print(r.status_code)\n",
    "    print(r.headers)\n",
    "    print(r.headers.get('Content-Type')) # 推荐使用，即使content_type不存在里面的，也没事，不报错，会返回none\n",
    "    print(r.headers['Content-Type']) # 不是太推荐使用，一旦content_type不存在里面的，就会报错,\n",
    "    # 本案例如果把Content-Type拼写错了，就会报错了。但是用上面的那个不会报错。\n",
    "else:\n",
    "    r.raise_for_status()"
   ]
  },
  {
   "cell_type": "code",
   "execution_count": 21,
   "metadata": {},
   "outputs": [],
   "source": [
    "# import requests\n",
    "# cookies = dict(name='me',age='12')\n",
    "# r = requests.get('http://www.baidu.com',cookies=cookies)\n",
    "# print(r.cookie.key())\n",
    "# for cookie in r.cookie.key():\n",
    "#     print(cookie + ':' + cookies.get(cookie))"
   ]
  },
  {
   "cell_type": "code",
   "execution_count": 22,
   "metadata": {},
   "outputs": [
    {
     "name": "stdout",
     "output_type": "stream",
     "text": [
      "404\n"
     ]
    }
   ],
   "source": [
    "import requests\n",
    "s = requests.Session()\n",
    "r = s.get('https://github.com/', allow_redirects=True)\n",
    "datas = {'Username':'anthocyanin','Password':'gonghui21513049'}\n",
    "r = s.post('https://github.com/', data=datas, allow_redirects=True)\n",
    "print(r.status_code)"
   ]
  },
  {
   "cell_type": "code",
   "execution_count": 26,
   "metadata": {},
   "outputs": [
    {
     "name": "stdout",
     "output_type": "stream",
     "text": [
      "https://github.com/\n",
      "200\n",
      "[<Response [301]>]\n"
     ]
    }
   ],
   "source": [
    "import requests\n",
    "r = requests.get('http://github.com/', timeout=8)\n",
    "print(r.url)\n",
    "print(r.status_code)\n",
    "print(r.history) "
   ]
  },
  {
   "cell_type": "code",
   "execution_count": 15,
   "metadata": {},
   "outputs": [
    {
     "name": "stdout",
     "output_type": "stream",
     "text": [
      "192\n",
      "fail\n",
      "278\n",
      "['A', 'B', 'C', 'D', '']\n"
     ]
    }
   ],
   "source": [
    "import re\n",
    "pattern = re.compile(r'\\d+')\n",
    "res1 = re.match(pattern, '192abc')\n",
    "if res1:\n",
    "    print(res1.group())\n",
    "else:\n",
    "    print('fail')\n",
    "    \n",
    "res2 = re.match(pattern, 'abc192') # match方法只在字符串开头处匹配，能找到返回，找不到返回None\n",
    "if res2:\n",
    "    print(res2.group())\n",
    "else:\n",
    "    print('fail')\n",
    "\n",
    "res3 = re.search(pattern, 'abc278dfg') # search方法 整个字符串查找\n",
    "print(res3.group())\n",
    "\n",
    "res4 = re.split(pattern, 'A1B2C3D4') # split方法按照能匹配的字符串，分割整个字符串\n",
    "print(res4)\n"
   ]
  },
  {
   "cell_type": "code",
   "execution_count": 16,
   "metadata": {},
   "outputs": [
    {
     "name": "stdout",
     "output_type": "stream",
     "text": [
      "['1', '2', '3', '4']\n",
      "<callable_iterator object at 0x10324d780>\n",
      "1\n",
      "2\n",
      "3\n",
      "4\n"
     ]
    }
   ],
   "source": [
    "res5 = re.findall(pattern, 'A1B2C3D4') # 搜索整个字符串，以列表的形式返回匹配结果。\n",
    "print(res5)\n",
    "\n",
    "res6 = re.finditer(pattern, 'A1B2C3D4') # 搜索整个字符串，以迭代器的形式返回匹配结果。必须得每次迭代得到数值\n",
    "print(res6)\n",
    "# for i in res6:\n",
    "#     print(i)\n",
    "for i in res6:\n",
    "    print(i.group())"
   ]
  },
  {
   "cell_type": "code",
   "execution_count": 20,
   "metadata": {},
   "outputs": [
    {
     "name": "stdout",
     "output_type": "stream",
     "text": [
      "say i, world hello\n",
      "say i, world hello\n"
     ]
    }
   ],
   "source": [
    "import re \n",
    "s = 'i say, hello world'\n",
    "p = re.compile(r'(?P<word1>\\w+) (?P<word2>\\w+)') # (?P<word1>\\w+)表示第一个分组名称为word1，\n",
    "print(p.sub(r'\\g<word2> \\g<word1>', s)) #使用名称，repl是字符串\n",
    "\n",
    "p = re.compile(r'(\\w+) (\\w+)') \n",
    "print(p.sub(r'\\2 \\1', s)) #使用编号，repl是字符串"
   ]
  },
  {
   "cell_type": "code",
   "execution_count": 21,
   "metadata": {},
   "outputs": [
    {
     "name": "stdout",
     "output_type": "stream",
     "text": [
      "I Say, Hello World\n"
     ]
    }
   ],
   "source": [
    "def func(m):\n",
    "    return m.group(1).title() + ' ' + m.group(2).title()\n",
    "print(p.sub(func, s)) # repl是函数"
   ]
  },
  {
   "cell_type": "code",
   "execution_count": 24,
   "metadata": {},
   "outputs": [
    {
     "name": "stdout",
     "output_type": "stream",
     "text": [
      "('say i, world hello', 2)\n",
      "('I Say, Hello World', 2)\n"
     ]
    }
   ],
   "source": [
    "import re \n",
    "s = 'i say, hello world'\n",
    "\n",
    "p = re.compile(r'(\\w+) (\\w+)') #使用编号\n",
    "print(p.subn(r'\\2 \\1', s))\n",
    "\n",
    "def func(m):\n",
    "    return m.group(1).title() + ' ' + m.group(2).title()\n",
    "print(p.subn(func, s))"
   ]
  },
  {
   "cell_type": "code",
   "execution_count": 50,
   "metadata": {},
   "outputs": [
    {
     "name": "stdout",
     "output_type": "stream",
     "text": [
      "I love you!\n",
      "re.compile('(\\\\w+) (\\\\w+) (?P<word>.*)')\n",
      "0\n",
      "11\n",
      "3\n",
      "word\n",
      "('I', 'you!')\n",
      "\n",
      "\n",
      "I love you!\n",
      "I love you!\n",
      "('I', 'love', 'you!')\n",
      "('I', 'love', 'you!')\n",
      "{'word': 'you!'}\n",
      "2\n",
      "6\n",
      "(2, 6)\n",
      "you! love I\n"
     ]
    }
   ],
   "source": [
    "import re\n",
    "pattern = re.compile(r'(\\w+) (\\w+) (?P<word>.*)')\n",
    "ma = pattern.match('I love you!')\n",
    "print(ma.string)\n",
    "print(ma.re)\n",
    "print(ma.pos)\n",
    "print(ma.endpos)\n",
    "print(ma.lastindex) # 最后一个被捕获的分组在文本中的索引\n",
    "print(ma.lastgroup) # 最后一个被捕获的分组的别名\n",
    "print(ma.group(1,3)) # 获得指定分组所捕获的字符串\n",
    "print('\\n')\n",
    "print(ma.group())    #\n",
    "print(ma.group(0))     # 注意观察，group()=group(0)。\n",
    "print(ma.groups())     # 而 groups()，则是以元组的形式返回捕获的字符串\n",
    "print(ma.groups('default')) # 而 groups('default')，则是以元组的形式返回捕获的字符串,如果没有捕获字符串，则以它代替\n",
    "print(ma.groupdict()) # 以字典形式返回有别名的组，组名为键，捕获字符串为值。没有别名的组及字符串不在里面。\n",
    "print(ma.start(2)) # 返回指定组的捕获的字符串在整个字符串里的起始索引\n",
    "print(ma.end(2))   # 返回指定组的捕获的字符串在整个字符串里的结束索引\n",
    "print(ma.span(2))  # 返回指定组的捕获的字符串在整个字符串里的(起始,结束)索引\n",
    "print(ma.expand(r'\\3 \\2 \\1')) #将匹配到的分组字符串，按照模版顺序重新组合。"
   ]
  },
  {
   "cell_type": "code",
   "execution_count": 67,
   "metadata": {},
   "outputs": [
    {
     "name": "stdout",
     "output_type": "stream",
     "text": [
      "<title>The Dormouse's story</title>\n",
      "title\n"
     ]
    }
   ],
   "source": [
    "import bs4\n",
    "from bs4 import BeautifulSoup\n",
    "\n",
    "html_str = \"\"\"\n",
    "<html>\n",
    "<head>\n",
    "    <title >The Dormouse's story</title>\n",
    "</head>\n",
    "<body>\n",
    "    <p class=\"title\"><b>The Dormouse's story</b></p>\n",
    "    <p class=\"story\">Once upon a time there were three little sisters; and their names were\n",
    "    <a href=\"http://example.com/elsie\" class=\"sister\" id=\"link1\"><!-- Elsie --></a>,\n",
    "    <a href=\"http://example.com/lacie\" class=\"sister\" id=\"link2\"><!-- Lacie --></a> and\n",
    "    <a href=\"http://example.com/tillie\" class=\"sister\" id=\"link3\">Tillie</a>;\n",
    "    and they lived at the bottom of a well.</p>\n",
    "    <p class=\"story\">...</p>\n",
    "\"\"\"\n",
    "soup = BeautifulSoup(html_str, 'lxml')\n",
    "# print(soup.prettify())\n",
    "print(soup.title)\n",
    "print(soup.title.name)\n",
    "# print(soup.p)"
   ]
  },
  {
   "cell_type": "code",
   "execution_count": 68,
   "metadata": {},
   "outputs": [
    {
     "name": "stdout",
     "output_type": "stream",
     "text": [
      "None\n",
      "<mytitle>The Dormouse's story</mytitle>\n"
     ]
    }
   ],
   "source": [
    "soup.title.name = 'mytitle'\n",
    "print(soup.title)\n",
    "print(soup.mytitle)"
   ]
  },
  {
   "cell_type": "code",
   "execution_count": 73,
   "metadata": {},
   "outputs": [
    {
     "name": "stdout",
     "output_type": "stream",
     "text": [
      "<p class=\"title\"><b>The Dormouse's story</b></p>\n",
      "\n",
      "\n",
      "['title']\n",
      "['title']\n",
      "None\n",
      "\n",
      "\n",
      "<p class=\"myclass\"><b>The Dormouse's story</b></p>\n"
     ]
    }
   ],
   "source": [
    "print(soup.p)\n",
    "print('\\n')\n",
    "\n",
    "print(soup.p['class'])\n",
    "print(soup.p.get('class'))\n",
    "print(soup.p.atrrs)\n",
    "print('\\n')\n",
    "\n",
    "soup.p['class'] = 'myclass'\n",
    "print(soup.p)"
   ]
  },
  {
   "cell_type": "code",
   "execution_count": 77,
   "metadata": {},
   "outputs": [
    {
     "name": "stdout",
     "output_type": "stream",
     "text": [
      "The Dormouse's story\n",
      "<class 'bs4.element.NavigableString'>\n",
      "\n",
      "\n"
     ]
    }
   ],
   "source": [
    "print(soup.p.string) # 获取标签内的文本内容\n",
    "print(type(soup.p.string))\n",
    "print('\\n')\n",
    "# unstr = Unicode(soup.p.string)"
   ]
  },
  {
   "cell_type": "code",
   "execution_count": 78,
   "metadata": {},
   "outputs": [
    {
     "name": "stdout",
     "output_type": "stream",
     "text": [
      "<class 'str'>\n",
      "[document]\n",
      "{}\n"
     ]
    }
   ],
   "source": [
    "print(type(soup.name))\n",
    "print(soup.name)\n",
    "print(soup.attrs)"
   ]
  },
  {
   "cell_type": "code",
   "execution_count": 79,
   "metadata": {},
   "outputs": [
    {
     "name": "stdout",
     "output_type": "stream",
     "text": [
      " Elsie \n",
      "<class 'bs4.element.Comment'>\n"
     ]
    }
   ],
   "source": [
    "print(soup.a.string)\n",
    "print(type(soup.a.string))"
   ]
  },
  {
   "cell_type": "code",
   "execution_count": 83,
   "metadata": {},
   "outputs": [
    {
     "name": "stdout",
     "output_type": "stream",
     "text": [
      "['\\n', <mytitle>The Dormouse's story</mytitle>, '\\n']\n",
      "3\n",
      "The Dormouse's story\n",
      "\n",
      "\n",
      "<list_iterator object at 0x105630f98>\n",
      "\n",
      "\n",
      "<mytitle>The Dormouse's story</mytitle>\n",
      "\n",
      "\n",
      "====================\n",
      "\n",
      "\n",
      "<mytitle>The Dormouse's story</mytitle>\n",
      "The Dormouse's story\n",
      "\n",
      "\n"
     ]
    }
   ],
   "source": [
    "print(soup.head.contents) # .contents会直接子节点以列表形式输出。\n",
    "print(len(soup.head.contents)) # 获得列表长度\n",
    "print(soup.head.contents[1].string) # 获得指定索引的文本内容\n",
    "print('\\n')\n",
    "print(soup.head.children) # .children返回一个生成器，也许是迭代器。\n",
    "for child in soup.head.children:\n",
    "    print(child) # 可以看出得到的只是子节点的\n",
    "    \n",
    "print(10*'==')\n",
    "\n",
    "for child in soup.head.descendants:\n",
    "    print(child) # 可以看出得到的是子节点和孙节点的"
   ]
  },
  {
   "cell_type": "code",
   "execution_count": 85,
   "metadata": {},
   "outputs": [
    {
     "name": "stdout",
     "output_type": "stream",
     "text": [
      "None\n",
      "The Dormouse's story\n",
      "None\n"
     ]
    }
   ],
   "source": [
    "print(soup.head.string)\n",
    "print(soup.mytitle.string)\n",
    "print(soup.html.string)"
   ]
  },
  {
   "cell_type": "code",
   "execution_count": 86,
   "metadata": {},
   "outputs": [
    {
     "name": "stdout",
     "output_type": "stream",
     "text": [
      "'\\n'\n",
      "'\\n'\n",
      "\"The Dormouse's story\"\n",
      "'\\n'\n",
      "'\\n'\n",
      "'\\n'\n",
      "\"The Dormouse's story\"\n",
      "'\\n'\n",
      "'Once upon a time there were three little sisters; and their names were\\n    '\n",
      "',\\n    '\n",
      "' and\\n    '\n",
      "'Tillie'\n",
      "';\\n    and they lived at the bottom of a well.'\n",
      "'\\n'\n",
      "'...'\n",
      "'\\n'\n"
     ]
    }
   ],
   "source": [
    "for string in soup.strings:\n",
    "    print(repr(string)) # soup.strings 主要用于tag中包含多个字符串，可以循环遍历"
   ]
  },
  {
   "cell_type": "code",
   "execution_count": 87,
   "metadata": {},
   "outputs": [
    {
     "name": "stdout",
     "output_type": "stream",
     "text": [
      "\"The Dormouse's story\"\n",
      "\"The Dormouse's story\"\n",
      "'Once upon a time there were three little sisters; and their names were'\n",
      "','\n",
      "'and'\n",
      "'Tillie'\n",
      "';\\n    and they lived at the bottom of a well.'\n",
      "'...'\n"
     ]
    }
   ],
   "source": [
    "for string in soup.stripped_strings:\n",
    "    print(repr(string)) # .stripped_strings把空格，空行去掉"
   ]
  },
  {
   "cell_type": "code",
   "execution_count": 90,
   "metadata": {},
   "outputs": [
    {
     "name": "stdout",
     "output_type": "stream",
     "text": [
      "<mytitle>The Dormouse's story</mytitle>\n",
      "<head>\n",
      "<mytitle>The Dormouse's story</mytitle>\n",
      "</head>\n"
     ]
    }
   ],
   "source": [
    "print(soup.mytitle)\n",
    "print(soup.mytitle.parent)"
   ]
  },
  {
   "cell_type": "code",
   "execution_count": 91,
   "metadata": {},
   "outputs": [
    {
     "name": "stdout",
     "output_type": "stream",
     "text": [
      "<a class=\"sister\" href=\"http://example.com/elsie\" id=\"link1\"><!-- Elsie --></a>\n",
      "p\n",
      "body\n",
      "html\n",
      "[document]\n"
     ]
    }
   ],
   "source": [
    "print(soup.a)\n",
    "# .parents 可以递归得到元素的所有父，祖先辈节点\n",
    "for parent in soup.a.parents:\n",
    "    if parent is None:\n",
    "        print(parent)\n",
    "    else:\n",
    "        print(parent.name)\n"
   ]
  },
  {
   "cell_type": "code",
   "execution_count": 92,
   "metadata": {},
   "outputs": [
    {
     "name": "stdout",
     "output_type": "stream",
     "text": [
      "\n",
      "\n",
      "None\n",
      "<p class=\"story\">Once upon a time there were three little sisters; and their names were\n",
      "    <a class=\"sister\" href=\"http://example.com/elsie\" id=\"link1\"><!-- Elsie --></a>,\n",
      "    <a class=\"sister\" href=\"http://example.com/lacie\" id=\"link2\"><!-- Lacie --></a> and\n",
      "    <a class=\"sister\" href=\"http://example.com/tillie\" id=\"link3\">Tillie</a>;\n",
      "    and they lived at the bottom of a well.</p>\n"
     ]
    }
   ],
   "source": [
    "print(soup.p.next_sibling)\n",
    "print(soup.p.prev_sibling)\n",
    "print(soup.p.next_sibling.next_sibling)"
   ]
  },
  {
   "cell_type": "code",
   "execution_count": 95,
   "metadata": {},
   "outputs": [
    {
     "name": "stdout",
     "output_type": "stream",
     "text": [
      "',\\n    '\n",
      "<a class=\"sister\" href=\"http://example.com/lacie\" id=\"link2\"><!-- Lacie --></a>\n",
      "' and\\n    '\n",
      "<a class=\"sister\" href=\"http://example.com/tillie\" id=\"link3\">Tillie</a>\n",
      "';\\n    and they lived at the bottom of a well.'\n"
     ]
    }
   ],
   "source": [
    "for sibling in soup.a.next_siblings:\n",
    "    print(repr(sibling))"
   ]
  },
  {
   "cell_type": "code",
   "execution_count": 98,
   "metadata": {},
   "outputs": [
    {
     "name": "stdout",
     "output_type": "stream",
     "text": [
      ",\n",
      "    \n",
      "<a class=\"sister\" href=\"http://example.com/lacie\" id=\"link2\"><!-- Lacie --></a>\n",
      " and\n",
      "    \n",
      "<a class=\"sister\" href=\"http://example.com/tillie\" id=\"link3\">Tillie</a>\n",
      ";\n",
      "    and they lived at the bottom of a well.\n"
     ]
    }
   ],
   "source": [
    "for sibling in soup.a.next_siblings:\n",
    "    print(sibling)"
   ]
  },
  {
   "cell_type": "code",
   "execution_count": 107,
   "metadata": {},
   "outputs": [
    {
     "name": "stdout",
     "output_type": "stream",
     "text": [
      "' Elsie '\n",
      "',\\n    '\n",
      "<a class=\"sister\" href=\"http://example.com/lacie\" id=\"link2\"><!-- Lacie --></a>\n",
      "' Lacie '\n",
      "' and\\n    '\n",
      "<a class=\"sister\" href=\"http://example.com/tillie\" id=\"link3\">Tillie</a>\n",
      "'Tillie'\n",
      "';\\n    and they lived at the bottom of a well.'\n",
      "'\\n'\n",
      "<p class=\"story\">...</p>\n",
      "'...'\n",
      "'\\n'\n"
     ]
    }
   ],
   "source": [
    "for element in soup.a.next_elements:\n",
    "    print(repr(element))"
   ]
  },
  {
   "cell_type": "code",
   "execution_count": 104,
   "metadata": {},
   "outputs": [
    {
     "name": "stdout",
     "output_type": "stream",
     "text": [
      "<head>\n",
      "<mytitle>The Dormouse's story</mytitle>\n",
      "</head>\n",
      "<generator object PageElement.next_elements at 0x10560ef48>\n"
     ]
    }
   ],
   "source": [
    "print(soup.head)\n",
    "print(soup.head.next_elements)"
   ]
  },
  {
   "cell_type": "code",
   "execution_count": 108,
   "metadata": {},
   "outputs": [
    {
     "name": "stdout",
     "output_type": "stream",
     "text": [
      "[<b>The Dormouse's story</b>]\n"
     ]
    }
   ],
   "source": [
    "print(soup.find_all('b'))"
   ]
  },
  {
   "cell_type": "markdown",
   "metadata": {},
   "source": [
    "## soup.find_all()"
   ]
  },
  {
   "cell_type": "code",
   "execution_count": 109,
   "metadata": {},
   "outputs": [
    {
     "name": "stdout",
     "output_type": "stream",
     "text": [
      "body\n",
      "b\n"
     ]
    }
   ],
   "source": [
    "import re\n",
    "for tag in soup.find_all(re.compile(\"^b\")):\n",
    "    print(tag.name)"
   ]
  },
  {
   "cell_type": "code",
   "execution_count": 110,
   "metadata": {},
   "outputs": [
    {
     "name": "stdout",
     "output_type": "stream",
     "text": [
      "[<b>The Dormouse's story</b>, <a class=\"sister\" href=\"http://example.com/elsie\" id=\"link1\"><!-- Elsie --></a>, <a class=\"sister\" href=\"http://example.com/lacie\" id=\"link2\"><!-- Lacie --></a>, <a class=\"sister\" href=\"http://example.com/tillie\" id=\"link3\">Tillie</a>]\n"
     ]
    }
   ],
   "source": [
    "print(soup.find_all(['a', 'b']))"
   ]
  },
  {
   "cell_type": "code",
   "execution_count": 113,
   "metadata": {},
   "outputs": [
    {
     "name": "stdout",
     "output_type": "stream",
     "text": [
      "html\n",
      "head\n",
      "mytitle\n",
      "body\n",
      "p\n",
      "b\n",
      "p\n",
      "a\n",
      "a\n",
      "a\n",
      "p\n"
     ]
    }
   ],
   "source": [
    "# print(soup.find_all(True))\n",
    "for tag in soup.find_all(True):\n",
    "    print(tag.name)"
   ]
  },
  {
   "cell_type": "code",
   "execution_count": 114,
   "metadata": {},
   "outputs": [
    {
     "name": "stdout",
     "output_type": "stream",
     "text": [
      "[<a class=\"sister\" href=\"http://example.com/elsie\" id=\"link1\"><!-- Elsie --></a>, <a class=\"sister\" href=\"http://example.com/lacie\" id=\"link2\"><!-- Lacie --></a>, <a class=\"sister\" href=\"http://example.com/tillie\" id=\"link3\">Tillie</a>]\n"
     ]
    }
   ],
   "source": [
    "def hasCalss_id(tag):\n",
    "    return tag.has_attr('class') and tag.has_attr('id')\n",
    "print(soup.find_all(hasCalss_id))"
   ]
  },
  {
   "cell_type": "code",
   "execution_count": 115,
   "metadata": {},
   "outputs": [
    {
     "name": "stdout",
     "output_type": "stream",
     "text": [
      "[<a class=\"sister\" href=\"http://example.com/lacie\" id=\"link2\"><!-- Lacie --></a>]\n"
     ]
    }
   ],
   "source": [
    "print(soup.find_all(id='link2'))"
   ]
  },
  {
   "cell_type": "code",
   "execution_count": 116,
   "metadata": {},
   "outputs": [
    {
     "name": "stdout",
     "output_type": "stream",
     "text": [
      "[<a class=\"sister\" href=\"http://example.com/elsie\" id=\"link1\"><!-- Elsie --></a>]\n"
     ]
    }
   ],
   "source": [
    "import re\n",
    "print(soup.find_all(href=re.compile(\"elsie\")))"
   ]
  },
  {
   "cell_type": "code",
   "execution_count": 117,
   "metadata": {},
   "outputs": [
    {
     "name": "stdout",
     "output_type": "stream",
     "text": [
      "[<a class=\"sister\" href=\"http://example.com/elsie\" id=\"link1\"><!-- Elsie --></a>, <a class=\"sister\" href=\"http://example.com/lacie\" id=\"link2\"><!-- Lacie --></a>, <a class=\"sister\" href=\"http://example.com/tillie\" id=\"link3\">Tillie</a>]\n"
     ]
    }
   ],
   "source": [
    "print(soup.find_all(id=True)) # 查找只要有ID属性的"
   ]
  },
  {
   "cell_type": "code",
   "execution_count": 118,
   "metadata": {},
   "outputs": [
    {
     "name": "stdout",
     "output_type": "stream",
     "text": [
      "[<a class=\"sister\" href=\"http://example.com/elsie\" id=\"link1\"><!-- Elsie --></a>, <a class=\"sister\" href=\"http://example.com/lacie\" id=\"link2\"><!-- Lacie --></a>, <a class=\"sister\" href=\"http://example.com/tillie\" id=\"link3\">Tillie</a>]\n"
     ]
    }
   ],
   "source": [
    "print(soup.find_all(\"a\", class_=\"sister\"))"
   ]
  },
  {
   "cell_type": "code",
   "execution_count": 119,
   "metadata": {},
   "outputs": [
    {
     "name": "stdout",
     "output_type": "stream",
     "text": [
      "[<a class=\"sister\" href=\"http://example.com/elsie\" id=\"link1\"><!-- Elsie --></a>]\n"
     ]
    }
   ],
   "source": [
    "print(soup.find_all(href=re.compile(\"elsie\"), id='link1')) # 多个关键字参数过滤data_soup = BeautifulSoup('<div data-foo=\"value\">foo!</div>')\n",
    "data_soup.find_all(attrs={\"data-foo\": \"value\"})"
   ]
  },
  {
   "cell_type": "code",
   "execution_count": 122,
   "metadata": {},
   "outputs": [],
   "source": [
    "data_soup = BeautifulSoup('<div data-foo=\"value\">foo!</div>')\n",
    "# data_soup.find_all(data-foo=\"value\"}) 不合法的写法，find_all方法里面不能理解data-foo"
   ]
  },
  {
   "cell_type": "code",
   "execution_count": 120,
   "metadata": {},
   "outputs": [
    {
     "data": {
      "text/plain": [
       "[<div data-foo=\"value\">foo!</div>]"
      ]
     },
     "execution_count": 120,
     "metadata": {},
     "output_type": "execute_result"
    }
   ],
   "source": [
    "data_soup = BeautifulSoup('<div data-foo=\"value\">foo!</div>')\n",
    "data_soup.find_all(attrs={\"data-foo\": \"value\"})"
   ]
  },
  {
   "cell_type": "code",
   "execution_count": 129,
   "metadata": {},
   "outputs": [
    {
     "name": "stdout",
     "output_type": "stream",
     "text": [
      "[]\n",
      "['Tillie']\n",
      "[\"The Dormouse's story\", \"The Dormouse's story\"]\n"
     ]
    }
   ],
   "source": [
    "print(soup.find_all(text=\"Elsie\"))\n",
    "print(soup.find_all(text=[\"Tillie\", \"Elsie\", \"Lacie\"]))\n",
    "print(soup.find_all(text=re.compile(\"Dormouse\")))"
   ]
  },
  {
   "cell_type": "code",
   "execution_count": 128,
   "metadata": {},
   "outputs": [
    {
     "name": "stdout",
     "output_type": "stream",
     "text": [
      "[]\n"
     ]
    }
   ],
   "source": [
    "print(soup.find_all(\"a\", text=\"Elsie\"))"
   ]
  },
  {
   "cell_type": "code",
   "execution_count": 135,
   "metadata": {},
   "outputs": [
    {
     "name": "stdout",
     "output_type": "stream",
     "text": [
      "[<a class=\"sister\" href=\"http://example.com/elsie\" id=\"link1\"><!-- Elsie --></a>, <a class=\"sister\" href=\"http://example.com/lacie\" id=\"link2\"><!-- Lacie --></a>]\n"
     ]
    }
   ],
   "source": [
    "print(soup.find_all(\"a\", limit=2))\n",
    "# print(soup.find_all(\"a\", limit=3))"
   ]
  },
  {
   "cell_type": "code",
   "execution_count": 137,
   "metadata": {},
   "outputs": [
    {
     "name": "stdout",
     "output_type": "stream",
     "text": [
      "[<mytitle>The Dormouse's story</mytitle>]\n",
      "[]\n"
     ]
    }
   ],
   "source": [
    "print(soup.find_all(\"mytitle\"))\n",
    "print(soup.find_all(\"mytitle\", recursive=False))"
   ]
  },
  {
   "cell_type": "markdown",
   "metadata": {},
   "source": [
    "## CSS选择器\n",
    "- soup.select()"
   ]
  },
  {
   "cell_type": "code",
   "execution_count": 2,
   "metadata": {},
   "outputs": [],
   "source": [
    "# import time\n",
    "# print(time.time())"
   ]
  },
  {
   "cell_type": "code",
   "execution_count": null,
   "metadata": {},
   "outputs": [],
   "source": []
  },
  {
   "cell_type": "code",
   "execution_count": null,
   "metadata": {},
   "outputs": [],
   "source": []
  },
  {
   "cell_type": "code",
   "execution_count": null,
   "metadata": {},
   "outputs": [],
   "source": []
  },
  {
   "cell_type": "code",
   "execution_count": null,
   "metadata": {},
   "outputs": [],
   "source": []
  },
  {
   "cell_type": "code",
   "execution_count": null,
   "metadata": {},
   "outputs": [],
   "source": []
  },
  {
   "cell_type": "code",
   "execution_count": null,
   "metadata": {},
   "outputs": [],
   "source": []
  },
  {
   "cell_type": "code",
   "execution_count": null,
   "metadata": {},
   "outputs": [],
   "source": []
  },
  {
   "cell_type": "code",
   "execution_count": null,
   "metadata": {},
   "outputs": [],
   "source": []
  },
  {
   "cell_type": "code",
   "execution_count": null,
   "metadata": {},
   "outputs": [],
   "source": []
  },
  {
   "cell_type": "code",
   "execution_count": null,
   "metadata": {},
   "outputs": [],
   "source": []
  }
 ],
 "metadata": {
  "kernelspec": {
   "display_name": "Python 3",
   "language": "python",
   "name": "python3"
  },
  "language_info": {
   "codemirror_mode": {
    "name": "ipython",
    "version": 3
   },
   "file_extension": ".py",
   "mimetype": "text/x-python",
   "name": "python",
   "nbconvert_exporter": "python",
   "pygments_lexer": "ipython3",
   "version": "3.6.8"
  }
 },
 "nbformat": 4,
 "nbformat_minor": 2
}
